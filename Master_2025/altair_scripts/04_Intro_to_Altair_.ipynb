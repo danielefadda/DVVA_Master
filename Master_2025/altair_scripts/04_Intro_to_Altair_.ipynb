{
 "cells": [
  {
   "cell_type": "code",
   "metadata": {
    "id": "rElZXi22Bckt",
    "colab": {
     "base_uri": "https://localhost:8080/"
    },
    "executionInfo": {
     "status": "ok",
     "timestamp": 1746022748997,
     "user_tz": -120,
     "elapsed": 2753,
     "user": {
      "displayName": "Salvo Rinzivillo",
      "userId": "07600960754376634109"
     }
    },
    "outputId": "948e1a4c-5c51-43e5-bfb3-10a507f85d1b"
   },
   "source": [
    "import altair as alt\n",
    "import pandas as pd\n",
    "alt.data_transformers.disable_max_rows()"
   ],
   "outputs": [],
   "execution_count": null
  },
  {
   "cell_type": "markdown",
   "source": [],
   "metadata": {
    "id": "G8UO-w9Bq8fC"
   }
  },
  {
   "cell_type": "code",
   "source": [
    "alt.__version__"
   ],
   "metadata": {
    "id": "XYtjNfDwbzA_",
    "colab": {
     "base_uri": "https://localhost:8080/",
     "height": 36
    },
    "executionInfo": {
     "status": "ok",
     "timestamp": 1746022749018,
     "user_tz": -120,
     "elapsed": 20,
     "user": {
      "displayName": "Salvo Rinzivillo",
      "userId": "07600960754376634109"
     }
    },
    "outputId": "99b5ff92-6823-4ad1-fb8c-a1a7a93906a3"
   },
   "outputs": [],
   "execution_count": null
  },
  {
   "cell_type": "markdown",
   "metadata": {
    "id": "GvIDXc4D2Ucy"
   },
   "source": [
    "Import dataset using vega_datasets repository"
   ]
  },
  {
   "cell_type": "code",
   "metadata": {
    "id": "14-ZdVLFPR4v",
    "colab": {
     "base_uri": "https://localhost:8080/",
     "height": 293
    },
    "executionInfo": {
     "status": "ok",
     "timestamp": 1746022749223,
     "user_tz": -120,
     "elapsed": 204,
     "user": {
      "displayName": "Salvo Rinzivillo",
      "userId": "07600960754376634109"
     }
    },
    "outputId": "374356f3-4f7f-4a08-e426-6e1579b5e280"
   },
   "source": [
    "from vega_datasets import data\n",
    "cars = data.cars()\n",
    "cars.head()"
   ],
   "outputs": [],
   "execution_count": null
  },
  {
   "cell_type": "markdown",
   "metadata": {
    "id": "O3FgUK_A2Ucz"
   },
   "source": [
    "# First example in Altair"
   ]
  },
  {
   "cell_type": "code",
   "metadata": {
    "id": "Vs8Ik5EWP5WM",
    "colab": {
     "base_uri": "https://localhost:8080/",
     "height": 368
    },
    "executionInfo": {
     "status": "ok",
     "timestamp": 1746022750005,
     "user_tz": -120,
     "elapsed": 781,
     "user": {
      "displayName": "Salvo Rinzivillo",
      "userId": "07600960754376634109"
     }
    },
    "outputId": "928d56f9-b771-4b28-f066-4ea613dbc568"
   },
   "source": [
    "alt.Chart(cars).mark_point().encode(\n",
    "    x='Horsepower',\n",
    "    y='Miles_per_Gallon',\n",
    "    color='Origin',\n",
    ")"
   ],
   "outputs": [],
   "execution_count": null
  },
  {
   "cell_type": "markdown",
   "metadata": {
    "id": "OoTIV4Sw2Ucz"
   },
   "source": [
    "## With interactions"
   ]
  },
  {
   "cell_type": "code",
   "metadata": {
    "id": "8hYPU8M32Ucz",
    "colab": {
     "base_uri": "https://localhost:8080/",
     "height": 368
    },
    "executionInfo": {
     "status": "ok",
     "timestamp": 1746022750173,
     "user_tz": -120,
     "elapsed": 166,
     "user": {
      "displayName": "Salvo Rinzivillo",
      "userId": "07600960754376634109"
     }
    },
    "outputId": "de2529b6-de86-4f36-a913-eee58127257c"
   },
   "source": [
    "alt.Chart(cars).mark_point().encode(\n",
    "    x='Horsepower',\n",
    "    y='Miles_per_Gallon',\n",
    "    color='Origin',\n",
    "    tooltip=['Name']\n",
    ").interactive()"
   ],
   "outputs": [],
   "execution_count": null
  },
  {
   "cell_type": "markdown",
   "metadata": {
    "id": "l_BG__Wn2Uc0"
   },
   "source": [
    "# Altair - Specifying Data"
   ]
  },
  {
   "cell_type": "code",
   "metadata": {
    "id": "XyngRdUNPPQ-",
    "colab": {
     "base_uri": "https://localhost:8080/",
     "height": 366
    },
    "executionInfo": {
     "status": "ok",
     "timestamp": 1746022750194,
     "user_tz": -120,
     "elapsed": 20,
     "user": {
      "displayName": "Salvo Rinzivillo",
      "userId": "07600960754376634109"
     }
    },
    "outputId": "6cd1dbe6-3974-4918-c78b-f9291dec2313"
   },
   "source": [
    "dataset = alt.Data(values=[{'x': 'A', 'y': 5},\n",
    "                        {'x': 'B', 'y': 3},\n",
    "                        {'x': 'C', 'y': 6},\n",
    "                        {'x': 'D', 'y': 7},\n",
    "                        {'x': 'E', 'y': 2}])\n",
    "alt.Chart(dataset).mark_bar().encode(\n",
    "    x='x:N',  # specify nominal data\n",
    "    y='y:Q',  # specify quantitative data\n",
    ")"
   ],
   "outputs": [],
   "execution_count": null
  },
  {
   "cell_type": "markdown",
   "metadata": {
    "id": "IZe82cuX2Uc0"
   },
   "source": [
    "# Wide form vs Long Form"
   ]
  },
  {
   "cell_type": "code",
   "metadata": {
    "id": "pXkwUcE0QC-7",
    "colab": {
     "base_uri": "https://localhost:8080/",
     "height": 143
    },
    "executionInfo": {
     "status": "ok",
     "timestamp": 1746022750397,
     "user_tz": -120,
     "elapsed": 193,
     "user": {
      "displayName": "Salvo Rinzivillo",
      "userId": "07600960754376634109"
     }
    },
    "outputId": "1860aeeb-6023-41d4-8e42-1c09da461770"
   },
   "source": [
    "df = pd.DataFrame([\n",
    "    {\"Date\": \"2007-10-01\", \"AAPL\": 189.95, \"AMZN\": 89.15, \"GOOG\": 707.00},\n",
    "    {\"Date\": \"2007-11-01\", \"AAPL\": 182.22, \"AMZN\": 90.56, \"GOOG\": 693.00},\n",
    "    {\"Date\": \"2007-12-01\", \"AAPL\": 198.08, \"AMZN\": 92.64, \"GOOG\": 691.48}\n",
    "])\n",
    "df"
   ],
   "outputs": [],
   "execution_count": null
  },
  {
   "cell_type": "markdown",
   "metadata": {
    "id": "mrbnfERp2Uc0"
   },
   "source": [
    "## Altair loves Long Form"
   ]
  },
  {
   "cell_type": "code",
   "metadata": {
    "id": "xHvvrqM-QLxC",
    "colab": {
     "base_uri": "https://localhost:8080/",
     "height": 331
    },
    "executionInfo": {
     "status": "ok",
     "timestamp": 1746022750429,
     "user_tz": -120,
     "elapsed": 31,
     "user": {
      "displayName": "Salvo Rinzivillo",
      "userId": "07600960754376634109"
     }
    },
    "outputId": "49a27a73-d4d6-440f-b71e-0daa1896c00d"
   },
   "source": [
    "# Example of creating a simple line chart with this data\n",
    "# First, we need to transform the data to long format for Altair\n",
    "df_long = pd.melt(df, id_vars=['Date'], value_vars=['AAPL', 'AMZN', 'GOOG'],\n",
    "                 var_name='Stock', value_name='Price')\n",
    "\n",
    "df_long"
   ],
   "outputs": [],
   "execution_count": null
  },
  {
   "cell_type": "code",
   "metadata": {
    "id": "AGslyHetQs_O",
    "colab": {
     "base_uri": "https://localhost:8080/",
     "height": 485
    },
    "executionInfo": {
     "status": "ok",
     "timestamp": 1746022750615,
     "user_tz": -120,
     "elapsed": 192,
     "user": {
      "displayName": "Salvo Rinzivillo",
      "userId": "07600960754376634109"
     }
    },
    "outputId": "fc672646-a97c-44cd-f9af-9ffca4914bd7"
   },
   "source": [
    "# Create a simple line chart\n",
    "chart = alt.Chart(df_long).mark_line().encode(\n",
    "    x='Date:T',\n",
    "    y='Price:Q',\n",
    "    color='Stock:N'\n",
    ").properties(\n",
    "    width=600,\n",
    "    height=400,\n",
    "    title='Stock Prices (Oct-Dec 2007)'\n",
    ")\n",
    "chart"
   ],
   "outputs": [],
   "execution_count": null
  },
  {
   "cell_type": "markdown",
   "metadata": {
    "id": "CqxHc92d2Uc0"
   },
   "source": [
    "# Altair - Encodings"
   ]
  },
  {
   "cell_type": "code",
   "metadata": {
    "id": "kni-4hOj2Uc0",
    "executionInfo": {
     "status": "ok",
     "timestamp": 1746022750680,
     "user_tz": -120,
     "elapsed": 26,
     "user": {
      "displayName": "Salvo Rinzivillo",
      "userId": "07600960754376634109"
     }
    }
   },
   "source": [
    "cars = data.cars()"
   ],
   "outputs": [],
   "execution_count": null
  },
  {
   "cell_type": "code",
   "metadata": {
    "id": "sOtDzAt72Uc0",
    "colab": {
     "base_uri": "https://localhost:8080/",
     "height": 597
    },
    "executionInfo": {
     "status": "ok",
     "timestamp": 1746022750874,
     "user_tz": -120,
     "elapsed": 192,
     "user": {
      "displayName": "Salvo Rinzivillo",
      "userId": "07600960754376634109"
     }
    },
    "outputId": "332aae7e-d528-40a1-af6a-d67e76c30103"
   },
   "source": [
    "cars"
   ],
   "outputs": [],
   "execution_count": null
  },
  {
   "cell_type": "markdown",
   "metadata": {
    "id": "n4kX70BM2Uc1"
   },
   "source": [
    "## One dimensional graph"
   ]
  },
  {
   "cell_type": "code",
   "metadata": {
    "id": "rqCjufRM2Uc1",
    "colab": {
     "base_uri": "https://localhost:8080/",
     "height": 83
    },
    "executionInfo": {
     "status": "ok",
     "timestamp": 1746022750971,
     "user_tz": -120,
     "elapsed": 100,
     "user": {
      "displayName": "Salvo Rinzivillo",
      "userId": "07600960754376634109"
     }
    },
    "outputId": "58594b65-f543-4208-e7d1-c114aadd43a0"
   },
   "source": [
    "alt.Chart(cars).mark_point().encode(x='Horsepower')"
   ],
   "outputs": [],
   "execution_count": null
  },
  {
   "cell_type": "markdown",
   "metadata": {
    "id": "8MkFM5hI2Uc1"
   },
   "source": [
    "### with a different marker"
   ]
  },
  {
   "cell_type": "code",
   "metadata": {
    "id": "Rqz0xFla2Uc1",
    "colab": {
     "base_uri": "https://localhost:8080/",
     "height": 84
    },
    "executionInfo": {
     "status": "ok",
     "timestamp": 1746022751121,
     "user_tz": -120,
     "elapsed": 150,
     "user": {
      "displayName": "Salvo Rinzivillo",
      "userId": "07600960754376634109"
     }
    },
    "outputId": "9d679eca-d8c7-420d-b1f2-062521d5b9d1"
   },
   "source": [
    "alt.Chart(cars).mark_rule().encode(x='Horsepower')"
   ],
   "outputs": [],
   "execution_count": null
  },
  {
   "cell_type": "markdown",
   "metadata": {
    "id": "Bykl56US2Uc1"
   },
   "source": [
    "## Two dimensional graph"
   ]
  },
  {
   "cell_type": "code",
   "metadata": {
    "id": "wUrh5-Mb2Uc1",
    "colab": {
     "base_uri": "https://localhost:8080/",
     "height": 368
    },
    "executionInfo": {
     "status": "ok",
     "timestamp": 1746022751189,
     "user_tz": -120,
     "elapsed": 69,
     "user": {
      "displayName": "Salvo Rinzivillo",
      "userId": "07600960754376634109"
     }
    },
    "outputId": "90faeb1e-5b4c-4599-8583-c5791b2634cd"
   },
   "source": [
    "alt.Chart(cars).mark_point().encode(\n",
    "    x='Horsepower',\n",
    "    y='Miles_per_Gallon',\n",
    ")"
   ],
   "outputs": [],
   "execution_count": null
  },
  {
   "cell_type": "code",
   "metadata": {
    "id": "H0HKP5KH2Uc1",
    "colab": {
     "base_uri": "https://localhost:8080/",
     "height": 368
    },
    "executionInfo": {
     "status": "ok",
     "timestamp": 1746022751322,
     "user_tz": -120,
     "elapsed": 136,
     "user": {
      "displayName": "Salvo Rinzivillo",
      "userId": "07600960754376634109"
     }
    },
    "outputId": "36ab52ea-d356-4490-9e21-260212f0cae7"
   },
   "source": [
    "alt.Chart(cars).mark_circle().encode(\n",
    "    x='Horsepower',\n",
    "    y='Miles_per_Gallon',\n",
    "    color='Cylinders:O',\n",
    "    tooltip=['Name']\n",
    ")"
   ],
   "outputs": [],
   "execution_count": null
  },
  {
   "cell_type": "markdown",
   "source": [
    "# Altair Syntax"
   ],
   "metadata": {
    "id": "Rl_dPBdB2ddj"
   }
  },
  {
   "cell_type": "markdown",
   "metadata": {
    "id": "sJM2dP_92Uc1"
   },
   "source": [
    "## Short Syntax"
   ]
  },
  {
   "cell_type": "code",
   "metadata": {
    "id": "xbnWwK2lBYbW",
    "colab": {
     "base_uri": "https://localhost:8080/",
     "height": 368
    },
    "executionInfo": {
     "status": "ok",
     "timestamp": 1746022751579,
     "user_tz": -120,
     "elapsed": 258,
     "user": {
      "displayName": "Salvo Rinzivillo",
      "userId": "07600960754376634109"
     }
    },
    "outputId": "5b955683-c83c-4a28-ac5e-70ea6aa8eed9"
   },
   "source": [
    "alt.Chart(cars).mark_point().encode(\n",
    "    x='Horsepower',\n",
    "    y='Miles_per_Gallon',\n",
    "    color='Origin',\n",
    "    shape='Origin'\n",
    ")"
   ],
   "outputs": [],
   "execution_count": null
  },
  {
   "cell_type": "markdown",
   "metadata": {
    "id": "gT31mXr-RL8B"
   },
   "source": [
    "## Attribute-based Syntax"
   ]
  },
  {
   "cell_type": "code",
   "metadata": {
    "id": "2j1t8HoHQ0zF",
    "colab": {
     "base_uri": "https://localhost:8080/",
     "height": 368
    },
    "executionInfo": {
     "status": "ok",
     "timestamp": 1746022751750,
     "user_tz": -120,
     "elapsed": 172,
     "user": {
      "displayName": "Salvo Rinzivillo",
      "userId": "07600960754376634109"
     }
    },
    "outputId": "ed22cbe3-197f-4c58-d26c-70475ad79d1b"
   },
   "source": [
    "alt.Chart(cars).mark_point().encode(\n",
    "    alt.X('Horsepower', type=\"quantitative\"),\n",
    "    alt.Y('Miles_per_Gallon').title('Miles per Gallon'),\n",
    "    color='Origin',\n",
    "    shape='Origin'\n",
    ")"
   ],
   "outputs": [],
   "execution_count": null
  },
  {
   "cell_type": "markdown",
   "metadata": {
    "id": "PxKcVm9tRDvF"
   },
   "source": [
    "## Method-based Syntax"
   ]
  },
  {
   "cell_type": "code",
   "metadata": {
    "id": "FEioGTjVRHKd",
    "colab": {
     "base_uri": "https://localhost:8080/",
     "height": 368
    },
    "executionInfo": {
     "status": "ok",
     "timestamp": 1746022751962,
     "user_tz": -120,
     "elapsed": 213,
     "user": {
      "displayName": "Salvo Rinzivillo",
      "userId": "07600960754376634109"
     }
    },
    "outputId": "02a1f72e-7a86-4b39-d5fd-e4f72cff7b45"
   },
   "source": [
    "alt.Chart(cars).mark_point().encode(\n",
    "    alt.X('Horsepower'),\n",
    "    alt.Y('Miles_per_Gallon', title=\"Miles per Gallon\"),\n",
    "    color='Origin',\n",
    "    shape='Origin'\n",
    ")"
   ],
   "outputs": [],
   "execution_count": null
  },
  {
   "cell_type": "markdown",
   "metadata": {
    "id": "_MeIsoXtRZ8a"
   },
   "source": [
    "# Encodings Data Types"
   ]
  },
  {
   "cell_type": "markdown",
   "metadata": {
    "id": "XCmKi1OrRhLy"
   },
   "source": [
    "Altair supports five main data types for encodings:\n",
    "\n",
    "| Data Type    | Shorthand Code | Description                       |\n",
    "|--------------|----------------|-----------------------------------|\n",
    "| quantitative | Q              | a continuous real-valued quantity |\n",
    "| ordinal      | O              | a discrete ordered quantity       |\n",
    "| nominal      | N              | a discrete unordered category     |\n",
    "| temporal     | T              | a time or date value              |\n",
    "| geojson      | G              | a geographic shape                |"
   ]
  },
  {
   "cell_type": "code",
   "metadata": {
    "id": "Hg3NbzEVRK_s",
    "colab": {
     "base_uri": "https://localhost:8080/",
     "height": 368
    },
    "executionInfo": {
     "status": "ok",
     "timestamp": 1746022752239,
     "user_tz": -120,
     "elapsed": 276,
     "user": {
      "displayName": "Salvo Rinzivillo",
      "userId": "07600960754376634109"
     }
    },
    "outputId": "fdeeae3a-f634-4dee-d5e4-21cebbff66ca"
   },
   "source": [
    "alt.Chart(cars).mark_point().encode(\n",
    "    x='Acceleration:Q',\n",
    "    y='Miles_per_Gallon:Q',\n",
    "    color='Origin:N'\n",
    ")"
   ],
   "outputs": [],
   "execution_count": null
  },
  {
   "cell_type": "markdown",
   "metadata": {
    "id": "xPsK_c52Rxa3"
   },
   "source": [
    "## Choosing the correct data type (colors)"
   ]
  },
  {
   "cell_type": "code",
   "metadata": {
    "id": "T07KkI-RRU3I",
    "colab": {
     "base_uri": "https://localhost:8080/",
     "height": 287
    },
    "executionInfo": {
     "status": "ok",
     "timestamp": 1746022752492,
     "user_tz": -120,
     "elapsed": 252,
     "user": {
      "displayName": "Salvo Rinzivillo",
      "userId": "07600960754376634109"
     }
    },
    "outputId": "95804bc4-5a00-498a-9fae-45eef2777f58"
   },
   "source": [
    "base = alt.Chart(cars).mark_point().encode(\n",
    "    x='Horsepower:Q',\n",
    "    y='Miles_per_Gallon:Q',\n",
    ").properties(width=200, height=200)\n",
    "\n",
    "alt.hconcat(\n",
    "   base.encode(color='Cylinders:Q').properties(title='quantitative'),\n",
    "   base.encode(color='Cylinders:O').properties(title='ordinal'),\n",
    "   base.encode(color='Cylinders:N').properties(title='nominal'),\n",
    ")"
   ],
   "outputs": [],
   "execution_count": null
  },
  {
   "cell_type": "markdown",
   "metadata": {
    "id": "SK6fbdFj2Uc1"
   },
   "source": [
    "## Choosing the correct data type (time)"
   ]
  },
  {
   "cell_type": "code",
   "metadata": {
    "id": "-uLbNk6tSMUy",
    "colab": {
     "base_uri": "https://localhost:8080/",
     "height": 339
    },
    "executionInfo": {
     "status": "ok",
     "timestamp": 1746022752683,
     "user_tz": -120,
     "elapsed": 192,
     "user": {
      "displayName": "Salvo Rinzivillo",
      "userId": "07600960754376634109"
     }
    },
    "outputId": "95448e7e-be2e-4ed2-c36a-7c69c1c1b48b"
   },
   "source": [
    "base = alt.Chart(cars).mark_bar().encode(\n",
    "    alt.Y('mean(Horsepower):Q').title('Horsepower')\n",
    ").properties(width=200, height=200)\n",
    "alt.hconcat(\n",
    "    base.encode(x='Year:O').properties(title='ordinal'),\n",
    "    base.encode(x='Year:Q').properties(title='quantitative'),\n",
    "    base.encode(x='Year:T').properties(title='temporal')\n",
    ")"
   ],
   "outputs": [],
   "execution_count": null
  },
  {
   "cell_type": "markdown",
   "metadata": {
    "id": "uAJbtH4u2Uc1"
   },
   "source": [
    "# Aggregation"
   ]
  },
  {
   "cell_type": "code",
   "metadata": {
    "id": "n8Ic3bAZ2Uc1",
    "colab": {
     "base_uri": "https://localhost:8080/",
     "height": 597
    },
    "executionInfo": {
     "status": "ok",
     "timestamp": 1746022752750,
     "user_tz": -120,
     "elapsed": 66,
     "user": {
      "displayName": "Salvo Rinzivillo",
      "userId": "07600960754376634109"
     }
    },
    "outputId": "2020b969-3626-4ec8-c769-64c6f3033423"
   },
   "source": [
    "cars"
   ],
   "outputs": [],
   "execution_count": null
  },
  {
   "cell_type": "code",
   "metadata": {
    "id": "HVIALdhd2Uc8",
    "colab": {
     "base_uri": "https://localhost:8080/",
     "height": 163
    },
    "executionInfo": {
     "status": "ok",
     "timestamp": 1746022752912,
     "user_tz": -120,
     "elapsed": 159,
     "user": {
      "displayName": "Salvo Rinzivillo",
      "userId": "07600960754376634109"
     }
    },
    "outputId": "0df8992a-5e19-4bc1-c89d-a53c2d89ad4e"
   },
   "source": [
    "alt.Chart(cars).mark_bar().encode(\n",
    "    y='Cylinders:O',\n",
    "    x='mean(Acceleration):Q',\n",
    ")"
   ],
   "outputs": [],
   "execution_count": null
  },
  {
   "cell_type": "markdown",
   "metadata": {
    "id": "H-T7dSkI2Uc8"
   },
   "source": [
    "### binning"
   ]
  },
  {
   "cell_type": "code",
   "metadata": {
    "id": "WR3CxN0j2Uc8",
    "colab": {
     "base_uri": "https://localhost:8080/",
     "height": 368
    },
    "executionInfo": {
     "status": "ok",
     "timestamp": 1746022753177,
     "user_tz": -120,
     "elapsed": 264,
     "user": {
      "displayName": "Salvo Rinzivillo",
      "userId": "07600960754376634109"
     }
    },
    "outputId": "f836f5a7-4681-47f1-c293-ff3347945786"
   },
   "source": [
    "alt.Chart(cars).mark_point().encode(\n",
    "    x='Horsepower:Q',\n",
    "    y='Miles_per_Gallon:Q',\n",
    "    color=alt.Color('Acceleration:Q').bin(maxbins=5)\n",
    ")"
   ],
   "outputs": [],
   "execution_count": null
  },
  {
   "cell_type": "markdown",
   "metadata": {
    "id": "IsvowD4R2Uc8"
   },
   "source": [
    "### distribution"
   ]
  },
  {
   "cell_type": "markdown",
   "metadata": {
    "id": "Xy_g_ght2Uc8"
   },
   "source": [
    "auto-binning"
   ]
  },
  {
   "cell_type": "code",
   "metadata": {
    "id": "QQN9wvTh2Uc8",
    "colab": {
     "base_uri": "https://localhost:8080/",
     "height": 368
    },
    "executionInfo": {
     "status": "ok",
     "timestamp": 1746022753236,
     "user_tz": -120,
     "elapsed": 58,
     "user": {
      "displayName": "Salvo Rinzivillo",
      "userId": "07600960754376634109"
     }
    },
    "outputId": "4460750f-1a26-46e2-9137-86d52820d7f8"
   },
   "source": [
    "alt.Chart(cars).mark_bar().encode(\n",
    "    alt.X('Miles_per_Gallon:Q', bin=True, title='Miles per Gallon'),\n",
    "    alt.Y('count()', title='Freq')\n",
    ")"
   ],
   "outputs": [],
   "execution_count": null
  },
  {
   "cell_type": "markdown",
   "metadata": {
    "id": "oTOzCNwZ2Uc8"
   },
   "source": [
    "binning control"
   ]
  },
  {
   "cell_type": "code",
   "metadata": {
    "id": "VCQ_Z_qi2Uc8",
    "colab": {
     "base_uri": "https://localhost:8080/",
     "height": 368
    },
    "executionInfo": {
     "status": "ok",
     "timestamp": 1746022753274,
     "user_tz": -120,
     "elapsed": 37,
     "user": {
      "displayName": "Salvo Rinzivillo",
      "userId": "07600960754376634109"
     }
    },
    "outputId": "63d41b7b-f1c6-4185-fbc7-55f7a92309ae"
   },
   "source": [
    "alt.Chart(cars).mark_bar().encode(\n",
    "    alt.X('Horsepower:Q', bin=alt.Bin(maxbins=10)),\n",
    "    alt.Y('count()', title='Freq', stack=None)\n",
    ")"
   ],
   "outputs": [],
   "execution_count": null
  },
  {
   "cell_type": "markdown",
   "metadata": {
    "id": "XMUdAaoA2Uc8"
   },
   "source": [
    "kernel density distribution (advanced - using transform functions)"
   ]
  },
  {
   "cell_type": "code",
   "metadata": {
    "id": "iNNzPXDT2Uc8",
    "colab": {
     "base_uri": "https://localhost:8080/",
     "height": 368
    },
    "executionInfo": {
     "status": "ok",
     "timestamp": 1746022753377,
     "user_tz": -120,
     "elapsed": 102,
     "user": {
      "displayName": "Salvo Rinzivillo",
      "userId": "07600960754376634109"
     }
    },
    "outputId": "ad427f19-5a0d-418a-a1d0-f2234bcc3548"
   },
   "source": [
    "alt.Chart(cars).mark_area().encode(\n",
    "    x=\"Acceleration:Q\",\n",
    "    y='density:Q',\n",
    ").transform_density(\n",
    "    'Acceleration',\n",
    "    as_=['Acceleration', 'density'],\n",
    ")"
   ],
   "outputs": [],
   "execution_count": null
  },
  {
   "cell_type": "markdown",
   "metadata": {
    "id": "vYXJWhZK2Uc8"
   },
   "source": [
    "### Boxplot"
   ]
  },
  {
   "cell_type": "code",
   "source": [
    "alt.Chart(cars).mark_boxplot(size=30, opacity=0.7).encode(\n",
    "    x=alt.X(field='Acceleration',type='quantitative', scale=alt.Scale(zero=False)),\n",
    "    y='Cylinders:N',\n",
    "    color=alt.Color('Cylinders:N',legend=None),\n",
    "    tooltip=['Name','Acceleration']\n",
    ").properties(\n",
    "    width=600,\n",
    "    height=300\n",
    ")"
   ],
   "metadata": {
    "id": "iatpLVQej9Ut",
    "colab": {
     "base_uri": "https://localhost:8080/",
     "height": 363
    },
    "executionInfo": {
     "status": "ok",
     "timestamp": 1746022753505,
     "user_tz": -120,
     "elapsed": 127,
     "user": {
      "displayName": "Salvo Rinzivillo",
      "userId": "07600960754376634109"
     }
    },
    "outputId": "5c3db06e-76cc-4a75-b907-0dd3311c74aa"
   },
   "outputs": [],
   "execution_count": null
  },
  {
   "cell_type": "markdown",
   "metadata": {
    "id": "L2GPncO32Uc8"
   },
   "source": [
    "# Visual Exploration of gapminder"
   ]
  },
  {
   "cell_type": "code",
   "source": [
    "path = 'https://raw.githubusercontent.com/danielefadda/DVVA_Master/refs/heads/main/Master_2025/altair_scripts/data/gapminder_tidy.csv'\n",
    "gap=pd.read_csv(path, parse_dates=['Year'])"
   ],
   "metadata": {
    "id": "ioG5RpMv3XtZ",
    "executionInfo": {
     "status": "ok",
     "timestamp": 1746022753602,
     "user_tz": -120,
     "elapsed": 96,
     "user": {
      "displayName": "Salvo Rinzivillo",
      "userId": "07600960754376634109"
     }
    }
   },
   "outputs": [],
   "execution_count": null
  },
  {
   "cell_type": "code",
   "metadata": {
    "id": "o0O-EeBuT0OI",
    "colab": {
     "base_uri": "https://localhost:8080/",
     "height": 423
    },
    "executionInfo": {
     "status": "ok",
     "timestamp": 1746022753628,
     "user_tz": -120,
     "elapsed": 57,
     "user": {
      "displayName": "Salvo Rinzivillo",
      "userId": "07600960754376634109"
     }
    },
    "outputId": "665abe56-1a7b-4fb4-bd26-b0f63f6da8de"
   },
   "source": [
    "# # Local dataset\n",
    "# gap=pd.read_csv('data/gapminder_tidy.csv', parse_dates=['Year'])\n",
    "\n",
    "gap"
   ],
   "outputs": [],
   "execution_count": null
  },
  {
   "cell_type": "markdown",
   "source": [],
   "metadata": {
    "id": "awhfql9HcYuf"
   }
  },
  {
   "cell_type": "markdown",
   "source": [
    "# Binning Alternatives"
   ],
   "metadata": {
    "id": "ablY_oKXc10F"
   }
  },
  {
   "cell_type": "markdown",
   "source": [
    "**Please Note** the following line of code allows you to exceed Altair's 5000-line limit"
   ],
   "metadata": {
    "id": "CHmvbkwqdFgd"
   }
  },
  {
   "cell_type": "code",
   "source": [
    "alt.data_transformers.enable('default', max_rows=None)"
   ],
   "metadata": {
    "id": "ow6N2BvxdIJB",
    "colab": {
     "base_uri": "https://localhost:8080/"
    },
    "executionInfo": {
     "status": "ok",
     "timestamp": 1746022753635,
     "user_tz": -120,
     "elapsed": 6,
     "user": {
      "displayName": "Salvo Rinzivillo",
      "userId": "07600960754376634109"
     }
    },
    "outputId": "54dfcd43-78ad-4cc2-bf80-8d7901644a7e"
   },
   "outputs": [],
   "execution_count": null
  },
  {
   "cell_type": "code",
   "source": [
    "gap2000=gap[gap['Year']=='2000']\n",
    "gap2000.head()"
   ],
   "metadata": {
    "id": "ps0zd1AJc5ui",
    "colab": {
     "base_uri": "https://localhost:8080/",
     "height": 206
    },
    "executionInfo": {
     "status": "ok",
     "timestamp": 1746022753710,
     "user_tz": -120,
     "elapsed": 74,
     "user": {
      "displayName": "Salvo Rinzivillo",
      "userId": "07600960754376634109"
     }
    },
    "outputId": "1fb00c59-9cf1-4aa1-fbb0-10c30028c2cd"
   },
   "outputs": [],
   "execution_count": null
  },
  {
   "cell_type": "markdown",
   "source": [
    "## binned distribution of life expectancy"
   ],
   "metadata": {
    "id": "dlIv1iwndsWH"
   }
  },
  {
   "cell_type": "code",
   "source": [
    "alt.Chart(gap2000).mark_bar(tooltip=True).encode(\n",
    "    alt.X(\n",
    "        field='life',\n",
    "        type='quantitative',\n",
    "        bin=alt.BinParams(maxbins=8),\n",
    "        title='life expectancy'),\n",
    "    alt.Y(aggregate='count', title='Number of Countries'),\n",
    ")"
   ],
   "metadata": {
    "id": "QsaWehTNdOwi",
    "colab": {
     "base_uri": "https://localhost:8080/",
     "height": 368
    },
    "executionInfo": {
     "status": "ok",
     "timestamp": 1746022753716,
     "user_tz": -120,
     "elapsed": 5,
     "user": {
      "displayName": "Salvo Rinzivillo",
      "userId": "07600960754376634109"
     }
    },
    "outputId": "88f28186-c1b2-4270-89ab-1ba9c60d5e69"
   },
   "outputs": [],
   "execution_count": null
  },
  {
   "cell_type": "code",
   "source": [
    "alt.Chart(gap2000).mark_bar(tooltip=True).encode(\n",
    "    alt.X(\n",
    "        field='life',\n",
    "        type='quantitative',\n",
    "        bin=alt.BinParams(maxbins=8),\n",
    "        title='life expectancy'),\n",
    "    alt.Y(aggregate='count', title='Number of Countries'),\n",
    "    alt.Color(field='region', type='nominal')\n",
    ")"
   ],
   "metadata": {
    "id": "EJOTIj9Fd1tG",
    "colab": {
     "base_uri": "https://localhost:8080/",
     "height": 368
    },
    "executionInfo": {
     "status": "ok",
     "timestamp": 1746022753791,
     "user_tz": -120,
     "elapsed": 74,
     "user": {
      "displayName": "Salvo Rinzivillo",
      "userId": "07600960754376634109"
     }
    },
    "outputId": "130b152f-fc49-45ba-bd59-5f5a6ec37ecc"
   },
   "outputs": [],
   "execution_count": null
  },
  {
   "cell_type": "markdown",
   "source": [
    "**Exercise**: Can you find alternative strategies of stacking? Can they help to improve the chart? In which way?"
   ],
   "metadata": {
    "id": "5UkcLOAkeeZa"
   }
  },
  {
   "cell_type": "code",
   "source": [
    "alt.Chart(gap2000).mark_rect(tooltip=True).encode(\n",
    "    x=alt.X('life:Q',bin=True),\n",
    "    color='count()',\n",
    "    y=alt.Y('region',title=None),\n",
    ")"
   ],
   "metadata": {
    "id": "j2wB8qUBeSQT",
    "colab": {
     "base_uri": "https://localhost:8080/",
     "height": 183
    },
    "executionInfo": {
     "status": "ok",
     "timestamp": 1746022753830,
     "user_tz": -120,
     "elapsed": 54,
     "user": {
      "displayName": "Salvo Rinzivillo",
      "userId": "07600960754376634109"
     }
    },
    "outputId": "68a9186c-7c46-407a-cb29-0b7db86465e3"
   },
   "outputs": [],
   "execution_count": null
  },
  {
   "cell_type": "code",
   "source": [
    "alt.Chart(gap2000).mark_circle(tooltip=True).encode(\n",
    "    x=alt.X('life:O',bin=True),\n",
    "    size='count()',\n",
    "    color='count()',\n",
    "    y=alt.Y('region',title=None),\n",
    ")"
   ],
   "metadata": {
    "id": "b2ybtbNEemtC",
    "colab": {
     "base_uri": "https://localhost:8080/",
     "height": 207
    },
    "executionInfo": {
     "status": "ok",
     "timestamp": 1746022753890,
     "user_tz": -120,
     "elapsed": 62,
     "user": {
      "displayName": "Salvo Rinzivillo",
      "userId": "07600960754376634109"
     }
    },
    "outputId": "aad25a92-e18c-405b-98a6-235e0e82ea75"
   },
   "outputs": [],
   "execution_count": null
  },
  {
   "cell_type": "markdown",
   "metadata": {
    "id": "U-KNgjbvUrX_"
   },
   "source": [
    "# Split, apply, combine"
   ]
  },
  {
   "cell_type": "markdown",
   "metadata": {
    "id": "kGUyU1VtKEA_"
   },
   "source": [
    "![03.08-split-apply-combine.png](data:image/png;base64,iVBORw0KGgoAAAANSUhEUgAAAkAAAAGwCAYAAABB4NqyAAAABHNCSVQICAgIfAhkiAAAAAlwSFlzAAALEgAACxIB0t1+/AAAIABJREFUeJzs3XtclHX+///HCCKKaGPmaUyTBAdEOSjfzGxNhV1FXULW1dZj8cHAilyrLTrtam0klO5a2RZiY4lJ4QKaZ8u0tDYjkFRcEJBADSwmDhNycK7fH/6YlURThLkG5nW/3fZ2k4v3zOvJ7ASveb/f13VpFEVREEIIIYSwI53UDiCEEEIIYW3SAAkhhBDC7kgDJIQQQgi7Iw2QEEIIIeyONEBCCCGEsDvSAAkhhBDC7kgDJIQQQgi7Iw2QEEIIIeyONEBCCCGEsDvSAAkhhBDC7kgDJIQQQgi7Iw2QEEIIIeyONEBCCCGEsDvSAAkhhBDC7kgDJIQQQgi7Iw2QEDegpqaGl19+mQkTJjBy5EgCAwNZtmwZRqPxmh5/+vRp9Ho9wcHBAHz11Vfo9XoiIiIsY8rLy0lJSWmT/EIIYa+kARLiBjz99NMYDAYuXLjAHXfcwYULF3j//fdZvHhxi55Pq9USGBiIv78/AIWFhUyZMoVdu3a1ZmwhhLB7jmoHEKK9qq6uZufOnfTq1Yu9e/fi5OREXV0dwcHBZGVlkZeXh7u7+3U9p7u7O6+//rrl67KyMioqKlo7uhBC2D2ZARKihRwdHdFoNFRWVrJ582ZqampwcnJi7dq1JCUl0bdvX+bNm4der+fQoUNMnz4dHx8foqKiKC8vb/Y5L10CO336NAsWLECj0fDZZ5/h6elp5Z9QCCE6LmmAhGghZ2dngoKCuHDhAsuWLeOOO+4gIiKCb775Bm9vb3r06AGARqPhkUceoXv37vTq1Yt9+/bx9NNP/+rzd+3aFX9/fxRFoXfv3gQGBrb1jySEEHZDGiAhbsDf//53/vCHP9ClSxfq6+v5/PPPefrpp5k7dy7nz5+3jPvDH/7A+++/z5YtW9Bqtezfv5+SkpKrPnevXr1YsmQJAJ6enrz22mtt+rMIIYQ9kQZIiBvQvXt3XnjhBQ4ePMirr77KtGnT6Ny5M99++y2bN2+2jJswYQIArq6uBAQEAFBUVKRKZiGEENIACdFimZmZREdH8/bbb9O9e3eCg4OJj4/n4YcfBuDkyZOWsfX19ZZ/K4oCQKdO8p+fEEKoRX4DC9FCLi4u7N69m3feeYfS0lLL8calrb59+1qO7d69G7h45tg333wDwG233farNRqbJLPZ3FqxhRBCIKfBC9FiHh4e/Pa3v2XPnj1MnToVHx8fysrKyMvL46abbiI0NJSDBw+iKAqpqan897//5YcffqC8vJygoCD69+/P6dOnr1pDq9UC8PXXXzN79mzeffddnJycrPHjCSFEhyYzQELcgLi4OB566CH69OlDRkYG586dY9KkSWzYsMEyA6TRaHjuueeoq6vjxx9/JDAwkBdeeMHyHBqNBo1G0+zXt99+O6GhoTg4OFBWVkZ1dbV1f0AhhOigNErjhgQhRKubN28eX3/9NcnJyYwcOVLtOEIIIf5/MgMkhBBCCLsjDZAQbezS5S0hhBC2QZbAhBBCCGF3ZAZICCGEEHZHToMXdiMgIIDc3FzLqeVqMRqNAKrmMBqNeHh4cPjwYdUyqOXQoUM88MADAGzatAlfX99Wr/HUU0+RlpbGypUrCQ4ObtFzvP3227zzzjt89tlnODpa/1d1aGgo/v7+PPfcc1avLYQ1yAyQsBu5ubmYTCa1Y2AymVTPYTKZyM3NVTWDWrZu3Qpc3JuVnp7eJjV+eWmD6/XTTz/x1ltvce+996rS/ADMmDGD5ORkCgoKVKkvRFuTGSBhN7RaLVqtllOnTqmao/EK0GrmuJarUHdEtbW17N69GycnJ+rq6ti+fTvPPPOMak3GlXzwwQf8/PPPTJ06VbUMU6ZM4aWXXiIpKUlmgUSHJDNAQgi78fHHH2MymRg3bhze3t5UVlby6aefNhkzceJEfHx8+PLLLwkKCsLPz4+nnnqK2tpaAL766iv0ej3PP/888fHxjBo1invuuYe0tLRma/7rX/9Cr9cTHx9vObZr1y70ej1/+ctfmn3Mtm3buPnmm/H29gbg559/5tlnn+Xuu+/Gx8eHqVOnsmXLFsv4p556Cr1ez/bt2y3HRowYgaenJwCnT59Gr9fz0EMP8cYbb3DHHXcwbtw4tm7dyv79+y0/Z0xMDA0NDQD07t0bvV7P1q1bkXNlREckDZAQwm5s3boVjUZDUFAQv/3tb1EUpdnGpaGhgYcffpj+/fvTtWtX0tLSmjQwcLFJSUtLw8vLi7KyMmJiYjh27NhlzzVt2jTgYvPV6OOPP0aj0TQ7w1NeXk5ubq6leQF47bXXSElJoWfPntxxxx2cOXOGp556iqNHjwLNL7k1twR38OBBNm3axG233caPP/7IM888w5IlSxgwYAAAaWlppKamWsYPHz6cqqqqZn8uIdo7aYCEEHahoqKCzz77DAcHByZOnEhQUBAA+/fvp6KioslYs9lMdHQ07777Lh988AGdO3fmgw8+oK6ursmY1NRU3nvvPaKjo1EUhQ0bNlxWd+DAgfj6+lJUVER+fj5ms5kDBw7Qo0cP7rrrrsvGnzx5EkVRGDRokOVYSUkJGo2GJ598krfffpu33nqLF154gVtuueW6XoOGhgY2btxIcnIyt956K/X19fzf//0f69evZ9GiRSiKQl5enmV841Kpve4XEx2bNEBCCLuwY8cOGhoa8Pf3p2fPngwZMoShQ4fS0NDAtm3bLhs/YcIE4GID4+7uTn19PWfOnLF8f/jw4fTp0we4uGwGUFhY2GztadOmoSgKe/fuJSMjg59++omgoKBm9x6Vl5cD0L17d8ux2bNn4+joSEREBOPGjWPz5s3069fPcr+55jS3bNW3b19uvfVWAEv20aNHN/n60iave/fuKIpiySRERyINkBDCLnz00UfA//bw6PV6y2zLpftpGtXX1192rFOnTs1+v7HZuPT7lwoODsbBwYG9e/fyySefoNFornh6fONzmc1my7G77rqLHTt2sHTpUoYOHcquXbsIDw+/bMbp0qancS/Ppbp06WL5d+MSWdeuXa+YvfGYg4NDs1mFaM+kARJCdHhnz54lIyMDBwcH3N3dm/wP4MiRIxQVFTV5zK5duyyPPXnyJF26dLHslQHIycmhuLgYgAMHDgDg5ubWbP1evXoxZswYjh49ytatW7npppsYM2ZMs2NvvvlmgCazLv/4xz948cUX+eMf/4jBYODNN98ELu7pgf81NmVlZQBkZ2e3ysblyspKNBqNJZMQHYltnfsphBBtoPFMprvvvpt//etfTb43f/58vvrqK9LT04mOjrYcf+ONNzh48CCFhYXU19ezcOHCJktWZrOZP/zhD3h4eJCRkUGnTp2YP3/+FTNMnz6dgwcP8uOPP/LHP/7xirNFer0ejUZDaWmp5Vh1dTWffvopv//979Hr9Rw/fhyNRsP/+3//DwBPT08URWHNmjWcOHGCL774gq5du3L+/PkWvV6NGi/VcOmGbCE6CpkBEkJ0eFu3bqVTp06EhYVd9r3Zs2ej0WgsF0hsFBsbS1lZGT///DNhYWH8+c9/bvL9MWPG8Ic//IHjx4/Tr18/4uPj8fDwuGKGoKAgnJycAK56degePXqg1+v59ttvLcdiYmJ48MEHcXR05D//+Q9du3bl4YcfZuHChcDFixbOmDGDhoYGvvnmG5544gkGDhzY5EywazlT7JdjcnJyuPnmmxk6dOgV8wrRXsnNUIXdsIULENpKDlvIYKsmTpzI2bNn+fzzz5td+vnqq6+YP38+d999NwkJCdf8vMePH2fGjBn07t2bzz777KpXijYYDKxYsYLU1FT0en2Lfo4bVVFRwZ133sm8efOIiYlRJYMQbUlmgIToAC7dMCtsS2lpKdHR0SxatAiNRsPMmTN/9TYZoaGhuLi4sGfPHiulvNzevXvp1KkTf/rTn1TLIERbkgZIiGaMGzfusk2xaqivr8fPz4+qqqorjjEYDM2exi1a7tcalOu515eLiwtffPEFtbW1TJ8+naioqF99TM+ePYmIiCAlJUW15jY5OZmZM2cyePBgVeoL0dZkCUzYjWtd9ikuLmbWrFkcOnRI1RwAmZmZPPfcc5ZTuJtzzz33sHbt2uvapyFLYEIIeyczQEL8QmZmJn5+fgDs2bOH4OBgTpw4QUxMDDNnziQsLIzVq1cDFzeJTpkyxfLYsrIyxo8fz7lz51pUu7KykqVLlzJjxgwWLlzI9u3b8fX15cCBA8yaNYvZs2czY8YMyz2f5s2bh9Fo5Pnnn6e+vp79+/c3GSczQ0II0Tw5DV6IX8jKysLPz4+UlBTS09NJSkriiSeeYObMmcTGxgIXG4+vv/6akSNHcvbsWS5cuICDgwPx8fFERERc9y0KGi1ZsoSxY8eycuVKvvvuOyZPnswzzzxDQkICq1atYsCAAeTk5BAZGUlwcDBz5szBycmJxMRETCYTa9euvWycmncUF0IIWyUNkBC/kJmZSVlZGfv27WPnzp2UlpaSkZFBdXU169atAy7O1FRXV+Pk5IROp6OoqIjy8nIKCgqIi4trUd3c3Fzy8/NJTEwEYNCgQXTp0oUxY8bQt29fkpOTqa2tpaioiN69ewMXL+Dn4+MDQLdu3ViwYEGz40TzAgICyM3NRavVqpbBaDQCqJqhMYeHhweHDx9WNYcQ1iINkBCXqKmpIS8vj6CgIPr160dKSgrDhg1j9OjRllOe6+rqOHbsmGWZzMPDg/z8fN58802WL19+zZtjf6mwsBB3d3fL4wsKCnB0dGTz5s0UFxcTHh6OTqcjMTGR/v37AxdnqyIjIwGIi4ujpKSk2XGiebm5uZhMJlWbD5PJBKjfAJlMJrnpqbAr0gAJcYkjR47g6enJ4sWLycvLY/78+axZs4bs7GzKy8vRarXEx8dTXV3dpAFavXo1AQEBeHt7t7h2//79KSgooLa2Fo1GQ2xsLD4+PmRkZBAVFYWvry85OTmkpqYSExOD2WwmJyfHUjMjI4PFixdfNk5cmVarRavVyjWZLskhhL2QBkiIS2RlZVmWlNzd3XFzc+PUqVOEh4czZ84cunbtir+/P8uWLbM8ZujQoRiNRpYuXXpDtUeOHElgYCDTp0/Hzc2Nzp074+XlxfDhw4mNjcVgMNCjRw90Oh3Ozs6YzWYGDRpEVFQUGzZsIDIystlxQgghLienwQu70VaftKOjo5k8efJVb29gjRzXwxYy2AJbeB1sIYMt5RDCWuQ0eCFa6NChQ4SEhDBkyJBrbn6EEELYBlkCE6KFxo4dS3p6utoxhBBCtIDMAAkhhBDC7kgDJIQQQgi7Iw2QEEIIIeyONEBCCCGEsDvSAAkhRAdkNpvVjiCETZMGSAghrsG4ceMoKipSOwb19fX4+flRVVV1xTEGg4Ft27ZZMZUQ7Y80QEII8SuKi4sxm80MHjxY7SgcPXoUnU6Hq6vrFccYDAY8PT2tmEqI9kcaICGE+BWZmZmWe7/t2bOH4OBgTpw4QUxMDDNnziQsLIzVq1cDkJOTw5QpUyyPLSsrY/z48Zw7d65FtSsrK1m6dCkzZsxg4cKFbN++HV9fXw4cOMCsWbOYPXs2M2bMYPv27QDMmzcPo9HI888/T319Pfv3728yTmaGhLhILoQohBC/IisrCz8/P1JSUkhPTycpKYknnniCmTNnEhsbC1xsPL7++mtGjhzJ2bNnuXDhAg4ODsTHxxMREcEtt9zSotpLlixh7NixrFy5ku+++47JkyfzzDPPkJCQwKpVqxgwYAA5OTlERkYSHBzMnDlzcHJyIjExEZPJxNq1ay8bN3Xq1NZ8eYRol6QBEnbDaDRiMplUv+t1SUkJoO7dt0tKSnBxcVGtfnuTmZlJWVkZ+/btY+fOnZSWlpKRkUF1dTXr1q0DLs7UVFdX4+TkhE6no6ioiPLycgoKCoiLi2tR3dzcXPLz80lMTARg0KBBdOnShTFjxtC3b1+Sk5Opra2lqKiI3r17A3DkyBHLDX27devGggULmh0nhL2TBkgIIa6ipqaGvLw8goKC6NevHykpKQwbNozRo0eTkJAAQF1dHceOHbMsk3l4eJCfn8+bb77J8uXL0Wg0LapdWFiIu7u75fEFBQU4OjqyefNmiouLCQ8PR6fTkZiYSP/+/YGLs1WRkZEAxMXFUVJS0uw4IeydNEDCbmi1WrRarep3u7aFu26rPQvWnhw5cgRPT08WL15MXl4e8+fPZ82aNWRnZ1NeXo5WqyU+Pp7q6uomDdDq1asJCAjA29u7xbX79+9PQUEBtbW1aDQaYmNj8fHxISMjg6ioKHx9fcnJySE1NZWYmBjMZjM5OTmWmhkZGSxevPiycUIIaYCEEOKqsrKyLEtK7u7uuLm5cerUKcLDw5kzZw5du3bF39+fZcuWWR4zdOhQjEYjS5cuvaHaI0eOJDAwkOnTp+Pm5kbnzp3x8vJi+PDhxMbGYjAY6NGjBzqdDmdnZ8xmM4MGDSIqKooNGzYQGRnZ7DghBGgURVHUDiGENdjCzIut5LCFDLagrV6H6OhoJk+eTHBwsGoZrpet5BDCWuQ0eCGEaCWHDh0iJCSEIUOGXFPzI4RQjyyBCSFEKxk7dizp6elqxxBCXAOZARJCCCGE3ZEGSAghhBB2RxogIYQQQtgdaYCEEEIIYXekARJC2KSysjKSk5P5+eef1Y4ihOiA5CwwIYRN+vbbb5k9ezYDBgxg+PDheHt7c+eddzJ16lS6deumdjwhRDsnDZAQ16GhoYF77rkHT09Py32g1BATE4OHhwf333+/ahms5cyZM5w5c4Y9e/ZY7mouDZEQ4kZJAyTEddizZw96vZ5jx45RUFCAm5ubVevn5+ezfPlysrOz8fDwsGrtH3/8kfHjx7f4xp7Xq6GhodnjzTVE7u7ueHl58dprr+Hg4GCVfEKI9k0aICGuw8aNG5k2bRq33XYbBoOB5cuXW71+WFgYAwYMsGpdgO7duzN79mw6dbLO1sGioiJOnDhxxe/369fPMhM0ZswYpk+fLs2PEOKaSQMkxDU6efIk2dnZrFmzhlOnTjF//nwee+wxevbsabUMzz33HABffPGF1Wo26tKlC88++6zV6n388ce8/fbblq+ba3hcXFyslkcI0bFIA/Qr9Ho9Xbp04ciRI1at+/PPP5OamsqcOXOsWldc2aZNmxg/fjyurq6MGDECnU5HcnIyixYtUjtah+Ti4sJvfvMb/Pz82qzhMRqNmEwmy41A1VBSUgKgaobGHNJQCnsiDZANqqioICQkhG7dukkDZCNqampIS0vD2dmZSZMmoSgKJpOJpKQkwsPDZemlDYwZM4b9+/erHUMI0UFJA2SDqqqq+P77762+wVZc2ZYtW+jVqxe7d++2HKuqqmLChAns2LGDadOmqZhOtJRWq0Wr1XLq1CnVMjTO/KiZ4dIcQtgLuRDidTh9+jR6vZ7IyEjeffddxo0bx+jRo3n55ZctY1577TX0er1lacTHx4fQ0FC+/fZby5iJEyei1+v58ccfAThy5Ah6vZ758+cDEBgYiEajoaCgAE9PT86cOWPdH1RcZtOmTZedcu7q6sq8efNYv369SqmEEEK0lMwAtUBGRgZZWVkMHTqUb775hvXr1zN+/HjuvPNOyynCcXFx9OnTBzc3N3JycoiKimLv3r04OzsDXPVU4rvuuouDBw/i4uLC2LFjLY8R6klNTW32+KOPPsqjjz5q5TQQGxtr9ZpCCNGRyAxQC/z8889s2LCBDRs2MHXqVACOHj3aZMyQIUPYtm0bqamp3HXXXfz444/s2LHjmp6/8dTqvn378tprr9GrV6/W/QGEEEIIOycNUAv06dOHoUOHAuDm5oaiKNTV1TUZ85vf/MZyvZQJEyagKMoV1/gVRWnTvEIIIYRoShqgFrh0Sarx7J9fNjH19fWWfzd+75fLXmazGeCy5kkIIYQQbUsaoBa4llsBfPrpp5Ym6LPPPkOj0VjO6mpsoMrKygAuu8ZQ48xRY4MkhBBCiNYlm6DbSGFhIVOnTqV79+4cP36cfv36MXnyZAA8PT0pKCjgz3/+Mz4+Pnz22WdNHtujRw8cHBwoKipizpw5xMbGMmjQIDV+DCGEEKJDkhmga3DpjI9Go7lsBuiXxzQaDQsXLuT2228nPz+f4cOH869//QsnJycAHn/8cQICAigtLeW7777j1VdfbfIcLi4uRERE4OrqSlFRETU1NVb4KduXCxcucOHCBbVjCGHX6uvr+eSTT9SOIUSLyAzQr7j0Zow6nY6cnJwm31+0aFGzt0Lo2bMnb775ZrPP2b9/f957770mx375vEuWLGHJkiUtjd2h/fDDD9x3332kpqbSvXt3teMIYbdWr17NihUrSEtLY+zYsWrHEeK6yAxQG5CzutrOV199RVBQEEOGDJHmRwiVLVmyhFGjRhEdHU1VVZXacYS4LtIAtYFr2SQtrt97771HWFgYJ0+eJCoqSu04QgDQ0NDAuHHjiIiIUKX+yy+/zIQJEwgNDSU0NJSlS5darbaDgwNvv/02VVVVPPjgg/LhT7QrsgTWyh5++GEefvhhtWN0KIqiEBMTw+uvv47JZGLq1Kn4+fmpHUsIAPbs2YNer+fYsWMUFBRY/R5+WVlZrFq1Cl9fX6vWbXTrrbeyYsUK7r//flatWmXVBkyIGyEzQMKmVVdXM3PmTFasWIHJZAJg5syZKqcS4n82btxIUFAQwcHBGAwGq9auq6vj+PHjrFu3jpCQEKKjozl79qxVMwDce++9LFq0iBUrVnDo0CGr1xeiJaQBEjbr+PHjBAUFsXnzZssxX19f5s6dq2IqIf7n5MmTZGdnExwcTEhICFu3bqWiosJq9cvKyrjzzjt57LHHSE9Px8fHh8WLF1ut/qVeeukl/P39ZT+QaDc67BJYQEAAubm5aLVaVXMYjUYAVXMYjUY8PDw4fPiwahmuV3p6Oo899hj5+flNjk+ZMsVy9e3rZTQaMZlM3Hbbba2QsOVKSkoAVM1RUlKCi4uLavU7ik2bNjF+/HhcXV0ZMWIEOp2O5OTkZs8MbQsDBw7krbfesnwdHh7OmjVrOH36NDqdzioZGjXuBwoMDOTBBx8kKSlJ9kMKm9ZhZ4Byc3MtSyZqMplMqucwmUzk5uaqmuF6rFq1ioULF17W/PTr108uDSBsRk1NDWlpaXzzzTdMmjSJiRMncu7cOZKSkqx2jar//ve/pKenNzmmKAqOjup8tm3cD7Rjxw5WrVqlSgYhrlWHnQHSarVotdor3oDUWho/5auZQ+0Zj+s1fvx4hg0bxn/+858mx4OCgujTp0+Ln1feE5dnEC23ZcsWevXqxe7duy3HqqqqmDBhAjt27GDatGltnqFTp0689NJLjB49Gp1OR1JSEnq9nr59+7Z57Su59957+eKLL1ixYgVjxoyR6wMJm9VhZ4BE++Xv7096ejq33nqr5ZiTkxMPPPCAiqmEaGrTpk3cf//9TY65uroyb9481q9fb5UM7u7uPPvss0RGRjJ16lQ++eQTVq5caZXaVyP7gUR7oFE66IUbbOFTtq3ksIUM10NRFO677z4yMzNZsGABb7zxBsOGDbvhS+7byutgCzlsIYMtsIXXwRYytEWO4uJiAgMDGTVqlOwHEjapwy6Bifbr1VdfZefOnaxfv56QkBB+97vfWTYOCyHaB7k+kLB10gAJm3Lo0CHi4+N58MEHCQkJAWDUqFGMGjVK5WRCiOsl+4GELZM9QMJmVFRU8Mgjj+Dv789LL72kdhwhRCuQ/UDCVkkDJGyCoig8+OCDVFdXk5CQ0OJr/QghbIvcL0zYKmmAhE149dVX2bVrF3FxcQwcOFDtOEKIVnTrrbfy8ssvy/WBhE2RBkiorrl9P0KIjiU0NFTuFyZsijRA7ZDZbFY7Qqtp3PczatQo/v73v6sdRwjRhl566SX8/PxkP5CwCdIAAePGjaOoqEjtGNTX1+Pn53fVXwwGg4Ft27ZZMVXbadz3YzKZ2s2+n4aGBsaNG0dERISqOfbu3Stnxol2x8HBgYSEBNkPJGyC3TdAxcXFmM1mBg8erHYUjh49ik6nw9XV9YpjDAYDnp6eVkzVdhr3/axYscLqN25sqT179qDX6zl27BgFBQWqZDh16hRxcXHyx0O0S7IfSNgKu2+AMjMz8fPzAy7+cQsODubEiRPExMQwc+ZMwsLCWL16NQA5OTlMmTLF8tiysjLGjx/PuXPnWlS7srKSpUuXMmPGDBYuXMj27dvx9fXlwIEDzJo1i9mzZzNjxgy2b98OwLx58zAajTz//PPU19ezf//+JuPa08xQe933s3HjRoKCgggODsZgMFi9fk1NDX/5y1+IiYmxem0hWovsBxI2QemgBg8erAwePPhXxy1btkxJSEhQPvzwQ2Xu3LlKeXm5Eh4eruzcudMyZu7cucrhw4eV2tpaxcfHR2loaFAURVEef/xx5b333mtxjvvvv19JSEhQFEVRioqKFE9PT2XDhg3K3LlzldOnTyuKoijHjx9XfvOb3yiKoig7duxQHnjgAUVRFKW6uvqK41r6WlhLRUWF4u/vr0yZMsXyWlrDjb4OeXl5ysiRI5XKykolOztb8fX1VX766Ser5njiiSeUf//730pJSYni5+fXoue40QwdiS28DraQQY0cDQ0Nyu9+9ztl1KhRSmVlpdXqCtHI7q8EnZmZSVlZGfv27WPnzp2UlpaSkZFBdXU169atAy7O1FRXV+Pk5IROp6OoqIjy8nIKCgqIi4trUd3c3Fzy8/NJTEwEYNCgQXTp0oUxY8bQt29fkpOTqa2tpaioiN69ewNw5MgRfHx8AOjWrRsLFixodpwtU9rhvp9GmzZtYvz48bi6ujJixAh0Oh3JycksWrTIKvWTkpJwdHQkNDRUbg3SSoxGIyaTyXIfLDU0/n+pZobGHC4uLlar17gfKDAwkAcffFDuFyaszq4boJqaGvLy8ggKCqJfv36kpKQwbNiwnbQ3AAAgAElEQVQwRo8eTUJCAgB1dXUcO3bMskzm4eFBfn4+b775JsuXL2/xf7CFhYW4u7tbHl9QUICjoyObN2+muLiY8PBwdDodiYmJ9O/fH4CsrCwiIyMBiIuLo6SkpNlxtmzlypXs3LkTg8HQbvb9wMX3SlpaGs7OzkyaNAlFUTCZTCQlJREeHm6VRi4tLY3z588TGhpKXV2d5d9vv/02t9xyS5vX74g8PDzIzc1VNYM1m46rcXFxwcPDw6o1G/cDPfDAA3K/MGF1dt0AHTlyBE9PTxYvXkxeXh7z589nzZo1ZGdnU15ejlarJT4+nurq6iYN0OrVqwkICMDb27vFtfv3709BQQG1tbVoNBpiY2Px8fEhIyODqKgofH19ycnJITU1lZiYGMxmMzk5OZaaGRkZLF68+LJxtuzQoUPExcW1u30/AFu2bKFXr17s3r3bcqyqqooJEyawY8cOpk2b1uYZPvzwQ8u/T58+zbRp00hNTW3zuh3Z4cOH1Y5g90JDQ/nyyy/lfmHC6uy6AcrKyrIsKbm7u+Pm5sapU6cIDw9nzpw5dO3aFX9/f5YtW2Z5zNChQzEajTf8SWXkyJEEBgYyffp03Nzc6Ny5M15eXgwfPpzY2FgMBgM9evRAp9Ph7OyM2Wxm0KBBREVFsWHDBiIjI5sdZ6sqKyvb9fV+Nm3axP3339/kmKurK/PmzWP9+vVWaYB+SZYLREfx0ksvceTIEaKjo9m3b99Vz4QVorVoFKVjnkvbuJ5+6tSpVn3e6OhoJk+eTHBwsKo5rofaGRRF4U9/+hOZmZl8/PHHqi19qf062FIOW8ggxKWKi4sJDAxk1KhRsh9IWIXdnwZ/rQ4dOkRISAhDhgy55uZHXNS476c9Xe9HCGFdcn0gYW12vQR2PcaOHUt6erraMdqd9rzvRwhhXbIfSFiTzACJNtPe9/0IIaxP7hcmrEUaINEm2vP1foQQ6pH7hQlrkQZItIlVq1bJvh8hRIvIfiBhDdIAiVZ36NAhVqxYwaJFi2TfjxCiReR+YaKtSQMkWlXjvh9/f39eeuklteMIIdox2Q8k2pI0QKLVXLrvZ+3atbLvRwhxQ2Q/kGhL0gCJViPX+xFCtDbZDyTaijRAolU0Xu9H9v0IIVqb7AcSbUEaIHHDKioqZN+PEKJNyX4g0dqkARI3RPb9CCGsQfYDidbWYW+FYTQaMZlMlps+qqWkpARA1RwlJSW4uLi0yXO/+uqr7Nq1C4PBYPP7fuQ90TRDW70nhGgrjfuBHnjgAVatWsXSpUutWv/MmTP885//5ODBg1RUVKDT6QgLCyM8PJxOndpmPkGv19OlSxeOHDnS7PdTU1OJiYlh9uzZ/O1vf2uTDB2VzACJFjt06BDx8fHtZt+Ph4eHTfzRd3FxUT2Hi4sLHh4eqmYQoiXU2g/03XffERYWxpYtW+jWrRujR4/m7NmzvPrqqzz77LNWy/FL/fv3JzAwEC8vL9UytFcapYPOIzZ+uj516pTd52iLDBUVFUycOJE+ffrw0UcfydKXEMJqLly4wNSpU/nhhx/Yt28frq6ulJaWAtC3b982qXn//ffz5ZdfMmfOHEvDc+LECWbNmkVdXR0fffQRt99+e6vX/bUZINFyMgMkrpvs+xFCqOmX+4F27NjBxIkTiY2NbZN6paWlfPHFFzg7O/P4449bjuv1emJjY3nvvfcYPHgwZrOZNWvWMGnSJEaMGMHvf/97du3aZRn/2muvodfref/99wkPD8fHx4fZs2dTUlJCbGwso0aN4p577mHbtm2XZUhLS+Puu+9m9OjRvPjii1y4cAG4uASm1+sty1+NNT744AOio6Px9fXld7/7HZ9//rnluaqrq3nqqacYPXo0AQEBPPnkk1RWVrbJa2fLpAES161x349c70cIoZbG/UDbt2/nvvvu4/jx4+zatYva2tpWr5WTkwPAkCFDcHZ2bvK94OBgRo8ejaOjI8uWLWP16tXU1NQwatQoioqKePTRR9mxYwcAGo0GgBUrVlBZWUnPnj3JysoiNDSUbdu2MXToUL7//nueffZZTCaTpUZ9fT3Lli3j9ttvR1EUkpKSSEhIaDZrY424uDiKioro06cPRUVFPPfcc5YxTz/9NOnp6eh0Om6//Xa2bNnCo48+2novWDshDZC4LgcPHmxX+36EEB1TaWkp69ato6KigoqKCuDiktSVGoMb0Xja/dX27n3//fd88MEH9OzZk48++giDwcCaNWsALruAo4+PDx9++CErV64EwGQykZycTHJyMoMHD+b8+fMUFxdbxiuKwsqVKzEYDCQkJKAoChs3brxq5qFDh5Kens6///1vunbtyvfff8+PP/5IcXExu3fvxs/Pj/T0dDZt2kRwcDBffvklubm5LXp92itpgMQ1k+v9CCFsRVRUFB999NFlx1NTU1u9Vrdu3YCLS0dXkp2djaIojBs3jl69egFw11130bt3b4qLizEajZaxAQEBwP/2K/Xr188ym37LLbcAUFdXZxmv0Wj4zW9+A4C/vz89evTg3LlzV53tGjt2LADdu3dv8pwnT54E4JtvvkGv16PX6y1LbkePHr2m16Oj6LCnwYvW1bjv5+effyYhIUH2/QghVLVx40YiIiLYuHEjZrPZcvzzzz9n//79jB8/vtVqDRs2DIDCwkLOnz/fZBnsoYcewtnZGW9v76s+R+PSlEajoUuXLgCWU+cvfb7GcZdSFAWz2Wz5vdupUyc0Gs0Vfw9rNJomz9k4TlEUGhoaABgwYMBlZ47ddNNNV/0ZOhqZARLXpHHfz8svv8zAgQPVjiOEsHPOzs68++67LFu2jJ49e1qO19XVkZiY2Kq1Bg4cyKhRo6itreWVV16xHD906BD79u3j448/5o477gAubhMoLy8HLjZjP/zwA4MHD77h5mLnzp3AxZmmn376CZ1Oh6PjlecwmmukANzc3ADo2bMnq1ev5vXXX2fkyJGMGDECHx+fG8rY3sgMkPhVl+77uffee9WOI4QQwMU/8s8++yxeXl48/vjjFBYWArBnzx7Kysro06dPq9VatmwZc+bMISkpic8++4w+ffqQmZmJoigsWbIELy8vfv/737N161amTp2Kh4cHmZmZdOrUiccee8zyPC258kzXrl157rnn+OCDDzhx4gQajYa5c+decfzVatx+++3cddddHDp0iClTptCjRw++/fZbBgwYwP3333/d2dozmQESVyX7foQQtm7GjBls3brVMgvz/fff849//KNVawwdOpSUlBSCg4OpqKjg2LFj6PV64uLiWLhwIQCxsbE88sgjdO/enczMTNzc3Fi9ejVBQUGW5/nlzIxGo2n22KX/HjhwIC+++KLlKvILFy5k/vz5V3yO5mZ/Lj22cuVKQkJC+Omnn8jPz+fuu+/mnXfewcnJqQWvTPslF0K0gxwtzaAoCvfddx9ZWVns3btXlr6EEDatqqqKhQsX8u9//xtfX1++/vpr2a8orkhmgMQVyb4fIUR74urqyocffshf/vIX8vLy2LBhg9qRhA2TBugqGhoaGDduHBEREarmiImJ4Z133rFqzS+++EL2/Qgh2p1OnTqxYsUKXn/99V+9Vo6wb9IAXcWePXvQ6/UcO3aMgoICq9fPz89nwYIFlt3/1jRs2DDmz58v+36EEO3SwoULW30fkOhYpAG6io0bNxIUFERwcDAGg0GV+mFhYUyePNnqtXv16kV8fLysnwsh2i1PT0+1IwgbJg3QFZw8eZLs7GyCg4MJCQlh69atlsutW8tzzz3H73//e6vWFEIIIeyBXAfoCjZt2sT48eNxdXVlxIgR6HQ6kpOTWbRokdrRhBBCtJGAgAByc3PRarWqZWi8bYaaGRpzeHh4cPjwYVVztBWZAWpGTU0NaWlpfPPNN0yaNImJEydy7tw5kpKSuHDhgtrxhBBCtJHc3Nwmd2JXg8lkUj1DY46OfINUmQFqxpYtW+jVqxe7d++2HKuqqmLChAns2LGDadOmqZhOCCFEW9FqtWi12nZ57ba2ytFRyQxQMzZt2nTZJcFdXV2ZN28e69evVymVEEIIIVqLXAnaDnLYQgYhhGgPbOH3pS1ksKUcbUVmgIQQQghhd6QBEkIIIYTdkQZICCGEEHZHGiAhhBBC2B1pgIQQQghhd6QBEkIIIYTdkQZICCGEsANms1ntCDZFGiAhhBCiBcaNG0dRUZHaMaivr8fPz4+qqqorjjEYDGzbts2KqWyfNEBCCCHEdSouLsZsNjN48GC1o3D06FF0Oh2urq5XHGMwGPD09LRiKtsnDZAQQghxnTIzM/Hz8wNgz549BAcHc+LECWJiYpg5cyZhYWGsXr0agJycHKZMmWJ5bFlZGePHj+fcuXMtql1ZWcnSpUuZMWMGCxcuZPv27fj6+nLgwAFmzZrF7NmzmTFjBtu3bwdg3rx5GI1Gnn/+eerr69m/f3+TcfY6MyQ3QxVCCCGuU1ZWFn5+fqSkpJCenk5SUhJPPPEEM2fOJDY2FrjYeHz99deMHDmSs2fPcuHCBRwcHIiPjyciIoJbbrmlRbWXLFnC2LFjWblyJd999x2TJ0/mmWeeISEhgVWrVjFgwABycnKIjIwkODiYOXPm4OTkRGJiIiaTibVr1142burUqa358rQLHbYBMhqNmEwm1e9mW1JSAqh7V92SkhJcXFxUq28rAgICyM3NRavVqprDaDQCqJrDaDTi4eHB4cOHVcsgRHuWmZlJWVkZ+/btY+fOnZSWlpKRkUF1dTXr1q0DLs7UVFdX4+TkhE6no6ioiPLycgoKCoiLi2tR3dzcXPLz80lMTARg0KBBdOnShTFjxtC3b1+Sk5Opra2lqKiI3r17A3DkyBF8fHwA6NatGwsWLGh2nL3psA2QEL+Um5uLyWRSvQEymUyAug2QyWQiNzdXtfpCtGc1NTXk5eURFBREv379SElJYdiwYYwePZqEhAQA6urqOHbsmGWZzMPDg/z8fN58802WL1+ORqNpUe3CwkLc3d0tjy8oKMDR0ZHNmzdTXFxMeHg4Op2OxMRE+vfvD1ycrYqMjAQgLi6OkpKSZsfZmw7bAGm1WrRarep3sbWFu+mqPQtmK+Q9cXkGIcT1O3LkCJ6enixevJi8vDzmz5/PmjVryM7Opry8HK1WS3x8PNXV1U0aoNWrVxMQEIC3t3eLa/fv35+CggJqa2vRaDTExsbi4+NDRkYGUVFR+Pr6kpOTQ2pqKjExMZjNZnJyciw1MzIyWLx48WXj7FGHbYCEEEKItpCVlWVZUnJ3d8fNzY1Tp04RHh7OnDlz6Nq1K/7+/ixbtszymKFDh2I0Glm6dOkN1R45ciSBgYFMnz4dNzc3OnfujJeXF8OHDyc2NhaDwUCPHj3Q6XQ4OztjNpsZNGgQUVFRbNiwgcjIyGbH2SONoiiK2iHagi18yraVHLaQwRbYyutgCzlsIYMQtqit/tuIjo5m8uTJBAcHq5bhetlKjrYip8ELIYQQbeTQoUOEhIQwZMiQa2p+hPXIEpgQQgjRRsaOHUt6erraMUQzZAZICCGEEHZHGiAhhBBC2B1pgIQQQghhd6QBEkIIIYTdkQZICCGEEHZHGiAhOgCz2ax2BCGEaFekAWrG6dOn8fLyIjQ0lHvvvZfp06cza9YsvvnmG6vmSE9PJyQkhNDQUO677z6OHj1q1fr2bNy4cRQVFakdg/r6evz8/KiqqrriGIPBwLZt26yYSggh2j+5DtAVODs7k5qaavl6x44dxMTEsGvXLqvULyws5JVXXiEtLY2bb76Z/fv388gjj7Bv3z6r1LdnxcXFmM1mBg8erHYUjh49ik6nw9XV9YpjDAYDa9eutWIqIYRo/2QG6BoZjUb69OljtXpOTk68+OKL3HzzzQB4e3vzww8/0NDQYLUM9iozM9NyA8M9e/YQHBzMiRMniImJYebMmYSFhbF69WoAcnJymDJliuWxZWVljB8/nnPnzrWodmVlJUuXLmXGjBksXLiQ7du34+vry4EDB5g1axazZ89mxowZbN++HYB58+ZhNBp5/vnnqa+vZ//+/U3GycyQEEI0T2aAruD8+fOEhoaiKAqVlZWcO3eONWvWWK2+TqdDp9NZvo6NjWXSpEk4Osr/ZW0tKysLPz8/UlJSSE9PJykpiSeeeIKZM2cSGxsLXGw8vv76a0aOHMnZs2e5cOECDg4OxMfHExERwS233NKi2kuWLGHs2LGsXLmS7777jsmTJ/PMM8+QkJDAqlWrGDBgADk5OURGRhIcHMycOXNwcnIiMTERk8nE2rVrLxs3derU1nx5hBCiQ5C/plfwyyWwzMxMIiIiSE9Pb9KYtLWamhqefPJJysrKZJnDSjIzMykrK2Pfvn3s3LmT0tJSMjIyqK6uZt26dcDFmZrq6mqcnJzQ6XQUFRVRXl5OQUEBcXFxLaqbm5tLfn4+iYmJAAwaNIguXbowZswY+vbtS3JyMrW1tRQVFdG7d28Ajhw5Yrkrdbdu3ViwYEGz40TzAgICyM3NRavVqpbBaDQCqJqhMYeHhweHDx9WNYfajEYjJpPJciNQNZSUlAComqExh4uLi6oZ2pI0QNfIz8+PIUOGkJ2dbbUG6MyZM0RFRTF06FDeffddnJycrFLXntXU1JCXl0dQUBD9+vUjJSWFYcOGMXr0aBISEgCoq6vj2LFjlmUyDw8P8vPzefPNN1m+fDkajaZFtQsLC3F3d7c8vqCgAEdHRzZv3kxxcTHh4eHodDoSExPp378/cHG2KjIyEoC4uDhKSkqaHSeal5ubi8lkUrX5MJlMgPoNkMlkIjc3V9UMQliTNEBXoChKk68LCwspKirCy8vLKvUrKiqYO3cuYWFhPPTQQ1apKS7OqHh6erJ48WLy8vKYP38+a9asITs7m/LycrRaLfHx8VRXVzdpgFavXk1AQADe3t4trt2/f38KCgqora1Fo9EQGxuLj48PGRkZREVF4evrS05ODqmpqcTExGA2m8nJybHUzMjIYPHixZeNE1em1WrRarWcOnVKtQyNn/LVzHBpDnsn74nLc3RU0gBdQV1dHaGhocDFZkhRFF544QWrnRn0/vvvU1payt69e9mzZw8AGo0Gg8FAz549rZLBHmVlZVmWlNzd3XFzc+PUqVOEh4czZ84cunbtir+/P8uWLbM8ZujQoRiNRpYuXXpDtUeOHElgYCDTp0/Hzc2Nzp074+XlxfDhw4mNjcVgMNCjRw90Oh3Ozs6YzWYGDRpEVFQUGzZsIDIystlxQgghLqdRfjnV0UHYWgctnybU11avQ3R0NJMnTyY4OFjVHNfDFjLYAlt4HWwhgy3lUJstvA62kMGWcrQVOQ1eiBY6dOgQISEhDBky5JqbHyGEELZBlsCEaKGxY8eSnp6udgwhhBAtIDNAQgghhLA70gAJIYQQwu5IAySEEEIIuyMNkBBCCCHsjjRAQgjRAZnNZrUjCGHTpAESQohrMG7cOIqKitSOQX19PX5+flRVVV1xjMFgYNu2bVZMJS7V0NDAuHHjiIiIUKX+yy+/zIQJEwgNDSU0NPSGL9LaUclp8EII8SuKi4sxm81WuxL81Rw9ehSdToerq+sVxxgMBrl5sor27NmDXq/n2LFjFBQU4ObmZtX6WVlZrFq1Cl9fX6vWbW9kBkgIIX5FZmam5d5ve/bsITg4mBMnThATE8PMmTMJCwtj9erVAOTk5DBlyhTLY8vKyhg/fjznzp1rUe3KykqWLl3KjBkzWLhwIdu3b8fX15cDBw4wa9YsZs+ezYwZM9i+fTsA8+bNw2g08vzzz1NfX8/+/fubjJOZoba3ceNGgoKCCA4OxmAwWLV2XV0dx48fZ926dYSEhBAdHc3Zs2etmqG9kAZICCF+RVZWFn5+fqSkpPDuu++SlJTEK6+8wj333MOHH37I5s2bOXz4MF9//TW33347Z8+e5cKFCwDEx8cTERHBLbfc0qLaS5YswcvLi3//+98sX76cpKQkPD09SUhIYNWqVWzatIm///3vrFixAoA5c+YwevRoNm7cSF1dHWvXrm0yLi4urtVeF3G5kydPkp2dTXBwMCEhIWzdupWKigqr1S8rK+POO+/kscceIz09HR8fHxYvXmy1+u1Jh10CMxqNmEwm1e9mW1JSAqh7V92SkhJcXFxUq28r5D3RNIO8J65dZmYmZWVl7Nu3j507d1JaWkpGRgbV1dWsW7cOuDhTU11djZOTEzqdjqKiIsrLyykoKGhx05Gbm0t+fj6JiYkADBo0iC5dujBmzBj69u1LcnIytbW1FBUV0bt3bwCOHDliuaFvt27dWLBgQbPjRNvYtGkT48ePx9XVlREjRqDT6UhOTmbRokVWqT9w4EDeeusty9fh4eGsWbOG06dPo9PprJKhveiwDZAQQrSGmpoa8vLyCAoKol+/fqSkpDBs2DBGjx5NQkICcHHZ4dixY5ZlMg8PD/Lz83nzzTdZvnw5Go2mRbULCwtxd3e3PL6goABHR0c2b95McXEx4eHh6HQ6EhMT6d+/P3BxtioyMhKAuLg4SkpKmh0nWl9NTQ1paWk4OzszadIkFEXBZDKRlJREeHg4Dg4ObZ7hv//9LydOnCAkJMRyTFEUHB3lz/0vddhXRKvVotVqVb+LrS3cTVftGQ9bIe+JyzOIX3fkyBE8PT1ZvHgxeXl5zJ8/nzVr1pCdnU15eTlarZb4+Hiqq6ubNECrV68mICAAb2/vFtfu378/BQUF1NbWotFoiI2NxcfHh4yMDKKiovD19SUnJ4fU1FRiYmIwm83k5ORYamZkZLB48eLLxom2sWXLFnr16sXu3bstx6qqqpgwYQI7duxg2rRpbZ6hU6dOvPTSS4wePRqdTkdSUhJ6vZ6+ffu2ee32psM2QEII0RqysrIsS0ru7u64ublx6tQpwsPDmTNnDl27dsXf359ly5ZZHjN06FCMRuMNn348cuRIAgMDmT59Om5ubnTu3BkvLy+GDx9ObGwsBoOBHj16oNPpcHZ2xmw2M2jQIKKiotiwYQORkZHNjhNtY9OmTdx///1Njrm6ujJv3jzWr19vlQbI3d2dZ599lsjISMxmM/369WPlypVtXrc90iiKoqgdoi3YwqdsW8lhCxlsga28DraQwxYy2IK2eh2io6OZPHkywcHBqmW4XraSQ2228DrYQgZbytFW5CwwIYRoJYcOHSIkJIQhQ4ZcU/MjhFCPLIEJIUQrGTt2LOnp6WrHEEJcA5kBEkIIIYTdkQZICCGEEHZHGiAhhBBC2B1pgIQQQghhd6QBEkIIIYTdkQZICCGEEHZHToNvhtlsZv369Xz00UeYzWbq6+u55557iI6OxsnJyWo5NmzYwKZNm9BoNAwaNIgXXniBXr16Wa2++J/Tp08TFBTEsGHDUBSFCxcu0K1bN5588kn8/f2tliM9PZ1169bRqVMnnJ2deeaZZ27oVgtCCGGvZAaoGX/96185cuQI69evJzU1lZSUFAoLC3nuueesluHYsWO88847JCcns3XrVgYNGsQ///lPq9W3NrPZTFVVldoxrsrZ2ZnU1FTS0tLYunUrCxcutOp9lQoLC3nllVdYt24dqampREZG8sgjj1itvrXV19fz888/qx1D2JDa2lrOnz+vdgzRQcgM0C+UlJTw0UcfcfDgQbp16wZc/MO3fPlyMjMzrZZj+PDh7N69GwcHB2praykrK2PgwIFWq29tp06d4o477sDb25sRI0YQEBBASEgIPXr0UDvaFRmNRvr06WO1ek5OTrz44ovcfPPNAHh7e/PDDz/Q0NDQIe/0fODAAf70pz8xcuRIvL29GTNmDNOnT7f8dynsz4YNG/jrX/+Kt7c33t7e3HXXXUyZMkXubyZapOP91rxBx48fx93d/bJfsjfffDOBgYFWzeLg4MDevXt59tln6dKlC48++qhV61tbeXk5n376KZ9++ikAffr0wcvLy2YaovPnzxMaGoqiKFRWVnLu3DnWrFljtfo6nQ6dTmf5OjY2lkmTJnXI5qdRWVkZe/fuZe/evcDFu6MPHz5cGiI7dvr0aU6fPs2uXbt49dVXGThwoOU9IQ2RuB4d9zdnC3Xq1Amz2ax2DIvAwEACAwP58MMPeeCBByx/CNqa2WzmT3/6E506WWeVtK6u7rLXvaysjLKysis2RLNmzbLqnqzGJbBGmZmZREREkJ6e3qQxaWs1NTU8+eSTlJWVsXbtWqvVraqq4oEHHqBz585WqVdRUXHZsbNnz3L27NkrNkQzZ868rves0WjEZDJZbvqohpKSEgBVMzTmcHFxua7HnD59mkcffdRq/x2WlpZedqykpISSkpJmG6Jx48YREhKCRqO55hrynmia43rfE+2J7AH6hREjRpCfn3/Z3oPS0lIefPBB6urqrJLju+++IyMjw/J1WFgYZ86cafaPglCHn58fQ4YMITs722o1z5w5w+zZs+ncuTPvvvsu3bt3t1ptW3c9f+REx6fRaOQ9Ia5KZoB+oW/fvkyfPp2nn36aF198ke7du1NdXc2yZcvo1auX1T7plJWV8dhjj5Gens5NN93Eli1b8PDwoGfPnlap36lTJzZt2mSVWgAFBQWkpqY2mQWytSUwRVGafF1YWEhRURFeXl5WqV9RUcHcuXMJCwvjoYceskrNS7m6uvLhhx9ard7HH3/M9u3bmxy7dMbnzjvvZNq0aTe0BKbVatFqtZw6deoG07Zc46d8NTNcmuN66HQ6UlJSWj/MFSQmJvLJJ580OdY44zNixAjuuusuJk+efENLYPKeuDxHRyUNUDP+9re/8cYbb3Dffffh6OhIXV0dgYGBVj3jZvTo0URFRTFv3jwcHR3p06cPb7zxhtXqq6FXr142vQm6rq6O0NBQ4GIzpCgKL7zwAoMHD7ZK/ffff5/S0lL27t3Lnj17gIufcg0Gg9UaY2vr06ePZRN0azQ8ov1r7YZH2C+N8suPtUlAKo4AACAASURBVB2ErXXQ8mni6sxmMyaTCVdX1zarYSuvgy3ksIUMv6a+vp76+vo2bXhs4XWwhQy2lONqamtrURSlTRseW3gdbCGDLeVoKzIDJGxCp06d2rT5Ee1P586drbbhWrQPXbp0UTuC6EBkE7QQQggh7I40QEIIIYSwO9IACSGEEMLuSAMkhBBCCLsjDZAQQggh7I40QEIIIYSwO9IACSGEEMLuyHWAhBCiBU6fPk1QUBDDhg1DURQuXLhAt27dePLJJ/H397dKhrS0NAwGg+WeV5WVlZSWlnLgwAF69epllQzif+Q90b5IAySEEC3k7OxMamqq5esdO3YQExPDrl27rFL/3nvv5d577wWgoaGBuXPnEhkZKX/oVCTvifZDlsCEEKKVGI1G+vTpo0rtt99+m5tvvpmZM2eqUl80T94TtktmgIQQooXOnz9PaGgoiqJQWVnJuXPnWLNmjdVzGI1GDAYDaWlpVq8tmpL3RPvRYRsgo9GIyWSy3MxNLSUlJQCq5igpKcHFxUW1+rZC3hNNM8h74sb9crkjMzOTiIgI0tPT0el0VsvxwQcfMGnSJAYMGGC1mqJ58p5oP2QJTAghWomfnx9DhgwhOzvbqnW3b99OWFiYVWuKayPvCdvVYWeAtFotWq2WU6dOqZqj8VO+mjnUnvGwFfKeuDyDuDGKojT5urCwkKKiIry8vKyWobKyku+++w4/Pz+r1RRXJu+J9qPDNkBCCNHW6urqCA0NBS7+4VMUhRdeeIHBgwdbLUNRURF9+vTBwcHBajXFlcl7ov2QBkgIIVpAp9Nx7NgxtWMwYsQIq51iLa5O3hPti+wBEuL/a+/+g6Ks8ziAv/kZsggtGGhwEkysimJiMJdcidrqKUqGZEWeaRKImIxJRiAIKKeGjRYXOGoYmJRO6EaHWqnjZNnYICGeguLxK9YMvNxSVnSB3fvDgQnFXwjP8yzP+/VX7Cx+3oMkb7772echIiLZYQEiIiIi2WEBIiIiItlhASIiIiLZYQEiIiIi2WEBIiIiItlhASIiIiLZ4XWA7qCtrQ0TJkzAiBEjsHXrVtFyHDx4EAkJCSgtLRUtg9ydP38ekydPxrBhw2AymdDe3g57e3skJCRg7NixguVYt24dvv76azz88MMAAC8vL2zYsEGw+URE/QUL0B0cOHAAw4cPx+nTp1FTUwNvb2/BM9TV1SEzM/OWy6uT8G6+yeH+/fuRmJgo6AXHTpw4gY0bN2LMmDGCzSQi6o/4EtgdfPrpp5g8eTJCQkKQl5cn+PyWlha8/fbbSExMFHw23Z1Op4Orq6tg8wwGAyoqKrBt2zbMnDkTcXFxuHDhgmDziYj6E54A3cZ///tfnDx5Ejk5Oairq8Orr76K+Ph4ODk5CZYhNTUVERERUKlUgs2k27t27RrCwsJgMplw+fJlXLx4ETk5OYLNb2pqwrhx4xAfHw9PT0/k5uYiNja2y6kUERHdGxag29i5cyeCg4MxcOBA+Pn5wd3dHbt27UJ0dLQg8wsKCmBtbY2wsDBotVpBZtKd3fwSWFlZGaKiolBUVAR3d/c+n+/h4YHNmzd3fhwZGYmcnBycP39ekPn9kU6ng16vx2OPPSZaho7/v8XM0JFDoVCImkEK+D3RNUd//p7gS2DdaGlpwRdffIGffvoJzz77LCZNmoSLFy+ioKAA7e3tgmT44osv8J///AdhYWFYuHBh5+nDxYsXBZlPd+fv7w8vLy+cPHlSkHlnz55FUVFRl8dMJhOsrfl7TE+pVCrR/4FXKBSiZ+jIwdNmkhP+y9mNL7/8Es7Ozvjmm286H7ty5QomTpyI/fv3Y8aMGX2e4fPPP+/87/Pnz2PGjBl8qUNkNy+i19bWor6+Hr6+voLMt7S0xJo1axAQEAB3d3cUFBRg+PDhcHNzE2R+f1RSUiJ2BJIYpVIJpVKJuro60TJ0nPyImeHPOforFqBu7Ny5E6+99lqXxwYOHIi5c+ciPz9fkAJ0MwsLC8FnUlcGgwFhYWEAbpQhk8mE1atXw9PTU5D5Pj4+SE5ORkxMDIxGIwYPHsy3wBMR9ZCFqZ++v1pqDZq/TYhPKl8HKeSQQgYiKZLC/xtSyCClHH2FO0BEREQkOyxAREREJDssQERERCQ7LEBEREQkOyxAREREJDssQERERCQ7LEBEREQkOyxAREREJDu8EjQREVEvMBqNyM/PR3FxMYxGI1pbWzFhwgTExcXB1tZWsByffPIJCgoKMGDAAHh7eyM1NRWOjo6CzTcXPAEiIiLqBampqSgvL0d+fj40Gg0KCwtRW1uLlJQUwTIcO3YMubm52L59OzQaDcaPH4/k5GTB5psTngARERE9IK1Wi+LiYhw9ehT29vYAADs7O6xatQplZWWC5aioqMC4cePg6uoKAJgyZQqSk5PR1tYGa2v+yP8zngARERE9oIqKCvj4+HSWnw4uLi5Qq9WC5Rg9ejR+/PFHXLhwAQCwe/dutLW14ffffxcsg7not3VQp9NBr9d33sxNLFqtFgBEzaHVaqFQKESbLxX8nuiagd8TRL3H0tISRqNR7BgICAjA4sWLsXjxYlhaWiI8PBxOTk6wsbERO5rk8ASIZEOlUknih75CoRA9h0KhgEqlEjUDUX/i5+eH6upqXL16tcvjjY2NWLhwIQwGgyA59Ho9AgMDsWfPHhQWFmLKlCkAACcnJ0Hmm5N+ewKkVCqhVCpRV1cnao6O3/LFzCH2iYdUlJSUiB2BiPopNzc3hIaGIikpCRkZGXBwcEBzczPS09Ph7Ows2LvAmpqaMH/+fOzduxcODg7IycnBjBkzBJltbvptASIiIhJSWloasrOzERERAWtraxgMBqjVaixZskSwDF5eXoiOjsaLL74Ik8mEJ598EitXrhRsvjmxMJlMJrFD9AUpnLxIJYcUMhARmQMp/HsphQxSytFXuANEREREssMCRERERLLDAkRERESywwJEREREssMCRERERLLDAkRERESywwJEREREssMLIXbj/PnzmDx5MoYNGwaTyYT29nbY29sjISEBY8eOFSzHunXr8PXXX+Phhx8GcOMCVxs2bBBsPhERUX/FAnQbdnZ20Gg0nR/v378fiYmJ+PrrrwXLcOLECWzcuBFjxowRbCYREZEcsADdI51OB1dXV8HmGQwGVFRUYNu2baivr4enpycSExMxZMgQwTIQERH1VyxAt3Ht2jWEhYXBZDLh8uXLuHjxInJycgSb39TUhHHjxiE+Ph6enp7Izc1FbGxsl1MpIiIi6hkWoNu4+SWwsrIyREVFoaioCO7u7n0+38PDA5s3b+78ODIyEjk5OTh//rwg84mI5Ein00Gv13feB0sMWq0WAETN0JFDoVCImqEv8V1g98jf3x9eXl44efKkIPPOnj2LoqKiLo+ZTCZYW7OzEhH1FZVKJfoPfYVCIXqGjhwqlUrsGH2GP01vw2Qydfm4trYW9fX18PX1FWS+paUl1qxZg4CAALi7u6OgoADDhw+Hm5ubIPOJiOSopKRE7AgkEBag2zAYDAgLCwNwowyZTCasXr0anp6egsz38fFBcnIyYmJiYDQaMXjwYL4FnoiIqJdYmG4+6ugnOl47raurk32OnmT47bffsG7dOqxbtw5WVlZ9E4yIqA9VVlZixIgRYscgieIOEHXr3Llz2L59OxITE8WOQkR03/Ly8rB06VKxY5CEsQBRt5566iksX74cW7Zs4VvvichsGI1GJCQk4I033sArr7widhySMBYguq34+HhMnToV77zzDhoaGsSOQ0R0R1euXMELL7yAzMxM+Pj44B//+IfYkUjCWIDotiwsLLBlyxY4ODggKioK7e3tYkciIurWqVOnMHny5M4T62nTpnF/ke6IBYjuyNHREVlZWSgrK+M+EBFJ0p49e/Dcc8/hxx9/BAAMHjyY+z90VyxAdFd/+9vfuA9ERJLTcXmSBQsWoLa2tvNxtVot6L0byTzxOkB0T+Lj43H8+HG88847CAgIwF/+8hexIxGRjF27dg2vv/46PvvsMxiNxs7HbW1t8frrr4uYjMwFT4DonnAfiIik5JVXXkFBQUGX8gMATz/9NIKDg0VKReaEBYjuGfeBiEgqNm3ahNDQ0Fsef/7550VIQ+aIBYjuC/eBiEgK3Nzc8Nprr8HR0RFOTk4AgOHDhyM6OlrkZGQuWIDovvH6QEQktoaGBrzzzjsICQnBZ599Bl9fX/z973/HQw89JHY0MhO8F5gMcvRFhsuXL2PixIl45JFHsHfvXl5vg4gE097ejunTp+N///sfDh8+jIEDB6KxsRHAjZMhonvRbwuQk5MT9Ho9PDw8RM2h1WoBQNQcWq0WCoUCf/zxR6/+uT/88APCwsIwb948ZGZm9uqf3RcCAwNRVVUFpVIpag6dTgcAoubQ6XRQqVQoKSkRLQNRTyUkJCAvLw8ajQZBQUFixyEzxZfAqMeCgoLMah+oqqoKer1e7BjQ6/Wi59Dr9aiqqhI1A1FPaDQabN68GW+//TbLDz2QfnsCJIWXnqSSoy8zmEwmREREoKysDAcPHpT09YGk8HchlRxSyEB0vxoaGqBWqzF27Fh8+umnsLCwEDsSmTGeANED4fWBiEgI7e3tiIqKwsCBA7FlyxaWH3pgLED0wBwdHfGvf/2L1wcioj6TlJSEsrIyZGVlYeDAgWLHoX6ABYh6RVBQEN5++22z2QciIvPBvR/qCyxA1GuWLVvG6wMRUa/quN7PtGnTsGzZMrHjUD/CAkS9hvtARNSbuPdDfYkFiHoV94GIqLdw74f6EgsQ9TruAxHRg+LeD/U1FiDqE9wHIqKe4t4PCYEFiPoE94GIqCe490NCYQGiPvPnfaCkpCSx4/RrRqNR7AhEvYJ7PyQUFqBuGI1GfPzxxwgPD0dYWBhmzJiB9957DwaDQdAcZ8+exdy5cxEWFoYXXngBp0+fFnR+b+jYB9q8eTO++OILsePcs6effhr19fVix0Brayv8/f1x5cqV2z4nLy8Pe/fuFTAVUd/g3g8JiQWoG6mpqSgvL0d+fj40Gg0KCwtRW1uLlJQUwTJcu3YNkZGRiI6OhkajQWxsLJYvXy7Y/N7UsQ+UkJBgFvtADQ0NMBqN8PT0FDsKTp06BXd39zv+JpyXl4cRI0YImIqo93Xs/UydOpV7PyQIFqCbaLVaFBcXY82aNXBwcAAA2NnZYdWqVZg8ebJgOb7//nt4enrimWeeAQBMmjQJ77//vmDze5O57QOVlZXB398fAHDgwAGEhITgzJkzSExMxOzZsxEeHo6srCwAQGVlJaZNm9b5uU1NTQgODsbFixd7NPvy5ctYtmwZZs2ahfnz52Pfvn0YM2YMjhw5gpdeegkvv/wyZs2ahX379gEA5s6dC51Oh5UrV6K1tRXffvttl+fxZIjMwZ/3frZu3cq9HxKEtdgBpKaiogI+Pj6wt7fv8riLiwvUarVgOerq6uDi4oIVK1bgzJkzcHJywltvvSXY/N7WsQ8UFhaGpKQkvPvuu2JHuq0TJ07A398fhYWFKCoqQkFBAZYvX47Zs2dj7dq1AG4Uj+PHj2P06NG4cOEC2tvbYWVlhfXr1yMqKgqPPPJIj2YvXboUQUFB2LBhA37++WdMnToVK1aswNatW7Fx40Y8+uijqKysRExMDEJCQjBnzhzY2toiNzcXer0eH3300S3Pmz59em9+eYh6Xcfej0aj4d4PCYYF6CaWlpaSWChta2vDd999h+3bt8PPzw+HDh1CdHQ0Dh8+DBsbG7Hj9UjHPtDq1asxbtw4PP/882JH6lZZWRmamppw+PBhfPXVV2hsbERpaSmam5uxbds2ADdOapqbm2Frawt3d3fU19fj0qVLqKmpQWZmZo/mVlVVobq6Grm5uQCAoUOH4qGHHsJTTz0FNzc37Nq1C9evX0d9fT0GDRoEACgvL8cTTzwBALC3t8e8efO6fR51LzAwEFVVVVAqlaJl0Ol0ACBqho4cKpUKJSUlgs7t2PtJTk7m3g8Jii+B3cTPzw/V1dW4evVql8cbGxuxcOFCwRahXV1d4eXlBT8/PwDAs88+i/b2drPYobkTqe8DtbS04Ny5c/D19UVERAQKCwtRU1ODgIAA7Ny5E7t27cInn3yCNWvWYMKECQAAlUqF6upqrFmzBunp6T0+vq+trYWPj0/n59fU1MDa2hq7d+9GUVERJk6ciMjISHh6enaWnhMnTnT+d2Zm5m2fR92rqqqCXq8XNYNerxc9Q0eOqqoqQWf+ee8nPj5e0NlEPAG6iZubG0JDQ5GUlISMjAw4ODigubkZ6enpcHZ2hq2trSA5xo8fj3fffRcVFRXw9fVFSUkJLC0t4eHhIcj8vtKxDzRx4kRERUVh7969sLKyEjtWp/LycowYMQKxsbE4d+4cXn31VeTk5ODkyZO4dOkSlEol1q9fj+bm5s49IZVKhaysLAQGBmLUqFE9nj1kyBDU1NTg+vXrsLCwwNq1a/HEE0+gtLQUixYtwpgxY1BZWQmNRoPExEQYjUZUVlZ2ziwtLUVsbOwtz6PbUyqVUCqVqKurEy3DY489BgCiZvhzDqFw74fExgLUjbS0NGRnZyMiIgLW1tYwGAxQq9VYsmSJYBkGDRqE7OxspKWloaWlBba2tvjwww8FK2B9Scr7QH8+UfHx8YG3tzfq6uoQGRmJOXPmYMCAARg7dizS09M7P+fxxx+HTqd74HeujB49Gmq1GqGhofD29oaNjQ18fX0xcuRIrF27Fnl5eXB0dIS7uzvs7OxgNBoxdOhQLFq0CDt27EBMTEy3zyOSIu79kNgsTCaTSewQfUFqv1XxN8xbvffee8jIyEBeXp4g+0B99XWIi4vD1KlTERISImqO+yGFDFIgha+DFDIInUOj0WDBggVITk7mS18kGu4AkWji4+MlvQ90Nz/88ANmzpwJLy+vey4/RHLH6/2QVLAAkWjM7fpANwsKCkJRURHefPNNsaMQmQXe54ukhAWIRMX7hRHJB+/zRVLCAkSiCwoKwvLly83ufmFEdO80Gg22bNnC+3yRZLAAkSSY+z4QEd0e935IiliASBLMfR+IiLrX3t6O6Oho7v2Q5LAAkWRwH4io90jhlj7Ajb2fn376iXs/JDksQCQp3e0DlZaWcjeIRPf000+jvr5e7BhobW2Fv78/rly5ctvn5OXlYe/evQKm6h73fkjKeCVokpz4+HgcP34cCQkJOHXqFDZt2oRhw4ZJ9uap1P81NDTAaDTC09NT7Cg4deoU3N3d73iakpeXh48++kjAVLfi3g9JHU+ASHIsLCzwwQcfoKWlBSkpKfjll19w9OhRHD58WOxoJFNlZWWd9347cOAAQkJCcObMGSQmJmL27NkIDw9HVlYWAKCyshLTpk3r/NympiYEBwfj4sWLPZp9+fJlLFu2DLNmzcL8+fOxb98+jBkzBkeOHMFLL72El19+GbNmzcK+ffsAAHPnzoVOp8PKlSvR2tqKb7/9tsvzhDgZ4t4PmQOeAJHklJaW4o033ujybjCDwYCPP/4YEydOFDEZydWJEyfg7++PwsJCFBUVoaCgAMuXL8fs2bOxdu1aADeKx/HjxzF69GhcuHAB7e3tsLKywvr16xEVFYVHHnmkR7OXLl2KoKAgbNiwAT///DOmTp2KFStWYOvWrdi4cSMeffRRVFZWIiYmBiEhIZgzZw5sbW2Rm5sLvV6Pjz766JbnTZ8+vTe/PLfo2Pvhfb5IyvptAdLpdNDr9YLf4fhmWq0WgPB3Wr45g0KhEG3+/Tpy5AjOnDlzy+MHDhxAU1MTXF1de/Tn8nuiawZz+p4QW1lZGZqamnD48GF89dVXaGxsRGlpKZqbm7Ft2zYAN05qmpubYWtrC3d3d9TX1+PSpUuoqalBZmZmj+ZWVVWhuroaubm5AIChQ4fioYcewlNPPQU3Nzfs2rUL169fR319PQYNGgQAKC8v77yhr729PebNm9ft8/pKx95PSkoK935I0vptAVKpVKiqqhI7hiR+yCgUCqhUKrFj3LM333wT3t7eiI+PR3V1defjv/76K95//32sWbNGxHQkNy0tLTh37hwmT56MwYMHo7CwEMOGDUNAQAC2bt0K4MYJ5enTpztfJlOpVKiursamTZuwatWqHr8EVFtbCx8fn87Pr6mpgbW1NXbv3o2GhgZERkbC3d0dubm5GDJkCIAbp1UxMTEAgMzMTGi12m6f1xc69n6mTZvGW8SQ5PXbAlRSUiJ2BHoAM2fOhEqlwoIFC3Ds2LHOx/fv34/Vq1fDysrqvv9MpVIJpVIpq7tu3y0D3V15eTlGjBiB2NhYnDt3Dq+++ipycnJw8uRJXLp0CUqlEuvXr0dzc3OXApSVlYXAwECMGjWqx7OHDBmCmpoaXL9+HRYWFli7di2eeOIJlJaWYtGiRRgzZgwqKyuh0WiQmJgIo9GIysrKzpmlpaWIjY295Xl94c97P5s3b+beD0levy1AZP5GjBiBAwcO4LXXXkNhYSGAG7/d7tixA/PmzRM5HcnFiRMnOl9S8vHxgbe3N+rq6hAZGYk5c+ZgwIABGDt2LNLT0zs/5/HHH4dOp3vgdz+NHj0aarUaoaGh8Pb2ho2NDXx9fTFy5EisXbsWeXl5cHR0hLu7O+zs7GA0GjF06FAsWrQIO3bsQExMTLfP6wvc+yFzY2EymUxihyC6E5PJhOTkZHzwwQfQ6/WYPn06iouL7/vPkcLJi1RySCGDFPTV1yEuLg5Tp05FSEiIaBnu14Pk0Gg0WLBgAVJSUviWdzIbfBs8SZ6FhQX++c9/YtOmTfDw8MC3336LsrIysWMR3eKHH37AzJkz4eXldU/lpz/g3g+ZKxYgMhtz587Fnj178Pjjj2PTpk1ixyG6RVBQEIqKimRTBLj3Q+aMBYjMSmBgIA4cOIC6ujo0NzeLHYdI1t5//32UlpbyPl9klrgETWZn0KBB2L9/v9gxiGQvLi4O/v7+vN4PmSUWIDJLPXkbPBH1LhsbG0yaNEnsGEQ9wpfAiIiISHZYgIiIiEh2WICIiIhIdrgDRHQPjEYj8vPzUVxcDKPRiNbWVkyYMAFxcXGwtbUVLMeOHTuwc+dOWFhYYOjQoVi9ejWcnZ0Fm09E1F/wBIjoHqSmpqK8vBz5+fnQaDQoLCxEbW0tUlJSBMtw+vRpfPzxx9i1axf+/e9/Y+jQofjggw8Em09E1J/wBIjoLrRaLYqLi3H06FHY29sDAOzs7LBq1SpBr0g9cuRIfPPNN7CyssL169fR1NQEDw8PweYTEfUnPAEiuouKigr4+Ph0lp8OLi4uUKvVgmaxsrLCwYMHERwcjOPHjyM8PFzQ+URE/QVPgIjuwtLSEkajUewYndRqNdRqNT7//HMsWLAABw8eFDuS2dLpdNDr9Z03AhWDVqsFAFEzdORQKBSiZiASEk+AiO7Cz88P1dXVuHr1apfHGxsbsXDhQhgMBkFy/PzzzygtLe38ODw8HL/88gv++OMPQeYL7dixYwgODsbSpUvx2WefQa/Xix2JiPoRngAR3YWbmxtCQ0ORlJSEjIwMODg4oLm5Genp6XB2dhbsXWBNTU2Ij49HUVERHn74YXz55ZdQqVRwcnISZL7Q9Ho9jhw5giNHjgAABg8ejJEjR2LUqFH461//iueee+6BTyyUSiWUSiXq6up6IXHPdJz8iJnhzzmI5IIFiOgepKWlITs7GxEREbC2tobBYIBarcaSJUsEyxAQEIBFixZh7ty5sLa2hqurK7KzswWbf/36daxfvx6WlsIcHNfX13f5+Ndff8Wvv/6KQ4cOAeibQkRE8mFhMplMYocgEoLUftM2t1OH3377DcHBwbCwsOibUDdpa2vDmTNn7vq8IUOGQKVSYeTIkcjKyrqv+8SZ699Ff85BJBSeABHRPXFxccGpU6cEm3fo0KFu32X36KOPdp78jBs3DtOnT7/lHXpERHfDAkREkjZkyBCMGjWKhYeIehULEBFJkp+fH3bt2oUZM2aw8BBRr2MBIiJJcnV1xYsvvih2DCLqp3gdICIiIpIdFiAiIiKSHRYgIiIikh0WICIiIpIdLkETEfWA0WhEfn4+iouLYTQa0draigkTJiAuLk6w26MAwCeffIKCggIMGDAA3t7eSE1NhaOjo2DzicwVT4CIiHogNTUV5eXlyM/Ph0ajQWFhIWpra5GSkiJYhmPHjiE3Nxfbt2+HRqPB+PHjkZycLNh8InPGEyAiovuk1WpRXFyMo0ePdl6jyM7ODqtWrUJZWZlgOSoqKjBu3Di4uroCAKZMmYLk5GS0tbXB2pr/vBPdCU+AiIjuU0VFBXx8fG65QKOLi0u3t+/oK6NHj8aPP/6ICxcuAAB2796NtrY2/P7774JlIDJX/BWBZEOn00Gv13fe9FEsWq0WAETNodVqeef0B2BpaQmj0Sh2DAQEBGDx4sVYvHgxLC0tER4eDicnJ9jY2IgdjUjyeAJERHSf/Pz8UF1djatXr3Z5vLGxEQsXLoTBYBAkh16vR2BgIPbs2YPCwkJMmTIFAODk5CTIfCJzxhMgkg2lUgmlUom6ujpRc3Sc/IiZQ+xTMHPn5uaG0NBQJCUlISMjAw4ODmhubkZ6ejqcnZ0FexdYU1MT5s+fj71798LBwQE5OTmYMWOGILOJzB0LEBFRD6SlpSE7OxsRERGwtraGwWCAWq3GkiVLBMvg5eWF6OhovPjiizCZTHjyySexcuVKweYTmTMLk8lkEjsEkRCkcPIilRxSyCAFUvg6SCGDlHIQCYU7QERERCQ7LEBEREQkOyxAREREJDssQERERCQ7LEBEREQkOyxAREREJDssQERERCQ7vBAi0T0wGo3Iz89HcXExjEYjWltbMWHCBMTFxQl21V8AOHv2LDIyMtDc3AwrKyukp6dj5MiRgs0nIuoveAJEdA9SU1NRXl6O/Px8aDQaFBYWora2Fikp1d90jAAAAzFJREFUKYJluHbtGiIjIxEdHQ2NRoPY2FgsX75csPlERP0JT4CI7kKr1aK4uBhHjx6Fvb09AMDOzg6rVq1CWVmZYDm+//57eHp64plnngEATJo0CR4eHoLNJyLqT1iAiO6ioqICPj4+neWng4uLC9RqtWA56urq4OLighUrVuDMmTNwcnLCW2+9Jdh8IqL+hAWI6C4sLS1hNBrFjoG2tjZ899132L59O/z8/HDo0CFER0fj8OHDsLGxETueWdLpdNDr9Z33wRKDVqsFAFEzdORQKBSiZiASEneAiO7Cz88P1dXVuHr1apfHGxsbsXDhQhgMBkFyuLq6wsvLC35+fgCAZ599Fu3t7WhoaBBkfn+kUqlE/6GvUChEz9CRQ6VSiR2DSDA8ASK6Czc3N4SGhiIpKQkZGRlwcHBAc3Mz0tPT4ezsLNi7wMaPH493330XFRUV8PX1RUlJCSwtLbkH9ABKSkrEjkBEImEBIroHaWlpyM7ORkREBKytrWEwGKBWq7FkyRLBMgwaNAjZ2dlIS0tDS0sLbG1t8eGHHwr6Nnwiov7CwmQymcQOQSSEjh2Luro62eeQQgYiIjFxB4iIiIhkhwWIiIiIZIcFiIiIiGSHBYiIiIhkhwWIiIiIZIcFiIiIiGSHBYiIiIhkhwWIiIiIZIcFiIiIiGSHBYiIiIhkhwWIiIiIZIcFiIiIiGSHd4Mn2dDpdNDr9Z03AhWLVqsFAFFzaLVaKBQK0eYTEYmNJ0AkGyqVShI/9BUKheg5FAoFVCqVqBmIiMRkYTKZTGKHICIiIhIST4CIiIhIdliAiIiISHZYgIiIiEh2WICIiIhIdliAiIiISHZYgIiIiEh2WICIiIhIdliAiIiISHZYgIiIiEh2WICIiIhIdliAiIiISHZYgIiIiEh2WICIiIhIdliAiIiISHZYgIiIiEh2WICIiIhIdliAiIiISHZYgIiIiEh2WICIiIhIdliAiIiISHZYgIiIiEh2WICIiIhIdliAiIiISHZYgIiIiEh2WICIiIhIdliAiIiISHZYgIiIiEh2WICIiIhIdliAiIiISHZYgIiIiEh2WICIiIhIdv4P3aGFq6+smeAAAAAASUVORK5CYII=)"
   ]
  },
  {
   "cell_type": "markdown",
   "metadata": {
    "id": "BqogGkCxKu2h"
   },
   "source": [
    "The Pandas way"
   ]
  },
  {
   "cell_type": "code",
   "metadata": {
    "id": "3ZmQzwF9EV2N",
    "colab": {
     "base_uri": "https://localhost:8080/",
     "height": 237
    },
    "executionInfo": {
     "status": "ok",
     "timestamp": 1746022753924,
     "user_tz": -120,
     "elapsed": 34,
     "user": {
      "displayName": "Salvo Rinzivillo",
      "userId": "07600960754376634109"
     }
    },
    "outputId": "5165d13b-505e-4bf9-c262-996c13775e3a"
   },
   "source": [
    "gap2000.groupby(by='region')['population'].agg('sum').reset_index()"
   ],
   "outputs": [],
   "execution_count": null
  },
  {
   "cell_type": "markdown",
   "metadata": {
    "id": "IC7ioB37K4HG"
   },
   "source": [
    "The Altair way"
   ]
  },
  {
   "cell_type": "code",
   "metadata": {
    "id": "4Vla8QjoKlJK",
    "colab": {
     "base_uri": "https://localhost:8080/",
     "height": 183
    },
    "executionInfo": {
     "status": "ok",
     "timestamp": 1746022754111,
     "user_tz": -120,
     "elapsed": 188,
     "user": {
      "displayName": "Salvo Rinzivillo",
      "userId": "07600960754376634109"
     }
    },
    "outputId": "40b3eb17-573a-4dc2-d94e-e1946d862e72"
   },
   "source": [
    "alt.Chart(gap2000).mark_bar(tooltip=True).encode(\n",
    "    y='region',\n",
    "    x='sum(population)'\n",
    ")"
   ],
   "outputs": [],
   "execution_count": null
  },
  {
   "cell_type": "code",
   "metadata": {
    "id": "7-hL8S24LFRA",
    "colab": {
     "base_uri": "https://localhost:8080/",
     "height": 183
    },
    "executionInfo": {
     "status": "ok",
     "timestamp": 1746022754125,
     "user_tz": -120,
     "elapsed": 16,
     "user": {
      "displayName": "Salvo Rinzivillo",
      "userId": "07600960754376634109"
     }
    },
    "outputId": "f730f9f2-4ce4-4fdb-a5eb-52b82bb0c0fc"
   },
   "source": [
    "alt.Chart(gap2000).mark_bar().encode(\n",
    "    alt.X(field='population',type='quantitative',aggregate='sum'),\n",
    "    alt.Y(\n",
    "        field='region',\n",
    "        type='ordinal',\n",
    "        sort= alt.EncodingSortField(field='population', op='sum', order='descending')\n",
    "        )\n",
    ")"
   ],
   "outputs": [],
   "execution_count": null
  },
  {
   "cell_type": "code",
   "source": [],
   "metadata": {
    "id": "g9udgLRNhszj",
    "executionInfo": {
     "status": "ok",
     "timestamp": 1746022754141,
     "user_tz": -120,
     "elapsed": 16,
     "user": {
      "displayName": "Salvo Rinzivillo",
      "userId": "07600960754376634109"
     }
    }
   },
   "outputs": [],
   "execution_count": null
  },
  {
   "cell_type": "markdown",
   "metadata": {
    "id": "kfJ1_SO0OK9x"
   },
   "source": [
    "# Layering"
   ]
  },
  {
   "cell_type": "code",
   "metadata": {
    "id": "2OuSdsJ8uyR4",
    "colab": {
     "base_uri": "https://localhost:8080/",
     "height": 288
    },
    "executionInfo": {
     "status": "ok",
     "timestamp": 1746023738242,
     "user_tz": -120,
     "elapsed": 1505,
     "user": {
      "displayName": "Salvo Rinzivillo",
      "userId": "07600960754376634109"
     }
    },
    "outputId": "8bd33f7f-da71-423a-b04f-71c172c383b0"
   },
   "source": [
    "base = alt.Chart(gap).encode(\n",
    "    x=alt.X(field = 'Year',title='Year', type='temporal'),\n",
    "    y= 'mean(gdp):Q',\n",
    "    color='region:N'\n",
    ").properties(width=800, height=200)\n",
    "\n",
    "base.mark_line(point=True)\n"
   ],
   "outputs": [],
   "execution_count": null
  },
  {
   "cell_type": "code",
   "metadata": {
    "id": "PfxcectJLlGF",
    "executionInfo": {
     "status": "ok",
     "timestamp": 1746022758325,
     "user_tz": -120,
     "elapsed": 1,
     "user": {
      "displayName": "Salvo Rinzivillo",
      "userId": "07600960754376634109"
     }
    }
   },
   "source": [
    "lines = alt.Chart(gap).mark_line(tooltip=True, point=True).encode(\n",
    "    x='year(Year):T',\n",
    "    y='mean(gdp):Q',\n",
    "    color='region:N'\n",
    ")\n",
    "\n",
    "area = alt.Chart(gap).mark_area(tooltip=True,opacity=0.3).encode(\n",
    "    x='year(Year):T',\n",
    "    y='ci0(gdp):Q', # The lower boundary of the bootstrapped 95% confidence interval of the mean.\n",
    "    y2='ci1(gdp):Q', # # The upper boundary of the bootstrapped 95% confidence interval of the mean.\n",
    "    color='region:N'\n",
    ")\n"
   ],
   "outputs": [],
   "execution_count": null
  },
  {
   "cell_type": "code",
   "source": [
    "area.properties(width=600)"
   ],
   "metadata": {
    "id": "nibxpuamiJBK",
    "colab": {
     "base_uri": "https://localhost:8080/",
     "height": 363
    },
    "executionInfo": {
     "status": "ok",
     "timestamp": 1746022759655,
     "user_tz": -120,
     "elapsed": 1328,
     "user": {
      "displayName": "Salvo Rinzivillo",
      "userId": "07600960754376634109"
     }
    },
    "outputId": "2ada0622-58a5-4306-fa28-a7627d105056"
   },
   "outputs": [],
   "execution_count": null
  },
  {
   "cell_type": "code",
   "source": [
    "# lines + area  # or the extendend form:\n",
    "alt.layer(lines, area).properties(width=600, height=400)"
   ],
   "metadata": {
    "id": "ZQzyiw4biqtB",
    "colab": {
     "base_uri": "https://localhost:8080/",
     "height": 468
    },
    "executionInfo": {
     "status": "ok",
     "timestamp": 1746022760962,
     "user_tz": -120,
     "elapsed": 1306,
     "user": {
      "displayName": "Salvo Rinzivillo",
      "userId": "07600960754376634109"
     }
    },
    "outputId": "08970963-4757-4c2f-aa2a-29c8dac946b4"
   },
   "outputs": [],
   "execution_count": null
  },
  {
   "cell_type": "markdown",
   "metadata": {
    "id": "p4hweC56b59N"
   },
   "source": [
    "# Concatenate"
   ]
  },
  {
   "cell_type": "code",
   "metadata": {
    "id": "UDyRnsTsEMqO",
    "colab": {
     "base_uri": "https://localhost:8080/",
     "height": 569
    },
    "executionInfo": {
     "status": "ok",
     "timestamp": 1746022760980,
     "user_tz": -120,
     "elapsed": 17,
     "user": {
      "displayName": "Salvo Rinzivillo",
      "userId": "07600960754376634109"
     }
    },
    "outputId": "880d6216-6610-407c-f1c9-c3861529627b"
   },
   "source": [
    "# Common definition of scales to share the same mappings\n",
    "xscale = alt.Scale(domain=(0, 90))\n",
    "yscale = alt.Scale(domain=(0, 8))\n",
    "\n",
    "\n",
    "lifeDist = alt.Chart(gap2000)\\\n",
    ".mark_bar(\n",
    "    tooltip=True,\n",
    "    color='gray'\n",
    "    )\\\n",
    ".encode(\n",
    "    x=alt.X(field='life',type='quantitative',bin=alt.BinParams(maxbins=20), scale=xscale,  title=None),\n",
    "    y=alt.Y('count()',type='quantitative',title=None)\n",
    "  )\\\n",
    ".properties(width=400,height=60)\n",
    "\n",
    "scatter = alt.Chart(gap2000).mark_point().encode(\n",
    "    alt.X(field='life',type='quantitative', scale=xscale),\n",
    "    alt.Y(field='fertility',type='quantitative', scale=yscale),\n",
    "    alt.Color(field='region',type='nominal')\n",
    ").properties(\n",
    "    width=400,\n",
    "    height=400\n",
    ")\n",
    "\n",
    "fertilityDist = alt.Chart(gap2000)\\\n",
    ".mark_bar(\n",
    "    tooltip=True,\n",
    "    color='gray'\n",
    "    )\\\n",
    ".encode(\n",
    "    y=alt.Y(field='fertility',type='quantitative',bin=alt.BinParams(maxbins=20), scale=yscale,title=None),\n",
    "    x=alt.X('count()', title=None)\n",
    "  )\\\n",
    ".properties(width=60,height=400)\n",
    "\n",
    "\n",
    "row2=alt.hconcat(scatter, fertilityDist)\n",
    "\n",
    "alt.vconcat(lifeDist,row2)\n",
    "# (scatter ^ lifeDist)\n",
    "# (scatter |fertilityDist)\n",
    "#"
   ],
   "outputs": [],
   "execution_count": null
  },
  {
   "cell_type": "code",
   "metadata": {
    "id": "vxocUeel0YrX",
    "colab": {
     "base_uri": "https://localhost:8080/",
     "height": 336
    },
    "executionInfo": {
     "status": "ok",
     "timestamp": 1746022760999,
     "user_tz": -120,
     "elapsed": 18,
     "user": {
      "displayName": "Salvo Rinzivillo",
      "userId": "07600960754376634109"
     }
    },
    "outputId": "b3e466c4-7be7-417b-b01b-44afac45db3c"
   },
   "source": [
    "scatter.properties(width=200,height=200).facet(column='region:N', columns=2)"
   ],
   "outputs": [],
   "execution_count": null
  },
  {
   "cell_type": "code",
   "source": [],
   "metadata": {
    "id": "8Shi8QY4oPIu",
    "executionInfo": {
     "status": "ok",
     "timestamp": 1746022761009,
     "user_tz": -120,
     "elapsed": 9,
     "user": {
      "displayName": "Salvo Rinzivillo",
      "userId": "07600960754376634109"
     }
    }
   },
   "outputs": [],
   "execution_count": null
  },
  {
   "cell_type": "markdown",
   "source": [
    "# Exercise:\n",
    "Visualize the gdp trend using a facetted chart per region.\n",
    "Plot a mean line on each chart"
   ],
   "metadata": {
    "id": "VUIJm1R4o5FC"
   }
  },
  {
   "cell_type": "code",
   "source": [
    "gap"
   ],
   "metadata": {
    "colab": {
     "base_uri": "https://localhost:8080/",
     "height": 423
    },
    "id": "mRZ3aZp7q_6h",
    "executionInfo": {
     "status": "ok",
     "timestamp": 1746022761013,
     "user_tz": -120,
     "elapsed": 3,
     "user": {
      "displayName": "Salvo Rinzivillo",
      "userId": "07600960754376634109"
     }
    },
    "outputId": "2c2dbadc-efb2-44bb-a21f-5eb991f77ec7"
   },
   "outputs": [],
   "execution_count": null
  },
  {
   "cell_type": "code",
   "source": [
    "countries = alt.Chart(gap).mark_line().encode(\n",
    "    alt.X('Year', type=\"temporal\"),\n",
    "    alt.Y('gdp', type=\"quantitative\"),\n",
    "    detail='Country:N'\n",
    ")\n",
    "\n",
    "avgCountries = alt.Chart(gap).mark_line(color=\"#ff0000\").encode(\n",
    "    alt.X('Year', type=\"temporal\"),\n",
    "    alt.Y('mean(gdp)', type=\"quantitative\"),\n",
    ")\n",
    "\n",
    "(countries + avgCountries)"
   ],
   "metadata": {
    "colab": {
     "base_uri": "https://localhost:8080/",
     "height": 368
    },
    "id": "fNRKRmlcrjbJ",
    "executionInfo": {
     "status": "ok",
     "timestamp": 1746022776979,
     "user_tz": -120,
     "elapsed": 1090,
     "user": {
      "displayName": "Salvo Rinzivillo",
      "userId": "07600960754376634109"
     }
    },
    "outputId": "c11c3aee-c2b9-4995-ddff-1c56b9b2dee2"
   },
   "outputs": [],
   "execution_count": null
  },
  {
   "cell_type": "code",
   "source": [
    "countries = alt.Chart(gap).mark_line(color=\"#cccccc99\").encode(\n",
    "    alt.X('Year', type=\"temporal\"),\n",
    "    alt.Y('gdp', type=\"quantitative\"),\n",
    "    detail='Country:N'\n",
    ")\n",
    "\n",
    "avgCountries = alt.Chart(gap).mark_line(color=\"#ff0000\").encode(\n",
    "    alt.X('Year', type=\"temporal\"),\n",
    "    alt.Y('mean(gdp)', type=\"quantitative\"),\n",
    ")\n",
    "\n",
    "(countries + avgCountries).facet(\"region:N\", columns=3)"
   ],
   "metadata": {
    "colab": {
     "base_uri": "https://localhost:8080/",
     "height": 772
    },
    "id": "x8vxp6_hEcld",
    "executionInfo": {
     "status": "ok",
     "timestamp": 1746022957378,
     "user_tz": -120,
     "elapsed": 1366,
     "user": {
      "displayName": "Salvo Rinzivillo",
      "userId": "07600960754376634109"
     }
    },
    "outputId": "2bc4327c-0f15-4b26-f59f-a672146b38c3"
   },
   "outputs": [],
   "execution_count": null
  },
  {
   "cell_type": "markdown",
   "source": [
    "![visualization.png](data:image/png;base64,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)"
   ],
   "metadata": {
    "id": "ruLzaex4poMb"
   }
  }
 ],
 "metadata": {
  "colab": {
   "provenance": []
  },
  "kernelspec": {
   "display_name": "Python 3 (ipykernel)",
   "language": "python",
   "name": "python3"
  },
  "language_info": {
   "codemirror_mode": {
    "name": "ipython",
    "version": 3
   },
   "file_extension": ".py",
   "mimetype": "text/x-python",
   "name": "python",
   "nbconvert_exporter": "python",
   "pygments_lexer": "ipython3",
   "version": "3.12.6"
  }
 },
 "nbformat": 4,
 "nbformat_minor": 0
}
