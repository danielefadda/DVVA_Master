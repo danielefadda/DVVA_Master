{
 "cells": [
  {
   "cell_type": "markdown",
   "metadata": {
    "id": "HB_GlDhoUNSe"
   },
   "source": [
    "# Altair Axis and Scales"
   ]
  },
  {
   "cell_type": "code",
   "execution_count": 1,
   "metadata": {
    "ExecuteTime": {
     "end_time": "2025-04-28T12:42:44.482163Z",
     "start_time": "2025-04-28T12:42:44.195284Z"
    }
   },
   "outputs": [
    {
     "data": {
      "text/plain": [
       "DataTransformerRegistry.enable('default')"
      ]
     },
     "execution_count": 1,
     "metadata": {},
     "output_type": "execute_result"
    }
   ],
   "source": [
    "import pandas as pd\n",
    "import altair as alt\n",
    "\n",
    "alt.data_transformers.enable('default', max_rows=None)"
   ]
  },
  {
   "cell_type": "markdown",
   "metadata": {},
   "source": [
    "## Dataset\n",
    "\n",
    "To experiment with axes and scales, we will visualize global health and population data for a number of countries over the time period from 1955 to 2005. The data has been collected by the Gapminder Foundation and shared in Hans Rosling's popular [TED TALK](https://www.ted.com/talks/hans_rosling_global_population_growth_box_by_box?language=en). If you haven't seen the Talk, we encourage you to watch it as soon as possible!"
   ]
  },
  {
   "cell_type": "code",
   "execution_count": 2,
   "metadata": {
    "ExecuteTime": {
     "end_time": "2025-04-28T12:42:45.774319Z",
     "start_time": "2025-04-28T12:42:45.762969Z"
    },
    "id": "G1pRziW9I0fb"
   },
   "outputs": [],
   "source": [
    "data=pd.read_csv('data/gapminder_tidy_scales.csv')"
   ]
  },
  {
   "cell_type": "code",
   "execution_count": 3,
   "metadata": {
    "ExecuteTime": {
     "end_time": "2025-04-28T12:42:46.471286Z",
     "start_time": "2025-04-28T12:42:46.463035Z"
    },
    "colab": {
     "base_uri": "https://localhost:8080/",
     "height": 206
    },
    "id": "boLqgkKTK0da",
    "outputId": "7d61be27-0ddb-4ced-9916-323e74b63227"
   },
   "outputs": [
    {
     "data": {
      "text/html": [
       "<div>\n",
       "<style scoped>\n",
       "    .dataframe tbody tr th:only-of-type {\n",
       "        vertical-align: middle;\n",
       "    }\n",
       "\n",
       "    .dataframe tbody tr th {\n",
       "        vertical-align: top;\n",
       "    }\n",
       "\n",
       "    .dataframe thead th {\n",
       "        text-align: right;\n",
       "    }\n",
       "</style>\n",
       "<table border=\"1\" class=\"dataframe\">\n",
       "  <thead>\n",
       "    <tr style=\"text-align: right;\">\n",
       "      <th></th>\n",
       "      <th>Country</th>\n",
       "      <th>Year</th>\n",
       "      <th>fertility</th>\n",
       "      <th>life</th>\n",
       "      <th>population</th>\n",
       "      <th>child_mortality</th>\n",
       "      <th>gdp</th>\n",
       "      <th>region</th>\n",
       "    </tr>\n",
       "  </thead>\n",
       "  <tbody>\n",
       "    <tr>\n",
       "      <th>0</th>\n",
       "      <td>Afghanistan</td>\n",
       "      <td>1964</td>\n",
       "      <td>7.671</td>\n",
       "      <td>33.639</td>\n",
       "      <td>10474903.0</td>\n",
       "      <td>339.7</td>\n",
       "      <td>1182.0</td>\n",
       "      <td>South Asia</td>\n",
       "    </tr>\n",
       "    <tr>\n",
       "      <th>1</th>\n",
       "      <td>Afghanistan</td>\n",
       "      <td>1965</td>\n",
       "      <td>7.671</td>\n",
       "      <td>34.152</td>\n",
       "      <td>10697983.0</td>\n",
       "      <td>334.1</td>\n",
       "      <td>1182.0</td>\n",
       "      <td>South Asia</td>\n",
       "    </tr>\n",
       "    <tr>\n",
       "      <th>2</th>\n",
       "      <td>Afghanistan</td>\n",
       "      <td>1966</td>\n",
       "      <td>7.671</td>\n",
       "      <td>34.662</td>\n",
       "      <td>10927724.0</td>\n",
       "      <td>328.7</td>\n",
       "      <td>1168.0</td>\n",
       "      <td>South Asia</td>\n",
       "    </tr>\n",
       "    <tr>\n",
       "      <th>3</th>\n",
       "      <td>Afghanistan</td>\n",
       "      <td>1967</td>\n",
       "      <td>7.671</td>\n",
       "      <td>35.170</td>\n",
       "      <td>11163656.0</td>\n",
       "      <td>323.3</td>\n",
       "      <td>1173.0</td>\n",
       "      <td>South Asia</td>\n",
       "    </tr>\n",
       "    <tr>\n",
       "      <th>4</th>\n",
       "      <td>Afghanistan</td>\n",
       "      <td>1968</td>\n",
       "      <td>7.671</td>\n",
       "      <td>35.674</td>\n",
       "      <td>11411022.0</td>\n",
       "      <td>318.1</td>\n",
       "      <td>1187.0</td>\n",
       "      <td>South Asia</td>\n",
       "    </tr>\n",
       "  </tbody>\n",
       "</table>\n",
       "</div>"
      ],
      "text/plain": [
       "       Country  Year  fertility    life  population  child_mortality     gdp  \\\n",
       "0  Afghanistan  1964      7.671  33.639  10474903.0            339.7  1182.0   \n",
       "1  Afghanistan  1965      7.671  34.152  10697983.0            334.1  1182.0   \n",
       "2  Afghanistan  1966      7.671  34.662  10927724.0            328.7  1168.0   \n",
       "3  Afghanistan  1967      7.671  35.170  11163656.0            323.3  1173.0   \n",
       "4  Afghanistan  1968      7.671  35.674  11411022.0            318.1  1187.0   \n",
       "\n",
       "       region  \n",
       "0  South Asia  \n",
       "1  South Asia  \n",
       "2  South Asia  \n",
       "3  South Asia  \n",
       "4  South Asia  "
      ]
     },
     "execution_count": 3,
     "metadata": {},
     "output_type": "execute_result"
    }
   ],
   "source": [
    "data.head()"
   ]
  },
  {
   "cell_type": "markdown",
   "metadata": {
    "id": "mSaHpYXfHqRx"
   },
   "source": [
    "## Scales and Axis"
   ]
  },
  {
   "cell_type": "markdown",
   "metadata": {
    "id": "06o1w6yUN9Z0"
   },
   "source": [
    "`data_2013` data for the last available year (2013)"
   ]
  },
  {
   "cell_type": "code",
   "execution_count": 4,
   "metadata": {
    "ExecuteTime": {
     "end_time": "2025-04-28T12:42:48.814482Z",
     "start_time": "2025-04-28T12:42:48.812440Z"
    }
   },
   "outputs": [],
   "source": [
    "data_2013=data[data.Year==data.Year.max()]"
   ]
  },
  {
   "cell_type": "markdown",
   "metadata": {},
   "source": [
    "`fdata2` gapminder data with Country, region, 1964, 2013 as columns"
   ]
  },
  {
   "cell_type": "code",
   "execution_count": 5,
   "metadata": {
    "ExecuteTime": {
     "end_time": "2025-04-28T12:42:50.219901Z",
     "start_time": "2025-04-28T12:42:50.210114Z"
    }
   },
   "outputs": [
    {
     "data": {
      "text/html": [
       "<div>\n",
       "<style scoped>\n",
       "    .dataframe tbody tr th:only-of-type {\n",
       "        vertical-align: middle;\n",
       "    }\n",
       "\n",
       "    .dataframe tbody tr th {\n",
       "        vertical-align: top;\n",
       "    }\n",
       "\n",
       "    .dataframe thead th {\n",
       "        text-align: right;\n",
       "    }\n",
       "</style>\n",
       "<table border=\"1\" class=\"dataframe\">\n",
       "  <thead>\n",
       "    <tr style=\"text-align: right;\">\n",
       "      <th></th>\n",
       "      <th>Country</th>\n",
       "      <th>region</th>\n",
       "      <th>1964</th>\n",
       "      <th>2013</th>\n",
       "    </tr>\n",
       "  </thead>\n",
       "  <tbody>\n",
       "    <tr>\n",
       "      <th>0</th>\n",
       "      <td>Afghanistan</td>\n",
       "      <td>South Asia</td>\n",
       "      <td>10474903.0</td>\n",
       "      <td>34499915.0</td>\n",
       "    </tr>\n",
       "    <tr>\n",
       "      <th>1</th>\n",
       "      <td>Albania</td>\n",
       "      <td>Europe &amp; Central Asia</td>\n",
       "      <td>1817098.0</td>\n",
       "      <td>3238316.0</td>\n",
       "    </tr>\n",
       "    <tr>\n",
       "      <th>2</th>\n",
       "      <td>Algeria</td>\n",
       "      <td>Middle East &amp; North Africa</td>\n",
       "      <td>11654905.0</td>\n",
       "      <td>36983924.0</td>\n",
       "    </tr>\n",
       "    <tr>\n",
       "      <th>3</th>\n",
       "      <td>Angola</td>\n",
       "      <td>Sub-Saharan Africa</td>\n",
       "      <td>5337063.0</td>\n",
       "      <td>20714494.0</td>\n",
       "    </tr>\n",
       "    <tr>\n",
       "      <th>4</th>\n",
       "      <td>Antigua and Barbuda</td>\n",
       "      <td>America</td>\n",
       "      <td>58653.0</td>\n",
       "      <td>91404.0</td>\n",
       "    </tr>\n",
       "    <tr>\n",
       "      <th>...</th>\n",
       "      <td>...</td>\n",
       "      <td>...</td>\n",
       "      <td>...</td>\n",
       "      <td>...</td>\n",
       "    </tr>\n",
       "    <tr>\n",
       "      <th>197</th>\n",
       "      <td>West Bank and Gaza</td>\n",
       "      <td>Middle East &amp; North Africa</td>\n",
       "      <td>1181587.0</td>\n",
       "      <td>4393572.0</td>\n",
       "    </tr>\n",
       "    <tr>\n",
       "      <th>198</th>\n",
       "      <td>Western Sahara</td>\n",
       "      <td>Middle East &amp; North Africa</td>\n",
       "      <td>46308.0</td>\n",
       "      <td>585270.0</td>\n",
       "    </tr>\n",
       "    <tr>\n",
       "      <th>199</th>\n",
       "      <td>Yemen, Rep.</td>\n",
       "      <td>Middle East &amp; North Africa</td>\n",
       "      <td>5527652.0</td>\n",
       "      <td>26358020.0</td>\n",
       "    </tr>\n",
       "    <tr>\n",
       "      <th>200</th>\n",
       "      <td>Zambia</td>\n",
       "      <td>Sub-Saharan Africa</td>\n",
       "      <td>3430747.0</td>\n",
       "      <td>14314515.0</td>\n",
       "    </tr>\n",
       "    <tr>\n",
       "      <th>201</th>\n",
       "      <td>Zimbabwe</td>\n",
       "      <td>Sub-Saharan Africa</td>\n",
       "      <td>4279524.0</td>\n",
       "      <td>13327925.0</td>\n",
       "    </tr>\n",
       "  </tbody>\n",
       "</table>\n",
       "<p>202 rows × 4 columns</p>\n",
       "</div>"
      ],
      "text/plain": [
       "                 Country                      region        1964        2013\n",
       "0            Afghanistan                  South Asia  10474903.0  34499915.0\n",
       "1                Albania       Europe & Central Asia   1817098.0   3238316.0\n",
       "2                Algeria  Middle East & North Africa  11654905.0  36983924.0\n",
       "3                 Angola          Sub-Saharan Africa   5337063.0  20714494.0\n",
       "4    Antigua and Barbuda                     America     58653.0     91404.0\n",
       "..                   ...                         ...         ...         ...\n",
       "197   West Bank and Gaza  Middle East & North Africa   1181587.0   4393572.0\n",
       "198       Western Sahara  Middle East & North Africa     46308.0    585270.0\n",
       "199          Yemen, Rep.  Middle East & North Africa   5527652.0  26358020.0\n",
       "200               Zambia          Sub-Saharan Africa   3430747.0  14314515.0\n",
       "201             Zimbabwe          Sub-Saharan Africa   4279524.0  13327925.0\n",
       "\n",
       "[202 rows x 4 columns]"
      ]
     },
     "execution_count": 5,
     "metadata": {},
     "output_type": "execute_result"
    }
   ],
   "source": [
    "fdata = data[data['Year'].isin([2013,1964])]\n",
    "fdata2=((fdata[['Country','Year','population','region']]\n",
    "        .pivot(index=['Country','region'],columns='Year',values='population'))\n",
    "        .reset_index()\n",
    "        .rename_axis(None, axis=1)\n",
    "        )\n",
    "fdata2.columns = fdata2.columns.astype(str)\n",
    "fdata2"
   ]
  },
  {
   "cell_type": "markdown",
   "metadata": {},
   "source": [
    "# Color Scales"
   ]
  },
  {
   "cell_type": "markdown",
   "metadata": {
    "id": "vaV76GarUMY-"
   },
   "source": [
    "### Scale Qualitative"
   ]
  },
  {
   "cell_type": "markdown",
   "metadata": {},
   "source": [
    "We encode the *region* attribute on the color channel (the data is of nominal type):"
   ]
  },
  {
   "cell_type": "code",
   "execution_count": 6,
   "metadata": {
    "ExecuteTime": {
     "end_time": "2025-04-28T12:43:04.613841Z",
     "start_time": "2025-04-28T12:43:04.606395Z"
    }
   },
   "outputs": [
    {
     "data": {
      "text/html": [
       "\n",
       "<style>\n",
       "  #altair-viz-abb029ae3eb54878937995ca1f8b963a.vega-embed {\n",
       "    width: 100%;\n",
       "    display: flex;\n",
       "  }\n",
       "\n",
       "  #altair-viz-abb029ae3eb54878937995ca1f8b963a.vega-embed details,\n",
       "  #altair-viz-abb029ae3eb54878937995ca1f8b963a.vega-embed details summary {\n",
       "    position: relative;\n",
       "  }\n",
       "</style>\n",
       "<div id=\"altair-viz-abb029ae3eb54878937995ca1f8b963a\"></div>\n",
       "<script type=\"text/javascript\">\n",
       "  var VEGA_DEBUG = (typeof VEGA_DEBUG == \"undefined\") ? {} : VEGA_DEBUG;\n",
       "  (function(spec, embedOpt){\n",
       "    let outputDiv = document.currentScript.previousElementSibling;\n",
       "    if (outputDiv.id !== \"altair-viz-abb029ae3eb54878937995ca1f8b963a\") {\n",
       "      outputDiv = document.getElementById(\"altair-viz-abb029ae3eb54878937995ca1f8b963a\");\n",
       "    }\n",
       "\n",
       "    const paths = {\n",
       "      \"vega\": \"https://cdn.jsdelivr.net/npm/vega@5?noext\",\n",
       "      \"vega-lib\": \"https://cdn.jsdelivr.net/npm/vega-lib?noext\",\n",
       "      \"vega-lite\": \"https://cdn.jsdelivr.net/npm/vega-lite@5.20.1?noext\",\n",
       "      \"vega-embed\": \"https://cdn.jsdelivr.net/npm/vega-embed@6?noext\",\n",
       "    };\n",
       "\n",
       "    function maybeLoadScript(lib, version) {\n",
       "      var key = `${lib.replace(\"-\", \"\")}_version`;\n",
       "      return (VEGA_DEBUG[key] == version) ?\n",
       "        Promise.resolve(paths[lib]) :\n",
       "        new Promise(function(resolve, reject) {\n",
       "          var s = document.createElement('script');\n",
       "          document.getElementsByTagName(\"head\")[0].appendChild(s);\n",
       "          s.async = true;\n",
       "          s.onload = () => {\n",
       "            VEGA_DEBUG[key] = version;\n",
       "            return resolve(paths[lib]);\n",
       "          };\n",
       "          s.onerror = () => reject(`Error loading script: ${paths[lib]}`);\n",
       "          s.src = paths[lib];\n",
       "        });\n",
       "    }\n",
       "\n",
       "    function showError(err) {\n",
       "      outputDiv.innerHTML = `<div class=\"error\" style=\"color:red;\">${err}</div>`;\n",
       "      throw err;\n",
       "    }\n",
       "\n",
       "    function displayChart(vegaEmbed) {\n",
       "      vegaEmbed(outputDiv, spec, embedOpt)\n",
       "        .catch(err => showError(`Javascript Error: ${err.message}<br>This usually means there's a typo in your chart specification. See the javascript console for the full traceback.`));\n",
       "    }\n",
       "\n",
       "    if(typeof define === \"function\" && define.amd) {\n",
       "      requirejs.config({paths});\n",
       "      let deps = [\"vega-embed\"];\n",
       "      require(deps, displayChart, err => showError(`Error loading script: ${err.message}`));\n",
       "    } else {\n",
       "      maybeLoadScript(\"vega\", \"5\")\n",
       "        .then(() => maybeLoadScript(\"vega-lite\", \"5.20.1\"))\n",
       "        .then(() => maybeLoadScript(\"vega-embed\", \"6\"))\n",
       "        .catch(showError)\n",
       "        .then(() => displayChart(vegaEmbed));\n",
       "    }\n",
       "  })({\"config\": {\"view\": {\"continuousWidth\": 300, \"continuousHeight\": 300}}, \"data\": {\"name\": \"data-faecc67d693c08f21eb07d4142877490\"}, \"mark\": {\"type\": \"circle\"}, \"encoding\": {\"color\": {\"field\": \"region\", \"type\": \"nominal\"}, \"x\": {\"axis\": {\"tickCount\": 5}, \"field\": \"population\", \"scale\": {\"type\": \"log\"}, \"title\": \"Population (log scale)\", \"type\": \"quantitative\"}}, \"height\": 30, \"width\": 700, \"$schema\": \"https://vega.github.io/schema/vega-lite/v5.20.1.json\", \"datasets\": {\"data-faecc67d693c08f21eb07d4142877490\": [{\"Country\": \"Afghanistan\", \"Year\": 2013, \"fertility\": 4.9, \"life\": 60.947, \"population\": 34499915.0, \"child_mortality\": 96.7, \"gdp\": 1884.0, \"region\": \"South Asia\"}, {\"Country\": \"Albania\", \"Year\": 2013, \"fertility\": 1.771, \"life\": 77.392, \"population\": 3238316.0, \"child_mortality\": 14.9, \"gdp\": 9961.0, \"region\": \"Europe & Central Asia\"}, {\"Country\": \"Algeria\", \"Year\": 2013, \"fertility\": 2.795, \"life\": 71.0, \"population\": 36983924.0, \"child_mortality\": 25.2, \"gdp\": 12893.0, \"region\": \"Middle East & North Africa\"}, {\"Country\": \"Angola\", \"Year\": 2013, \"fertility\": 5.863, \"life\": 51.899, \"population\": 20714494.0, \"child_mortality\": 167.1, \"gdp\": 7488.0, \"region\": \"Sub-Saharan Africa\"}, {\"Country\": \"Antigua and Barbuda\", \"Year\": 2013, \"fertility\": 2.089, \"life\": 75.954, \"population\": 91404.0, \"child_mortality\": 8.7, \"gdp\": 20353.0, \"region\": \"America\"}, {\"Country\": \"Argentina\", \"Year\": 2013, \"fertility\": 2.175, \"life\": 76.305, \"population\": 41473982.0, \"child_mortality\": 13.3, \"gdp\": 17629.0, \"region\": \"America\"}, {\"Country\": \"Armenia\", \"Year\": 2013, \"fertility\": 1.74, \"life\": 74.561, \"population\": 3117722.0, \"child_mortality\": 15.5, \"gdp\": 7527.0, \"region\": \"Europe & Central Asia\"}, {\"Country\": \"Aruba\", \"Year\": 2013, \"fertility\": 1.673, \"life\": 75.455, \"population\": 108883.0, \"child_mortality\": 17.03, \"gdp\": 36083.0, \"region\": \"America\"}, {\"Country\": \"Australia\", \"Year\": 2013, \"fertility\": 1.882, \"life\": 82.49600000000001, \"population\": 23213944.0, \"child_mortality\": 4.0, \"gdp\": 42840.0, \"region\": \"East Asia & Pacific\"}, {\"Country\": \"Austria\", \"Year\": 2013, \"fertility\": 1.471, \"life\": 81.137, \"population\": 8441263.0, \"child_mortality\": 3.9, \"gdp\": 44059.0, \"region\": \"Europe & Central Asia\"}, {\"Country\": \"Azerbaijan\", \"Year\": 2013, \"fertility\": 1.924, \"life\": 70.753, \"population\": 9533445.0, \"child_mortality\": 34.2, \"gdp\": 16593.0, \"region\": \"Europe & Central Asia\"}, {\"Country\": \"Bahamas\", \"Year\": 2013, \"fertility\": 1.888, \"life\": 75.237, \"population\": 355233.0, \"child_mortality\": 12.8, \"gdp\": 22518.0, \"region\": \"America\"}, {\"Country\": \"Bahrain\", \"Year\": 2013, \"fertility\": 2.075, \"life\": 76.608, \"population\": 1377273.0, \"child_mortality\": 6.9, \"gdp\": 42444.0, \"region\": \"Middle East & North Africa\"}, {\"Country\": \"Bangladesh\", \"Year\": 2013, \"fertility\": 2.177, \"life\": 70.657, \"population\": 154393847.0, \"child_mortality\": 41.6, \"gdp\": 2853.0, \"region\": \"South Asia\"}, {\"Country\": \"Barbados\", \"Year\": 2013, \"fertility\": 1.849, \"life\": 75.37, \"population\": 275141.0, \"child_mortality\": 13.7, \"gdp\": 12867.0, \"region\": \"America\"}, {\"Country\": \"Belarus\", \"Year\": 2013, \"fertility\": 1.494, \"life\": 69.928, \"population\": 9498290.0, \"child_mortality\": 4.9, \"gdp\": 17085.0, \"region\": \"Europe & Central Asia\"}, {\"Country\": \"Belgium\", \"Year\": 2013, \"fertility\": 1.854, \"life\": 80.548, \"population\": 10815599.0, \"child_mortality\": 4.3, \"gdp\": 40607.0, \"region\": \"Europe & Central Asia\"}, {\"Country\": \"Belize\", \"Year\": 2013, \"fertility\": 2.676, \"life\": 73.882, \"population\": 330721.0, \"child_mortality\": 17.5, \"gdp\": 8215.0, \"region\": \"America\"}, {\"Country\": \"Benin\", \"Year\": 2013, \"fertility\": 4.845, \"life\": 59.33, \"population\": 9606534.0, \"child_mortality\": 104.8, \"gdp\": 1733.0, \"region\": \"Sub-Saharan Africa\"}, {\"Country\": \"Bhutan\", \"Year\": 2013, \"fertility\": 2.232, \"life\": 68.294, \"population\": 762313.0, \"child_mortality\": 36.0, \"gdp\": 7167.0, \"region\": \"South Asia\"}, {\"Country\": \"Bolivia\", \"Year\": 2013, \"fertility\": 3.221, \"life\": 67.26, \"population\": 10409761.0, \"child_mortality\": 41.3, \"gdp\": 5934.0, \"region\": \"America\"}, {\"Country\": \"Bosnia and Herzegovina\", \"Year\": 2013, \"fertility\": 1.283, \"life\": 76.37, \"population\": 3735880.0, \"child_mortality\": 6.6, \"gdp\": 9387.0, \"region\": \"Europe & Central Asia\"}, {\"Country\": \"Botswana\", \"Year\": 2013, \"fertility\": 2.619, \"life\": 47.572, \"population\": 2074616.0, \"child_mortality\": 55.5, \"gdp\": 16155.0, \"region\": \"Sub-Saharan Africa\"}, {\"Country\": \"Brazil\", \"Year\": 2013, \"fertility\": 1.801, \"life\": 73.937, \"population\": 200050487.0, \"child_mortality\": 14.4, \"gdp\": 15518.0, \"region\": \"America\"}, {\"Country\": \"Brunei\", \"Year\": 2013, \"fertility\": 1.994, \"life\": 78.547, \"population\": 419772.0, \"child_mortality\": 10.0, \"gdp\": 69474.0, \"region\": \"East Asia & Pacific\"}, {\"Country\": \"Bulgaria\", \"Year\": 2013, \"fertility\": 1.541, \"life\": 73.54899999999999, \"population\": 7349462.0, \"child_mortality\": 11.6, \"gdp\": 15695.0, \"region\": \"Europe & Central Asia\"}, {\"Country\": \"Burkina Faso\", \"Year\": 2013, \"fertility\": 5.605, \"life\": 56.344, \"population\": 18011507.0, \"child_mortality\": 96.6, \"gdp\": 1588.0, \"region\": \"Sub-Saharan Africa\"}, {\"Country\": \"Burundi\", \"Year\": 2013, \"fertility\": 6.033, \"life\": 54.104, \"population\": 8911183.0, \"child_mortality\": 87.8, \"gdp\": 747.0, \"region\": \"Sub-Saharan Africa\"}, {\"Country\": \"Cambodia\", \"Year\": 2013, \"fertility\": 2.861, \"life\": 71.916, \"population\": 14656016.0, \"child_mortality\": 32.9, \"gdp\": 2942.0, \"region\": \"East Asia & Pacific\"}, {\"Country\": \"Cameroon\", \"Year\": 2013, \"fertility\": 4.78, \"life\": 55.065, \"population\": 20913595.0, \"child_mortality\": 95.2, \"gdp\": 2739.0, \"region\": \"Sub-Saharan Africa\"}, {\"Country\": \"Canada\", \"Year\": 2013, \"fertility\": 1.67, \"life\": 81.482, \"population\": 34993747.0, \"child_mortality\": 5.2, \"gdp\": 42213.0, \"region\": \"America\"}, {\"Country\": \"Cape Verde\", \"Year\": 2013, \"fertility\": 2.292, \"life\": 75.093, \"population\": 510213.0, \"child_mortality\": 25.9, \"gdp\": 6232.0, \"region\": \"Sub-Saharan Africa\"}, {\"Country\": \"Central African Rep.\", \"Year\": 2013, \"fertility\": 4.365, \"life\": 50.179, \"population\": 4666833.0, \"child_mortality\": null, \"gdp\": null, \"region\": \"Sub-Saharan Africa\"}, {\"Country\": \"Chad\", \"Year\": 2013, \"fertility\": 6.263, \"life\": 51.182, \"population\": 12141876.0, \"child_mortality\": 147.1, \"gdp\": 2055.0, \"region\": \"Sub-Saharan Africa\"}, {\"Country\": \"Channel Islands\", \"Year\": 2013, \"fertility\": 1.459, \"life\": 80.324, \"population\": 154432.0, \"child_mortality\": 9.13, \"gdp\": null, \"region\": \"Europe & Central Asia\"}, {\"Country\": \"Chile\", \"Year\": 2013, \"fertility\": 1.82, \"life\": 79.955, \"population\": 17574464.0, \"child_mortality\": 8.4, \"gdp\": 21746.0, \"region\": \"America\"}, {\"Country\": \"China\", \"Year\": 2013, \"fertility\": 1.668, \"life\": 75.331, \"population\": 1359368470.0, \"child_mortality\": 12.3, \"gdp\": 11805.0, \"region\": \"East Asia & Pacific\"}, {\"Country\": \"Colombia\", \"Year\": 2013, \"fertility\": 2.286, \"life\": 74.038, \"population\": 48165221.0, \"child_mortality\": 16.9, \"gdp\": 12054.0, \"region\": \"America\"}, {\"Country\": \"Comoros\", \"Year\": 2013, \"fertility\": 4.714, \"life\": 60.874, \"population\": 792913.0, \"child_mortality\": 78.3, \"gdp\": 1450.0, \"region\": \"Sub-Saharan Africa\"}, {\"Country\": \"Congo, Dem. Rep.\", \"Year\": 2013, \"fertility\": 5.933, \"life\": 49.963, \"population\": 71419669.0, \"child_mortality\": 104.8, \"gdp\": 724.0, \"region\": \"Sub-Saharan Africa\"}, {\"Country\": \"Congo, Rep.\", \"Year\": 2013, \"fertility\": 4.968999999999999, \"life\": 58.793, \"population\": 4324199.0, \"child_mortality\": 49.6, \"gdp\": 5680.0, \"region\": \"Sub-Saharan Africa\"}, {\"Country\": \"Costa Rica\", \"Year\": 2013, \"fertility\": 1.795, \"life\": 79.93, \"population\": 4859957.0, \"child_mortality\": 10.0, \"gdp\": 13427.0, \"region\": \"America\"}, {\"Country\": \"Cote d'Ivoire\", \"Year\": 2013, \"fertility\": 4.8660000000000005, \"life\": 50.722, \"population\": 21057316.0, \"child_mortality\": 100.7, \"gdp\": 3123.0, \"region\": \"Sub-Saharan Africa\"}, {\"Country\": \"Croatia\", \"Year\": 2013, \"fertility\": 1.501, \"life\": 77.048, \"population\": 4378806.0, \"child_mortality\": 4.7, \"gdp\": 20049.0, \"region\": \"Europe & Central Asia\"}, {\"Country\": \"Cuba\", \"Year\": 2013, \"fertility\": 1.449, \"life\": 79.262, \"population\": 11244424.0, \"child_mortality\": 6.1, \"gdp\": 20122.0, \"region\": \"America\"}, {\"Country\": \"Cyprus\", \"Year\": 2013, \"fertility\": 1.461, \"life\": 79.84100000000001, \"population\": 1141453.0, \"child_mortality\": 3.6, \"gdp\": 30081.0, \"region\": \"Europe & Central Asia\"}, {\"Country\": \"Czech Rep.\", \"Year\": 2013, \"fertility\": 1.5659999999999998, \"life\": 77.69, \"population\": 10589806.0, \"child_mortality\": null, \"gdp\": null, \"region\": \"Europe & Central Asia\"}, {\"Country\": \"Denmark\", \"Year\": 2013, \"fertility\": 1.88, \"life\": 79.388, \"population\": 5611187.0, \"child_mortality\": 3.7, \"gdp\": 42483.0, \"region\": \"Europe & Central Asia\"}, {\"Country\": \"Djibouti\", \"Year\": 2013, \"fertility\": 3.387, \"life\": 61.801, \"population\": 940090.0, \"child_mortality\": 69.5, \"gdp\": 2903.0, \"region\": \"Middle East & North Africa\"}, {\"Country\": \"Dominican Rep.\", \"Year\": 2013, \"fertility\": 2.484, \"life\": 73.402, \"population\": 10308609.0, \"child_mortality\": null, \"gdp\": null, \"region\": \"America\"}, {\"Country\": \"Ecuador\", \"Year\": 2013, \"fertility\": 2.559, \"life\": 76.471, \"population\": 15061398.0, \"child_mortality\": 23.0, \"gdp\": 10541.0, \"region\": \"America\"}, {\"Country\": \"Egypt\", \"Year\": 2013, \"fertility\": 2.77, \"life\": 71.157, \"population\": 85378440.0, \"child_mortality\": 25.8, \"gdp\": 10731.0, \"region\": \"Middle East & North Africa\"}, {\"Country\": \"El Salvador\", \"Year\": 2013, \"fertility\": 2.184, \"life\": 72.59899999999999, \"population\": 6302723.0, \"child_mortality\": 18.0, \"gdp\": 7515.0, \"region\": \"America\"}, {\"Country\": \"Equatorial Guinea\", \"Year\": 2013, \"fertility\": 4.845, \"life\": 53.062, \"population\": 761050.0, \"child_mortality\": 100.3, \"gdp\": 32654.0, \"region\": \"Sub-Saharan Africa\"}, {\"Country\": \"Eritrea\", \"Year\": 2013, \"fertility\": 4.696000000000001, \"life\": 62.852, \"population\": 5748304.0, \"child_mortality\": 49.7, \"gdp\": 1157.0, \"region\": \"Sub-Saharan Africa\"}, {\"Country\": \"Estonia\", \"Year\": 2013, \"fertility\": 1.604, \"life\": 74.441, \"population\": 1338832.0, \"child_mortality\": 3.4, \"gdp\": 25254.0, \"region\": \"Europe & Central Asia\"}, {\"Country\": \"Ethiopia\", \"Year\": 2013, \"fertility\": 4.519, \"life\": 63.635, \"population\": 88356373.0, \"child_mortality\": 64.6, \"gdp\": 1336.0, \"region\": \"Sub-Saharan Africa\"}, {\"Country\": \"Fiji\", \"Year\": 2013, \"fertility\": 2.588, \"life\": 69.81, \"population\": 882863.0, \"child_mortality\": 23.2, \"gdp\": 7502.0, \"region\": \"East Asia & Pacific\"}, {\"Country\": \"Finland\", \"Year\": 2013, \"fertility\": 1.853, \"life\": 80.535, \"population\": 5418763.0, \"child_mortality\": 2.6, \"gdp\": 38788.0, \"region\": \"Europe & Central Asia\"}, {\"Country\": \"France\", \"Year\": 2013, \"fertility\": 1.98, \"life\": 81.81, \"population\": 63782963.0, \"child_mortality\": 4.4, \"gdp\": 37309.0, \"region\": \"Europe & Central Asia\"}, {\"Country\": \"French Guiana\", \"Year\": 2013, \"fertility\": 3.0580000000000003, \"life\": 77.12100000000001, \"population\": 249408.0, \"child_mortality\": 10.95, \"gdp\": null, \"region\": \"America\"}, {\"Country\": \"French Polynesia\", \"Year\": 2013, \"fertility\": 2.0580000000000003, \"life\": 76.257, \"population\": 279632.0, \"child_mortality\": 7.46, \"gdp\": null, \"region\": \"East Asia & Pacific\"}, {\"Country\": \"Gabon\", \"Year\": 2013, \"fertility\": 4.087, \"life\": 63.48, \"population\": 1594205.0, \"child_mortality\": 56.1, \"gdp\": 17580.0, \"region\": \"Sub-Saharan Africa\"}, {\"Country\": \"Gambia\", \"Year\": 2013, \"fertility\": 5.751, \"life\": 58.818000000000005, \"population\": 1874360.0, \"child_mortality\": 73.6, \"gdp\": 1608.0, \"region\": \"Sub-Saharan Africa\"}, {\"Country\": \"Georgia\", \"Year\": 2013, \"fertility\": 1.817, \"life\": 74.301, \"population\": 4278410.0, \"child_mortality\": 13.4, \"gdp\": 6930.0, \"region\": \"Europe & Central Asia\"}, {\"Country\": \"Germany\", \"Year\": 2013, \"fertility\": 1.419, \"life\": 80.743, \"population\": 81804228.0, \"child_mortality\": 3.9, \"gdp\": 42887.0, \"region\": \"Europe & Central Asia\"}, {\"Country\": \"Ghana\", \"Year\": 2013, \"fertility\": 3.857, \"life\": 61.132, \"population\": 26131336.0, \"child_mortality\": 66.5, \"gdp\": 3873.0, \"region\": \"Sub-Saharan Africa\"}, {\"Country\": \"Greece\", \"Year\": 2013, \"fertility\": 1.529, \"life\": 80.77, \"population\": 11445691.0, \"child_mortality\": 4.3, \"gdp\": 24159.0, \"region\": \"Europe & Central Asia\"}, {\"Country\": \"Greenland\", \"Year\": 2013, \"fertility\": 2.077, \"life\": 71.5, \"population\": 57300.0, \"child_mortality\": null, \"gdp\": 26688.0, \"region\": \"Europe & Central Asia\"}, {\"Country\": \"Grenada\", \"Year\": 2013, \"fertility\": 2.17, \"life\": 72.768, \"population\": 105719.0, \"child_mortality\": 12.5, \"gdp\": 11273.0, \"region\": \"America\"}, {\"Country\": \"Guadeloupe\", \"Year\": 2013, \"fertility\": 2.08, \"life\": 80.947, \"population\": 467335.0, \"child_mortality\": 6.27, \"gdp\": null, \"region\": \"America\"}, {\"Country\": \"Guam\", \"Year\": 2013, \"fertility\": 2.405, \"life\": 78.854, \"population\": 186562.0, \"child_mortality\": 11.03, \"gdp\": null, \"region\": \"East Asia & Pacific\"}, {\"Country\": \"Guatemala\", \"Year\": 2013, \"fertility\": 3.783, \"life\": 72.09899999999999, \"population\": 15527502.0, \"child_mortality\": 31.1, \"gdp\": 7063.0, \"region\": \"America\"}, {\"Country\": \"Guinea\", \"Year\": 2013, \"fertility\": 4.915, \"life\": 56.112, \"population\": 10753680.0, \"child_mortality\": 100.4, \"gdp\": 1213.0, \"region\": \"Sub-Saharan Africa\"}, {\"Country\": \"Guinea-Bissau\", \"Year\": 2013, \"fertility\": 4.927, \"life\": 54.291, \"population\": 1612913.0, \"child_mortality\": 100.5, \"gdp\": 1362.0, \"region\": \"Sub-Saharan Africa\"}, {\"Country\": \"Guyana\", \"Year\": 2013, \"fertility\": 2.546, \"life\": 66.295, \"population\": 759262.0, \"child_mortality\": 40.8, \"gdp\": 6336.0, \"region\": \"America\"}, {\"Country\": \"Haiti\", \"Year\": 2013, \"fertility\": 3.148, \"life\": 63.102, \"population\": 10388424.0, \"child_mortality\": 73.1, \"gdp\": 1648.0, \"region\": \"America\"}, {\"Country\": \"Honduras\", \"Year\": 2013, \"fertility\": 3.0010000000000003, \"life\": 73.817, \"population\": 8071522.0, \"child_mortality\": 21.8, \"gdp\": 4154.0, \"region\": \"America\"}, {\"Country\": \"Hong Kong, China\", \"Year\": 2013, \"fertility\": 1.135, \"life\": 83.37799999999999, \"population\": 7274125.0, \"child_mortality\": 2.58, \"gdp\": 51656.0, \"region\": \"East Asia & Pacific\"}, {\"Country\": \"Hungary\", \"Year\": 2013, \"fertility\": 1.411, \"life\": 74.62, \"population\": 9933795.0, \"child_mortality\": 6.3, \"gdp\": 22708.0, \"region\": \"Europe & Central Asia\"}, {\"Country\": \"Iceland\", \"Year\": 2013, \"fertility\": 2.083, \"life\": 82.086, \"population\": 331996.0, \"child_mortality\": 2.1, \"gdp\": 40958.0, \"region\": \"Europe & Central Asia\"}, {\"Country\": \"India\", \"Year\": 2013, \"fertility\": 2.479, \"life\": 66.414, \"population\": 1275137828.0, \"child_mortality\": 52.1, \"gdp\": 5244.0, \"region\": \"South Asia\"}, {\"Country\": \"Indonesia\", \"Year\": 2013, \"fertility\": 2.338, \"life\": 70.833, \"population\": 247188189.0, \"child_mortality\": 29.3, \"gdp\": 9729.0, \"region\": \"East Asia & Pacific\"}, {\"Country\": \"Iran\", \"Year\": 2013, \"fertility\": 1.92, \"life\": 74.048, \"population\": 76407013.0, \"child_mortality\": 16.8, \"gdp\": 15552.0, \"region\": \"Middle East & North Africa\"}, {\"Country\": \"Iraq\", \"Year\": 2013, \"fertility\": 4.026, \"life\": 69.419, \"population\": 34776205.0, \"child_mortality\": 33.9, \"gdp\": 15368.0, \"region\": \"Middle East & North Africa\"}, {\"Country\": \"Ireland\", \"Year\": 2013, \"fertility\": 1.997, \"life\": 80.707, \"population\": 4631391.0, \"child_mortality\": 3.8, \"gdp\": 44640.0, \"region\": \"Europe & Central Asia\"}, {\"Country\": \"Israel\", \"Year\": 2013, \"fertility\": 2.898, \"life\": 81.801, \"population\": 7818860.0, \"child_mortality\": 4.2, \"gdp\": 30927.0, \"region\": \"Middle East & North Africa\"}, {\"Country\": \"Italy\", \"Year\": 2013, \"fertility\": 1.487, \"life\": 82.385, \"population\": 61087395.0, \"child_mortality\": 3.6, \"gdp\": 33827.0, \"region\": \"Europe & Central Asia\"}, {\"Country\": \"Jamaica\", \"Year\": 2013, \"fertility\": 2.26, \"life\": 73.525, \"population\": 2771179.0, \"child_mortality\": 16.7, \"gdp\": 8607.0, \"region\": \"America\"}, {\"Country\": \"Japan\", \"Year\": 2013, \"fertility\": 1.419, \"life\": 83.58, \"population\": 126345235.0, \"child_mortality\": 2.9, \"gdp\": 35614.0, \"region\": \"East Asia & Pacific\"}, {\"Country\": \"Jordan\", \"Year\": 2013, \"fertility\": 3.244, \"life\": 73.854, \"population\": 6572903.0, \"child_mortality\": 19.0, \"gdp\": 11405.0, \"region\": \"Middle East & North Africa\"}, {\"Country\": \"Kazakhstan\", \"Year\": 2013, \"fertility\": 2.455, \"life\": 66.536, \"population\": 16550975.0, \"child_mortality\": 16.4, \"gdp\": 22470.0, \"region\": \"Europe & Central Asia\"}, {\"Country\": \"Kenya\", \"Year\": 2013, \"fertility\": 4.382, \"life\": 61.716, \"population\": 43923719.0, \"child_mortality\": 54.5, \"gdp\": 2706.0, \"region\": \"Sub-Saharan Africa\"}, {\"Country\": \"Kiribati\", \"Year\": 2013, \"fertility\": 2.952, \"life\": 68.905, \"population\": 104251.0, \"child_mortality\": 58.9, \"gdp\": 1796.0, \"region\": \"East Asia & Pacific\"}, {\"Country\": \"Korea, Dem. Rep.\", \"Year\": 2013, \"fertility\": 1.988, \"life\": 69.999, \"population\": 24654358.0, \"child_mortality\": null, \"gdp\": null, \"region\": \"East Asia & Pacific\"}, {\"Country\": \"Korea, Rep.\", \"Year\": 2013, \"fertility\": 1.321, \"life\": 81.535, \"population\": 48774767.0, \"child_mortality\": null, \"gdp\": null, \"region\": \"East Asia & Pacific\"}, {\"Country\": \"Kuwait\", \"Year\": 2013, \"fertility\": 2.6, \"life\": 74.288, \"population\": 2959015.0, \"child_mortality\": 9.4, \"gdp\": 79395.0, \"region\": \"Middle East & North Africa\"}, {\"Country\": \"Kyrgyzstan\", \"Year\": 2013, \"fertility\": 3.075, \"life\": 67.533, \"population\": 5503253.0, \"child_mortality\": null, \"gdp\": null, \"region\": \"Europe & Central Asia\"}, {\"Country\": \"Laos\", \"Year\": 2013, \"fertility\": 3.02, \"life\": 68.309, \"population\": 6458911.0, \"child_mortality\": null, \"gdp\": null, \"region\": \"East Asia & Pacific\"}, {\"Country\": \"Latvia\", \"Year\": 2013, \"fertility\": 1.607, \"life\": 72.15, \"population\": 2226260.0, \"child_mortality\": 8.4, \"gdp\": 21699.0, \"region\": \"Europe & Central Asia\"}, {\"Country\": \"Lebanon\", \"Year\": 2013, \"fertility\": 1.495, \"life\": 80.007, \"population\": 4324060.0, \"child_mortality\": 8.9, \"gdp\": 16623.0, \"region\": \"Middle East & North Africa\"}, {\"Country\": \"Lesotho\", \"Year\": 2013, \"fertility\": 3.0380000000000003, \"life\": 49.446000000000005, \"population\": 2240126.0, \"child_mortality\": 98.9, \"gdp\": 2473.0, \"region\": \"Sub-Saharan Africa\"}, {\"Country\": \"Liberia\", \"Year\": 2013, \"fertility\": 4.792, \"life\": 60.556, \"population\": 4348740.0, \"child_mortality\": 76.3, \"gdp\": 875.0, \"region\": \"Sub-Saharan Africa\"}, {\"Country\": \"Libya\", \"Year\": 2013, \"fertility\": 2.356, \"life\": 75.325, \"population\": 6506095.0, \"child_mortality\": 14.5, \"gdp\": 19760.0, \"region\": \"Middle East & North Africa\"}, {\"Country\": \"Lithuania\", \"Year\": 2013, \"fertility\": 1.519, \"life\": 72.11, \"population\": 3278337.0, \"child_mortality\": 4.9, \"gdp\": 24732.0, \"region\": \"Europe & Central Asia\"}, {\"Country\": \"Luxembourg\", \"Year\": 2013, \"fertility\": 1.671, \"life\": 80.547, \"population\": 530018.0, \"child_mortality\": 2.0, \"gdp\": 88850.0, \"region\": \"Europe & Central Asia\"}, {\"Country\": \"Macao, China\", \"Year\": 2013, \"fertility\": 1.083, \"life\": 80.4, \"population\": 578844.0, \"child_mortality\": 5.33, \"gdp\": 136540.0, \"region\": \"East Asia & Pacific\"}, {\"Country\": \"Macedonia, FYR\", \"Year\": 2013, \"fertility\": 1.431, \"life\": 75.19800000000001, \"population\": 2069219.0, \"child_mortality\": 6.6, \"gdp\": 11664.0, \"region\": \"Europe & Central Asia\"}, {\"Country\": \"Madagascar\", \"Year\": 2013, \"fertility\": 4.468, \"life\": 64.723, \"population\": 22555046.0, \"child_mortality\": 53.4, \"gdp\": 1369.0, \"region\": \"Sub-Saharan Africa\"}, {\"Country\": \"Malawi\", \"Year\": 2013, \"fertility\": 5.388999999999999, \"life\": 55.31100000000001, \"population\": 16406945.0, \"child_mortality\": 72.6, \"gdp\": 757.0, \"region\": \"Sub-Saharan Africa\"}, {\"Country\": \"Malaysia\", \"Year\": 2013, \"fertility\": 1.964, \"life\": 75.017, \"population\": 29787203.0, \"child_mortality\": 8.4, \"gdp\": 22589.0, \"region\": \"East Asia & Pacific\"}, {\"Country\": \"Maldives\", \"Year\": 2013, \"fertility\": 2.256, \"life\": 77.919, \"population\": 328551.0, \"child_mortality\": 9.9, \"gdp\": 13353.0, \"region\": \"South Asia\"}, {\"Country\": \"Mali\", \"Year\": 2013, \"fertility\": 6.847, \"life\": 55.032, \"population\": 16808242.0, \"child_mortality\": 122.7, \"gdp\": 1589.0, \"region\": \"Sub-Saharan Africa\"}, {\"Country\": \"Malta\", \"Year\": 2013, \"fertility\": 1.356, \"life\": 79.75, \"population\": 420557.0, \"child_mortality\": 6.1, \"gdp\": 28822.0, \"region\": \"Europe & Central Asia\"}, {\"Country\": \"Martinique\", \"Year\": 2013, \"fertility\": 1.827, \"life\": 81.41, \"population\": 409366.0, \"child_mortality\": 7.22, \"gdp\": null, \"region\": \"America\"}, {\"Country\": \"Mauritania\", \"Year\": 2013, \"fertility\": 4.67, \"life\": 61.55, \"population\": 3704414.0, \"child_mortality\": 90.2, \"gdp\": 3579.0, \"region\": \"Sub-Saharan Africa\"}, {\"Country\": \"Mauritius\", \"Year\": 2013, \"fertility\": 1.501, \"life\": 73.613, \"population\": 1320785.0, \"child_mortality\": 14.3, \"gdp\": 17146.0, \"region\": \"Sub-Saharan Africa\"}, {\"Country\": \"Mayotte\", \"Year\": 2013, \"fertility\": 3.802, \"life\": 79.19, \"population\": 223907.0, \"child_mortality\": 4.69, \"gdp\": null, \"region\": \"Sub-Saharan Africa\"}, {\"Country\": \"Mexico\", \"Year\": 2013, \"fertility\": 2.185, \"life\": 77.501, \"population\": 117478371.0, \"child_mortality\": 14.5, \"gdp\": 16346.0, \"region\": \"America\"}, {\"Country\": \"Micronesia, Fed. Sts.\", \"Year\": 2013, \"fertility\": 3.294, \"life\": 68.993, \"population\": 112726.0, \"child_mortality\": 37.0, \"gdp\": 3286.0, \"region\": \"East Asia & Pacific\"}, {\"Country\": \"Moldova\", \"Year\": 2013, \"fertility\": 1.456, \"life\": 68.899, \"population\": 3495657.0, \"child_mortality\": 16.4, \"gdp\": 4542.0, \"region\": \"Europe & Central Asia\"}, {\"Country\": \"Mongolia\", \"Year\": 2013, \"fertility\": 2.436, \"life\": 67.503, \"population\": 2887863.0, \"child_mortality\": 24.7, \"gdp\": 10833.0, \"region\": \"East Asia & Pacific\"}, {\"Country\": \"Montenegro\", \"Year\": 2013, \"fertility\": 1.666, \"life\": 74.821, \"population\": 633167.0, \"child_mortality\": 5.3, \"gdp\": 14156.0, \"region\": \"Europe & Central Asia\"}, {\"Country\": \"Morocco\", \"Year\": 2013, \"fertility\": 2.735, \"life\": 70.941, \"population\": 32925553.0, \"child_mortality\": 29.7, \"gdp\": 6967.0, \"region\": \"Middle East & North Africa\"}, {\"Country\": \"Mozambique\", \"Year\": 2013, \"fertility\": 5.188, \"life\": 50.25, \"population\": 25028313.0, \"child_mortality\": 87.2, \"gdp\": 1064.0, \"region\": \"Sub-Saharan Africa\"}, {\"Country\": \"Myanmar\", \"Year\": 2013, \"fertility\": 1.938, \"life\": 65.176, \"population\": 49119646.0, \"child_mortality\": 53.5, \"gdp\": 3526.0, \"region\": \"East Asia & Pacific\"}, {\"Country\": \"Namibia\", \"Year\": 2013, \"fertility\": 3.051, \"life\": 64.483, \"population\": 2404477.0, \"child_mortality\": 49.5, \"gdp\": 9275.0, \"region\": \"Sub-Saharan Africa\"}, {\"Country\": \"Nepal\", \"Year\": 2013, \"fertility\": 2.3, \"life\": 68.41, \"population\": 31535507.0, \"child_mortality\": 39.0, \"gdp\": 2173.0, \"region\": \"South Asia\"}, {\"Country\": \"Netherlands\", \"Year\": 2013, \"fertility\": 1.774, \"life\": 81.038, \"population\": 16761552.0, \"child_mortality\": 4.0, \"gdp\": 45021.0, \"region\": \"Europe & Central Asia\"}, {\"Country\": \"Netherlands Antilles\", \"Year\": 2013, \"fertility\": 1.89, \"life\": 76.89399999999999, \"population\": 205860.0, \"child_mortality\": null, \"gdp\": null, \"region\": \"America\"}, {\"Country\": \"New Caledonia\", \"Year\": 2013, \"fertility\": 2.127, \"life\": 76.306, \"population\": 262605.0, \"child_mortality\": 15.0, \"gdp\": null, \"region\": \"East Asia & Pacific\"}, {\"Country\": \"New Zealand\", \"Year\": 2013, \"fertility\": 2.052, \"life\": 81.132, \"population\": 4508166.0, \"child_mortality\": 5.9, \"gdp\": 33360.0, \"region\": \"East Asia & Pacific\"}, {\"Country\": \"Nicaragua\", \"Year\": 2013, \"fertility\": 2.498, \"life\": 74.839, \"population\": 6041763.0, \"child_mortality\": 23.5, \"gdp\": 4432.0, \"region\": \"America\"}, {\"Country\": \"Niger\", \"Year\": 2013, \"fertility\": 7.561, \"life\": 58.409, \"population\": 17239826.0, \"child_mortality\": 104.1, \"gdp\": 897.0, \"region\": \"Sub-Saharan Africa\"}, {\"Country\": \"Nigeria\", \"Year\": 2013, \"fertility\": 5.976, \"life\": 52.506, \"population\": 170901148.0, \"child_mortality\": 116.6, \"gdp\": 5423.0, \"region\": \"Sub-Saharan Africa\"}, {\"Country\": \"Norway\", \"Year\": 2013, \"fertility\": 1.931, \"life\": 81.503, \"population\": 4991997.0, \"child_mortality\": 2.8, \"gdp\": 63322.0, \"region\": \"Europe & Central Asia\"}, {\"Country\": \"Oman\", \"Year\": 2013, \"fertility\": 2.853, \"life\": 76.55199999999999, \"population\": 2957333.0, \"child_mortality\": 11.7, \"gdp\": 41770.0, \"region\": \"Middle East & North Africa\"}, {\"Country\": \"Pakistan\", \"Year\": 2013, \"fertility\": 3.185, \"life\": 66.57, \"population\": 183188847.0, \"child_mortality\": 85.6, \"gdp\": 4454.0, \"region\": \"South Asia\"}, {\"Country\": \"Panama\", \"Year\": 2013, \"fertility\": 2.466, \"life\": 77.556, \"population\": 3678264.0, \"child_mortality\": 18.1, \"gdp\": 18793.0, \"region\": \"America\"}, {\"Country\": \"Papua New Guinea\", \"Year\": 2013, \"fertility\": 3.781, \"life\": 62.42100000000001, \"population\": 7327281.0, \"child_mortality\": 60.9, \"gdp\": 2558.0, \"region\": \"East Asia & Pacific\"}, {\"Country\": \"Paraguay\", \"Year\": 2013, \"fertility\": 2.864, \"life\": 72.259, \"population\": 6798236.0, \"child_mortality\": 21.9, \"gdp\": 7833.0, \"region\": \"America\"}, {\"Country\": \"Peru\", \"Year\": 2013, \"fertility\": 2.417, \"life\": 74.82600000000001, \"population\": 30075185.0, \"child_mortality\": 18.3, \"gdp\": 11395.0, \"region\": \"America\"}, {\"Country\": \"Philippines\", \"Year\": 2013, \"fertility\": 3.043, \"life\": 68.703, \"population\": 98112780.0, \"child_mortality\": 29.6, \"gdp\": 6326.0, \"region\": \"East Asia & Pacific\"}, {\"Country\": \"Poland\", \"Year\": 2013, \"fertility\": 1.4169999999999998, \"life\": 76.408, \"population\": 38331803.0, \"child_mortality\": 5.2, \"gdp\": 23144.0, \"region\": \"Europe & Central Asia\"}, {\"Country\": \"Portugal\", \"Year\": 2013, \"fertility\": 1.315, \"life\": 79.945, \"population\": 10704534.0, \"child_mortality\": 3.8, \"gdp\": 25677.0, \"region\": \"Europe & Central Asia\"}, {\"Country\": \"Puerto Rico\", \"Year\": 2013, \"fertility\": 1.636, \"life\": 78.86399999999999, \"population\": 3742334.0, \"child_mortality\": 7.16, \"gdp\": 33818.0, \"region\": \"America\"}, {\"Country\": \"Qatar\", \"Year\": 2013, \"fertility\": 2.019, \"life\": 78.369, \"population\": 1976840.0, \"child_mortality\": 8.2, \"gdp\": 131579.0, \"region\": \"Middle East & North Africa\"}, {\"Country\": \"Reunion\", \"Year\": 2013, \"fertility\": 2.232, \"life\": 79.646, \"population\": 874944.0, \"child_mortality\": 4.69, \"gdp\": null, \"region\": \"Sub-Saharan Africa\"}, {\"Country\": \"Romania\", \"Year\": 2013, \"fertility\": 1.4169999999999998, \"life\": 73.831, \"population\": 21338815.0, \"child_mortality\": 12.0, \"gdp\": 18182.0, \"region\": \"Europe & Central Asia\"}, {\"Country\": \"Russia\", \"Year\": 2013, \"fertility\": 1.595, \"life\": 67.979, \"population\": 142557892.0, \"child_mortality\": 10.4, \"gdp\": 23561.0, \"region\": \"Europe & Central Asia\"}, {\"Country\": \"Rwanda\", \"Year\": 2013, \"fertility\": 4.508, \"life\": 64.066, \"population\": 11608439.0, \"child_mortality\": 48.2, \"gdp\": 1426.0, \"region\": \"Sub-Saharan Africa\"}, {\"Country\": \"Saint Lucia\", \"Year\": 2013, \"fertility\": 1.912, \"life\": 74.804, \"population\": 179515.0, \"child_mortality\": null, \"gdp\": null, \"region\": \"America\"}, {\"Country\": \"Saint Vincent and the Grenadines\", \"Year\": 2013, \"fertility\": 1.997, \"life\": 72.488, \"population\": 109354.0, \"child_mortality\": null, \"gdp\": null, \"region\": \"America\"}, {\"Country\": \"Samoa\", \"Year\": 2013, \"fertility\": 4.147, \"life\": 73.156, \"population\": 185727.0, \"child_mortality\": 18.2, \"gdp\": 5502.0, \"region\": \"East Asia & Pacific\"}, {\"Country\": \"Sao Tome and Principe\", \"Year\": 2013, \"fertility\": 4.075, \"life\": 66.337, \"population\": 175383.0, \"child_mortality\": 50.8, \"gdp\": 2876.0, \"region\": \"Sub-Saharan Africa\"}, {\"Country\": \"Saudi Arabia\", \"Year\": 2013, \"fertility\": 2.644, \"life\": 75.479, \"population\": 29319402.0, \"child_mortality\": 15.5, \"gdp\": 51294.0, \"region\": \"Middle East & North Africa\"}, {\"Country\": \"Senegal\", \"Year\": 2013, \"fertility\": 4.934, \"life\": 63.451, \"population\": 13454191.0, \"child_mortality\": 52.5, \"gdp\": 2185.0, \"region\": \"Sub-Saharan Africa\"}, {\"Country\": \"Serbia\", \"Year\": 2013, \"fertility\": 1.365, \"life\": 74.059, \"population\": 9835010.0, \"child_mortality\": 6.9, \"gdp\": 12889.0, \"region\": \"Europe & Central Asia\"}, {\"Country\": \"Seychelles\", \"Year\": 2013, \"fertility\": 2.18, \"life\": 73.187, \"population\": 87417.0, \"child_mortality\": 14.0, \"gdp\": 24805.0, \"region\": \"Sub-Saharan Africa\"}, {\"Country\": \"Sierra Leone\", \"Year\": 2013, \"fertility\": 4.705, \"life\": 45.56100000000001, \"population\": 6255163.0, \"child_mortality\": 133.4, \"gdp\": 1865.0, \"region\": \"Sub-Saharan Africa\"}, {\"Country\": \"Singapore\", \"Year\": 2013, \"fertility\": 1.2819999999999998, \"life\": 82.322, \"population\": 5300914.0, \"child_mortality\": 2.8, \"gdp\": 77721.0, \"region\": \"East Asia & Pacific\"}, {\"Country\": \"Slovak Republic\", \"Year\": 2013, \"fertility\": 1.396, \"life\": 75.39699999999999, \"population\": 5488775.0, \"child_mortality\": 7.2, \"gdp\": 25759.0, \"region\": \"Europe & Central Asia\"}, {\"Country\": \"Slovenia\", \"Year\": 2013, \"fertility\": 1.509, \"life\": 79.59100000000001, \"population\": 2044766.0, \"child_mortality\": 2.9, \"gdp\": 27368.0, \"region\": \"Europe & Central Asia\"}, {\"Country\": \"Solomon Islands\", \"Year\": 2013, \"fertility\": 4.031000000000001, \"life\": 67.675, \"population\": 580791.0, \"child_mortality\": 29.9, \"gdp\": 2041.0, \"region\": \"East Asia & Pacific\"}, {\"Country\": \"Somalia\", \"Year\": 2013, \"fertility\": 6.563, \"life\": 55.05, \"population\": 10052842.0, \"child_mortality\": 146.1, \"gdp\": 619.0, \"region\": \"Sub-Saharan Africa\"}, {\"Country\": \"South Africa\", \"Year\": 2013, \"fertility\": 2.387, \"life\": 56.916, \"population\": 50981076.0, \"child_mortality\": 45.1, \"gdp\": 12454.0, \"region\": \"Sub-Saharan Africa\"}, {\"Country\": \"South Sudan\", \"Year\": 2013, \"fertility\": 4.92, \"life\": 55.264, \"population\": 10881979.0, \"child_mortality\": 99.2, \"gdp\": 1965.0, \"region\": \"Sub-Saharan Africa\"}, {\"Country\": \"Spain\", \"Year\": 2013, \"fertility\": 1.505, \"life\": 82.1, \"population\": 47042602.0, \"child_mortality\": 4.3, \"gdp\": 31681.0, \"region\": \"Europe & Central Asia\"}, {\"Country\": \"Sri Lanka\", \"Year\": 2013, \"fertility\": 2.339, \"life\": 74.293, \"population\": 21393876.0, \"child_mortality\": 9.4, \"gdp\": 9426.0, \"region\": \"South Asia\"}, {\"Country\": \"Sudan\", \"Year\": 2013, \"fertility\": 4.42, \"life\": 62.055, \"population\": 35940905.0, \"child_mortality\": 74.2, \"gdp\": 3903.0, \"region\": \"Sub-Saharan Africa\"}, {\"Country\": \"Suriname\", \"Year\": 2013, \"fertility\": 2.268, \"life\": 71.01899999999999, \"population\": 538882.0, \"child_mortality\": 22.6, \"gdp\": 15556.0, \"region\": \"America\"}, {\"Country\": \"Swaziland\", \"Year\": 2013, \"fertility\": 3.334, \"life\": 49.0, \"population\": 1237166.0, \"child_mortality\": 74.9, \"gdp\": 5998.0, \"region\": \"Sub-Saharan Africa\"}, {\"Country\": \"Sweden\", \"Year\": 2013, \"fertility\": 1.928, \"life\": 81.818, \"population\": 9545823.0, \"child_mortality\": 3.0, \"gdp\": 43448.0, \"region\": \"Europe & Central Asia\"}, {\"Country\": \"Switzerland\", \"Year\": 2013, \"fertility\": 1.533, \"life\": 82.604, \"population\": 7761820.0, \"child_mortality\": 4.2, \"gdp\": 54983.0, \"region\": \"Europe & Central Asia\"}, {\"Country\": \"Syria\", \"Year\": 2013, \"fertility\": 2.964, \"life\": 71.0, \"population\": 21468962.0, \"child_mortality\": 15.3, \"gdp\": 5464.0, \"region\": \"Middle East & North Africa\"}, {\"Country\": \"Taiwan\", \"Year\": 2013, \"fertility\": 1.065, \"life\": 79.75, \"population\": 23151000.0, \"child_mortality\": null, \"gdp\": 40214.0, \"region\": \"East Asia & Pacific\"}, {\"Country\": \"Tajikistan\", \"Year\": 2013, \"fertility\": 3.815, \"life\": 67.248, \"population\": 7183529.0, \"child_mortality\": 47.8, \"gdp\": 2432.0, \"region\": \"Europe & Central Asia\"}, {\"Country\": \"Tanzania\", \"Year\": 2013, \"fertility\": 5.214, \"life\": 61.53, \"population\": 49153002.0, \"child_mortality\": 52.6, \"gdp\": 2382.0, \"region\": \"Sub-Saharan Africa\"}, {\"Country\": \"Thailand\", \"Year\": 2013, \"fertility\": 1.399, \"life\": 74.40100000000001, \"population\": 70243267.0, \"child_mortality\": 13.1, \"gdp\": 13932.0, \"region\": \"East Asia & Pacific\"}, {\"Country\": \"Timor-Leste\", \"Year\": 2013, \"fertility\": 5.855, \"life\": 67.538, \"population\": 1223665.0, \"child_mortality\": 56.5, \"gdp\": 2093.0, \"region\": \"East Asia & Pacific\"}, {\"Country\": \"Togo\", \"Year\": 2013, \"fertility\": 4.638999999999999, \"life\": 56.537, \"population\": 6412560.0, \"child_mortality\": 83.3, \"gdp\": 1346.0, \"region\": \"Sub-Saharan Africa\"}, {\"Country\": \"Tonga\", \"Year\": 2013, \"fertility\": 3.767, \"life\": 72.673, \"population\": 105265.0, \"child_mortality\": 17.3, \"gdp\": 4879.0, \"region\": \"East Asia & Pacific\"}, {\"Country\": \"Trinidad and Tobago\", \"Year\": 2013, \"fertility\": 1.797, \"life\": 69.865, \"population\": 1355342.0, \"child_mortality\": 21.5, \"gdp\": 29469.0, \"region\": \"America\"}, {\"Country\": \"Tunisia\", \"Year\": 2013, \"fertility\": 2.008, \"life\": 75.873, \"population\": 10813680.0, \"child_mortality\": 15.2, \"gdp\": 10768.0, \"region\": \"Middle East & North Africa\"}, {\"Country\": \"Turkey\", \"Year\": 2013, \"fertility\": 2.041, \"life\": 75.259, \"population\": 75359032.0, \"child_mortality\": 15.4, \"gdp\": 18579.0, \"region\": \"Europe & Central Asia\"}, {\"Country\": \"Turkmenistan\", \"Year\": 2013, \"fertility\": 2.326, \"life\": 65.452, \"population\": 5234640.0, \"child_mortality\": 54.7, \"gdp\": 13555.0, \"region\": \"Europe & Central Asia\"}, {\"Country\": \"Uganda\", \"Year\": 2013, \"fertility\": 5.867000000000001, \"life\": 59.209, \"population\": 36759274.0, \"child_mortality\": 65.1, \"gdp\": 1621.0, \"region\": \"Sub-Saharan Africa\"}, {\"Country\": \"Ukraine\", \"Year\": 2013, \"fertility\": 1.47, \"life\": 68.525, \"population\": 44696741.0, \"child_mortality\": 10.0, \"gdp\": 8338.0, \"region\": \"Europe & Central Asia\"}, {\"Country\": \"United Arab Emirates\", \"Year\": 2013, \"fertility\": 1.801, \"life\": 76.84100000000001, \"population\": 8207940.0, \"child_mortality\": 7.4, \"gdp\": 59092.0, \"region\": \"Middle East & North Africa\"}, {\"Country\": \"United Kingdom\", \"Year\": 2013, \"fertility\": 1.892, \"life\": 80.547, \"population\": 63177406.0, \"child_mortality\": 4.6, \"gdp\": 36908.0, \"region\": \"Europe & Central Asia\"}, {\"Country\": \"United States\", \"Year\": 2013, \"fertility\": 1.976, \"life\": 78.941, \"population\": 318497630.0, \"child_mortality\": 6.9, \"gdp\": 51282.0, \"region\": \"America\"}, {\"Country\": \"Uruguay\", \"Year\": 2013, \"fertility\": 2.046, \"life\": 77.23, \"population\": 3403117.0, \"child_mortality\": 11.1, \"gdp\": 19321.0, \"region\": \"America\"}, {\"Country\": \"Uzbekistan\", \"Year\": 2013, \"fertility\": 2.309, \"life\": 68.241, \"population\": 28398155.0, \"child_mortality\": 41.8, \"gdp\": 5002.0, \"region\": \"Europe & Central Asia\"}, {\"Country\": \"Vanuatu\", \"Year\": 2013, \"fertility\": 3.382, \"life\": 71.626, \"population\": 257812.0, \"child_mortality\": 28.4, \"gdp\": 2895.0, \"region\": \"East Asia & Pacific\"}, {\"Country\": \"Venezuela\", \"Year\": 2013, \"fertility\": 2.39, \"life\": 74.633, \"population\": 30340637.0, \"child_mortality\": 15.7, \"gdp\": 17614.0, \"region\": \"America\"}, {\"Country\": \"Vietnam\", \"Year\": 2013, \"fertility\": 1.743, \"life\": 75.945, \"population\": 90656550.0, \"child_mortality\": 22.9, \"gdp\": 5125.0, \"region\": \"East Asia & Pacific\"}, {\"Country\": \"Virgin Islands (U.S.)\", \"Year\": 2013, \"fertility\": 2.487, \"life\": 80.152, \"population\": 108300.0, \"child_mortality\": 10.82, \"gdp\": null, \"region\": \"America\"}, {\"Country\": \"West Bank and Gaza\", \"Year\": 2013, \"fertility\": 4.01, \"life\": 73.203, \"population\": 4393572.0, \"child_mortality\": 22.3, \"gdp\": 4498.0, \"region\": \"Middle East & North Africa\"}, {\"Country\": \"Western Sahara\", \"Year\": 2013, \"fertility\": 2.363, \"life\": 67.764, \"population\": 585270.0, \"child_mortality\": 45.03, \"gdp\": null, \"region\": \"Middle East & North Africa\"}, {\"Country\": \"Yemen, Rep.\", \"Year\": 2013, \"fertility\": 4.075, \"life\": 63.112, \"population\": 26358020.0, \"child_mortality\": null, \"gdp\": null, \"region\": \"Middle East & North Africa\"}, {\"Country\": \"Zambia\", \"Year\": 2013, \"fertility\": 5.687, \"life\": 58.105, \"population\": 14314515.0, \"child_mortality\": 72.8, \"gdp\": 3800.0, \"region\": \"Sub-Saharan Africa\"}, {\"Country\": \"Zimbabwe\", \"Year\": 2013, \"fertility\": 3.486, \"life\": 59.871, \"population\": 13327925.0, \"child_mortality\": 83.3, \"gdp\": 1773.0, \"region\": \"Sub-Saharan Africa\"}]}}, {\"mode\": \"vega-lite\"});\n",
       "</script>"
      ],
      "text/plain": [
       "alt.Chart(...)"
      ]
     },
     "execution_count": 6,
     "metadata": {},
     "output_type": "execute_result"
    }
   ],
   "source": [
    "alt.Chart(data_2013).mark_circle().encode(\n",
    "    alt.X('population:Q',\n",
    "          scale=alt.Scale(type='log'),\n",
    "          axis=alt.Axis(tickCount=5),\n",
    "          title='Population (log scale)',\n",
    "          ),\n",
    "    color=alt.Color('region:N'),\n",
    ").properties(\n",
    "    width=700,\n",
    "    height=30\n",
    ")"
   ]
  },
  {
   "cell_type": "markdown",
   "metadata": {},
   "source": [
    "You can move the legend to another position with the `orient` and `horizontal` arguments and use different color scales available in Altair.\n",
    "\n",
    "For a complete list of available color scales refer to the [Vega](https://vega.github.io/vega/docs/schemes/) documentation"
   ]
  },
  {
   "cell_type": "code",
   "execution_count": 7,
   "metadata": {
    "ExecuteTime": {
     "end_time": "2025-04-28T10:18:49.088123Z",
     "start_time": "2025-04-28T10:18:49.078520Z"
    }
   },
   "outputs": [
    {
     "data": {
      "text/html": [
       "\n",
       "<style>\n",
       "  #altair-viz-1ea145dce86341de8ea9e2ae4d6f8428.vega-embed {\n",
       "    width: 100%;\n",
       "    display: flex;\n",
       "  }\n",
       "\n",
       "  #altair-viz-1ea145dce86341de8ea9e2ae4d6f8428.vega-embed details,\n",
       "  #altair-viz-1ea145dce86341de8ea9e2ae4d6f8428.vega-embed details summary {\n",
       "    position: relative;\n",
       "  }\n",
       "</style>\n",
       "<div id=\"altair-viz-1ea145dce86341de8ea9e2ae4d6f8428\"></div>\n",
       "<script type=\"text/javascript\">\n",
       "  var VEGA_DEBUG = (typeof VEGA_DEBUG == \"undefined\") ? {} : VEGA_DEBUG;\n",
       "  (function(spec, embedOpt){\n",
       "    let outputDiv = document.currentScript.previousElementSibling;\n",
       "    if (outputDiv.id !== \"altair-viz-1ea145dce86341de8ea9e2ae4d6f8428\") {\n",
       "      outputDiv = document.getElementById(\"altair-viz-1ea145dce86341de8ea9e2ae4d6f8428\");\n",
       "    }\n",
       "\n",
       "    const paths = {\n",
       "      \"vega\": \"https://cdn.jsdelivr.net/npm/vega@5?noext\",\n",
       "      \"vega-lib\": \"https://cdn.jsdelivr.net/npm/vega-lib?noext\",\n",
       "      \"vega-lite\": \"https://cdn.jsdelivr.net/npm/vega-lite@5.20.1?noext\",\n",
       "      \"vega-embed\": \"https://cdn.jsdelivr.net/npm/vega-embed@6?noext\",\n",
       "    };\n",
       "\n",
       "    function maybeLoadScript(lib, version) {\n",
       "      var key = `${lib.replace(\"-\", \"\")}_version`;\n",
       "      return (VEGA_DEBUG[key] == version) ?\n",
       "        Promise.resolve(paths[lib]) :\n",
       "        new Promise(function(resolve, reject) {\n",
       "          var s = document.createElement('script');\n",
       "          document.getElementsByTagName(\"head\")[0].appendChild(s);\n",
       "          s.async = true;\n",
       "          s.onload = () => {\n",
       "            VEGA_DEBUG[key] = version;\n",
       "            return resolve(paths[lib]);\n",
       "          };\n",
       "          s.onerror = () => reject(`Error loading script: ${paths[lib]}`);\n",
       "          s.src = paths[lib];\n",
       "        });\n",
       "    }\n",
       "\n",
       "    function showError(err) {\n",
       "      outputDiv.innerHTML = `<div class=\"error\" style=\"color:red;\">${err}</div>`;\n",
       "      throw err;\n",
       "    }\n",
       "\n",
       "    function displayChart(vegaEmbed) {\n",
       "      vegaEmbed(outputDiv, spec, embedOpt)\n",
       "        .catch(err => showError(`Javascript Error: ${err.message}<br>This usually means there's a typo in your chart specification. See the javascript console for the full traceback.`));\n",
       "    }\n",
       "\n",
       "    if(typeof define === \"function\" && define.amd) {\n",
       "      requirejs.config({paths});\n",
       "      let deps = [\"vega-embed\"];\n",
       "      require(deps, displayChart, err => showError(`Error loading script: ${err.message}`));\n",
       "    } else {\n",
       "      maybeLoadScript(\"vega\", \"5\")\n",
       "        .then(() => maybeLoadScript(\"vega-lite\", \"5.20.1\"))\n",
       "        .then(() => maybeLoadScript(\"vega-embed\", \"6\"))\n",
       "        .catch(showError)\n",
       "        .then(() => displayChart(vegaEmbed));\n",
       "    }\n",
       "  })({\"config\": {\"view\": {\"continuousWidth\": 300, \"continuousHeight\": 300}}, \"data\": {\"name\": \"data-faecc67d693c08f21eb07d4142877490\"}, \"mark\": {\"type\": \"circle\"}, \"encoding\": {\"color\": {\"field\": \"region\", \"legend\": {\"direction\": \"horizontal\", \"orient\": \"top\"}, \"scale\": {\"scheme\": \"dark2\"}, \"type\": \"nominal\"}, \"tooltip\": [{\"field\": \"Country\", \"type\": \"nominal\"}, {\"field\": \"region\", \"type\": \"nominal\"}], \"x\": {\"axis\": {\"tickCount\": 5}, \"field\": \"population\", \"scale\": {\"type\": \"log\"}, \"title\": \"Population (log scale)\", \"type\": \"quantitative\"}}, \"height\": 30, \"width\": 700, \"$schema\": \"https://vega.github.io/schema/vega-lite/v5.20.1.json\", \"datasets\": {\"data-faecc67d693c08f21eb07d4142877490\": [{\"Country\": \"Afghanistan\", \"Year\": 2013, \"fertility\": 4.9, \"life\": 60.947, \"population\": 34499915.0, \"child_mortality\": 96.7, \"gdp\": 1884.0, \"region\": \"South Asia\"}, {\"Country\": \"Albania\", \"Year\": 2013, \"fertility\": 1.771, \"life\": 77.392, \"population\": 3238316.0, \"child_mortality\": 14.9, \"gdp\": 9961.0, \"region\": \"Europe & Central Asia\"}, {\"Country\": \"Algeria\", \"Year\": 2013, \"fertility\": 2.795, \"life\": 71.0, \"population\": 36983924.0, \"child_mortality\": 25.2, \"gdp\": 12893.0, \"region\": \"Middle East & North Africa\"}, {\"Country\": \"Angola\", \"Year\": 2013, \"fertility\": 5.863, \"life\": 51.899, \"population\": 20714494.0, \"child_mortality\": 167.1, \"gdp\": 7488.0, \"region\": \"Sub-Saharan Africa\"}, {\"Country\": \"Antigua and Barbuda\", \"Year\": 2013, \"fertility\": 2.089, \"life\": 75.954, \"population\": 91404.0, \"child_mortality\": 8.7, \"gdp\": 20353.0, \"region\": \"America\"}, {\"Country\": \"Argentina\", \"Year\": 2013, \"fertility\": 2.175, \"life\": 76.305, \"population\": 41473982.0, \"child_mortality\": 13.3, \"gdp\": 17629.0, \"region\": \"America\"}, {\"Country\": \"Armenia\", \"Year\": 2013, \"fertility\": 1.74, \"life\": 74.561, \"population\": 3117722.0, \"child_mortality\": 15.5, \"gdp\": 7527.0, \"region\": \"Europe & Central Asia\"}, {\"Country\": \"Aruba\", \"Year\": 2013, \"fertility\": 1.673, \"life\": 75.455, \"population\": 108883.0, \"child_mortality\": 17.03, \"gdp\": 36083.0, \"region\": \"America\"}, {\"Country\": \"Australia\", \"Year\": 2013, \"fertility\": 1.882, \"life\": 82.49600000000001, \"population\": 23213944.0, \"child_mortality\": 4.0, \"gdp\": 42840.0, \"region\": \"East Asia & Pacific\"}, {\"Country\": \"Austria\", \"Year\": 2013, \"fertility\": 1.471, \"life\": 81.137, \"population\": 8441263.0, \"child_mortality\": 3.9, \"gdp\": 44059.0, \"region\": \"Europe & Central Asia\"}, {\"Country\": \"Azerbaijan\", \"Year\": 2013, \"fertility\": 1.924, \"life\": 70.753, \"population\": 9533445.0, \"child_mortality\": 34.2, \"gdp\": 16593.0, \"region\": \"Europe & Central Asia\"}, {\"Country\": \"Bahamas\", \"Year\": 2013, \"fertility\": 1.888, \"life\": 75.237, \"population\": 355233.0, \"child_mortality\": 12.8, \"gdp\": 22518.0, \"region\": \"America\"}, {\"Country\": \"Bahrain\", \"Year\": 2013, \"fertility\": 2.075, \"life\": 76.608, \"population\": 1377273.0, \"child_mortality\": 6.9, \"gdp\": 42444.0, \"region\": \"Middle East & North Africa\"}, {\"Country\": \"Bangladesh\", \"Year\": 2013, \"fertility\": 2.177, \"life\": 70.657, \"population\": 154393847.0, \"child_mortality\": 41.6, \"gdp\": 2853.0, \"region\": \"South Asia\"}, {\"Country\": \"Barbados\", \"Year\": 2013, \"fertility\": 1.849, \"life\": 75.37, \"population\": 275141.0, \"child_mortality\": 13.7, \"gdp\": 12867.0, \"region\": \"America\"}, {\"Country\": \"Belarus\", \"Year\": 2013, \"fertility\": 1.494, \"life\": 69.928, \"population\": 9498290.0, \"child_mortality\": 4.9, \"gdp\": 17085.0, \"region\": \"Europe & Central Asia\"}, {\"Country\": \"Belgium\", \"Year\": 2013, \"fertility\": 1.854, \"life\": 80.548, \"population\": 10815599.0, \"child_mortality\": 4.3, \"gdp\": 40607.0, \"region\": \"Europe & Central Asia\"}, {\"Country\": \"Belize\", \"Year\": 2013, \"fertility\": 2.676, \"life\": 73.882, \"population\": 330721.0, \"child_mortality\": 17.5, \"gdp\": 8215.0, \"region\": \"America\"}, {\"Country\": \"Benin\", \"Year\": 2013, \"fertility\": 4.845, \"life\": 59.33, \"population\": 9606534.0, \"child_mortality\": 104.8, \"gdp\": 1733.0, \"region\": \"Sub-Saharan Africa\"}, {\"Country\": \"Bhutan\", \"Year\": 2013, \"fertility\": 2.232, \"life\": 68.294, \"population\": 762313.0, \"child_mortality\": 36.0, \"gdp\": 7167.0, \"region\": \"South Asia\"}, {\"Country\": \"Bolivia\", \"Year\": 2013, \"fertility\": 3.221, \"life\": 67.26, \"population\": 10409761.0, \"child_mortality\": 41.3, \"gdp\": 5934.0, \"region\": \"America\"}, {\"Country\": \"Bosnia and Herzegovina\", \"Year\": 2013, \"fertility\": 1.283, \"life\": 76.37, \"population\": 3735880.0, \"child_mortality\": 6.6, \"gdp\": 9387.0, \"region\": \"Europe & Central Asia\"}, {\"Country\": \"Botswana\", \"Year\": 2013, \"fertility\": 2.619, \"life\": 47.572, \"population\": 2074616.0, \"child_mortality\": 55.5, \"gdp\": 16155.0, \"region\": \"Sub-Saharan Africa\"}, {\"Country\": \"Brazil\", \"Year\": 2013, \"fertility\": 1.801, \"life\": 73.937, \"population\": 200050487.0, \"child_mortality\": 14.4, \"gdp\": 15518.0, \"region\": \"America\"}, {\"Country\": \"Brunei\", \"Year\": 2013, \"fertility\": 1.994, \"life\": 78.547, \"population\": 419772.0, \"child_mortality\": 10.0, \"gdp\": 69474.0, \"region\": \"East Asia & Pacific\"}, {\"Country\": \"Bulgaria\", \"Year\": 2013, \"fertility\": 1.541, \"life\": 73.54899999999999, \"population\": 7349462.0, \"child_mortality\": 11.6, \"gdp\": 15695.0, \"region\": \"Europe & Central Asia\"}, {\"Country\": \"Burkina Faso\", \"Year\": 2013, \"fertility\": 5.605, \"life\": 56.344, \"population\": 18011507.0, \"child_mortality\": 96.6, \"gdp\": 1588.0, \"region\": \"Sub-Saharan Africa\"}, {\"Country\": \"Burundi\", \"Year\": 2013, \"fertility\": 6.033, \"life\": 54.104, \"population\": 8911183.0, \"child_mortality\": 87.8, \"gdp\": 747.0, \"region\": \"Sub-Saharan Africa\"}, {\"Country\": \"Cambodia\", \"Year\": 2013, \"fertility\": 2.861, \"life\": 71.916, \"population\": 14656016.0, \"child_mortality\": 32.9, \"gdp\": 2942.0, \"region\": \"East Asia & Pacific\"}, {\"Country\": \"Cameroon\", \"Year\": 2013, \"fertility\": 4.78, \"life\": 55.065, \"population\": 20913595.0, \"child_mortality\": 95.2, \"gdp\": 2739.0, \"region\": \"Sub-Saharan Africa\"}, {\"Country\": \"Canada\", \"Year\": 2013, \"fertility\": 1.67, \"life\": 81.482, \"population\": 34993747.0, \"child_mortality\": 5.2, \"gdp\": 42213.0, \"region\": \"America\"}, {\"Country\": \"Cape Verde\", \"Year\": 2013, \"fertility\": 2.292, \"life\": 75.093, \"population\": 510213.0, \"child_mortality\": 25.9, \"gdp\": 6232.0, \"region\": \"Sub-Saharan Africa\"}, {\"Country\": \"Central African Rep.\", \"Year\": 2013, \"fertility\": 4.365, \"life\": 50.179, \"population\": 4666833.0, \"child_mortality\": null, \"gdp\": null, \"region\": \"Sub-Saharan Africa\"}, {\"Country\": \"Chad\", \"Year\": 2013, \"fertility\": 6.263, \"life\": 51.182, \"population\": 12141876.0, \"child_mortality\": 147.1, \"gdp\": 2055.0, \"region\": \"Sub-Saharan Africa\"}, {\"Country\": \"Channel Islands\", \"Year\": 2013, \"fertility\": 1.459, \"life\": 80.324, \"population\": 154432.0, \"child_mortality\": 9.13, \"gdp\": null, \"region\": \"Europe & Central Asia\"}, {\"Country\": \"Chile\", \"Year\": 2013, \"fertility\": 1.82, \"life\": 79.955, \"population\": 17574464.0, \"child_mortality\": 8.4, \"gdp\": 21746.0, \"region\": \"America\"}, {\"Country\": \"China\", \"Year\": 2013, \"fertility\": 1.668, \"life\": 75.331, \"population\": 1359368470.0, \"child_mortality\": 12.3, \"gdp\": 11805.0, \"region\": \"East Asia & Pacific\"}, {\"Country\": \"Colombia\", \"Year\": 2013, \"fertility\": 2.286, \"life\": 74.038, \"population\": 48165221.0, \"child_mortality\": 16.9, \"gdp\": 12054.0, \"region\": \"America\"}, {\"Country\": \"Comoros\", \"Year\": 2013, \"fertility\": 4.714, \"life\": 60.874, \"population\": 792913.0, \"child_mortality\": 78.3, \"gdp\": 1450.0, \"region\": \"Sub-Saharan Africa\"}, {\"Country\": \"Congo, Dem. Rep.\", \"Year\": 2013, \"fertility\": 5.933, \"life\": 49.963, \"population\": 71419669.0, \"child_mortality\": 104.8, \"gdp\": 724.0, \"region\": \"Sub-Saharan Africa\"}, {\"Country\": \"Congo, Rep.\", \"Year\": 2013, \"fertility\": 4.968999999999999, \"life\": 58.793, \"population\": 4324199.0, \"child_mortality\": 49.6, \"gdp\": 5680.0, \"region\": \"Sub-Saharan Africa\"}, {\"Country\": \"Costa Rica\", \"Year\": 2013, \"fertility\": 1.795, \"life\": 79.93, \"population\": 4859957.0, \"child_mortality\": 10.0, \"gdp\": 13427.0, \"region\": \"America\"}, {\"Country\": \"Cote d'Ivoire\", \"Year\": 2013, \"fertility\": 4.8660000000000005, \"life\": 50.722, \"population\": 21057316.0, \"child_mortality\": 100.7, \"gdp\": 3123.0, \"region\": \"Sub-Saharan Africa\"}, {\"Country\": \"Croatia\", \"Year\": 2013, \"fertility\": 1.501, \"life\": 77.048, \"population\": 4378806.0, \"child_mortality\": 4.7, \"gdp\": 20049.0, \"region\": \"Europe & Central Asia\"}, {\"Country\": \"Cuba\", \"Year\": 2013, \"fertility\": 1.449, \"life\": 79.262, \"population\": 11244424.0, \"child_mortality\": 6.1, \"gdp\": 20122.0, \"region\": \"America\"}, {\"Country\": \"Cyprus\", \"Year\": 2013, \"fertility\": 1.461, \"life\": 79.84100000000001, \"population\": 1141453.0, \"child_mortality\": 3.6, \"gdp\": 30081.0, \"region\": \"Europe & Central Asia\"}, {\"Country\": \"Czech Rep.\", \"Year\": 2013, \"fertility\": 1.5659999999999998, \"life\": 77.69, \"population\": 10589806.0, \"child_mortality\": null, \"gdp\": null, \"region\": \"Europe & Central Asia\"}, {\"Country\": \"Denmark\", \"Year\": 2013, \"fertility\": 1.88, \"life\": 79.388, \"population\": 5611187.0, \"child_mortality\": 3.7, \"gdp\": 42483.0, \"region\": \"Europe & Central Asia\"}, {\"Country\": \"Djibouti\", \"Year\": 2013, \"fertility\": 3.387, \"life\": 61.801, \"population\": 940090.0, \"child_mortality\": 69.5, \"gdp\": 2903.0, \"region\": \"Middle East & North Africa\"}, {\"Country\": \"Dominican Rep.\", \"Year\": 2013, \"fertility\": 2.484, \"life\": 73.402, \"population\": 10308609.0, \"child_mortality\": null, \"gdp\": null, \"region\": \"America\"}, {\"Country\": \"Ecuador\", \"Year\": 2013, \"fertility\": 2.559, \"life\": 76.471, \"population\": 15061398.0, \"child_mortality\": 23.0, \"gdp\": 10541.0, \"region\": \"America\"}, {\"Country\": \"Egypt\", \"Year\": 2013, \"fertility\": 2.77, \"life\": 71.157, \"population\": 85378440.0, \"child_mortality\": 25.8, \"gdp\": 10731.0, \"region\": \"Middle East & North Africa\"}, {\"Country\": \"El Salvador\", \"Year\": 2013, \"fertility\": 2.184, \"life\": 72.59899999999999, \"population\": 6302723.0, \"child_mortality\": 18.0, \"gdp\": 7515.0, \"region\": \"America\"}, {\"Country\": \"Equatorial Guinea\", \"Year\": 2013, \"fertility\": 4.845, \"life\": 53.062, \"population\": 761050.0, \"child_mortality\": 100.3, \"gdp\": 32654.0, \"region\": \"Sub-Saharan Africa\"}, {\"Country\": \"Eritrea\", \"Year\": 2013, \"fertility\": 4.696000000000001, \"life\": 62.852, \"population\": 5748304.0, \"child_mortality\": 49.7, \"gdp\": 1157.0, \"region\": \"Sub-Saharan Africa\"}, {\"Country\": \"Estonia\", \"Year\": 2013, \"fertility\": 1.604, \"life\": 74.441, \"population\": 1338832.0, \"child_mortality\": 3.4, \"gdp\": 25254.0, \"region\": \"Europe & Central Asia\"}, {\"Country\": \"Ethiopia\", \"Year\": 2013, \"fertility\": 4.519, \"life\": 63.635, \"population\": 88356373.0, \"child_mortality\": 64.6, \"gdp\": 1336.0, \"region\": \"Sub-Saharan Africa\"}, {\"Country\": \"Fiji\", \"Year\": 2013, \"fertility\": 2.588, \"life\": 69.81, \"population\": 882863.0, \"child_mortality\": 23.2, \"gdp\": 7502.0, \"region\": \"East Asia & Pacific\"}, {\"Country\": \"Finland\", \"Year\": 2013, \"fertility\": 1.853, \"life\": 80.535, \"population\": 5418763.0, \"child_mortality\": 2.6, \"gdp\": 38788.0, \"region\": \"Europe & Central Asia\"}, {\"Country\": \"France\", \"Year\": 2013, \"fertility\": 1.98, \"life\": 81.81, \"population\": 63782963.0, \"child_mortality\": 4.4, \"gdp\": 37309.0, \"region\": \"Europe & Central Asia\"}, {\"Country\": \"French Guiana\", \"Year\": 2013, \"fertility\": 3.0580000000000003, \"life\": 77.12100000000001, \"population\": 249408.0, \"child_mortality\": 10.95, \"gdp\": null, \"region\": \"America\"}, {\"Country\": \"French Polynesia\", \"Year\": 2013, \"fertility\": 2.0580000000000003, \"life\": 76.257, \"population\": 279632.0, \"child_mortality\": 7.46, \"gdp\": null, \"region\": \"East Asia & Pacific\"}, {\"Country\": \"Gabon\", \"Year\": 2013, \"fertility\": 4.087, \"life\": 63.48, \"population\": 1594205.0, \"child_mortality\": 56.1, \"gdp\": 17580.0, \"region\": \"Sub-Saharan Africa\"}, {\"Country\": \"Gambia\", \"Year\": 2013, \"fertility\": 5.751, \"life\": 58.818000000000005, \"population\": 1874360.0, \"child_mortality\": 73.6, \"gdp\": 1608.0, \"region\": \"Sub-Saharan Africa\"}, {\"Country\": \"Georgia\", \"Year\": 2013, \"fertility\": 1.817, \"life\": 74.301, \"population\": 4278410.0, \"child_mortality\": 13.4, \"gdp\": 6930.0, \"region\": \"Europe & Central Asia\"}, {\"Country\": \"Germany\", \"Year\": 2013, \"fertility\": 1.419, \"life\": 80.743, \"population\": 81804228.0, \"child_mortality\": 3.9, \"gdp\": 42887.0, \"region\": \"Europe & Central Asia\"}, {\"Country\": \"Ghana\", \"Year\": 2013, \"fertility\": 3.857, \"life\": 61.132, \"population\": 26131336.0, \"child_mortality\": 66.5, \"gdp\": 3873.0, \"region\": \"Sub-Saharan Africa\"}, {\"Country\": \"Greece\", \"Year\": 2013, \"fertility\": 1.529, \"life\": 80.77, \"population\": 11445691.0, \"child_mortality\": 4.3, \"gdp\": 24159.0, \"region\": \"Europe & Central Asia\"}, {\"Country\": \"Greenland\", \"Year\": 2013, \"fertility\": 2.077, \"life\": 71.5, \"population\": 57300.0, \"child_mortality\": null, \"gdp\": 26688.0, \"region\": \"Europe & Central Asia\"}, {\"Country\": \"Grenada\", \"Year\": 2013, \"fertility\": 2.17, \"life\": 72.768, \"population\": 105719.0, \"child_mortality\": 12.5, \"gdp\": 11273.0, \"region\": \"America\"}, {\"Country\": \"Guadeloupe\", \"Year\": 2013, \"fertility\": 2.08, \"life\": 80.947, \"population\": 467335.0, \"child_mortality\": 6.27, \"gdp\": null, \"region\": \"America\"}, {\"Country\": \"Guam\", \"Year\": 2013, \"fertility\": 2.405, \"life\": 78.854, \"population\": 186562.0, \"child_mortality\": 11.03, \"gdp\": null, \"region\": \"East Asia & Pacific\"}, {\"Country\": \"Guatemala\", \"Year\": 2013, \"fertility\": 3.783, \"life\": 72.09899999999999, \"population\": 15527502.0, \"child_mortality\": 31.1, \"gdp\": 7063.0, \"region\": \"America\"}, {\"Country\": \"Guinea\", \"Year\": 2013, \"fertility\": 4.915, \"life\": 56.112, \"population\": 10753680.0, \"child_mortality\": 100.4, \"gdp\": 1213.0, \"region\": \"Sub-Saharan Africa\"}, {\"Country\": \"Guinea-Bissau\", \"Year\": 2013, \"fertility\": 4.927, \"life\": 54.291, \"population\": 1612913.0, \"child_mortality\": 100.5, \"gdp\": 1362.0, \"region\": \"Sub-Saharan Africa\"}, {\"Country\": \"Guyana\", \"Year\": 2013, \"fertility\": 2.546, \"life\": 66.295, \"population\": 759262.0, \"child_mortality\": 40.8, \"gdp\": 6336.0, \"region\": \"America\"}, {\"Country\": \"Haiti\", \"Year\": 2013, \"fertility\": 3.148, \"life\": 63.102, \"population\": 10388424.0, \"child_mortality\": 73.1, \"gdp\": 1648.0, \"region\": \"America\"}, {\"Country\": \"Honduras\", \"Year\": 2013, \"fertility\": 3.0010000000000003, \"life\": 73.817, \"population\": 8071522.0, \"child_mortality\": 21.8, \"gdp\": 4154.0, \"region\": \"America\"}, {\"Country\": \"Hong Kong, China\", \"Year\": 2013, \"fertility\": 1.135, \"life\": 83.37799999999999, \"population\": 7274125.0, \"child_mortality\": 2.58, \"gdp\": 51656.0, \"region\": \"East Asia & Pacific\"}, {\"Country\": \"Hungary\", \"Year\": 2013, \"fertility\": 1.411, \"life\": 74.62, \"population\": 9933795.0, \"child_mortality\": 6.3, \"gdp\": 22708.0, \"region\": \"Europe & Central Asia\"}, {\"Country\": \"Iceland\", \"Year\": 2013, \"fertility\": 2.083, \"life\": 82.086, \"population\": 331996.0, \"child_mortality\": 2.1, \"gdp\": 40958.0, \"region\": \"Europe & Central Asia\"}, {\"Country\": \"India\", \"Year\": 2013, \"fertility\": 2.479, \"life\": 66.414, \"population\": 1275137828.0, \"child_mortality\": 52.1, \"gdp\": 5244.0, \"region\": \"South Asia\"}, {\"Country\": \"Indonesia\", \"Year\": 2013, \"fertility\": 2.338, \"life\": 70.833, \"population\": 247188189.0, \"child_mortality\": 29.3, \"gdp\": 9729.0, \"region\": \"East Asia & Pacific\"}, {\"Country\": \"Iran\", \"Year\": 2013, \"fertility\": 1.92, \"life\": 74.048, \"population\": 76407013.0, \"child_mortality\": 16.8, \"gdp\": 15552.0, \"region\": \"Middle East & North Africa\"}, {\"Country\": \"Iraq\", \"Year\": 2013, \"fertility\": 4.026, \"life\": 69.419, \"population\": 34776205.0, \"child_mortality\": 33.9, \"gdp\": 15368.0, \"region\": \"Middle East & North Africa\"}, {\"Country\": \"Ireland\", \"Year\": 2013, \"fertility\": 1.997, \"life\": 80.707, \"population\": 4631391.0, \"child_mortality\": 3.8, \"gdp\": 44640.0, \"region\": \"Europe & Central Asia\"}, {\"Country\": \"Israel\", \"Year\": 2013, \"fertility\": 2.898, \"life\": 81.801, \"population\": 7818860.0, \"child_mortality\": 4.2, \"gdp\": 30927.0, \"region\": \"Middle East & North Africa\"}, {\"Country\": \"Italy\", \"Year\": 2013, \"fertility\": 1.487, \"life\": 82.385, \"population\": 61087395.0, \"child_mortality\": 3.6, \"gdp\": 33827.0, \"region\": \"Europe & Central Asia\"}, {\"Country\": \"Jamaica\", \"Year\": 2013, \"fertility\": 2.26, \"life\": 73.525, \"population\": 2771179.0, \"child_mortality\": 16.7, \"gdp\": 8607.0, \"region\": \"America\"}, {\"Country\": \"Japan\", \"Year\": 2013, \"fertility\": 1.419, \"life\": 83.58, \"population\": 126345235.0, \"child_mortality\": 2.9, \"gdp\": 35614.0, \"region\": \"East Asia & Pacific\"}, {\"Country\": \"Jordan\", \"Year\": 2013, \"fertility\": 3.244, \"life\": 73.854, \"population\": 6572903.0, \"child_mortality\": 19.0, \"gdp\": 11405.0, \"region\": \"Middle East & North Africa\"}, {\"Country\": \"Kazakhstan\", \"Year\": 2013, \"fertility\": 2.455, \"life\": 66.536, \"population\": 16550975.0, \"child_mortality\": 16.4, \"gdp\": 22470.0, \"region\": \"Europe & Central Asia\"}, {\"Country\": \"Kenya\", \"Year\": 2013, \"fertility\": 4.382, \"life\": 61.716, \"population\": 43923719.0, \"child_mortality\": 54.5, \"gdp\": 2706.0, \"region\": \"Sub-Saharan Africa\"}, {\"Country\": \"Kiribati\", \"Year\": 2013, \"fertility\": 2.952, \"life\": 68.905, \"population\": 104251.0, \"child_mortality\": 58.9, \"gdp\": 1796.0, \"region\": \"East Asia & Pacific\"}, {\"Country\": \"Korea, Dem. Rep.\", \"Year\": 2013, \"fertility\": 1.988, \"life\": 69.999, \"population\": 24654358.0, \"child_mortality\": null, \"gdp\": null, \"region\": \"East Asia & Pacific\"}, {\"Country\": \"Korea, Rep.\", \"Year\": 2013, \"fertility\": 1.321, \"life\": 81.535, \"population\": 48774767.0, \"child_mortality\": null, \"gdp\": null, \"region\": \"East Asia & Pacific\"}, {\"Country\": \"Kuwait\", \"Year\": 2013, \"fertility\": 2.6, \"life\": 74.288, \"population\": 2959015.0, \"child_mortality\": 9.4, \"gdp\": 79395.0, \"region\": \"Middle East & North Africa\"}, {\"Country\": \"Kyrgyzstan\", \"Year\": 2013, \"fertility\": 3.075, \"life\": 67.533, \"population\": 5503253.0, \"child_mortality\": null, \"gdp\": null, \"region\": \"Europe & Central Asia\"}, {\"Country\": \"Laos\", \"Year\": 2013, \"fertility\": 3.02, \"life\": 68.309, \"population\": 6458911.0, \"child_mortality\": null, \"gdp\": null, \"region\": \"East Asia & Pacific\"}, {\"Country\": \"Latvia\", \"Year\": 2013, \"fertility\": 1.607, \"life\": 72.15, \"population\": 2226260.0, \"child_mortality\": 8.4, \"gdp\": 21699.0, \"region\": \"Europe & Central Asia\"}, {\"Country\": \"Lebanon\", \"Year\": 2013, \"fertility\": 1.495, \"life\": 80.007, \"population\": 4324060.0, \"child_mortality\": 8.9, \"gdp\": 16623.0, \"region\": \"Middle East & North Africa\"}, {\"Country\": \"Lesotho\", \"Year\": 2013, \"fertility\": 3.0380000000000003, \"life\": 49.446000000000005, \"population\": 2240126.0, \"child_mortality\": 98.9, \"gdp\": 2473.0, \"region\": \"Sub-Saharan Africa\"}, {\"Country\": \"Liberia\", \"Year\": 2013, \"fertility\": 4.792, \"life\": 60.556, \"population\": 4348740.0, \"child_mortality\": 76.3, \"gdp\": 875.0, \"region\": \"Sub-Saharan Africa\"}, {\"Country\": \"Libya\", \"Year\": 2013, \"fertility\": 2.356, \"life\": 75.325, \"population\": 6506095.0, \"child_mortality\": 14.5, \"gdp\": 19760.0, \"region\": \"Middle East & North Africa\"}, {\"Country\": \"Lithuania\", \"Year\": 2013, \"fertility\": 1.519, \"life\": 72.11, \"population\": 3278337.0, \"child_mortality\": 4.9, \"gdp\": 24732.0, \"region\": \"Europe & Central Asia\"}, {\"Country\": \"Luxembourg\", \"Year\": 2013, \"fertility\": 1.671, \"life\": 80.547, \"population\": 530018.0, \"child_mortality\": 2.0, \"gdp\": 88850.0, \"region\": \"Europe & Central Asia\"}, {\"Country\": \"Macao, China\", \"Year\": 2013, \"fertility\": 1.083, \"life\": 80.4, \"population\": 578844.0, \"child_mortality\": 5.33, \"gdp\": 136540.0, \"region\": \"East Asia & Pacific\"}, {\"Country\": \"Macedonia, FYR\", \"Year\": 2013, \"fertility\": 1.431, \"life\": 75.19800000000001, \"population\": 2069219.0, \"child_mortality\": 6.6, \"gdp\": 11664.0, \"region\": \"Europe & Central Asia\"}, {\"Country\": \"Madagascar\", \"Year\": 2013, \"fertility\": 4.468, \"life\": 64.723, \"population\": 22555046.0, \"child_mortality\": 53.4, \"gdp\": 1369.0, \"region\": \"Sub-Saharan Africa\"}, {\"Country\": \"Malawi\", \"Year\": 2013, \"fertility\": 5.388999999999999, \"life\": 55.31100000000001, \"population\": 16406945.0, \"child_mortality\": 72.6, \"gdp\": 757.0, \"region\": \"Sub-Saharan Africa\"}, {\"Country\": \"Malaysia\", \"Year\": 2013, \"fertility\": 1.964, \"life\": 75.017, \"population\": 29787203.0, \"child_mortality\": 8.4, \"gdp\": 22589.0, \"region\": \"East Asia & Pacific\"}, {\"Country\": \"Maldives\", \"Year\": 2013, \"fertility\": 2.256, \"life\": 77.919, \"population\": 328551.0, \"child_mortality\": 9.9, \"gdp\": 13353.0, \"region\": \"South Asia\"}, {\"Country\": \"Mali\", \"Year\": 2013, \"fertility\": 6.847, \"life\": 55.032, \"population\": 16808242.0, \"child_mortality\": 122.7, \"gdp\": 1589.0, \"region\": \"Sub-Saharan Africa\"}, {\"Country\": \"Malta\", \"Year\": 2013, \"fertility\": 1.356, \"life\": 79.75, \"population\": 420557.0, \"child_mortality\": 6.1, \"gdp\": 28822.0, \"region\": \"Europe & Central Asia\"}, {\"Country\": \"Martinique\", \"Year\": 2013, \"fertility\": 1.827, \"life\": 81.41, \"population\": 409366.0, \"child_mortality\": 7.22, \"gdp\": null, \"region\": \"America\"}, {\"Country\": \"Mauritania\", \"Year\": 2013, \"fertility\": 4.67, \"life\": 61.55, \"population\": 3704414.0, \"child_mortality\": 90.2, \"gdp\": 3579.0, \"region\": \"Sub-Saharan Africa\"}, {\"Country\": \"Mauritius\", \"Year\": 2013, \"fertility\": 1.501, \"life\": 73.613, \"population\": 1320785.0, \"child_mortality\": 14.3, \"gdp\": 17146.0, \"region\": \"Sub-Saharan Africa\"}, {\"Country\": \"Mayotte\", \"Year\": 2013, \"fertility\": 3.802, \"life\": 79.19, \"population\": 223907.0, \"child_mortality\": 4.69, \"gdp\": null, \"region\": \"Sub-Saharan Africa\"}, {\"Country\": \"Mexico\", \"Year\": 2013, \"fertility\": 2.185, \"life\": 77.501, \"population\": 117478371.0, \"child_mortality\": 14.5, \"gdp\": 16346.0, \"region\": \"America\"}, {\"Country\": \"Micronesia, Fed. Sts.\", \"Year\": 2013, \"fertility\": 3.294, \"life\": 68.993, \"population\": 112726.0, \"child_mortality\": 37.0, \"gdp\": 3286.0, \"region\": \"East Asia & Pacific\"}, {\"Country\": \"Moldova\", \"Year\": 2013, \"fertility\": 1.456, \"life\": 68.899, \"population\": 3495657.0, \"child_mortality\": 16.4, \"gdp\": 4542.0, \"region\": \"Europe & Central Asia\"}, {\"Country\": \"Mongolia\", \"Year\": 2013, \"fertility\": 2.436, \"life\": 67.503, \"population\": 2887863.0, \"child_mortality\": 24.7, \"gdp\": 10833.0, \"region\": \"East Asia & Pacific\"}, {\"Country\": \"Montenegro\", \"Year\": 2013, \"fertility\": 1.666, \"life\": 74.821, \"population\": 633167.0, \"child_mortality\": 5.3, \"gdp\": 14156.0, \"region\": \"Europe & Central Asia\"}, {\"Country\": \"Morocco\", \"Year\": 2013, \"fertility\": 2.735, \"life\": 70.941, \"population\": 32925553.0, \"child_mortality\": 29.7, \"gdp\": 6967.0, \"region\": \"Middle East & North Africa\"}, {\"Country\": \"Mozambique\", \"Year\": 2013, \"fertility\": 5.188, \"life\": 50.25, \"population\": 25028313.0, \"child_mortality\": 87.2, \"gdp\": 1064.0, \"region\": \"Sub-Saharan Africa\"}, {\"Country\": \"Myanmar\", \"Year\": 2013, \"fertility\": 1.938, \"life\": 65.176, \"population\": 49119646.0, \"child_mortality\": 53.5, \"gdp\": 3526.0, \"region\": \"East Asia & Pacific\"}, {\"Country\": \"Namibia\", \"Year\": 2013, \"fertility\": 3.051, \"life\": 64.483, \"population\": 2404477.0, \"child_mortality\": 49.5, \"gdp\": 9275.0, \"region\": \"Sub-Saharan Africa\"}, {\"Country\": \"Nepal\", \"Year\": 2013, \"fertility\": 2.3, \"life\": 68.41, \"population\": 31535507.0, \"child_mortality\": 39.0, \"gdp\": 2173.0, \"region\": \"South Asia\"}, {\"Country\": \"Netherlands\", \"Year\": 2013, \"fertility\": 1.774, \"life\": 81.038, \"population\": 16761552.0, \"child_mortality\": 4.0, \"gdp\": 45021.0, \"region\": \"Europe & Central Asia\"}, {\"Country\": \"Netherlands Antilles\", \"Year\": 2013, \"fertility\": 1.89, \"life\": 76.89399999999999, \"population\": 205860.0, \"child_mortality\": null, \"gdp\": null, \"region\": \"America\"}, {\"Country\": \"New Caledonia\", \"Year\": 2013, \"fertility\": 2.127, \"life\": 76.306, \"population\": 262605.0, \"child_mortality\": 15.0, \"gdp\": null, \"region\": \"East Asia & Pacific\"}, {\"Country\": \"New Zealand\", \"Year\": 2013, \"fertility\": 2.052, \"life\": 81.132, \"population\": 4508166.0, \"child_mortality\": 5.9, \"gdp\": 33360.0, \"region\": \"East Asia & Pacific\"}, {\"Country\": \"Nicaragua\", \"Year\": 2013, \"fertility\": 2.498, \"life\": 74.839, \"population\": 6041763.0, \"child_mortality\": 23.5, \"gdp\": 4432.0, \"region\": \"America\"}, {\"Country\": \"Niger\", \"Year\": 2013, \"fertility\": 7.561, \"life\": 58.409, \"population\": 17239826.0, \"child_mortality\": 104.1, \"gdp\": 897.0, \"region\": \"Sub-Saharan Africa\"}, {\"Country\": \"Nigeria\", \"Year\": 2013, \"fertility\": 5.976, \"life\": 52.506, \"population\": 170901148.0, \"child_mortality\": 116.6, \"gdp\": 5423.0, \"region\": \"Sub-Saharan Africa\"}, {\"Country\": \"Norway\", \"Year\": 2013, \"fertility\": 1.931, \"life\": 81.503, \"population\": 4991997.0, \"child_mortality\": 2.8, \"gdp\": 63322.0, \"region\": \"Europe & Central Asia\"}, {\"Country\": \"Oman\", \"Year\": 2013, \"fertility\": 2.853, \"life\": 76.55199999999999, \"population\": 2957333.0, \"child_mortality\": 11.7, \"gdp\": 41770.0, \"region\": \"Middle East & North Africa\"}, {\"Country\": \"Pakistan\", \"Year\": 2013, \"fertility\": 3.185, \"life\": 66.57, \"population\": 183188847.0, \"child_mortality\": 85.6, \"gdp\": 4454.0, \"region\": \"South Asia\"}, {\"Country\": \"Panama\", \"Year\": 2013, \"fertility\": 2.466, \"life\": 77.556, \"population\": 3678264.0, \"child_mortality\": 18.1, \"gdp\": 18793.0, \"region\": \"America\"}, {\"Country\": \"Papua New Guinea\", \"Year\": 2013, \"fertility\": 3.781, \"life\": 62.42100000000001, \"population\": 7327281.0, \"child_mortality\": 60.9, \"gdp\": 2558.0, \"region\": \"East Asia & Pacific\"}, {\"Country\": \"Paraguay\", \"Year\": 2013, \"fertility\": 2.864, \"life\": 72.259, \"population\": 6798236.0, \"child_mortality\": 21.9, \"gdp\": 7833.0, \"region\": \"America\"}, {\"Country\": \"Peru\", \"Year\": 2013, \"fertility\": 2.417, \"life\": 74.82600000000001, \"population\": 30075185.0, \"child_mortality\": 18.3, \"gdp\": 11395.0, \"region\": \"America\"}, {\"Country\": \"Philippines\", \"Year\": 2013, \"fertility\": 3.043, \"life\": 68.703, \"population\": 98112780.0, \"child_mortality\": 29.6, \"gdp\": 6326.0, \"region\": \"East Asia & Pacific\"}, {\"Country\": \"Poland\", \"Year\": 2013, \"fertility\": 1.4169999999999998, \"life\": 76.408, \"population\": 38331803.0, \"child_mortality\": 5.2, \"gdp\": 23144.0, \"region\": \"Europe & Central Asia\"}, {\"Country\": \"Portugal\", \"Year\": 2013, \"fertility\": 1.315, \"life\": 79.945, \"population\": 10704534.0, \"child_mortality\": 3.8, \"gdp\": 25677.0, \"region\": \"Europe & Central Asia\"}, {\"Country\": \"Puerto Rico\", \"Year\": 2013, \"fertility\": 1.636, \"life\": 78.86399999999999, \"population\": 3742334.0, \"child_mortality\": 7.16, \"gdp\": 33818.0, \"region\": \"America\"}, {\"Country\": \"Qatar\", \"Year\": 2013, \"fertility\": 2.019, \"life\": 78.369, \"population\": 1976840.0, \"child_mortality\": 8.2, \"gdp\": 131579.0, \"region\": \"Middle East & North Africa\"}, {\"Country\": \"Reunion\", \"Year\": 2013, \"fertility\": 2.232, \"life\": 79.646, \"population\": 874944.0, \"child_mortality\": 4.69, \"gdp\": null, \"region\": \"Sub-Saharan Africa\"}, {\"Country\": \"Romania\", \"Year\": 2013, \"fertility\": 1.4169999999999998, \"life\": 73.831, \"population\": 21338815.0, \"child_mortality\": 12.0, \"gdp\": 18182.0, \"region\": \"Europe & Central Asia\"}, {\"Country\": \"Russia\", \"Year\": 2013, \"fertility\": 1.595, \"life\": 67.979, \"population\": 142557892.0, \"child_mortality\": 10.4, \"gdp\": 23561.0, \"region\": \"Europe & Central Asia\"}, {\"Country\": \"Rwanda\", \"Year\": 2013, \"fertility\": 4.508, \"life\": 64.066, \"population\": 11608439.0, \"child_mortality\": 48.2, \"gdp\": 1426.0, \"region\": \"Sub-Saharan Africa\"}, {\"Country\": \"Saint Lucia\", \"Year\": 2013, \"fertility\": 1.912, \"life\": 74.804, \"population\": 179515.0, \"child_mortality\": null, \"gdp\": null, \"region\": \"America\"}, {\"Country\": \"Saint Vincent and the Grenadines\", \"Year\": 2013, \"fertility\": 1.997, \"life\": 72.488, \"population\": 109354.0, \"child_mortality\": null, \"gdp\": null, \"region\": \"America\"}, {\"Country\": \"Samoa\", \"Year\": 2013, \"fertility\": 4.147, \"life\": 73.156, \"population\": 185727.0, \"child_mortality\": 18.2, \"gdp\": 5502.0, \"region\": \"East Asia & Pacific\"}, {\"Country\": \"Sao Tome and Principe\", \"Year\": 2013, \"fertility\": 4.075, \"life\": 66.337, \"population\": 175383.0, \"child_mortality\": 50.8, \"gdp\": 2876.0, \"region\": \"Sub-Saharan Africa\"}, {\"Country\": \"Saudi Arabia\", \"Year\": 2013, \"fertility\": 2.644, \"life\": 75.479, \"population\": 29319402.0, \"child_mortality\": 15.5, \"gdp\": 51294.0, \"region\": \"Middle East & North Africa\"}, {\"Country\": \"Senegal\", \"Year\": 2013, \"fertility\": 4.934, \"life\": 63.451, \"population\": 13454191.0, \"child_mortality\": 52.5, \"gdp\": 2185.0, \"region\": \"Sub-Saharan Africa\"}, {\"Country\": \"Serbia\", \"Year\": 2013, \"fertility\": 1.365, \"life\": 74.059, \"population\": 9835010.0, \"child_mortality\": 6.9, \"gdp\": 12889.0, \"region\": \"Europe & Central Asia\"}, {\"Country\": \"Seychelles\", \"Year\": 2013, \"fertility\": 2.18, \"life\": 73.187, \"population\": 87417.0, \"child_mortality\": 14.0, \"gdp\": 24805.0, \"region\": \"Sub-Saharan Africa\"}, {\"Country\": \"Sierra Leone\", \"Year\": 2013, \"fertility\": 4.705, \"life\": 45.56100000000001, \"population\": 6255163.0, \"child_mortality\": 133.4, \"gdp\": 1865.0, \"region\": \"Sub-Saharan Africa\"}, {\"Country\": \"Singapore\", \"Year\": 2013, \"fertility\": 1.2819999999999998, \"life\": 82.322, \"population\": 5300914.0, \"child_mortality\": 2.8, \"gdp\": 77721.0, \"region\": \"East Asia & Pacific\"}, {\"Country\": \"Slovak Republic\", \"Year\": 2013, \"fertility\": 1.396, \"life\": 75.39699999999999, \"population\": 5488775.0, \"child_mortality\": 7.2, \"gdp\": 25759.0, \"region\": \"Europe & Central Asia\"}, {\"Country\": \"Slovenia\", \"Year\": 2013, \"fertility\": 1.509, \"life\": 79.59100000000001, \"population\": 2044766.0, \"child_mortality\": 2.9, \"gdp\": 27368.0, \"region\": \"Europe & Central Asia\"}, {\"Country\": \"Solomon Islands\", \"Year\": 2013, \"fertility\": 4.031000000000001, \"life\": 67.675, \"population\": 580791.0, \"child_mortality\": 29.9, \"gdp\": 2041.0, \"region\": \"East Asia & Pacific\"}, {\"Country\": \"Somalia\", \"Year\": 2013, \"fertility\": 6.563, \"life\": 55.05, \"population\": 10052842.0, \"child_mortality\": 146.1, \"gdp\": 619.0, \"region\": \"Sub-Saharan Africa\"}, {\"Country\": \"South Africa\", \"Year\": 2013, \"fertility\": 2.387, \"life\": 56.916, \"population\": 50981076.0, \"child_mortality\": 45.1, \"gdp\": 12454.0, \"region\": \"Sub-Saharan Africa\"}, {\"Country\": \"South Sudan\", \"Year\": 2013, \"fertility\": 4.92, \"life\": 55.264, \"population\": 10881979.0, \"child_mortality\": 99.2, \"gdp\": 1965.0, \"region\": \"Sub-Saharan Africa\"}, {\"Country\": \"Spain\", \"Year\": 2013, \"fertility\": 1.505, \"life\": 82.1, \"population\": 47042602.0, \"child_mortality\": 4.3, \"gdp\": 31681.0, \"region\": \"Europe & Central Asia\"}, {\"Country\": \"Sri Lanka\", \"Year\": 2013, \"fertility\": 2.339, \"life\": 74.293, \"population\": 21393876.0, \"child_mortality\": 9.4, \"gdp\": 9426.0, \"region\": \"South Asia\"}, {\"Country\": \"Sudan\", \"Year\": 2013, \"fertility\": 4.42, \"life\": 62.055, \"population\": 35940905.0, \"child_mortality\": 74.2, \"gdp\": 3903.0, \"region\": \"Sub-Saharan Africa\"}, {\"Country\": \"Suriname\", \"Year\": 2013, \"fertility\": 2.268, \"life\": 71.01899999999999, \"population\": 538882.0, \"child_mortality\": 22.6, \"gdp\": 15556.0, \"region\": \"America\"}, {\"Country\": \"Swaziland\", \"Year\": 2013, \"fertility\": 3.334, \"life\": 49.0, \"population\": 1237166.0, \"child_mortality\": 74.9, \"gdp\": 5998.0, \"region\": \"Sub-Saharan Africa\"}, {\"Country\": \"Sweden\", \"Year\": 2013, \"fertility\": 1.928, \"life\": 81.818, \"population\": 9545823.0, \"child_mortality\": 3.0, \"gdp\": 43448.0, \"region\": \"Europe & Central Asia\"}, {\"Country\": \"Switzerland\", \"Year\": 2013, \"fertility\": 1.533, \"life\": 82.604, \"population\": 7761820.0, \"child_mortality\": 4.2, \"gdp\": 54983.0, \"region\": \"Europe & Central Asia\"}, {\"Country\": \"Syria\", \"Year\": 2013, \"fertility\": 2.964, \"life\": 71.0, \"population\": 21468962.0, \"child_mortality\": 15.3, \"gdp\": 5464.0, \"region\": \"Middle East & North Africa\"}, {\"Country\": \"Taiwan\", \"Year\": 2013, \"fertility\": 1.065, \"life\": 79.75, \"population\": 23151000.0, \"child_mortality\": null, \"gdp\": 40214.0, \"region\": \"East Asia & Pacific\"}, {\"Country\": \"Tajikistan\", \"Year\": 2013, \"fertility\": 3.815, \"life\": 67.248, \"population\": 7183529.0, \"child_mortality\": 47.8, \"gdp\": 2432.0, \"region\": \"Europe & Central Asia\"}, {\"Country\": \"Tanzania\", \"Year\": 2013, \"fertility\": 5.214, \"life\": 61.53, \"population\": 49153002.0, \"child_mortality\": 52.6, \"gdp\": 2382.0, \"region\": \"Sub-Saharan Africa\"}, {\"Country\": \"Thailand\", \"Year\": 2013, \"fertility\": 1.399, \"life\": 74.40100000000001, \"population\": 70243267.0, \"child_mortality\": 13.1, \"gdp\": 13932.0, \"region\": \"East Asia & Pacific\"}, {\"Country\": \"Timor-Leste\", \"Year\": 2013, \"fertility\": 5.855, \"life\": 67.538, \"population\": 1223665.0, \"child_mortality\": 56.5, \"gdp\": 2093.0, \"region\": \"East Asia & Pacific\"}, {\"Country\": \"Togo\", \"Year\": 2013, \"fertility\": 4.638999999999999, \"life\": 56.537, \"population\": 6412560.0, \"child_mortality\": 83.3, \"gdp\": 1346.0, \"region\": \"Sub-Saharan Africa\"}, {\"Country\": \"Tonga\", \"Year\": 2013, \"fertility\": 3.767, \"life\": 72.673, \"population\": 105265.0, \"child_mortality\": 17.3, \"gdp\": 4879.0, \"region\": \"East Asia & Pacific\"}, {\"Country\": \"Trinidad and Tobago\", \"Year\": 2013, \"fertility\": 1.797, \"life\": 69.865, \"population\": 1355342.0, \"child_mortality\": 21.5, \"gdp\": 29469.0, \"region\": \"America\"}, {\"Country\": \"Tunisia\", \"Year\": 2013, \"fertility\": 2.008, \"life\": 75.873, \"population\": 10813680.0, \"child_mortality\": 15.2, \"gdp\": 10768.0, \"region\": \"Middle East & North Africa\"}, {\"Country\": \"Turkey\", \"Year\": 2013, \"fertility\": 2.041, \"life\": 75.259, \"population\": 75359032.0, \"child_mortality\": 15.4, \"gdp\": 18579.0, \"region\": \"Europe & Central Asia\"}, {\"Country\": \"Turkmenistan\", \"Year\": 2013, \"fertility\": 2.326, \"life\": 65.452, \"population\": 5234640.0, \"child_mortality\": 54.7, \"gdp\": 13555.0, \"region\": \"Europe & Central Asia\"}, {\"Country\": \"Uganda\", \"Year\": 2013, \"fertility\": 5.867000000000001, \"life\": 59.209, \"population\": 36759274.0, \"child_mortality\": 65.1, \"gdp\": 1621.0, \"region\": \"Sub-Saharan Africa\"}, {\"Country\": \"Ukraine\", \"Year\": 2013, \"fertility\": 1.47, \"life\": 68.525, \"population\": 44696741.0, \"child_mortality\": 10.0, \"gdp\": 8338.0, \"region\": \"Europe & Central Asia\"}, {\"Country\": \"United Arab Emirates\", \"Year\": 2013, \"fertility\": 1.801, \"life\": 76.84100000000001, \"population\": 8207940.0, \"child_mortality\": 7.4, \"gdp\": 59092.0, \"region\": \"Middle East & North Africa\"}, {\"Country\": \"United Kingdom\", \"Year\": 2013, \"fertility\": 1.892, \"life\": 80.547, \"population\": 63177406.0, \"child_mortality\": 4.6, \"gdp\": 36908.0, \"region\": \"Europe & Central Asia\"}, {\"Country\": \"United States\", \"Year\": 2013, \"fertility\": 1.976, \"life\": 78.941, \"population\": 318497630.0, \"child_mortality\": 6.9, \"gdp\": 51282.0, \"region\": \"America\"}, {\"Country\": \"Uruguay\", \"Year\": 2013, \"fertility\": 2.046, \"life\": 77.23, \"population\": 3403117.0, \"child_mortality\": 11.1, \"gdp\": 19321.0, \"region\": \"America\"}, {\"Country\": \"Uzbekistan\", \"Year\": 2013, \"fertility\": 2.309, \"life\": 68.241, \"population\": 28398155.0, \"child_mortality\": 41.8, \"gdp\": 5002.0, \"region\": \"Europe & Central Asia\"}, {\"Country\": \"Vanuatu\", \"Year\": 2013, \"fertility\": 3.382, \"life\": 71.626, \"population\": 257812.0, \"child_mortality\": 28.4, \"gdp\": 2895.0, \"region\": \"East Asia & Pacific\"}, {\"Country\": \"Venezuela\", \"Year\": 2013, \"fertility\": 2.39, \"life\": 74.633, \"population\": 30340637.0, \"child_mortality\": 15.7, \"gdp\": 17614.0, \"region\": \"America\"}, {\"Country\": \"Vietnam\", \"Year\": 2013, \"fertility\": 1.743, \"life\": 75.945, \"population\": 90656550.0, \"child_mortality\": 22.9, \"gdp\": 5125.0, \"region\": \"East Asia & Pacific\"}, {\"Country\": \"Virgin Islands (U.S.)\", \"Year\": 2013, \"fertility\": 2.487, \"life\": 80.152, \"population\": 108300.0, \"child_mortality\": 10.82, \"gdp\": null, \"region\": \"America\"}, {\"Country\": \"West Bank and Gaza\", \"Year\": 2013, \"fertility\": 4.01, \"life\": 73.203, \"population\": 4393572.0, \"child_mortality\": 22.3, \"gdp\": 4498.0, \"region\": \"Middle East & North Africa\"}, {\"Country\": \"Western Sahara\", \"Year\": 2013, \"fertility\": 2.363, \"life\": 67.764, \"population\": 585270.0, \"child_mortality\": 45.03, \"gdp\": null, \"region\": \"Middle East & North Africa\"}, {\"Country\": \"Yemen, Rep.\", \"Year\": 2013, \"fertility\": 4.075, \"life\": 63.112, \"population\": 26358020.0, \"child_mortality\": null, \"gdp\": null, \"region\": \"Middle East & North Africa\"}, {\"Country\": \"Zambia\", \"Year\": 2013, \"fertility\": 5.687, \"life\": 58.105, \"population\": 14314515.0, \"child_mortality\": 72.8, \"gdp\": 3800.0, \"region\": \"Sub-Saharan Africa\"}, {\"Country\": \"Zimbabwe\", \"Year\": 2013, \"fertility\": 3.486, \"life\": 59.871, \"population\": 13327925.0, \"child_mortality\": 83.3, \"gdp\": 1773.0, \"region\": \"Sub-Saharan Africa\"}]}}, {\"mode\": \"vega-lite\"});\n",
       "</script>"
      ],
      "text/plain": [
       "alt.Chart(...)"
      ]
     },
     "execution_count": 7,
     "metadata": {},
     "output_type": "execute_result"
    }
   ],
   "source": [
    "alt.Chart(data_2013).mark_circle().encode(\n",
    "    alt.X('population:Q',\n",
    "          scale=alt.Scale(type='log'),\n",
    "          axis=alt.Axis(tickCount=5),\n",
    "          title='Population (log scale)',\n",
    "          ),\n",
    "    tooltip=['Country','region'],\n",
    "    color=alt.Color(\n",
    "        'region:N',\n",
    "        legend=alt.Legend(direction='horizontal',orient='top'),\n",
    "        scale=alt.Scale(scheme='dark2')\n",
    "        ),\n",
    ").properties(\n",
    "    width=700,\n",
    "    height=30\n",
    ")"
   ]
  },
  {
   "cell_type": "markdown",
   "metadata": {},
   "source": [
    "To use custom colors, we can update the color encoding scale property. One option is to explicitly provide a domain and range to indicate the *data:color* mapping."
   ]
  },
  {
   "cell_type": "code",
   "execution_count": 8,
   "metadata": {
    "ExecuteTime": {
     "end_time": "2025-04-28T10:18:49.097045Z",
     "start_time": "2025-04-28T10:18:49.095280Z"
    }
   },
   "outputs": [
    {
     "name": "stdout",
     "output_type": "stream",
     "text": [
      "['South Asia' 'Europe & Central Asia' 'Middle East & North Africa'\n",
      " 'Sub-Saharan Africa' 'America' 'East Asia & Pacific']\n"
     ]
    }
   ],
   "source": [
    "regions=fdata2['region'].unique()\n",
    "print(regions)"
   ]
  },
  {
   "cell_type": "code",
   "execution_count": 9,
   "metadata": {
    "ExecuteTime": {
     "end_time": "2025-04-28T10:18:49.115665Z",
     "start_time": "2025-04-28T10:18:49.103941Z"
    }
   },
   "outputs": [
    {
     "data": {
      "text/html": [
       "\n",
       "<style>\n",
       "  #altair-viz-bb3178607ee249f289af55cafddc8a35.vega-embed {\n",
       "    width: 100%;\n",
       "    display: flex;\n",
       "  }\n",
       "\n",
       "  #altair-viz-bb3178607ee249f289af55cafddc8a35.vega-embed details,\n",
       "  #altair-viz-bb3178607ee249f289af55cafddc8a35.vega-embed details summary {\n",
       "    position: relative;\n",
       "  }\n",
       "</style>\n",
       "<div id=\"altair-viz-bb3178607ee249f289af55cafddc8a35\"></div>\n",
       "<script type=\"text/javascript\">\n",
       "  var VEGA_DEBUG = (typeof VEGA_DEBUG == \"undefined\") ? {} : VEGA_DEBUG;\n",
       "  (function(spec, embedOpt){\n",
       "    let outputDiv = document.currentScript.previousElementSibling;\n",
       "    if (outputDiv.id !== \"altair-viz-bb3178607ee249f289af55cafddc8a35\") {\n",
       "      outputDiv = document.getElementById(\"altair-viz-bb3178607ee249f289af55cafddc8a35\");\n",
       "    }\n",
       "\n",
       "    const paths = {\n",
       "      \"vega\": \"https://cdn.jsdelivr.net/npm/vega@5?noext\",\n",
       "      \"vega-lib\": \"https://cdn.jsdelivr.net/npm/vega-lib?noext\",\n",
       "      \"vega-lite\": \"https://cdn.jsdelivr.net/npm/vega-lite@5.20.1?noext\",\n",
       "      \"vega-embed\": \"https://cdn.jsdelivr.net/npm/vega-embed@6?noext\",\n",
       "    };\n",
       "\n",
       "    function maybeLoadScript(lib, version) {\n",
       "      var key = `${lib.replace(\"-\", \"\")}_version`;\n",
       "      return (VEGA_DEBUG[key] == version) ?\n",
       "        Promise.resolve(paths[lib]) :\n",
       "        new Promise(function(resolve, reject) {\n",
       "          var s = document.createElement('script');\n",
       "          document.getElementsByTagName(\"head\")[0].appendChild(s);\n",
       "          s.async = true;\n",
       "          s.onload = () => {\n",
       "            VEGA_DEBUG[key] = version;\n",
       "            return resolve(paths[lib]);\n",
       "          };\n",
       "          s.onerror = () => reject(`Error loading script: ${paths[lib]}`);\n",
       "          s.src = paths[lib];\n",
       "        });\n",
       "    }\n",
       "\n",
       "    function showError(err) {\n",
       "      outputDiv.innerHTML = `<div class=\"error\" style=\"color:red;\">${err}</div>`;\n",
       "      throw err;\n",
       "    }\n",
       "\n",
       "    function displayChart(vegaEmbed) {\n",
       "      vegaEmbed(outputDiv, spec, embedOpt)\n",
       "        .catch(err => showError(`Javascript Error: ${err.message}<br>This usually means there's a typo in your chart specification. See the javascript console for the full traceback.`));\n",
       "    }\n",
       "\n",
       "    if(typeof define === \"function\" && define.amd) {\n",
       "      requirejs.config({paths});\n",
       "      let deps = [\"vega-embed\"];\n",
       "      require(deps, displayChart, err => showError(`Error loading script: ${err.message}`));\n",
       "    } else {\n",
       "      maybeLoadScript(\"vega\", \"5\")\n",
       "        .then(() => maybeLoadScript(\"vega-lite\", \"5.20.1\"))\n",
       "        .then(() => maybeLoadScript(\"vega-embed\", \"6\"))\n",
       "        .catch(showError)\n",
       "        .then(() => displayChart(vegaEmbed));\n",
       "    }\n",
       "  })({\"config\": {\"view\": {\"continuousWidth\": 300, \"continuousHeight\": 300}}, \"data\": {\"name\": \"data-faecc67d693c08f21eb07d4142877490\"}, \"mark\": {\"type\": \"circle\", \"opacity\": 0.5, \"size\": 80}, \"encoding\": {\"color\": {\"field\": \"region\", \"legend\": {\"direction\": \"horizontal\", \"orient\": \"top\"}, \"scale\": {\"domain\": [\"South Asia\", \"Europe & Central Asia\", \"Middle East & North Africa\", \"Sub-Saharan Africa\", \"America\", \"East Asia & Pacific\"], \"range\": [\"#e41a1c\", \"#377eb8\", \"#4daf4a\", \"#984ea3\", \"#ff7f00\", \"#f5df4d\"]}, \"type\": \"nominal\"}, \"tooltip\": [{\"field\": \"Country\", \"type\": \"nominal\"}, {\"field\": \"region\", \"type\": \"nominal\"}, {\"field\": \"population\", \"type\": \"quantitative\"}], \"x\": {\"axis\": {\"tickCount\": 5}, \"field\": \"population\", \"scale\": {\"type\": \"log\"}, \"title\": \"Population (log scale)\", \"type\": \"quantitative\"}, \"y\": {\"field\": \"region\", \"title\": null, \"type\": \"nominal\"}}, \"width\": 700, \"$schema\": \"https://vega.github.io/schema/vega-lite/v5.20.1.json\", \"datasets\": {\"data-faecc67d693c08f21eb07d4142877490\": [{\"Country\": \"Afghanistan\", \"Year\": 2013, \"fertility\": 4.9, \"life\": 60.947, \"population\": 34499915.0, \"child_mortality\": 96.7, \"gdp\": 1884.0, \"region\": \"South Asia\"}, {\"Country\": \"Albania\", \"Year\": 2013, \"fertility\": 1.771, \"life\": 77.392, \"population\": 3238316.0, \"child_mortality\": 14.9, \"gdp\": 9961.0, \"region\": \"Europe & Central Asia\"}, {\"Country\": \"Algeria\", \"Year\": 2013, \"fertility\": 2.795, \"life\": 71.0, \"population\": 36983924.0, \"child_mortality\": 25.2, \"gdp\": 12893.0, \"region\": \"Middle East & North Africa\"}, {\"Country\": \"Angola\", \"Year\": 2013, \"fertility\": 5.863, \"life\": 51.899, \"population\": 20714494.0, \"child_mortality\": 167.1, \"gdp\": 7488.0, \"region\": \"Sub-Saharan Africa\"}, {\"Country\": \"Antigua and Barbuda\", \"Year\": 2013, \"fertility\": 2.089, \"life\": 75.954, \"population\": 91404.0, \"child_mortality\": 8.7, \"gdp\": 20353.0, \"region\": \"America\"}, {\"Country\": \"Argentina\", \"Year\": 2013, \"fertility\": 2.175, \"life\": 76.305, \"population\": 41473982.0, \"child_mortality\": 13.3, \"gdp\": 17629.0, \"region\": \"America\"}, {\"Country\": \"Armenia\", \"Year\": 2013, \"fertility\": 1.74, \"life\": 74.561, \"population\": 3117722.0, \"child_mortality\": 15.5, \"gdp\": 7527.0, \"region\": \"Europe & Central Asia\"}, {\"Country\": \"Aruba\", \"Year\": 2013, \"fertility\": 1.673, \"life\": 75.455, \"population\": 108883.0, \"child_mortality\": 17.03, \"gdp\": 36083.0, \"region\": \"America\"}, {\"Country\": \"Australia\", \"Year\": 2013, \"fertility\": 1.882, \"life\": 82.49600000000001, \"population\": 23213944.0, \"child_mortality\": 4.0, \"gdp\": 42840.0, \"region\": \"East Asia & Pacific\"}, {\"Country\": \"Austria\", \"Year\": 2013, \"fertility\": 1.471, \"life\": 81.137, \"population\": 8441263.0, \"child_mortality\": 3.9, \"gdp\": 44059.0, \"region\": \"Europe & Central Asia\"}, {\"Country\": \"Azerbaijan\", \"Year\": 2013, \"fertility\": 1.924, \"life\": 70.753, \"population\": 9533445.0, \"child_mortality\": 34.2, \"gdp\": 16593.0, \"region\": \"Europe & Central Asia\"}, {\"Country\": \"Bahamas\", \"Year\": 2013, \"fertility\": 1.888, \"life\": 75.237, \"population\": 355233.0, \"child_mortality\": 12.8, \"gdp\": 22518.0, \"region\": \"America\"}, {\"Country\": \"Bahrain\", \"Year\": 2013, \"fertility\": 2.075, \"life\": 76.608, \"population\": 1377273.0, \"child_mortality\": 6.9, \"gdp\": 42444.0, \"region\": \"Middle East & North Africa\"}, {\"Country\": \"Bangladesh\", \"Year\": 2013, \"fertility\": 2.177, \"life\": 70.657, \"population\": 154393847.0, \"child_mortality\": 41.6, \"gdp\": 2853.0, \"region\": \"South Asia\"}, {\"Country\": \"Barbados\", \"Year\": 2013, \"fertility\": 1.849, \"life\": 75.37, \"population\": 275141.0, \"child_mortality\": 13.7, \"gdp\": 12867.0, \"region\": \"America\"}, {\"Country\": \"Belarus\", \"Year\": 2013, \"fertility\": 1.494, \"life\": 69.928, \"population\": 9498290.0, \"child_mortality\": 4.9, \"gdp\": 17085.0, \"region\": \"Europe & Central Asia\"}, {\"Country\": \"Belgium\", \"Year\": 2013, \"fertility\": 1.854, \"life\": 80.548, \"population\": 10815599.0, \"child_mortality\": 4.3, \"gdp\": 40607.0, \"region\": \"Europe & Central Asia\"}, {\"Country\": \"Belize\", \"Year\": 2013, \"fertility\": 2.676, \"life\": 73.882, \"population\": 330721.0, \"child_mortality\": 17.5, \"gdp\": 8215.0, \"region\": \"America\"}, {\"Country\": \"Benin\", \"Year\": 2013, \"fertility\": 4.845, \"life\": 59.33, \"population\": 9606534.0, \"child_mortality\": 104.8, \"gdp\": 1733.0, \"region\": \"Sub-Saharan Africa\"}, {\"Country\": \"Bhutan\", \"Year\": 2013, \"fertility\": 2.232, \"life\": 68.294, \"population\": 762313.0, \"child_mortality\": 36.0, \"gdp\": 7167.0, \"region\": \"South Asia\"}, {\"Country\": \"Bolivia\", \"Year\": 2013, \"fertility\": 3.221, \"life\": 67.26, \"population\": 10409761.0, \"child_mortality\": 41.3, \"gdp\": 5934.0, \"region\": \"America\"}, {\"Country\": \"Bosnia and Herzegovina\", \"Year\": 2013, \"fertility\": 1.283, \"life\": 76.37, \"population\": 3735880.0, \"child_mortality\": 6.6, \"gdp\": 9387.0, \"region\": \"Europe & Central Asia\"}, {\"Country\": \"Botswana\", \"Year\": 2013, \"fertility\": 2.619, \"life\": 47.572, \"population\": 2074616.0, \"child_mortality\": 55.5, \"gdp\": 16155.0, \"region\": \"Sub-Saharan Africa\"}, {\"Country\": \"Brazil\", \"Year\": 2013, \"fertility\": 1.801, \"life\": 73.937, \"population\": 200050487.0, \"child_mortality\": 14.4, \"gdp\": 15518.0, \"region\": \"America\"}, {\"Country\": \"Brunei\", \"Year\": 2013, \"fertility\": 1.994, \"life\": 78.547, \"population\": 419772.0, \"child_mortality\": 10.0, \"gdp\": 69474.0, \"region\": \"East Asia & Pacific\"}, {\"Country\": \"Bulgaria\", \"Year\": 2013, \"fertility\": 1.541, \"life\": 73.54899999999999, \"population\": 7349462.0, \"child_mortality\": 11.6, \"gdp\": 15695.0, \"region\": \"Europe & Central Asia\"}, {\"Country\": \"Burkina Faso\", \"Year\": 2013, \"fertility\": 5.605, \"life\": 56.344, \"population\": 18011507.0, \"child_mortality\": 96.6, \"gdp\": 1588.0, \"region\": \"Sub-Saharan Africa\"}, {\"Country\": \"Burundi\", \"Year\": 2013, \"fertility\": 6.033, \"life\": 54.104, \"population\": 8911183.0, \"child_mortality\": 87.8, \"gdp\": 747.0, \"region\": \"Sub-Saharan Africa\"}, {\"Country\": \"Cambodia\", \"Year\": 2013, \"fertility\": 2.861, \"life\": 71.916, \"population\": 14656016.0, \"child_mortality\": 32.9, \"gdp\": 2942.0, \"region\": \"East Asia & Pacific\"}, {\"Country\": \"Cameroon\", \"Year\": 2013, \"fertility\": 4.78, \"life\": 55.065, \"population\": 20913595.0, \"child_mortality\": 95.2, \"gdp\": 2739.0, \"region\": \"Sub-Saharan Africa\"}, {\"Country\": \"Canada\", \"Year\": 2013, \"fertility\": 1.67, \"life\": 81.482, \"population\": 34993747.0, \"child_mortality\": 5.2, \"gdp\": 42213.0, \"region\": \"America\"}, {\"Country\": \"Cape Verde\", \"Year\": 2013, \"fertility\": 2.292, \"life\": 75.093, \"population\": 510213.0, \"child_mortality\": 25.9, \"gdp\": 6232.0, \"region\": \"Sub-Saharan Africa\"}, {\"Country\": \"Central African Rep.\", \"Year\": 2013, \"fertility\": 4.365, \"life\": 50.179, \"population\": 4666833.0, \"child_mortality\": null, \"gdp\": null, \"region\": \"Sub-Saharan Africa\"}, {\"Country\": \"Chad\", \"Year\": 2013, \"fertility\": 6.263, \"life\": 51.182, \"population\": 12141876.0, \"child_mortality\": 147.1, \"gdp\": 2055.0, \"region\": \"Sub-Saharan Africa\"}, {\"Country\": \"Channel Islands\", \"Year\": 2013, \"fertility\": 1.459, \"life\": 80.324, \"population\": 154432.0, \"child_mortality\": 9.13, \"gdp\": null, \"region\": \"Europe & Central Asia\"}, {\"Country\": \"Chile\", \"Year\": 2013, \"fertility\": 1.82, \"life\": 79.955, \"population\": 17574464.0, \"child_mortality\": 8.4, \"gdp\": 21746.0, \"region\": \"America\"}, {\"Country\": \"China\", \"Year\": 2013, \"fertility\": 1.668, \"life\": 75.331, \"population\": 1359368470.0, \"child_mortality\": 12.3, \"gdp\": 11805.0, \"region\": \"East Asia & Pacific\"}, {\"Country\": \"Colombia\", \"Year\": 2013, \"fertility\": 2.286, \"life\": 74.038, \"population\": 48165221.0, \"child_mortality\": 16.9, \"gdp\": 12054.0, \"region\": \"America\"}, {\"Country\": \"Comoros\", \"Year\": 2013, \"fertility\": 4.714, \"life\": 60.874, \"population\": 792913.0, \"child_mortality\": 78.3, \"gdp\": 1450.0, \"region\": \"Sub-Saharan Africa\"}, {\"Country\": \"Congo, Dem. Rep.\", \"Year\": 2013, \"fertility\": 5.933, \"life\": 49.963, \"population\": 71419669.0, \"child_mortality\": 104.8, \"gdp\": 724.0, \"region\": \"Sub-Saharan Africa\"}, {\"Country\": \"Congo, Rep.\", \"Year\": 2013, \"fertility\": 4.968999999999999, \"life\": 58.793, \"population\": 4324199.0, \"child_mortality\": 49.6, \"gdp\": 5680.0, \"region\": \"Sub-Saharan Africa\"}, {\"Country\": \"Costa Rica\", \"Year\": 2013, \"fertility\": 1.795, \"life\": 79.93, \"population\": 4859957.0, \"child_mortality\": 10.0, \"gdp\": 13427.0, \"region\": \"America\"}, {\"Country\": \"Cote d'Ivoire\", \"Year\": 2013, \"fertility\": 4.8660000000000005, \"life\": 50.722, \"population\": 21057316.0, \"child_mortality\": 100.7, \"gdp\": 3123.0, \"region\": \"Sub-Saharan Africa\"}, {\"Country\": \"Croatia\", \"Year\": 2013, \"fertility\": 1.501, \"life\": 77.048, \"population\": 4378806.0, \"child_mortality\": 4.7, \"gdp\": 20049.0, \"region\": \"Europe & Central Asia\"}, {\"Country\": \"Cuba\", \"Year\": 2013, \"fertility\": 1.449, \"life\": 79.262, \"population\": 11244424.0, \"child_mortality\": 6.1, \"gdp\": 20122.0, \"region\": \"America\"}, {\"Country\": \"Cyprus\", \"Year\": 2013, \"fertility\": 1.461, \"life\": 79.84100000000001, \"population\": 1141453.0, \"child_mortality\": 3.6, \"gdp\": 30081.0, \"region\": \"Europe & Central Asia\"}, {\"Country\": \"Czech Rep.\", \"Year\": 2013, \"fertility\": 1.5659999999999998, \"life\": 77.69, \"population\": 10589806.0, \"child_mortality\": null, \"gdp\": null, \"region\": \"Europe & Central Asia\"}, {\"Country\": \"Denmark\", \"Year\": 2013, \"fertility\": 1.88, \"life\": 79.388, \"population\": 5611187.0, \"child_mortality\": 3.7, \"gdp\": 42483.0, \"region\": \"Europe & Central Asia\"}, {\"Country\": \"Djibouti\", \"Year\": 2013, \"fertility\": 3.387, \"life\": 61.801, \"population\": 940090.0, \"child_mortality\": 69.5, \"gdp\": 2903.0, \"region\": \"Middle East & North Africa\"}, {\"Country\": \"Dominican Rep.\", \"Year\": 2013, \"fertility\": 2.484, \"life\": 73.402, \"population\": 10308609.0, \"child_mortality\": null, \"gdp\": null, \"region\": \"America\"}, {\"Country\": \"Ecuador\", \"Year\": 2013, \"fertility\": 2.559, \"life\": 76.471, \"population\": 15061398.0, \"child_mortality\": 23.0, \"gdp\": 10541.0, \"region\": \"America\"}, {\"Country\": \"Egypt\", \"Year\": 2013, \"fertility\": 2.77, \"life\": 71.157, \"population\": 85378440.0, \"child_mortality\": 25.8, \"gdp\": 10731.0, \"region\": \"Middle East & North Africa\"}, {\"Country\": \"El Salvador\", \"Year\": 2013, \"fertility\": 2.184, \"life\": 72.59899999999999, \"population\": 6302723.0, \"child_mortality\": 18.0, \"gdp\": 7515.0, \"region\": \"America\"}, {\"Country\": \"Equatorial Guinea\", \"Year\": 2013, \"fertility\": 4.845, \"life\": 53.062, \"population\": 761050.0, \"child_mortality\": 100.3, \"gdp\": 32654.0, \"region\": \"Sub-Saharan Africa\"}, {\"Country\": \"Eritrea\", \"Year\": 2013, \"fertility\": 4.696000000000001, \"life\": 62.852, \"population\": 5748304.0, \"child_mortality\": 49.7, \"gdp\": 1157.0, \"region\": \"Sub-Saharan Africa\"}, {\"Country\": \"Estonia\", \"Year\": 2013, \"fertility\": 1.604, \"life\": 74.441, \"population\": 1338832.0, \"child_mortality\": 3.4, \"gdp\": 25254.0, \"region\": \"Europe & Central Asia\"}, {\"Country\": \"Ethiopia\", \"Year\": 2013, \"fertility\": 4.519, \"life\": 63.635, \"population\": 88356373.0, \"child_mortality\": 64.6, \"gdp\": 1336.0, \"region\": \"Sub-Saharan Africa\"}, {\"Country\": \"Fiji\", \"Year\": 2013, \"fertility\": 2.588, \"life\": 69.81, \"population\": 882863.0, \"child_mortality\": 23.2, \"gdp\": 7502.0, \"region\": \"East Asia & Pacific\"}, {\"Country\": \"Finland\", \"Year\": 2013, \"fertility\": 1.853, \"life\": 80.535, \"population\": 5418763.0, \"child_mortality\": 2.6, \"gdp\": 38788.0, \"region\": \"Europe & Central Asia\"}, {\"Country\": \"France\", \"Year\": 2013, \"fertility\": 1.98, \"life\": 81.81, \"population\": 63782963.0, \"child_mortality\": 4.4, \"gdp\": 37309.0, \"region\": \"Europe & Central Asia\"}, {\"Country\": \"French Guiana\", \"Year\": 2013, \"fertility\": 3.0580000000000003, \"life\": 77.12100000000001, \"population\": 249408.0, \"child_mortality\": 10.95, \"gdp\": null, \"region\": \"America\"}, {\"Country\": \"French Polynesia\", \"Year\": 2013, \"fertility\": 2.0580000000000003, \"life\": 76.257, \"population\": 279632.0, \"child_mortality\": 7.46, \"gdp\": null, \"region\": \"East Asia & Pacific\"}, {\"Country\": \"Gabon\", \"Year\": 2013, \"fertility\": 4.087, \"life\": 63.48, \"population\": 1594205.0, \"child_mortality\": 56.1, \"gdp\": 17580.0, \"region\": \"Sub-Saharan Africa\"}, {\"Country\": \"Gambia\", \"Year\": 2013, \"fertility\": 5.751, \"life\": 58.818000000000005, \"population\": 1874360.0, \"child_mortality\": 73.6, \"gdp\": 1608.0, \"region\": \"Sub-Saharan Africa\"}, {\"Country\": \"Georgia\", \"Year\": 2013, \"fertility\": 1.817, \"life\": 74.301, \"population\": 4278410.0, \"child_mortality\": 13.4, \"gdp\": 6930.0, \"region\": \"Europe & Central Asia\"}, {\"Country\": \"Germany\", \"Year\": 2013, \"fertility\": 1.419, \"life\": 80.743, \"population\": 81804228.0, \"child_mortality\": 3.9, \"gdp\": 42887.0, \"region\": \"Europe & Central Asia\"}, {\"Country\": \"Ghana\", \"Year\": 2013, \"fertility\": 3.857, \"life\": 61.132, \"population\": 26131336.0, \"child_mortality\": 66.5, \"gdp\": 3873.0, \"region\": \"Sub-Saharan Africa\"}, {\"Country\": \"Greece\", \"Year\": 2013, \"fertility\": 1.529, \"life\": 80.77, \"population\": 11445691.0, \"child_mortality\": 4.3, \"gdp\": 24159.0, \"region\": \"Europe & Central Asia\"}, {\"Country\": \"Greenland\", \"Year\": 2013, \"fertility\": 2.077, \"life\": 71.5, \"population\": 57300.0, \"child_mortality\": null, \"gdp\": 26688.0, \"region\": \"Europe & Central Asia\"}, {\"Country\": \"Grenada\", \"Year\": 2013, \"fertility\": 2.17, \"life\": 72.768, \"population\": 105719.0, \"child_mortality\": 12.5, \"gdp\": 11273.0, \"region\": \"America\"}, {\"Country\": \"Guadeloupe\", \"Year\": 2013, \"fertility\": 2.08, \"life\": 80.947, \"population\": 467335.0, \"child_mortality\": 6.27, \"gdp\": null, \"region\": \"America\"}, {\"Country\": \"Guam\", \"Year\": 2013, \"fertility\": 2.405, \"life\": 78.854, \"population\": 186562.0, \"child_mortality\": 11.03, \"gdp\": null, \"region\": \"East Asia & Pacific\"}, {\"Country\": \"Guatemala\", \"Year\": 2013, \"fertility\": 3.783, \"life\": 72.09899999999999, \"population\": 15527502.0, \"child_mortality\": 31.1, \"gdp\": 7063.0, \"region\": \"America\"}, {\"Country\": \"Guinea\", \"Year\": 2013, \"fertility\": 4.915, \"life\": 56.112, \"population\": 10753680.0, \"child_mortality\": 100.4, \"gdp\": 1213.0, \"region\": \"Sub-Saharan Africa\"}, {\"Country\": \"Guinea-Bissau\", \"Year\": 2013, \"fertility\": 4.927, \"life\": 54.291, \"population\": 1612913.0, \"child_mortality\": 100.5, \"gdp\": 1362.0, \"region\": \"Sub-Saharan Africa\"}, {\"Country\": \"Guyana\", \"Year\": 2013, \"fertility\": 2.546, \"life\": 66.295, \"population\": 759262.0, \"child_mortality\": 40.8, \"gdp\": 6336.0, \"region\": \"America\"}, {\"Country\": \"Haiti\", \"Year\": 2013, \"fertility\": 3.148, \"life\": 63.102, \"population\": 10388424.0, \"child_mortality\": 73.1, \"gdp\": 1648.0, \"region\": \"America\"}, {\"Country\": \"Honduras\", \"Year\": 2013, \"fertility\": 3.0010000000000003, \"life\": 73.817, \"population\": 8071522.0, \"child_mortality\": 21.8, \"gdp\": 4154.0, \"region\": \"America\"}, {\"Country\": \"Hong Kong, China\", \"Year\": 2013, \"fertility\": 1.135, \"life\": 83.37799999999999, \"population\": 7274125.0, \"child_mortality\": 2.58, \"gdp\": 51656.0, \"region\": \"East Asia & Pacific\"}, {\"Country\": \"Hungary\", \"Year\": 2013, \"fertility\": 1.411, \"life\": 74.62, \"population\": 9933795.0, \"child_mortality\": 6.3, \"gdp\": 22708.0, \"region\": \"Europe & Central Asia\"}, {\"Country\": \"Iceland\", \"Year\": 2013, \"fertility\": 2.083, \"life\": 82.086, \"population\": 331996.0, \"child_mortality\": 2.1, \"gdp\": 40958.0, \"region\": \"Europe & Central Asia\"}, {\"Country\": \"India\", \"Year\": 2013, \"fertility\": 2.479, \"life\": 66.414, \"population\": 1275137828.0, \"child_mortality\": 52.1, \"gdp\": 5244.0, \"region\": \"South Asia\"}, {\"Country\": \"Indonesia\", \"Year\": 2013, \"fertility\": 2.338, \"life\": 70.833, \"population\": 247188189.0, \"child_mortality\": 29.3, \"gdp\": 9729.0, \"region\": \"East Asia & Pacific\"}, {\"Country\": \"Iran\", \"Year\": 2013, \"fertility\": 1.92, \"life\": 74.048, \"population\": 76407013.0, \"child_mortality\": 16.8, \"gdp\": 15552.0, \"region\": \"Middle East & North Africa\"}, {\"Country\": \"Iraq\", \"Year\": 2013, \"fertility\": 4.026, \"life\": 69.419, \"population\": 34776205.0, \"child_mortality\": 33.9, \"gdp\": 15368.0, \"region\": \"Middle East & North Africa\"}, {\"Country\": \"Ireland\", \"Year\": 2013, \"fertility\": 1.997, \"life\": 80.707, \"population\": 4631391.0, \"child_mortality\": 3.8, \"gdp\": 44640.0, \"region\": \"Europe & Central Asia\"}, {\"Country\": \"Israel\", \"Year\": 2013, \"fertility\": 2.898, \"life\": 81.801, \"population\": 7818860.0, \"child_mortality\": 4.2, \"gdp\": 30927.0, \"region\": \"Middle East & North Africa\"}, {\"Country\": \"Italy\", \"Year\": 2013, \"fertility\": 1.487, \"life\": 82.385, \"population\": 61087395.0, \"child_mortality\": 3.6, \"gdp\": 33827.0, \"region\": \"Europe & Central Asia\"}, {\"Country\": \"Jamaica\", \"Year\": 2013, \"fertility\": 2.26, \"life\": 73.525, \"population\": 2771179.0, \"child_mortality\": 16.7, \"gdp\": 8607.0, \"region\": \"America\"}, {\"Country\": \"Japan\", \"Year\": 2013, \"fertility\": 1.419, \"life\": 83.58, \"population\": 126345235.0, \"child_mortality\": 2.9, \"gdp\": 35614.0, \"region\": \"East Asia & Pacific\"}, {\"Country\": \"Jordan\", \"Year\": 2013, \"fertility\": 3.244, \"life\": 73.854, \"population\": 6572903.0, \"child_mortality\": 19.0, \"gdp\": 11405.0, \"region\": \"Middle East & North Africa\"}, {\"Country\": \"Kazakhstan\", \"Year\": 2013, \"fertility\": 2.455, \"life\": 66.536, \"population\": 16550975.0, \"child_mortality\": 16.4, \"gdp\": 22470.0, \"region\": \"Europe & Central Asia\"}, {\"Country\": \"Kenya\", \"Year\": 2013, \"fertility\": 4.382, \"life\": 61.716, \"population\": 43923719.0, \"child_mortality\": 54.5, \"gdp\": 2706.0, \"region\": \"Sub-Saharan Africa\"}, {\"Country\": \"Kiribati\", \"Year\": 2013, \"fertility\": 2.952, \"life\": 68.905, \"population\": 104251.0, \"child_mortality\": 58.9, \"gdp\": 1796.0, \"region\": \"East Asia & Pacific\"}, {\"Country\": \"Korea, Dem. Rep.\", \"Year\": 2013, \"fertility\": 1.988, \"life\": 69.999, \"population\": 24654358.0, \"child_mortality\": null, \"gdp\": null, \"region\": \"East Asia & Pacific\"}, {\"Country\": \"Korea, Rep.\", \"Year\": 2013, \"fertility\": 1.321, \"life\": 81.535, \"population\": 48774767.0, \"child_mortality\": null, \"gdp\": null, \"region\": \"East Asia & Pacific\"}, {\"Country\": \"Kuwait\", \"Year\": 2013, \"fertility\": 2.6, \"life\": 74.288, \"population\": 2959015.0, \"child_mortality\": 9.4, \"gdp\": 79395.0, \"region\": \"Middle East & North Africa\"}, {\"Country\": \"Kyrgyzstan\", \"Year\": 2013, \"fertility\": 3.075, \"life\": 67.533, \"population\": 5503253.0, \"child_mortality\": null, \"gdp\": null, \"region\": \"Europe & Central Asia\"}, {\"Country\": \"Laos\", \"Year\": 2013, \"fertility\": 3.02, \"life\": 68.309, \"population\": 6458911.0, \"child_mortality\": null, \"gdp\": null, \"region\": \"East Asia & Pacific\"}, {\"Country\": \"Latvia\", \"Year\": 2013, \"fertility\": 1.607, \"life\": 72.15, \"population\": 2226260.0, \"child_mortality\": 8.4, \"gdp\": 21699.0, \"region\": \"Europe & Central Asia\"}, {\"Country\": \"Lebanon\", \"Year\": 2013, \"fertility\": 1.495, \"life\": 80.007, \"population\": 4324060.0, \"child_mortality\": 8.9, \"gdp\": 16623.0, \"region\": \"Middle East & North Africa\"}, {\"Country\": \"Lesotho\", \"Year\": 2013, \"fertility\": 3.0380000000000003, \"life\": 49.446000000000005, \"population\": 2240126.0, \"child_mortality\": 98.9, \"gdp\": 2473.0, \"region\": \"Sub-Saharan Africa\"}, {\"Country\": \"Liberia\", \"Year\": 2013, \"fertility\": 4.792, \"life\": 60.556, \"population\": 4348740.0, \"child_mortality\": 76.3, \"gdp\": 875.0, \"region\": \"Sub-Saharan Africa\"}, {\"Country\": \"Libya\", \"Year\": 2013, \"fertility\": 2.356, \"life\": 75.325, \"population\": 6506095.0, \"child_mortality\": 14.5, \"gdp\": 19760.0, \"region\": \"Middle East & North Africa\"}, {\"Country\": \"Lithuania\", \"Year\": 2013, \"fertility\": 1.519, \"life\": 72.11, \"population\": 3278337.0, \"child_mortality\": 4.9, \"gdp\": 24732.0, \"region\": \"Europe & Central Asia\"}, {\"Country\": \"Luxembourg\", \"Year\": 2013, \"fertility\": 1.671, \"life\": 80.547, \"population\": 530018.0, \"child_mortality\": 2.0, \"gdp\": 88850.0, \"region\": \"Europe & Central Asia\"}, {\"Country\": \"Macao, China\", \"Year\": 2013, \"fertility\": 1.083, \"life\": 80.4, \"population\": 578844.0, \"child_mortality\": 5.33, \"gdp\": 136540.0, \"region\": \"East Asia & Pacific\"}, {\"Country\": \"Macedonia, FYR\", \"Year\": 2013, \"fertility\": 1.431, \"life\": 75.19800000000001, \"population\": 2069219.0, \"child_mortality\": 6.6, \"gdp\": 11664.0, \"region\": \"Europe & Central Asia\"}, {\"Country\": \"Madagascar\", \"Year\": 2013, \"fertility\": 4.468, \"life\": 64.723, \"population\": 22555046.0, \"child_mortality\": 53.4, \"gdp\": 1369.0, \"region\": \"Sub-Saharan Africa\"}, {\"Country\": \"Malawi\", \"Year\": 2013, \"fertility\": 5.388999999999999, \"life\": 55.31100000000001, \"population\": 16406945.0, \"child_mortality\": 72.6, \"gdp\": 757.0, \"region\": \"Sub-Saharan Africa\"}, {\"Country\": \"Malaysia\", \"Year\": 2013, \"fertility\": 1.964, \"life\": 75.017, \"population\": 29787203.0, \"child_mortality\": 8.4, \"gdp\": 22589.0, \"region\": \"East Asia & Pacific\"}, {\"Country\": \"Maldives\", \"Year\": 2013, \"fertility\": 2.256, \"life\": 77.919, \"population\": 328551.0, \"child_mortality\": 9.9, \"gdp\": 13353.0, \"region\": \"South Asia\"}, {\"Country\": \"Mali\", \"Year\": 2013, \"fertility\": 6.847, \"life\": 55.032, \"population\": 16808242.0, \"child_mortality\": 122.7, \"gdp\": 1589.0, \"region\": \"Sub-Saharan Africa\"}, {\"Country\": \"Malta\", \"Year\": 2013, \"fertility\": 1.356, \"life\": 79.75, \"population\": 420557.0, \"child_mortality\": 6.1, \"gdp\": 28822.0, \"region\": \"Europe & Central Asia\"}, {\"Country\": \"Martinique\", \"Year\": 2013, \"fertility\": 1.827, \"life\": 81.41, \"population\": 409366.0, \"child_mortality\": 7.22, \"gdp\": null, \"region\": \"America\"}, {\"Country\": \"Mauritania\", \"Year\": 2013, \"fertility\": 4.67, \"life\": 61.55, \"population\": 3704414.0, \"child_mortality\": 90.2, \"gdp\": 3579.0, \"region\": \"Sub-Saharan Africa\"}, {\"Country\": \"Mauritius\", \"Year\": 2013, \"fertility\": 1.501, \"life\": 73.613, \"population\": 1320785.0, \"child_mortality\": 14.3, \"gdp\": 17146.0, \"region\": \"Sub-Saharan Africa\"}, {\"Country\": \"Mayotte\", \"Year\": 2013, \"fertility\": 3.802, \"life\": 79.19, \"population\": 223907.0, \"child_mortality\": 4.69, \"gdp\": null, \"region\": \"Sub-Saharan Africa\"}, {\"Country\": \"Mexico\", \"Year\": 2013, \"fertility\": 2.185, \"life\": 77.501, \"population\": 117478371.0, \"child_mortality\": 14.5, \"gdp\": 16346.0, \"region\": \"America\"}, {\"Country\": \"Micronesia, Fed. Sts.\", \"Year\": 2013, \"fertility\": 3.294, \"life\": 68.993, \"population\": 112726.0, \"child_mortality\": 37.0, \"gdp\": 3286.0, \"region\": \"East Asia & Pacific\"}, {\"Country\": \"Moldova\", \"Year\": 2013, \"fertility\": 1.456, \"life\": 68.899, \"population\": 3495657.0, \"child_mortality\": 16.4, \"gdp\": 4542.0, \"region\": \"Europe & Central Asia\"}, {\"Country\": \"Mongolia\", \"Year\": 2013, \"fertility\": 2.436, \"life\": 67.503, \"population\": 2887863.0, \"child_mortality\": 24.7, \"gdp\": 10833.0, \"region\": \"East Asia & Pacific\"}, {\"Country\": \"Montenegro\", \"Year\": 2013, \"fertility\": 1.666, \"life\": 74.821, \"population\": 633167.0, \"child_mortality\": 5.3, \"gdp\": 14156.0, \"region\": \"Europe & Central Asia\"}, {\"Country\": \"Morocco\", \"Year\": 2013, \"fertility\": 2.735, \"life\": 70.941, \"population\": 32925553.0, \"child_mortality\": 29.7, \"gdp\": 6967.0, \"region\": \"Middle East & North Africa\"}, {\"Country\": \"Mozambique\", \"Year\": 2013, \"fertility\": 5.188, \"life\": 50.25, \"population\": 25028313.0, \"child_mortality\": 87.2, \"gdp\": 1064.0, \"region\": \"Sub-Saharan Africa\"}, {\"Country\": \"Myanmar\", \"Year\": 2013, \"fertility\": 1.938, \"life\": 65.176, \"population\": 49119646.0, \"child_mortality\": 53.5, \"gdp\": 3526.0, \"region\": \"East Asia & Pacific\"}, {\"Country\": \"Namibia\", \"Year\": 2013, \"fertility\": 3.051, \"life\": 64.483, \"population\": 2404477.0, \"child_mortality\": 49.5, \"gdp\": 9275.0, \"region\": \"Sub-Saharan Africa\"}, {\"Country\": \"Nepal\", \"Year\": 2013, \"fertility\": 2.3, \"life\": 68.41, \"population\": 31535507.0, \"child_mortality\": 39.0, \"gdp\": 2173.0, \"region\": \"South Asia\"}, {\"Country\": \"Netherlands\", \"Year\": 2013, \"fertility\": 1.774, \"life\": 81.038, \"population\": 16761552.0, \"child_mortality\": 4.0, \"gdp\": 45021.0, \"region\": \"Europe & Central Asia\"}, {\"Country\": \"Netherlands Antilles\", \"Year\": 2013, \"fertility\": 1.89, \"life\": 76.89399999999999, \"population\": 205860.0, \"child_mortality\": null, \"gdp\": null, \"region\": \"America\"}, {\"Country\": \"New Caledonia\", \"Year\": 2013, \"fertility\": 2.127, \"life\": 76.306, \"population\": 262605.0, \"child_mortality\": 15.0, \"gdp\": null, \"region\": \"East Asia & Pacific\"}, {\"Country\": \"New Zealand\", \"Year\": 2013, \"fertility\": 2.052, \"life\": 81.132, \"population\": 4508166.0, \"child_mortality\": 5.9, \"gdp\": 33360.0, \"region\": \"East Asia & Pacific\"}, {\"Country\": \"Nicaragua\", \"Year\": 2013, \"fertility\": 2.498, \"life\": 74.839, \"population\": 6041763.0, \"child_mortality\": 23.5, \"gdp\": 4432.0, \"region\": \"America\"}, {\"Country\": \"Niger\", \"Year\": 2013, \"fertility\": 7.561, \"life\": 58.409, \"population\": 17239826.0, \"child_mortality\": 104.1, \"gdp\": 897.0, \"region\": \"Sub-Saharan Africa\"}, {\"Country\": \"Nigeria\", \"Year\": 2013, \"fertility\": 5.976, \"life\": 52.506, \"population\": 170901148.0, \"child_mortality\": 116.6, \"gdp\": 5423.0, \"region\": \"Sub-Saharan Africa\"}, {\"Country\": \"Norway\", \"Year\": 2013, \"fertility\": 1.931, \"life\": 81.503, \"population\": 4991997.0, \"child_mortality\": 2.8, \"gdp\": 63322.0, \"region\": \"Europe & Central Asia\"}, {\"Country\": \"Oman\", \"Year\": 2013, \"fertility\": 2.853, \"life\": 76.55199999999999, \"population\": 2957333.0, \"child_mortality\": 11.7, \"gdp\": 41770.0, \"region\": \"Middle East & North Africa\"}, {\"Country\": \"Pakistan\", \"Year\": 2013, \"fertility\": 3.185, \"life\": 66.57, \"population\": 183188847.0, \"child_mortality\": 85.6, \"gdp\": 4454.0, \"region\": \"South Asia\"}, {\"Country\": \"Panama\", \"Year\": 2013, \"fertility\": 2.466, \"life\": 77.556, \"population\": 3678264.0, \"child_mortality\": 18.1, \"gdp\": 18793.0, \"region\": \"America\"}, {\"Country\": \"Papua New Guinea\", \"Year\": 2013, \"fertility\": 3.781, \"life\": 62.42100000000001, \"population\": 7327281.0, \"child_mortality\": 60.9, \"gdp\": 2558.0, \"region\": \"East Asia & Pacific\"}, {\"Country\": \"Paraguay\", \"Year\": 2013, \"fertility\": 2.864, \"life\": 72.259, \"population\": 6798236.0, \"child_mortality\": 21.9, \"gdp\": 7833.0, \"region\": \"America\"}, {\"Country\": \"Peru\", \"Year\": 2013, \"fertility\": 2.417, \"life\": 74.82600000000001, \"population\": 30075185.0, \"child_mortality\": 18.3, \"gdp\": 11395.0, \"region\": \"America\"}, {\"Country\": \"Philippines\", \"Year\": 2013, \"fertility\": 3.043, \"life\": 68.703, \"population\": 98112780.0, \"child_mortality\": 29.6, \"gdp\": 6326.0, \"region\": \"East Asia & Pacific\"}, {\"Country\": \"Poland\", \"Year\": 2013, \"fertility\": 1.4169999999999998, \"life\": 76.408, \"population\": 38331803.0, \"child_mortality\": 5.2, \"gdp\": 23144.0, \"region\": \"Europe & Central Asia\"}, {\"Country\": \"Portugal\", \"Year\": 2013, \"fertility\": 1.315, \"life\": 79.945, \"population\": 10704534.0, \"child_mortality\": 3.8, \"gdp\": 25677.0, \"region\": \"Europe & Central Asia\"}, {\"Country\": \"Puerto Rico\", \"Year\": 2013, \"fertility\": 1.636, \"life\": 78.86399999999999, \"population\": 3742334.0, \"child_mortality\": 7.16, \"gdp\": 33818.0, \"region\": \"America\"}, {\"Country\": \"Qatar\", \"Year\": 2013, \"fertility\": 2.019, \"life\": 78.369, \"population\": 1976840.0, \"child_mortality\": 8.2, \"gdp\": 131579.0, \"region\": \"Middle East & North Africa\"}, {\"Country\": \"Reunion\", \"Year\": 2013, \"fertility\": 2.232, \"life\": 79.646, \"population\": 874944.0, \"child_mortality\": 4.69, \"gdp\": null, \"region\": \"Sub-Saharan Africa\"}, {\"Country\": \"Romania\", \"Year\": 2013, \"fertility\": 1.4169999999999998, \"life\": 73.831, \"population\": 21338815.0, \"child_mortality\": 12.0, \"gdp\": 18182.0, \"region\": \"Europe & Central Asia\"}, {\"Country\": \"Russia\", \"Year\": 2013, \"fertility\": 1.595, \"life\": 67.979, \"population\": 142557892.0, \"child_mortality\": 10.4, \"gdp\": 23561.0, \"region\": \"Europe & Central Asia\"}, {\"Country\": \"Rwanda\", \"Year\": 2013, \"fertility\": 4.508, \"life\": 64.066, \"population\": 11608439.0, \"child_mortality\": 48.2, \"gdp\": 1426.0, \"region\": \"Sub-Saharan Africa\"}, {\"Country\": \"Saint Lucia\", \"Year\": 2013, \"fertility\": 1.912, \"life\": 74.804, \"population\": 179515.0, \"child_mortality\": null, \"gdp\": null, \"region\": \"America\"}, {\"Country\": \"Saint Vincent and the Grenadines\", \"Year\": 2013, \"fertility\": 1.997, \"life\": 72.488, \"population\": 109354.0, \"child_mortality\": null, \"gdp\": null, \"region\": \"America\"}, {\"Country\": \"Samoa\", \"Year\": 2013, \"fertility\": 4.147, \"life\": 73.156, \"population\": 185727.0, \"child_mortality\": 18.2, \"gdp\": 5502.0, \"region\": \"East Asia & Pacific\"}, {\"Country\": \"Sao Tome and Principe\", \"Year\": 2013, \"fertility\": 4.075, \"life\": 66.337, \"population\": 175383.0, \"child_mortality\": 50.8, \"gdp\": 2876.0, \"region\": \"Sub-Saharan Africa\"}, {\"Country\": \"Saudi Arabia\", \"Year\": 2013, \"fertility\": 2.644, \"life\": 75.479, \"population\": 29319402.0, \"child_mortality\": 15.5, \"gdp\": 51294.0, \"region\": \"Middle East & North Africa\"}, {\"Country\": \"Senegal\", \"Year\": 2013, \"fertility\": 4.934, \"life\": 63.451, \"population\": 13454191.0, \"child_mortality\": 52.5, \"gdp\": 2185.0, \"region\": \"Sub-Saharan Africa\"}, {\"Country\": \"Serbia\", \"Year\": 2013, \"fertility\": 1.365, \"life\": 74.059, \"population\": 9835010.0, \"child_mortality\": 6.9, \"gdp\": 12889.0, \"region\": \"Europe & Central Asia\"}, {\"Country\": \"Seychelles\", \"Year\": 2013, \"fertility\": 2.18, \"life\": 73.187, \"population\": 87417.0, \"child_mortality\": 14.0, \"gdp\": 24805.0, \"region\": \"Sub-Saharan Africa\"}, {\"Country\": \"Sierra Leone\", \"Year\": 2013, \"fertility\": 4.705, \"life\": 45.56100000000001, \"population\": 6255163.0, \"child_mortality\": 133.4, \"gdp\": 1865.0, \"region\": \"Sub-Saharan Africa\"}, {\"Country\": \"Singapore\", \"Year\": 2013, \"fertility\": 1.2819999999999998, \"life\": 82.322, \"population\": 5300914.0, \"child_mortality\": 2.8, \"gdp\": 77721.0, \"region\": \"East Asia & Pacific\"}, {\"Country\": \"Slovak Republic\", \"Year\": 2013, \"fertility\": 1.396, \"life\": 75.39699999999999, \"population\": 5488775.0, \"child_mortality\": 7.2, \"gdp\": 25759.0, \"region\": \"Europe & Central Asia\"}, {\"Country\": \"Slovenia\", \"Year\": 2013, \"fertility\": 1.509, \"life\": 79.59100000000001, \"population\": 2044766.0, \"child_mortality\": 2.9, \"gdp\": 27368.0, \"region\": \"Europe & Central Asia\"}, {\"Country\": \"Solomon Islands\", \"Year\": 2013, \"fertility\": 4.031000000000001, \"life\": 67.675, \"population\": 580791.0, \"child_mortality\": 29.9, \"gdp\": 2041.0, \"region\": \"East Asia & Pacific\"}, {\"Country\": \"Somalia\", \"Year\": 2013, \"fertility\": 6.563, \"life\": 55.05, \"population\": 10052842.0, \"child_mortality\": 146.1, \"gdp\": 619.0, \"region\": \"Sub-Saharan Africa\"}, {\"Country\": \"South Africa\", \"Year\": 2013, \"fertility\": 2.387, \"life\": 56.916, \"population\": 50981076.0, \"child_mortality\": 45.1, \"gdp\": 12454.0, \"region\": \"Sub-Saharan Africa\"}, {\"Country\": \"South Sudan\", \"Year\": 2013, \"fertility\": 4.92, \"life\": 55.264, \"population\": 10881979.0, \"child_mortality\": 99.2, \"gdp\": 1965.0, \"region\": \"Sub-Saharan Africa\"}, {\"Country\": \"Spain\", \"Year\": 2013, \"fertility\": 1.505, \"life\": 82.1, \"population\": 47042602.0, \"child_mortality\": 4.3, \"gdp\": 31681.0, \"region\": \"Europe & Central Asia\"}, {\"Country\": \"Sri Lanka\", \"Year\": 2013, \"fertility\": 2.339, \"life\": 74.293, \"population\": 21393876.0, \"child_mortality\": 9.4, \"gdp\": 9426.0, \"region\": \"South Asia\"}, {\"Country\": \"Sudan\", \"Year\": 2013, \"fertility\": 4.42, \"life\": 62.055, \"population\": 35940905.0, \"child_mortality\": 74.2, \"gdp\": 3903.0, \"region\": \"Sub-Saharan Africa\"}, {\"Country\": \"Suriname\", \"Year\": 2013, \"fertility\": 2.268, \"life\": 71.01899999999999, \"population\": 538882.0, \"child_mortality\": 22.6, \"gdp\": 15556.0, \"region\": \"America\"}, {\"Country\": \"Swaziland\", \"Year\": 2013, \"fertility\": 3.334, \"life\": 49.0, \"population\": 1237166.0, \"child_mortality\": 74.9, \"gdp\": 5998.0, \"region\": \"Sub-Saharan Africa\"}, {\"Country\": \"Sweden\", \"Year\": 2013, \"fertility\": 1.928, \"life\": 81.818, \"population\": 9545823.0, \"child_mortality\": 3.0, \"gdp\": 43448.0, \"region\": \"Europe & Central Asia\"}, {\"Country\": \"Switzerland\", \"Year\": 2013, \"fertility\": 1.533, \"life\": 82.604, \"population\": 7761820.0, \"child_mortality\": 4.2, \"gdp\": 54983.0, \"region\": \"Europe & Central Asia\"}, {\"Country\": \"Syria\", \"Year\": 2013, \"fertility\": 2.964, \"life\": 71.0, \"population\": 21468962.0, \"child_mortality\": 15.3, \"gdp\": 5464.0, \"region\": \"Middle East & North Africa\"}, {\"Country\": \"Taiwan\", \"Year\": 2013, \"fertility\": 1.065, \"life\": 79.75, \"population\": 23151000.0, \"child_mortality\": null, \"gdp\": 40214.0, \"region\": \"East Asia & Pacific\"}, {\"Country\": \"Tajikistan\", \"Year\": 2013, \"fertility\": 3.815, \"life\": 67.248, \"population\": 7183529.0, \"child_mortality\": 47.8, \"gdp\": 2432.0, \"region\": \"Europe & Central Asia\"}, {\"Country\": \"Tanzania\", \"Year\": 2013, \"fertility\": 5.214, \"life\": 61.53, \"population\": 49153002.0, \"child_mortality\": 52.6, \"gdp\": 2382.0, \"region\": \"Sub-Saharan Africa\"}, {\"Country\": \"Thailand\", \"Year\": 2013, \"fertility\": 1.399, \"life\": 74.40100000000001, \"population\": 70243267.0, \"child_mortality\": 13.1, \"gdp\": 13932.0, \"region\": \"East Asia & Pacific\"}, {\"Country\": \"Timor-Leste\", \"Year\": 2013, \"fertility\": 5.855, \"life\": 67.538, \"population\": 1223665.0, \"child_mortality\": 56.5, \"gdp\": 2093.0, \"region\": \"East Asia & Pacific\"}, {\"Country\": \"Togo\", \"Year\": 2013, \"fertility\": 4.638999999999999, \"life\": 56.537, \"population\": 6412560.0, \"child_mortality\": 83.3, \"gdp\": 1346.0, \"region\": \"Sub-Saharan Africa\"}, {\"Country\": \"Tonga\", \"Year\": 2013, \"fertility\": 3.767, \"life\": 72.673, \"population\": 105265.0, \"child_mortality\": 17.3, \"gdp\": 4879.0, \"region\": \"East Asia & Pacific\"}, {\"Country\": \"Trinidad and Tobago\", \"Year\": 2013, \"fertility\": 1.797, \"life\": 69.865, \"population\": 1355342.0, \"child_mortality\": 21.5, \"gdp\": 29469.0, \"region\": \"America\"}, {\"Country\": \"Tunisia\", \"Year\": 2013, \"fertility\": 2.008, \"life\": 75.873, \"population\": 10813680.0, \"child_mortality\": 15.2, \"gdp\": 10768.0, \"region\": \"Middle East & North Africa\"}, {\"Country\": \"Turkey\", \"Year\": 2013, \"fertility\": 2.041, \"life\": 75.259, \"population\": 75359032.0, \"child_mortality\": 15.4, \"gdp\": 18579.0, \"region\": \"Europe & Central Asia\"}, {\"Country\": \"Turkmenistan\", \"Year\": 2013, \"fertility\": 2.326, \"life\": 65.452, \"population\": 5234640.0, \"child_mortality\": 54.7, \"gdp\": 13555.0, \"region\": \"Europe & Central Asia\"}, {\"Country\": \"Uganda\", \"Year\": 2013, \"fertility\": 5.867000000000001, \"life\": 59.209, \"population\": 36759274.0, \"child_mortality\": 65.1, \"gdp\": 1621.0, \"region\": \"Sub-Saharan Africa\"}, {\"Country\": \"Ukraine\", \"Year\": 2013, \"fertility\": 1.47, \"life\": 68.525, \"population\": 44696741.0, \"child_mortality\": 10.0, \"gdp\": 8338.0, \"region\": \"Europe & Central Asia\"}, {\"Country\": \"United Arab Emirates\", \"Year\": 2013, \"fertility\": 1.801, \"life\": 76.84100000000001, \"population\": 8207940.0, \"child_mortality\": 7.4, \"gdp\": 59092.0, \"region\": \"Middle East & North Africa\"}, {\"Country\": \"United Kingdom\", \"Year\": 2013, \"fertility\": 1.892, \"life\": 80.547, \"population\": 63177406.0, \"child_mortality\": 4.6, \"gdp\": 36908.0, \"region\": \"Europe & Central Asia\"}, {\"Country\": \"United States\", \"Year\": 2013, \"fertility\": 1.976, \"life\": 78.941, \"population\": 318497630.0, \"child_mortality\": 6.9, \"gdp\": 51282.0, \"region\": \"America\"}, {\"Country\": \"Uruguay\", \"Year\": 2013, \"fertility\": 2.046, \"life\": 77.23, \"population\": 3403117.0, \"child_mortality\": 11.1, \"gdp\": 19321.0, \"region\": \"America\"}, {\"Country\": \"Uzbekistan\", \"Year\": 2013, \"fertility\": 2.309, \"life\": 68.241, \"population\": 28398155.0, \"child_mortality\": 41.8, \"gdp\": 5002.0, \"region\": \"Europe & Central Asia\"}, {\"Country\": \"Vanuatu\", \"Year\": 2013, \"fertility\": 3.382, \"life\": 71.626, \"population\": 257812.0, \"child_mortality\": 28.4, \"gdp\": 2895.0, \"region\": \"East Asia & Pacific\"}, {\"Country\": \"Venezuela\", \"Year\": 2013, \"fertility\": 2.39, \"life\": 74.633, \"population\": 30340637.0, \"child_mortality\": 15.7, \"gdp\": 17614.0, \"region\": \"America\"}, {\"Country\": \"Vietnam\", \"Year\": 2013, \"fertility\": 1.743, \"life\": 75.945, \"population\": 90656550.0, \"child_mortality\": 22.9, \"gdp\": 5125.0, \"region\": \"East Asia & Pacific\"}, {\"Country\": \"Virgin Islands (U.S.)\", \"Year\": 2013, \"fertility\": 2.487, \"life\": 80.152, \"population\": 108300.0, \"child_mortality\": 10.82, \"gdp\": null, \"region\": \"America\"}, {\"Country\": \"West Bank and Gaza\", \"Year\": 2013, \"fertility\": 4.01, \"life\": 73.203, \"population\": 4393572.0, \"child_mortality\": 22.3, \"gdp\": 4498.0, \"region\": \"Middle East & North Africa\"}, {\"Country\": \"Western Sahara\", \"Year\": 2013, \"fertility\": 2.363, \"life\": 67.764, \"population\": 585270.0, \"child_mortality\": 45.03, \"gdp\": null, \"region\": \"Middle East & North Africa\"}, {\"Country\": \"Yemen, Rep.\", \"Year\": 2013, \"fertility\": 4.075, \"life\": 63.112, \"population\": 26358020.0, \"child_mortality\": null, \"gdp\": null, \"region\": \"Middle East & North Africa\"}, {\"Country\": \"Zambia\", \"Year\": 2013, \"fertility\": 5.687, \"life\": 58.105, \"population\": 14314515.0, \"child_mortality\": 72.8, \"gdp\": 3800.0, \"region\": \"Sub-Saharan Africa\"}, {\"Country\": \"Zimbabwe\", \"Year\": 2013, \"fertility\": 3.486, \"life\": 59.871, \"population\": 13327925.0, \"child_mortality\": 83.3, \"gdp\": 1773.0, \"region\": \"Sub-Saharan Africa\"}]}}, {\"mode\": \"vega-lite\"});\n",
       "</script>"
      ],
      "text/plain": [
       "alt.Chart(...)"
      ]
     },
     "execution_count": 9,
     "metadata": {},
     "output_type": "execute_result"
    }
   ],
   "source": [
    "colorsScale=alt.Scale(\n",
    "    domain=data_2013['region'].unique(),\n",
    "    range=['#e41a1c','#377eb8','#4daf4a','#984ea3','#ff7f00','#f5df4d'], # presa dal sito colorbrewer\n",
    "        )\n",
    "\n",
    "alt.Chart(data_2013).mark_circle(size=80, opacity=0.5).encode(\n",
    "    alt.Y('region:N',title=None),\n",
    "    alt.X('population:Q',\n",
    "          scale=alt.Scale(type='log'),\n",
    "          axis=alt.Axis(tickCount=5),\n",
    "          title='Population (log scale)',\n",
    "          ),\n",
    "    tooltip=['Country','region','population'],\n",
    "    color=alt.Color(\n",
    "        'region:N',\n",
    "        legend=alt.Legend(direction='horizontal',orient='top'),\n",
    "        scale=colorsScale\n",
    "        ),\n",
    ").properties(\n",
    "    width=700\n",
    ")"
   ]
  },
  {
   "cell_type": "markdown",
   "metadata": {},
   "source": [
    "### Customize legend"
   ]
  },
  {
   "cell_type": "code",
   "execution_count": 26,
   "metadata": {},
   "outputs": [
    {
     "data": {
      "text/html": [
       "\n",
       "<style>\n",
       "  #altair-viz-dd4009f8e1a94495b242856cba3c7a98.vega-embed {\n",
       "    width: 100%;\n",
       "    display: flex;\n",
       "  }\n",
       "\n",
       "  #altair-viz-dd4009f8e1a94495b242856cba3c7a98.vega-embed details,\n",
       "  #altair-viz-dd4009f8e1a94495b242856cba3c7a98.vega-embed details summary {\n",
       "    position: relative;\n",
       "  }\n",
       "</style>\n",
       "<div id=\"altair-viz-dd4009f8e1a94495b242856cba3c7a98\"></div>\n",
       "<script type=\"text/javascript\">\n",
       "  var VEGA_DEBUG = (typeof VEGA_DEBUG == \"undefined\") ? {} : VEGA_DEBUG;\n",
       "  (function(spec, embedOpt){\n",
       "    let outputDiv = document.currentScript.previousElementSibling;\n",
       "    if (outputDiv.id !== \"altair-viz-dd4009f8e1a94495b242856cba3c7a98\") {\n",
       "      outputDiv = document.getElementById(\"altair-viz-dd4009f8e1a94495b242856cba3c7a98\");\n",
       "    }\n",
       "\n",
       "    const paths = {\n",
       "      \"vega\": \"https://cdn.jsdelivr.net/npm/vega@5?noext\",\n",
       "      \"vega-lib\": \"https://cdn.jsdelivr.net/npm/vega-lib?noext\",\n",
       "      \"vega-lite\": \"https://cdn.jsdelivr.net/npm/vega-lite@5.20.1?noext\",\n",
       "      \"vega-embed\": \"https://cdn.jsdelivr.net/npm/vega-embed@6?noext\",\n",
       "    };\n",
       "\n",
       "    function maybeLoadScript(lib, version) {\n",
       "      var key = `${lib.replace(\"-\", \"\")}_version`;\n",
       "      return (VEGA_DEBUG[key] == version) ?\n",
       "        Promise.resolve(paths[lib]) :\n",
       "        new Promise(function(resolve, reject) {\n",
       "          var s = document.createElement('script');\n",
       "          document.getElementsByTagName(\"head\")[0].appendChild(s);\n",
       "          s.async = true;\n",
       "          s.onload = () => {\n",
       "            VEGA_DEBUG[key] = version;\n",
       "            return resolve(paths[lib]);\n",
       "          };\n",
       "          s.onerror = () => reject(`Error loading script: ${paths[lib]}`);\n",
       "          s.src = paths[lib];\n",
       "        });\n",
       "    }\n",
       "\n",
       "    function showError(err) {\n",
       "      outputDiv.innerHTML = `<div class=\"error\" style=\"color:red;\">${err}</div>`;\n",
       "      throw err;\n",
       "    }\n",
       "\n",
       "    function displayChart(vegaEmbed) {\n",
       "      vegaEmbed(outputDiv, spec, embedOpt)\n",
       "        .catch(err => showError(`Javascript Error: ${err.message}<br>This usually means there's a typo in your chart specification. See the javascript console for the full traceback.`));\n",
       "    }\n",
       "\n",
       "    if(typeof define === \"function\" && define.amd) {\n",
       "      requirejs.config({paths});\n",
       "      let deps = [\"vega-embed\"];\n",
       "      require(deps, displayChart, err => showError(`Error loading script: ${err.message}`));\n",
       "    } else {\n",
       "      maybeLoadScript(\"vega\", \"5\")\n",
       "        .then(() => maybeLoadScript(\"vega-lite\", \"5.20.1\"))\n",
       "        .then(() => maybeLoadScript(\"vega-embed\", \"6\"))\n",
       "        .catch(showError)\n",
       "        .then(() => displayChart(vegaEmbed));\n",
       "    }\n",
       "  })({\"config\": {\"view\": {\"continuousWidth\": 300, \"continuousHeight\": 300}}, \"data\": {\"name\": \"data-faecc67d693c08f21eb07d4142877490\"}, \"mark\": {\"type\": \"circle\", \"opacity\": 0.5, \"size\": 80}, \"encoding\": {\"color\": {\"field\": \"region\", \"legend\": {\"columns\": 2, \"direction\": \"horizontal\", \"orient\": \"right\", \"rowPadding\": 10, \"title\": \"Continents\"}, \"scale\": {\"domain\": [\"South Asia\", \"Europe & Central Asia\", \"Middle East & North Africa\", \"Sub-Saharan Africa\", \"America\", \"East Asia & Pacific\"], \"range\": [\"#e41a1c\", \"#377eb8\", \"#4daf4a\", \"#984ea3\", \"#ff7f00\", \"#f5df4d\"]}, \"type\": \"nominal\"}, \"tooltip\": [{\"field\": \"Country\", \"type\": \"nominal\"}, {\"field\": \"region\", \"type\": \"nominal\"}, {\"field\": \"population\", \"type\": \"quantitative\"}], \"x\": {\"axis\": {\"tickCount\": 5}, \"field\": \"population\", \"scale\": {\"type\": \"log\"}, \"title\": \"Population (log scale)\", \"type\": \"quantitative\"}, \"y\": {\"field\": \"region\", \"title\": null, \"type\": \"nominal\"}}, \"width\": 500, \"$schema\": \"https://vega.github.io/schema/vega-lite/v5.20.1.json\", \"datasets\": {\"data-faecc67d693c08f21eb07d4142877490\": [{\"Country\": \"Afghanistan\", \"Year\": 2013, \"fertility\": 4.9, \"life\": 60.947, \"population\": 34499915.0, \"child_mortality\": 96.7, \"gdp\": 1884.0, \"region\": \"South Asia\"}, {\"Country\": \"Albania\", \"Year\": 2013, \"fertility\": 1.771, \"life\": 77.392, \"population\": 3238316.0, \"child_mortality\": 14.9, \"gdp\": 9961.0, \"region\": \"Europe & Central Asia\"}, {\"Country\": \"Algeria\", \"Year\": 2013, \"fertility\": 2.795, \"life\": 71.0, \"population\": 36983924.0, \"child_mortality\": 25.2, \"gdp\": 12893.0, \"region\": \"Middle East & North Africa\"}, {\"Country\": \"Angola\", \"Year\": 2013, \"fertility\": 5.863, \"life\": 51.899, \"population\": 20714494.0, \"child_mortality\": 167.1, \"gdp\": 7488.0, \"region\": \"Sub-Saharan Africa\"}, {\"Country\": \"Antigua and Barbuda\", \"Year\": 2013, \"fertility\": 2.089, \"life\": 75.954, \"population\": 91404.0, \"child_mortality\": 8.7, \"gdp\": 20353.0, \"region\": \"America\"}, {\"Country\": \"Argentina\", \"Year\": 2013, \"fertility\": 2.175, \"life\": 76.305, \"population\": 41473982.0, \"child_mortality\": 13.3, \"gdp\": 17629.0, \"region\": \"America\"}, {\"Country\": \"Armenia\", \"Year\": 2013, \"fertility\": 1.74, \"life\": 74.561, \"population\": 3117722.0, \"child_mortality\": 15.5, \"gdp\": 7527.0, \"region\": \"Europe & Central Asia\"}, {\"Country\": \"Aruba\", \"Year\": 2013, \"fertility\": 1.673, \"life\": 75.455, \"population\": 108883.0, \"child_mortality\": 17.03, \"gdp\": 36083.0, \"region\": \"America\"}, {\"Country\": \"Australia\", \"Year\": 2013, \"fertility\": 1.882, \"life\": 82.49600000000001, \"population\": 23213944.0, \"child_mortality\": 4.0, \"gdp\": 42840.0, \"region\": \"East Asia & Pacific\"}, {\"Country\": \"Austria\", \"Year\": 2013, \"fertility\": 1.471, \"life\": 81.137, \"population\": 8441263.0, \"child_mortality\": 3.9, \"gdp\": 44059.0, \"region\": \"Europe & Central Asia\"}, {\"Country\": \"Azerbaijan\", \"Year\": 2013, \"fertility\": 1.924, \"life\": 70.753, \"population\": 9533445.0, \"child_mortality\": 34.2, \"gdp\": 16593.0, \"region\": \"Europe & Central Asia\"}, {\"Country\": \"Bahamas\", \"Year\": 2013, \"fertility\": 1.888, \"life\": 75.237, \"population\": 355233.0, \"child_mortality\": 12.8, \"gdp\": 22518.0, \"region\": \"America\"}, {\"Country\": \"Bahrain\", \"Year\": 2013, \"fertility\": 2.075, \"life\": 76.608, \"population\": 1377273.0, \"child_mortality\": 6.9, \"gdp\": 42444.0, \"region\": \"Middle East & North Africa\"}, {\"Country\": \"Bangladesh\", \"Year\": 2013, \"fertility\": 2.177, \"life\": 70.657, \"population\": 154393847.0, \"child_mortality\": 41.6, \"gdp\": 2853.0, \"region\": \"South Asia\"}, {\"Country\": \"Barbados\", \"Year\": 2013, \"fertility\": 1.849, \"life\": 75.37, \"population\": 275141.0, \"child_mortality\": 13.7, \"gdp\": 12867.0, \"region\": \"America\"}, {\"Country\": \"Belarus\", \"Year\": 2013, \"fertility\": 1.494, \"life\": 69.928, \"population\": 9498290.0, \"child_mortality\": 4.9, \"gdp\": 17085.0, \"region\": \"Europe & Central Asia\"}, {\"Country\": \"Belgium\", \"Year\": 2013, \"fertility\": 1.854, \"life\": 80.548, \"population\": 10815599.0, \"child_mortality\": 4.3, \"gdp\": 40607.0, \"region\": \"Europe & Central Asia\"}, {\"Country\": \"Belize\", \"Year\": 2013, \"fertility\": 2.676, \"life\": 73.882, \"population\": 330721.0, \"child_mortality\": 17.5, \"gdp\": 8215.0, \"region\": \"America\"}, {\"Country\": \"Benin\", \"Year\": 2013, \"fertility\": 4.845, \"life\": 59.33, \"population\": 9606534.0, \"child_mortality\": 104.8, \"gdp\": 1733.0, \"region\": \"Sub-Saharan Africa\"}, {\"Country\": \"Bhutan\", \"Year\": 2013, \"fertility\": 2.232, \"life\": 68.294, \"population\": 762313.0, \"child_mortality\": 36.0, \"gdp\": 7167.0, \"region\": \"South Asia\"}, {\"Country\": \"Bolivia\", \"Year\": 2013, \"fertility\": 3.221, \"life\": 67.26, \"population\": 10409761.0, \"child_mortality\": 41.3, \"gdp\": 5934.0, \"region\": \"America\"}, {\"Country\": \"Bosnia and Herzegovina\", \"Year\": 2013, \"fertility\": 1.283, \"life\": 76.37, \"population\": 3735880.0, \"child_mortality\": 6.6, \"gdp\": 9387.0, \"region\": \"Europe & Central Asia\"}, {\"Country\": \"Botswana\", \"Year\": 2013, \"fertility\": 2.619, \"life\": 47.572, \"population\": 2074616.0, \"child_mortality\": 55.5, \"gdp\": 16155.0, \"region\": \"Sub-Saharan Africa\"}, {\"Country\": \"Brazil\", \"Year\": 2013, \"fertility\": 1.801, \"life\": 73.937, \"population\": 200050487.0, \"child_mortality\": 14.4, \"gdp\": 15518.0, \"region\": \"America\"}, {\"Country\": \"Brunei\", \"Year\": 2013, \"fertility\": 1.994, \"life\": 78.547, \"population\": 419772.0, \"child_mortality\": 10.0, \"gdp\": 69474.0, \"region\": \"East Asia & Pacific\"}, {\"Country\": \"Bulgaria\", \"Year\": 2013, \"fertility\": 1.541, \"life\": 73.54899999999999, \"population\": 7349462.0, \"child_mortality\": 11.6, \"gdp\": 15695.0, \"region\": \"Europe & Central Asia\"}, {\"Country\": \"Burkina Faso\", \"Year\": 2013, \"fertility\": 5.605, \"life\": 56.344, \"population\": 18011507.0, \"child_mortality\": 96.6, \"gdp\": 1588.0, \"region\": \"Sub-Saharan Africa\"}, {\"Country\": \"Burundi\", \"Year\": 2013, \"fertility\": 6.033, \"life\": 54.104, \"population\": 8911183.0, \"child_mortality\": 87.8, \"gdp\": 747.0, \"region\": \"Sub-Saharan Africa\"}, {\"Country\": \"Cambodia\", \"Year\": 2013, \"fertility\": 2.861, \"life\": 71.916, \"population\": 14656016.0, \"child_mortality\": 32.9, \"gdp\": 2942.0, \"region\": \"East Asia & Pacific\"}, {\"Country\": \"Cameroon\", \"Year\": 2013, \"fertility\": 4.78, \"life\": 55.065, \"population\": 20913595.0, \"child_mortality\": 95.2, \"gdp\": 2739.0, \"region\": \"Sub-Saharan Africa\"}, {\"Country\": \"Canada\", \"Year\": 2013, \"fertility\": 1.67, \"life\": 81.482, \"population\": 34993747.0, \"child_mortality\": 5.2, \"gdp\": 42213.0, \"region\": \"America\"}, {\"Country\": \"Cape Verde\", \"Year\": 2013, \"fertility\": 2.292, \"life\": 75.093, \"population\": 510213.0, \"child_mortality\": 25.9, \"gdp\": 6232.0, \"region\": \"Sub-Saharan Africa\"}, {\"Country\": \"Central African Rep.\", \"Year\": 2013, \"fertility\": 4.365, \"life\": 50.179, \"population\": 4666833.0, \"child_mortality\": null, \"gdp\": null, \"region\": \"Sub-Saharan Africa\"}, {\"Country\": \"Chad\", \"Year\": 2013, \"fertility\": 6.263, \"life\": 51.182, \"population\": 12141876.0, \"child_mortality\": 147.1, \"gdp\": 2055.0, \"region\": \"Sub-Saharan Africa\"}, {\"Country\": \"Channel Islands\", \"Year\": 2013, \"fertility\": 1.459, \"life\": 80.324, \"population\": 154432.0, \"child_mortality\": 9.13, \"gdp\": null, \"region\": \"Europe & Central Asia\"}, {\"Country\": \"Chile\", \"Year\": 2013, \"fertility\": 1.82, \"life\": 79.955, \"population\": 17574464.0, \"child_mortality\": 8.4, \"gdp\": 21746.0, \"region\": \"America\"}, {\"Country\": \"China\", \"Year\": 2013, \"fertility\": 1.668, \"life\": 75.331, \"population\": 1359368470.0, \"child_mortality\": 12.3, \"gdp\": 11805.0, \"region\": \"East Asia & Pacific\"}, {\"Country\": \"Colombia\", \"Year\": 2013, \"fertility\": 2.286, \"life\": 74.038, \"population\": 48165221.0, \"child_mortality\": 16.9, \"gdp\": 12054.0, \"region\": \"America\"}, {\"Country\": \"Comoros\", \"Year\": 2013, \"fertility\": 4.714, \"life\": 60.874, \"population\": 792913.0, \"child_mortality\": 78.3, \"gdp\": 1450.0, \"region\": \"Sub-Saharan Africa\"}, {\"Country\": \"Congo, Dem. Rep.\", \"Year\": 2013, \"fertility\": 5.933, \"life\": 49.963, \"population\": 71419669.0, \"child_mortality\": 104.8, \"gdp\": 724.0, \"region\": \"Sub-Saharan Africa\"}, {\"Country\": \"Congo, Rep.\", \"Year\": 2013, \"fertility\": 4.968999999999999, \"life\": 58.793, \"population\": 4324199.0, \"child_mortality\": 49.6, \"gdp\": 5680.0, \"region\": \"Sub-Saharan Africa\"}, {\"Country\": \"Costa Rica\", \"Year\": 2013, \"fertility\": 1.795, \"life\": 79.93, \"population\": 4859957.0, \"child_mortality\": 10.0, \"gdp\": 13427.0, \"region\": \"America\"}, {\"Country\": \"Cote d'Ivoire\", \"Year\": 2013, \"fertility\": 4.8660000000000005, \"life\": 50.722, \"population\": 21057316.0, \"child_mortality\": 100.7, \"gdp\": 3123.0, \"region\": \"Sub-Saharan Africa\"}, {\"Country\": \"Croatia\", \"Year\": 2013, \"fertility\": 1.501, \"life\": 77.048, \"population\": 4378806.0, \"child_mortality\": 4.7, \"gdp\": 20049.0, \"region\": \"Europe & Central Asia\"}, {\"Country\": \"Cuba\", \"Year\": 2013, \"fertility\": 1.449, \"life\": 79.262, \"population\": 11244424.0, \"child_mortality\": 6.1, \"gdp\": 20122.0, \"region\": \"America\"}, {\"Country\": \"Cyprus\", \"Year\": 2013, \"fertility\": 1.461, \"life\": 79.84100000000001, \"population\": 1141453.0, \"child_mortality\": 3.6, \"gdp\": 30081.0, \"region\": \"Europe & Central Asia\"}, {\"Country\": \"Czech Rep.\", \"Year\": 2013, \"fertility\": 1.5659999999999998, \"life\": 77.69, \"population\": 10589806.0, \"child_mortality\": null, \"gdp\": null, \"region\": \"Europe & Central Asia\"}, {\"Country\": \"Denmark\", \"Year\": 2013, \"fertility\": 1.88, \"life\": 79.388, \"population\": 5611187.0, \"child_mortality\": 3.7, \"gdp\": 42483.0, \"region\": \"Europe & Central Asia\"}, {\"Country\": \"Djibouti\", \"Year\": 2013, \"fertility\": 3.387, \"life\": 61.801, \"population\": 940090.0, \"child_mortality\": 69.5, \"gdp\": 2903.0, \"region\": \"Middle East & North Africa\"}, {\"Country\": \"Dominican Rep.\", \"Year\": 2013, \"fertility\": 2.484, \"life\": 73.402, \"population\": 10308609.0, \"child_mortality\": null, \"gdp\": null, \"region\": \"America\"}, {\"Country\": \"Ecuador\", \"Year\": 2013, \"fertility\": 2.559, \"life\": 76.471, \"population\": 15061398.0, \"child_mortality\": 23.0, \"gdp\": 10541.0, \"region\": \"America\"}, {\"Country\": \"Egypt\", \"Year\": 2013, \"fertility\": 2.77, \"life\": 71.157, \"population\": 85378440.0, \"child_mortality\": 25.8, \"gdp\": 10731.0, \"region\": \"Middle East & North Africa\"}, {\"Country\": \"El Salvador\", \"Year\": 2013, \"fertility\": 2.184, \"life\": 72.59899999999999, \"population\": 6302723.0, \"child_mortality\": 18.0, \"gdp\": 7515.0, \"region\": \"America\"}, {\"Country\": \"Equatorial Guinea\", \"Year\": 2013, \"fertility\": 4.845, \"life\": 53.062, \"population\": 761050.0, \"child_mortality\": 100.3, \"gdp\": 32654.0, \"region\": \"Sub-Saharan Africa\"}, {\"Country\": \"Eritrea\", \"Year\": 2013, \"fertility\": 4.696000000000001, \"life\": 62.852, \"population\": 5748304.0, \"child_mortality\": 49.7, \"gdp\": 1157.0, \"region\": \"Sub-Saharan Africa\"}, {\"Country\": \"Estonia\", \"Year\": 2013, \"fertility\": 1.604, \"life\": 74.441, \"population\": 1338832.0, \"child_mortality\": 3.4, \"gdp\": 25254.0, \"region\": \"Europe & Central Asia\"}, {\"Country\": \"Ethiopia\", \"Year\": 2013, \"fertility\": 4.519, \"life\": 63.635, \"population\": 88356373.0, \"child_mortality\": 64.6, \"gdp\": 1336.0, \"region\": \"Sub-Saharan Africa\"}, {\"Country\": \"Fiji\", \"Year\": 2013, \"fertility\": 2.588, \"life\": 69.81, \"population\": 882863.0, \"child_mortality\": 23.2, \"gdp\": 7502.0, \"region\": \"East Asia & Pacific\"}, {\"Country\": \"Finland\", \"Year\": 2013, \"fertility\": 1.853, \"life\": 80.535, \"population\": 5418763.0, \"child_mortality\": 2.6, \"gdp\": 38788.0, \"region\": \"Europe & Central Asia\"}, {\"Country\": \"France\", \"Year\": 2013, \"fertility\": 1.98, \"life\": 81.81, \"population\": 63782963.0, \"child_mortality\": 4.4, \"gdp\": 37309.0, \"region\": \"Europe & Central Asia\"}, {\"Country\": \"French Guiana\", \"Year\": 2013, \"fertility\": 3.0580000000000003, \"life\": 77.12100000000001, \"population\": 249408.0, \"child_mortality\": 10.95, \"gdp\": null, \"region\": \"America\"}, {\"Country\": \"French Polynesia\", \"Year\": 2013, \"fertility\": 2.0580000000000003, \"life\": 76.257, \"population\": 279632.0, \"child_mortality\": 7.46, \"gdp\": null, \"region\": \"East Asia & Pacific\"}, {\"Country\": \"Gabon\", \"Year\": 2013, \"fertility\": 4.087, \"life\": 63.48, \"population\": 1594205.0, \"child_mortality\": 56.1, \"gdp\": 17580.0, \"region\": \"Sub-Saharan Africa\"}, {\"Country\": \"Gambia\", \"Year\": 2013, \"fertility\": 5.751, \"life\": 58.818000000000005, \"population\": 1874360.0, \"child_mortality\": 73.6, \"gdp\": 1608.0, \"region\": \"Sub-Saharan Africa\"}, {\"Country\": \"Georgia\", \"Year\": 2013, \"fertility\": 1.817, \"life\": 74.301, \"population\": 4278410.0, \"child_mortality\": 13.4, \"gdp\": 6930.0, \"region\": \"Europe & Central Asia\"}, {\"Country\": \"Germany\", \"Year\": 2013, \"fertility\": 1.419, \"life\": 80.743, \"population\": 81804228.0, \"child_mortality\": 3.9, \"gdp\": 42887.0, \"region\": \"Europe & Central Asia\"}, {\"Country\": \"Ghana\", \"Year\": 2013, \"fertility\": 3.857, \"life\": 61.132, \"population\": 26131336.0, \"child_mortality\": 66.5, \"gdp\": 3873.0, \"region\": \"Sub-Saharan Africa\"}, {\"Country\": \"Greece\", \"Year\": 2013, \"fertility\": 1.529, \"life\": 80.77, \"population\": 11445691.0, \"child_mortality\": 4.3, \"gdp\": 24159.0, \"region\": \"Europe & Central Asia\"}, {\"Country\": \"Greenland\", \"Year\": 2013, \"fertility\": 2.077, \"life\": 71.5, \"population\": 57300.0, \"child_mortality\": null, \"gdp\": 26688.0, \"region\": \"Europe & Central Asia\"}, {\"Country\": \"Grenada\", \"Year\": 2013, \"fertility\": 2.17, \"life\": 72.768, \"population\": 105719.0, \"child_mortality\": 12.5, \"gdp\": 11273.0, \"region\": \"America\"}, {\"Country\": \"Guadeloupe\", \"Year\": 2013, \"fertility\": 2.08, \"life\": 80.947, \"population\": 467335.0, \"child_mortality\": 6.27, \"gdp\": null, \"region\": \"America\"}, {\"Country\": \"Guam\", \"Year\": 2013, \"fertility\": 2.405, \"life\": 78.854, \"population\": 186562.0, \"child_mortality\": 11.03, \"gdp\": null, \"region\": \"East Asia & Pacific\"}, {\"Country\": \"Guatemala\", \"Year\": 2013, \"fertility\": 3.783, \"life\": 72.09899999999999, \"population\": 15527502.0, \"child_mortality\": 31.1, \"gdp\": 7063.0, \"region\": \"America\"}, {\"Country\": \"Guinea\", \"Year\": 2013, \"fertility\": 4.915, \"life\": 56.112, \"population\": 10753680.0, \"child_mortality\": 100.4, \"gdp\": 1213.0, \"region\": \"Sub-Saharan Africa\"}, {\"Country\": \"Guinea-Bissau\", \"Year\": 2013, \"fertility\": 4.927, \"life\": 54.291, \"population\": 1612913.0, \"child_mortality\": 100.5, \"gdp\": 1362.0, \"region\": \"Sub-Saharan Africa\"}, {\"Country\": \"Guyana\", \"Year\": 2013, \"fertility\": 2.546, \"life\": 66.295, \"population\": 759262.0, \"child_mortality\": 40.8, \"gdp\": 6336.0, \"region\": \"America\"}, {\"Country\": \"Haiti\", \"Year\": 2013, \"fertility\": 3.148, \"life\": 63.102, \"population\": 10388424.0, \"child_mortality\": 73.1, \"gdp\": 1648.0, \"region\": \"America\"}, {\"Country\": \"Honduras\", \"Year\": 2013, \"fertility\": 3.0010000000000003, \"life\": 73.817, \"population\": 8071522.0, \"child_mortality\": 21.8, \"gdp\": 4154.0, \"region\": \"America\"}, {\"Country\": \"Hong Kong, China\", \"Year\": 2013, \"fertility\": 1.135, \"life\": 83.37799999999999, \"population\": 7274125.0, \"child_mortality\": 2.58, \"gdp\": 51656.0, \"region\": \"East Asia & Pacific\"}, {\"Country\": \"Hungary\", \"Year\": 2013, \"fertility\": 1.411, \"life\": 74.62, \"population\": 9933795.0, \"child_mortality\": 6.3, \"gdp\": 22708.0, \"region\": \"Europe & Central Asia\"}, {\"Country\": \"Iceland\", \"Year\": 2013, \"fertility\": 2.083, \"life\": 82.086, \"population\": 331996.0, \"child_mortality\": 2.1, \"gdp\": 40958.0, \"region\": \"Europe & Central Asia\"}, {\"Country\": \"India\", \"Year\": 2013, \"fertility\": 2.479, \"life\": 66.414, \"population\": 1275137828.0, \"child_mortality\": 52.1, \"gdp\": 5244.0, \"region\": \"South Asia\"}, {\"Country\": \"Indonesia\", \"Year\": 2013, \"fertility\": 2.338, \"life\": 70.833, \"population\": 247188189.0, \"child_mortality\": 29.3, \"gdp\": 9729.0, \"region\": \"East Asia & Pacific\"}, {\"Country\": \"Iran\", \"Year\": 2013, \"fertility\": 1.92, \"life\": 74.048, \"population\": 76407013.0, \"child_mortality\": 16.8, \"gdp\": 15552.0, \"region\": \"Middle East & North Africa\"}, {\"Country\": \"Iraq\", \"Year\": 2013, \"fertility\": 4.026, \"life\": 69.419, \"population\": 34776205.0, \"child_mortality\": 33.9, \"gdp\": 15368.0, \"region\": \"Middle East & North Africa\"}, {\"Country\": \"Ireland\", \"Year\": 2013, \"fertility\": 1.997, \"life\": 80.707, \"population\": 4631391.0, \"child_mortality\": 3.8, \"gdp\": 44640.0, \"region\": \"Europe & Central Asia\"}, {\"Country\": \"Israel\", \"Year\": 2013, \"fertility\": 2.898, \"life\": 81.801, \"population\": 7818860.0, \"child_mortality\": 4.2, \"gdp\": 30927.0, \"region\": \"Middle East & North Africa\"}, {\"Country\": \"Italy\", \"Year\": 2013, \"fertility\": 1.487, \"life\": 82.385, \"population\": 61087395.0, \"child_mortality\": 3.6, \"gdp\": 33827.0, \"region\": \"Europe & Central Asia\"}, {\"Country\": \"Jamaica\", \"Year\": 2013, \"fertility\": 2.26, \"life\": 73.525, \"population\": 2771179.0, \"child_mortality\": 16.7, \"gdp\": 8607.0, \"region\": \"America\"}, {\"Country\": \"Japan\", \"Year\": 2013, \"fertility\": 1.419, \"life\": 83.58, \"population\": 126345235.0, \"child_mortality\": 2.9, \"gdp\": 35614.0, \"region\": \"East Asia & Pacific\"}, {\"Country\": \"Jordan\", \"Year\": 2013, \"fertility\": 3.244, \"life\": 73.854, \"population\": 6572903.0, \"child_mortality\": 19.0, \"gdp\": 11405.0, \"region\": \"Middle East & North Africa\"}, {\"Country\": \"Kazakhstan\", \"Year\": 2013, \"fertility\": 2.455, \"life\": 66.536, \"population\": 16550975.0, \"child_mortality\": 16.4, \"gdp\": 22470.0, \"region\": \"Europe & Central Asia\"}, {\"Country\": \"Kenya\", \"Year\": 2013, \"fertility\": 4.382, \"life\": 61.716, \"population\": 43923719.0, \"child_mortality\": 54.5, \"gdp\": 2706.0, \"region\": \"Sub-Saharan Africa\"}, {\"Country\": \"Kiribati\", \"Year\": 2013, \"fertility\": 2.952, \"life\": 68.905, \"population\": 104251.0, \"child_mortality\": 58.9, \"gdp\": 1796.0, \"region\": \"East Asia & Pacific\"}, {\"Country\": \"Korea, Dem. Rep.\", \"Year\": 2013, \"fertility\": 1.988, \"life\": 69.999, \"population\": 24654358.0, \"child_mortality\": null, \"gdp\": null, \"region\": \"East Asia & Pacific\"}, {\"Country\": \"Korea, Rep.\", \"Year\": 2013, \"fertility\": 1.321, \"life\": 81.535, \"population\": 48774767.0, \"child_mortality\": null, \"gdp\": null, \"region\": \"East Asia & Pacific\"}, {\"Country\": \"Kuwait\", \"Year\": 2013, \"fertility\": 2.6, \"life\": 74.288, \"population\": 2959015.0, \"child_mortality\": 9.4, \"gdp\": 79395.0, \"region\": \"Middle East & North Africa\"}, {\"Country\": \"Kyrgyzstan\", \"Year\": 2013, \"fertility\": 3.075, \"life\": 67.533, \"population\": 5503253.0, \"child_mortality\": null, \"gdp\": null, \"region\": \"Europe & Central Asia\"}, {\"Country\": \"Laos\", \"Year\": 2013, \"fertility\": 3.02, \"life\": 68.309, \"population\": 6458911.0, \"child_mortality\": null, \"gdp\": null, \"region\": \"East Asia & Pacific\"}, {\"Country\": \"Latvia\", \"Year\": 2013, \"fertility\": 1.607, \"life\": 72.15, \"population\": 2226260.0, \"child_mortality\": 8.4, \"gdp\": 21699.0, \"region\": \"Europe & Central Asia\"}, {\"Country\": \"Lebanon\", \"Year\": 2013, \"fertility\": 1.495, \"life\": 80.007, \"population\": 4324060.0, \"child_mortality\": 8.9, \"gdp\": 16623.0, \"region\": \"Middle East & North Africa\"}, {\"Country\": \"Lesotho\", \"Year\": 2013, \"fertility\": 3.0380000000000003, \"life\": 49.446000000000005, \"population\": 2240126.0, \"child_mortality\": 98.9, \"gdp\": 2473.0, \"region\": \"Sub-Saharan Africa\"}, {\"Country\": \"Liberia\", \"Year\": 2013, \"fertility\": 4.792, \"life\": 60.556, \"population\": 4348740.0, \"child_mortality\": 76.3, \"gdp\": 875.0, \"region\": \"Sub-Saharan Africa\"}, {\"Country\": \"Libya\", \"Year\": 2013, \"fertility\": 2.356, \"life\": 75.325, \"population\": 6506095.0, \"child_mortality\": 14.5, \"gdp\": 19760.0, \"region\": \"Middle East & North Africa\"}, {\"Country\": \"Lithuania\", \"Year\": 2013, \"fertility\": 1.519, \"life\": 72.11, \"population\": 3278337.0, \"child_mortality\": 4.9, \"gdp\": 24732.0, \"region\": \"Europe & Central Asia\"}, {\"Country\": \"Luxembourg\", \"Year\": 2013, \"fertility\": 1.671, \"life\": 80.547, \"population\": 530018.0, \"child_mortality\": 2.0, \"gdp\": 88850.0, \"region\": \"Europe & Central Asia\"}, {\"Country\": \"Macao, China\", \"Year\": 2013, \"fertility\": 1.083, \"life\": 80.4, \"population\": 578844.0, \"child_mortality\": 5.33, \"gdp\": 136540.0, \"region\": \"East Asia & Pacific\"}, {\"Country\": \"Macedonia, FYR\", \"Year\": 2013, \"fertility\": 1.431, \"life\": 75.19800000000001, \"population\": 2069219.0, \"child_mortality\": 6.6, \"gdp\": 11664.0, \"region\": \"Europe & Central Asia\"}, {\"Country\": \"Madagascar\", \"Year\": 2013, \"fertility\": 4.468, \"life\": 64.723, \"population\": 22555046.0, \"child_mortality\": 53.4, \"gdp\": 1369.0, \"region\": \"Sub-Saharan Africa\"}, {\"Country\": \"Malawi\", \"Year\": 2013, \"fertility\": 5.388999999999999, \"life\": 55.31100000000001, \"population\": 16406945.0, \"child_mortality\": 72.6, \"gdp\": 757.0, \"region\": \"Sub-Saharan Africa\"}, {\"Country\": \"Malaysia\", \"Year\": 2013, \"fertility\": 1.964, \"life\": 75.017, \"population\": 29787203.0, \"child_mortality\": 8.4, \"gdp\": 22589.0, \"region\": \"East Asia & Pacific\"}, {\"Country\": \"Maldives\", \"Year\": 2013, \"fertility\": 2.256, \"life\": 77.919, \"population\": 328551.0, \"child_mortality\": 9.9, \"gdp\": 13353.0, \"region\": \"South Asia\"}, {\"Country\": \"Mali\", \"Year\": 2013, \"fertility\": 6.847, \"life\": 55.032, \"population\": 16808242.0, \"child_mortality\": 122.7, \"gdp\": 1589.0, \"region\": \"Sub-Saharan Africa\"}, {\"Country\": \"Malta\", \"Year\": 2013, \"fertility\": 1.356, \"life\": 79.75, \"population\": 420557.0, \"child_mortality\": 6.1, \"gdp\": 28822.0, \"region\": \"Europe & Central Asia\"}, {\"Country\": \"Martinique\", \"Year\": 2013, \"fertility\": 1.827, \"life\": 81.41, \"population\": 409366.0, \"child_mortality\": 7.22, \"gdp\": null, \"region\": \"America\"}, {\"Country\": \"Mauritania\", \"Year\": 2013, \"fertility\": 4.67, \"life\": 61.55, \"population\": 3704414.0, \"child_mortality\": 90.2, \"gdp\": 3579.0, \"region\": \"Sub-Saharan Africa\"}, {\"Country\": \"Mauritius\", \"Year\": 2013, \"fertility\": 1.501, \"life\": 73.613, \"population\": 1320785.0, \"child_mortality\": 14.3, \"gdp\": 17146.0, \"region\": \"Sub-Saharan Africa\"}, {\"Country\": \"Mayotte\", \"Year\": 2013, \"fertility\": 3.802, \"life\": 79.19, \"population\": 223907.0, \"child_mortality\": 4.69, \"gdp\": null, \"region\": \"Sub-Saharan Africa\"}, {\"Country\": \"Mexico\", \"Year\": 2013, \"fertility\": 2.185, \"life\": 77.501, \"population\": 117478371.0, \"child_mortality\": 14.5, \"gdp\": 16346.0, \"region\": \"America\"}, {\"Country\": \"Micronesia, Fed. Sts.\", \"Year\": 2013, \"fertility\": 3.294, \"life\": 68.993, \"population\": 112726.0, \"child_mortality\": 37.0, \"gdp\": 3286.0, \"region\": \"East Asia & Pacific\"}, {\"Country\": \"Moldova\", \"Year\": 2013, \"fertility\": 1.456, \"life\": 68.899, \"population\": 3495657.0, \"child_mortality\": 16.4, \"gdp\": 4542.0, \"region\": \"Europe & Central Asia\"}, {\"Country\": \"Mongolia\", \"Year\": 2013, \"fertility\": 2.436, \"life\": 67.503, \"population\": 2887863.0, \"child_mortality\": 24.7, \"gdp\": 10833.0, \"region\": \"East Asia & Pacific\"}, {\"Country\": \"Montenegro\", \"Year\": 2013, \"fertility\": 1.666, \"life\": 74.821, \"population\": 633167.0, \"child_mortality\": 5.3, \"gdp\": 14156.0, \"region\": \"Europe & Central Asia\"}, {\"Country\": \"Morocco\", \"Year\": 2013, \"fertility\": 2.735, \"life\": 70.941, \"population\": 32925553.0, \"child_mortality\": 29.7, \"gdp\": 6967.0, \"region\": \"Middle East & North Africa\"}, {\"Country\": \"Mozambique\", \"Year\": 2013, \"fertility\": 5.188, \"life\": 50.25, \"population\": 25028313.0, \"child_mortality\": 87.2, \"gdp\": 1064.0, \"region\": \"Sub-Saharan Africa\"}, {\"Country\": \"Myanmar\", \"Year\": 2013, \"fertility\": 1.938, \"life\": 65.176, \"population\": 49119646.0, \"child_mortality\": 53.5, \"gdp\": 3526.0, \"region\": \"East Asia & Pacific\"}, {\"Country\": \"Namibia\", \"Year\": 2013, \"fertility\": 3.051, \"life\": 64.483, \"population\": 2404477.0, \"child_mortality\": 49.5, \"gdp\": 9275.0, \"region\": \"Sub-Saharan Africa\"}, {\"Country\": \"Nepal\", \"Year\": 2013, \"fertility\": 2.3, \"life\": 68.41, \"population\": 31535507.0, \"child_mortality\": 39.0, \"gdp\": 2173.0, \"region\": \"South Asia\"}, {\"Country\": \"Netherlands\", \"Year\": 2013, \"fertility\": 1.774, \"life\": 81.038, \"population\": 16761552.0, \"child_mortality\": 4.0, \"gdp\": 45021.0, \"region\": \"Europe & Central Asia\"}, {\"Country\": \"Netherlands Antilles\", \"Year\": 2013, \"fertility\": 1.89, \"life\": 76.89399999999999, \"population\": 205860.0, \"child_mortality\": null, \"gdp\": null, \"region\": \"America\"}, {\"Country\": \"New Caledonia\", \"Year\": 2013, \"fertility\": 2.127, \"life\": 76.306, \"population\": 262605.0, \"child_mortality\": 15.0, \"gdp\": null, \"region\": \"East Asia & Pacific\"}, {\"Country\": \"New Zealand\", \"Year\": 2013, \"fertility\": 2.052, \"life\": 81.132, \"population\": 4508166.0, \"child_mortality\": 5.9, \"gdp\": 33360.0, \"region\": \"East Asia & Pacific\"}, {\"Country\": \"Nicaragua\", \"Year\": 2013, \"fertility\": 2.498, \"life\": 74.839, \"population\": 6041763.0, \"child_mortality\": 23.5, \"gdp\": 4432.0, \"region\": \"America\"}, {\"Country\": \"Niger\", \"Year\": 2013, \"fertility\": 7.561, \"life\": 58.409, \"population\": 17239826.0, \"child_mortality\": 104.1, \"gdp\": 897.0, \"region\": \"Sub-Saharan Africa\"}, {\"Country\": \"Nigeria\", \"Year\": 2013, \"fertility\": 5.976, \"life\": 52.506, \"population\": 170901148.0, \"child_mortality\": 116.6, \"gdp\": 5423.0, \"region\": \"Sub-Saharan Africa\"}, {\"Country\": \"Norway\", \"Year\": 2013, \"fertility\": 1.931, \"life\": 81.503, \"population\": 4991997.0, \"child_mortality\": 2.8, \"gdp\": 63322.0, \"region\": \"Europe & Central Asia\"}, {\"Country\": \"Oman\", \"Year\": 2013, \"fertility\": 2.853, \"life\": 76.55199999999999, \"population\": 2957333.0, \"child_mortality\": 11.7, \"gdp\": 41770.0, \"region\": \"Middle East & North Africa\"}, {\"Country\": \"Pakistan\", \"Year\": 2013, \"fertility\": 3.185, \"life\": 66.57, \"population\": 183188847.0, \"child_mortality\": 85.6, \"gdp\": 4454.0, \"region\": \"South Asia\"}, {\"Country\": \"Panama\", \"Year\": 2013, \"fertility\": 2.466, \"life\": 77.556, \"population\": 3678264.0, \"child_mortality\": 18.1, \"gdp\": 18793.0, \"region\": \"America\"}, {\"Country\": \"Papua New Guinea\", \"Year\": 2013, \"fertility\": 3.781, \"life\": 62.42100000000001, \"population\": 7327281.0, \"child_mortality\": 60.9, \"gdp\": 2558.0, \"region\": \"East Asia & Pacific\"}, {\"Country\": \"Paraguay\", \"Year\": 2013, \"fertility\": 2.864, \"life\": 72.259, \"population\": 6798236.0, \"child_mortality\": 21.9, \"gdp\": 7833.0, \"region\": \"America\"}, {\"Country\": \"Peru\", \"Year\": 2013, \"fertility\": 2.417, \"life\": 74.82600000000001, \"population\": 30075185.0, \"child_mortality\": 18.3, \"gdp\": 11395.0, \"region\": \"America\"}, {\"Country\": \"Philippines\", \"Year\": 2013, \"fertility\": 3.043, \"life\": 68.703, \"population\": 98112780.0, \"child_mortality\": 29.6, \"gdp\": 6326.0, \"region\": \"East Asia & Pacific\"}, {\"Country\": \"Poland\", \"Year\": 2013, \"fertility\": 1.4169999999999998, \"life\": 76.408, \"population\": 38331803.0, \"child_mortality\": 5.2, \"gdp\": 23144.0, \"region\": \"Europe & Central Asia\"}, {\"Country\": \"Portugal\", \"Year\": 2013, \"fertility\": 1.315, \"life\": 79.945, \"population\": 10704534.0, \"child_mortality\": 3.8, \"gdp\": 25677.0, \"region\": \"Europe & Central Asia\"}, {\"Country\": \"Puerto Rico\", \"Year\": 2013, \"fertility\": 1.636, \"life\": 78.86399999999999, \"population\": 3742334.0, \"child_mortality\": 7.16, \"gdp\": 33818.0, \"region\": \"America\"}, {\"Country\": \"Qatar\", \"Year\": 2013, \"fertility\": 2.019, \"life\": 78.369, \"population\": 1976840.0, \"child_mortality\": 8.2, \"gdp\": 131579.0, \"region\": \"Middle East & North Africa\"}, {\"Country\": \"Reunion\", \"Year\": 2013, \"fertility\": 2.232, \"life\": 79.646, \"population\": 874944.0, \"child_mortality\": 4.69, \"gdp\": null, \"region\": \"Sub-Saharan Africa\"}, {\"Country\": \"Romania\", \"Year\": 2013, \"fertility\": 1.4169999999999998, \"life\": 73.831, \"population\": 21338815.0, \"child_mortality\": 12.0, \"gdp\": 18182.0, \"region\": \"Europe & Central Asia\"}, {\"Country\": \"Russia\", \"Year\": 2013, \"fertility\": 1.595, \"life\": 67.979, \"population\": 142557892.0, \"child_mortality\": 10.4, \"gdp\": 23561.0, \"region\": \"Europe & Central Asia\"}, {\"Country\": \"Rwanda\", \"Year\": 2013, \"fertility\": 4.508, \"life\": 64.066, \"population\": 11608439.0, \"child_mortality\": 48.2, \"gdp\": 1426.0, \"region\": \"Sub-Saharan Africa\"}, {\"Country\": \"Saint Lucia\", \"Year\": 2013, \"fertility\": 1.912, \"life\": 74.804, \"population\": 179515.0, \"child_mortality\": null, \"gdp\": null, \"region\": \"America\"}, {\"Country\": \"Saint Vincent and the Grenadines\", \"Year\": 2013, \"fertility\": 1.997, \"life\": 72.488, \"population\": 109354.0, \"child_mortality\": null, \"gdp\": null, \"region\": \"America\"}, {\"Country\": \"Samoa\", \"Year\": 2013, \"fertility\": 4.147, \"life\": 73.156, \"population\": 185727.0, \"child_mortality\": 18.2, \"gdp\": 5502.0, \"region\": \"East Asia & Pacific\"}, {\"Country\": \"Sao Tome and Principe\", \"Year\": 2013, \"fertility\": 4.075, \"life\": 66.337, \"population\": 175383.0, \"child_mortality\": 50.8, \"gdp\": 2876.0, \"region\": \"Sub-Saharan Africa\"}, {\"Country\": \"Saudi Arabia\", \"Year\": 2013, \"fertility\": 2.644, \"life\": 75.479, \"population\": 29319402.0, \"child_mortality\": 15.5, \"gdp\": 51294.0, \"region\": \"Middle East & North Africa\"}, {\"Country\": \"Senegal\", \"Year\": 2013, \"fertility\": 4.934, \"life\": 63.451, \"population\": 13454191.0, \"child_mortality\": 52.5, \"gdp\": 2185.0, \"region\": \"Sub-Saharan Africa\"}, {\"Country\": \"Serbia\", \"Year\": 2013, \"fertility\": 1.365, \"life\": 74.059, \"population\": 9835010.0, \"child_mortality\": 6.9, \"gdp\": 12889.0, \"region\": \"Europe & Central Asia\"}, {\"Country\": \"Seychelles\", \"Year\": 2013, \"fertility\": 2.18, \"life\": 73.187, \"population\": 87417.0, \"child_mortality\": 14.0, \"gdp\": 24805.0, \"region\": \"Sub-Saharan Africa\"}, {\"Country\": \"Sierra Leone\", \"Year\": 2013, \"fertility\": 4.705, \"life\": 45.56100000000001, \"population\": 6255163.0, \"child_mortality\": 133.4, \"gdp\": 1865.0, \"region\": \"Sub-Saharan Africa\"}, {\"Country\": \"Singapore\", \"Year\": 2013, \"fertility\": 1.2819999999999998, \"life\": 82.322, \"population\": 5300914.0, \"child_mortality\": 2.8, \"gdp\": 77721.0, \"region\": \"East Asia & Pacific\"}, {\"Country\": \"Slovak Republic\", \"Year\": 2013, \"fertility\": 1.396, \"life\": 75.39699999999999, \"population\": 5488775.0, \"child_mortality\": 7.2, \"gdp\": 25759.0, \"region\": \"Europe & Central Asia\"}, {\"Country\": \"Slovenia\", \"Year\": 2013, \"fertility\": 1.509, \"life\": 79.59100000000001, \"population\": 2044766.0, \"child_mortality\": 2.9, \"gdp\": 27368.0, \"region\": \"Europe & Central Asia\"}, {\"Country\": \"Solomon Islands\", \"Year\": 2013, \"fertility\": 4.031000000000001, \"life\": 67.675, \"population\": 580791.0, \"child_mortality\": 29.9, \"gdp\": 2041.0, \"region\": \"East Asia & Pacific\"}, {\"Country\": \"Somalia\", \"Year\": 2013, \"fertility\": 6.563, \"life\": 55.05, \"population\": 10052842.0, \"child_mortality\": 146.1, \"gdp\": 619.0, \"region\": \"Sub-Saharan Africa\"}, {\"Country\": \"South Africa\", \"Year\": 2013, \"fertility\": 2.387, \"life\": 56.916, \"population\": 50981076.0, \"child_mortality\": 45.1, \"gdp\": 12454.0, \"region\": \"Sub-Saharan Africa\"}, {\"Country\": \"South Sudan\", \"Year\": 2013, \"fertility\": 4.92, \"life\": 55.264, \"population\": 10881979.0, \"child_mortality\": 99.2, \"gdp\": 1965.0, \"region\": \"Sub-Saharan Africa\"}, {\"Country\": \"Spain\", \"Year\": 2013, \"fertility\": 1.505, \"life\": 82.1, \"population\": 47042602.0, \"child_mortality\": 4.3, \"gdp\": 31681.0, \"region\": \"Europe & Central Asia\"}, {\"Country\": \"Sri Lanka\", \"Year\": 2013, \"fertility\": 2.339, \"life\": 74.293, \"population\": 21393876.0, \"child_mortality\": 9.4, \"gdp\": 9426.0, \"region\": \"South Asia\"}, {\"Country\": \"Sudan\", \"Year\": 2013, \"fertility\": 4.42, \"life\": 62.055, \"population\": 35940905.0, \"child_mortality\": 74.2, \"gdp\": 3903.0, \"region\": \"Sub-Saharan Africa\"}, {\"Country\": \"Suriname\", \"Year\": 2013, \"fertility\": 2.268, \"life\": 71.01899999999999, \"population\": 538882.0, \"child_mortality\": 22.6, \"gdp\": 15556.0, \"region\": \"America\"}, {\"Country\": \"Swaziland\", \"Year\": 2013, \"fertility\": 3.334, \"life\": 49.0, \"population\": 1237166.0, \"child_mortality\": 74.9, \"gdp\": 5998.0, \"region\": \"Sub-Saharan Africa\"}, {\"Country\": \"Sweden\", \"Year\": 2013, \"fertility\": 1.928, \"life\": 81.818, \"population\": 9545823.0, \"child_mortality\": 3.0, \"gdp\": 43448.0, \"region\": \"Europe & Central Asia\"}, {\"Country\": \"Switzerland\", \"Year\": 2013, \"fertility\": 1.533, \"life\": 82.604, \"population\": 7761820.0, \"child_mortality\": 4.2, \"gdp\": 54983.0, \"region\": \"Europe & Central Asia\"}, {\"Country\": \"Syria\", \"Year\": 2013, \"fertility\": 2.964, \"life\": 71.0, \"population\": 21468962.0, \"child_mortality\": 15.3, \"gdp\": 5464.0, \"region\": \"Middle East & North Africa\"}, {\"Country\": \"Taiwan\", \"Year\": 2013, \"fertility\": 1.065, \"life\": 79.75, \"population\": 23151000.0, \"child_mortality\": null, \"gdp\": 40214.0, \"region\": \"East Asia & Pacific\"}, {\"Country\": \"Tajikistan\", \"Year\": 2013, \"fertility\": 3.815, \"life\": 67.248, \"population\": 7183529.0, \"child_mortality\": 47.8, \"gdp\": 2432.0, \"region\": \"Europe & Central Asia\"}, {\"Country\": \"Tanzania\", \"Year\": 2013, \"fertility\": 5.214, \"life\": 61.53, \"population\": 49153002.0, \"child_mortality\": 52.6, \"gdp\": 2382.0, \"region\": \"Sub-Saharan Africa\"}, {\"Country\": \"Thailand\", \"Year\": 2013, \"fertility\": 1.399, \"life\": 74.40100000000001, \"population\": 70243267.0, \"child_mortality\": 13.1, \"gdp\": 13932.0, \"region\": \"East Asia & Pacific\"}, {\"Country\": \"Timor-Leste\", \"Year\": 2013, \"fertility\": 5.855, \"life\": 67.538, \"population\": 1223665.0, \"child_mortality\": 56.5, \"gdp\": 2093.0, \"region\": \"East Asia & Pacific\"}, {\"Country\": \"Togo\", \"Year\": 2013, \"fertility\": 4.638999999999999, \"life\": 56.537, \"population\": 6412560.0, \"child_mortality\": 83.3, \"gdp\": 1346.0, \"region\": \"Sub-Saharan Africa\"}, {\"Country\": \"Tonga\", \"Year\": 2013, \"fertility\": 3.767, \"life\": 72.673, \"population\": 105265.0, \"child_mortality\": 17.3, \"gdp\": 4879.0, \"region\": \"East Asia & Pacific\"}, {\"Country\": \"Trinidad and Tobago\", \"Year\": 2013, \"fertility\": 1.797, \"life\": 69.865, \"population\": 1355342.0, \"child_mortality\": 21.5, \"gdp\": 29469.0, \"region\": \"America\"}, {\"Country\": \"Tunisia\", \"Year\": 2013, \"fertility\": 2.008, \"life\": 75.873, \"population\": 10813680.0, \"child_mortality\": 15.2, \"gdp\": 10768.0, \"region\": \"Middle East & North Africa\"}, {\"Country\": \"Turkey\", \"Year\": 2013, \"fertility\": 2.041, \"life\": 75.259, \"population\": 75359032.0, \"child_mortality\": 15.4, \"gdp\": 18579.0, \"region\": \"Europe & Central Asia\"}, {\"Country\": \"Turkmenistan\", \"Year\": 2013, \"fertility\": 2.326, \"life\": 65.452, \"population\": 5234640.0, \"child_mortality\": 54.7, \"gdp\": 13555.0, \"region\": \"Europe & Central Asia\"}, {\"Country\": \"Uganda\", \"Year\": 2013, \"fertility\": 5.867000000000001, \"life\": 59.209, \"population\": 36759274.0, \"child_mortality\": 65.1, \"gdp\": 1621.0, \"region\": \"Sub-Saharan Africa\"}, {\"Country\": \"Ukraine\", \"Year\": 2013, \"fertility\": 1.47, \"life\": 68.525, \"population\": 44696741.0, \"child_mortality\": 10.0, \"gdp\": 8338.0, \"region\": \"Europe & Central Asia\"}, {\"Country\": \"United Arab Emirates\", \"Year\": 2013, \"fertility\": 1.801, \"life\": 76.84100000000001, \"population\": 8207940.0, \"child_mortality\": 7.4, \"gdp\": 59092.0, \"region\": \"Middle East & North Africa\"}, {\"Country\": \"United Kingdom\", \"Year\": 2013, \"fertility\": 1.892, \"life\": 80.547, \"population\": 63177406.0, \"child_mortality\": 4.6, \"gdp\": 36908.0, \"region\": \"Europe & Central Asia\"}, {\"Country\": \"United States\", \"Year\": 2013, \"fertility\": 1.976, \"life\": 78.941, \"population\": 318497630.0, \"child_mortality\": 6.9, \"gdp\": 51282.0, \"region\": \"America\"}, {\"Country\": \"Uruguay\", \"Year\": 2013, \"fertility\": 2.046, \"life\": 77.23, \"population\": 3403117.0, \"child_mortality\": 11.1, \"gdp\": 19321.0, \"region\": \"America\"}, {\"Country\": \"Uzbekistan\", \"Year\": 2013, \"fertility\": 2.309, \"life\": 68.241, \"population\": 28398155.0, \"child_mortality\": 41.8, \"gdp\": 5002.0, \"region\": \"Europe & Central Asia\"}, {\"Country\": \"Vanuatu\", \"Year\": 2013, \"fertility\": 3.382, \"life\": 71.626, \"population\": 257812.0, \"child_mortality\": 28.4, \"gdp\": 2895.0, \"region\": \"East Asia & Pacific\"}, {\"Country\": \"Venezuela\", \"Year\": 2013, \"fertility\": 2.39, \"life\": 74.633, \"population\": 30340637.0, \"child_mortality\": 15.7, \"gdp\": 17614.0, \"region\": \"America\"}, {\"Country\": \"Vietnam\", \"Year\": 2013, \"fertility\": 1.743, \"life\": 75.945, \"population\": 90656550.0, \"child_mortality\": 22.9, \"gdp\": 5125.0, \"region\": \"East Asia & Pacific\"}, {\"Country\": \"Virgin Islands (U.S.)\", \"Year\": 2013, \"fertility\": 2.487, \"life\": 80.152, \"population\": 108300.0, \"child_mortality\": 10.82, \"gdp\": null, \"region\": \"America\"}, {\"Country\": \"West Bank and Gaza\", \"Year\": 2013, \"fertility\": 4.01, \"life\": 73.203, \"population\": 4393572.0, \"child_mortality\": 22.3, \"gdp\": 4498.0, \"region\": \"Middle East & North Africa\"}, {\"Country\": \"Western Sahara\", \"Year\": 2013, \"fertility\": 2.363, \"life\": 67.764, \"population\": 585270.0, \"child_mortality\": 45.03, \"gdp\": null, \"region\": \"Middle East & North Africa\"}, {\"Country\": \"Yemen, Rep.\", \"Year\": 2013, \"fertility\": 4.075, \"life\": 63.112, \"population\": 26358020.0, \"child_mortality\": null, \"gdp\": null, \"region\": \"Middle East & North Africa\"}, {\"Country\": \"Zambia\", \"Year\": 2013, \"fertility\": 5.687, \"life\": 58.105, \"population\": 14314515.0, \"child_mortality\": 72.8, \"gdp\": 3800.0, \"region\": \"Sub-Saharan Africa\"}, {\"Country\": \"Zimbabwe\", \"Year\": 2013, \"fertility\": 3.486, \"life\": 59.871, \"population\": 13327925.0, \"child_mortality\": 83.3, \"gdp\": 1773.0, \"region\": \"Sub-Saharan Africa\"}]}}, {\"mode\": \"vega-lite\"});\n",
       "</script>"
      ],
      "text/plain": [
       "alt.Chart(...)"
      ]
     },
     "execution_count": 26,
     "metadata": {},
     "output_type": "execute_result"
    }
   ],
   "source": [
    "colorsScale=alt.Scale(\n",
    "    domain=data_2013['region'].unique(),\n",
    "    range=['#e41a1c','#377eb8','#4daf4a','#984ea3','#ff7f00','#f5df4d'], # presa dal sito colorbrewer\n",
    "        )\n",
    "\n",
    "alt.Chart(data_2013).mark_circle(size=80, opacity=0.5).encode(\n",
    "    alt.Y('region:N',title=None),\n",
    "    alt.X('population:Q',\n",
    "          scale=alt.Scale(type='log'),\n",
    "          axis=alt.Axis(tickCount=5),\n",
    "          title='Population (log scale)',\n",
    "          ),\n",
    "    tooltip=['Country','region','population'],\n",
    "    color=alt.Color(\n",
    "        'region:N',\n",
    "        legend=alt.Legend(direction='horizontal',orient='right', columns=2, rowPadding=10, title='Continents'),\n",
    "        scale=colorsScale\n",
    "        ),\n",
    ").properties(\n",
    "    width=500\n",
    ")"
   ]
  },
  {
   "cell_type": "code",
   "execution_count": null,
   "metadata": {},
   "outputs": [],
   "source": []
  },
  {
   "cell_type": "markdown",
   "metadata": {
    "id": "fLofagJZmmfF"
   },
   "source": [
    "### Scale Quantitative\n",
    "\n",
    "---\n",
    "\n"
   ]
  },
  {
   "cell_type": "markdown",
   "metadata": {
    "id": "y3W6InV8EtWq"
   },
   "source": [
    "The size (`size`) of markers with an area is scaled to the area (and not for example for *marker_circle* to the radius). Therefore the range is also expressed as area."
   ]
  },
  {
   "cell_type": "code",
   "execution_count": 10,
   "metadata": {
    "ExecuteTime": {
     "end_time": "2025-04-28T10:18:49.137722Z",
     "start_time": "2025-04-28T10:18:49.123101Z"
    }
   },
   "outputs": [
    {
     "data": {
      "text/html": [
       "\n",
       "<style>\n",
       "  #altair-viz-e877c009f68848e79bf6805e4e7edde2.vega-embed {\n",
       "    width: 100%;\n",
       "    display: flex;\n",
       "  }\n",
       "\n",
       "  #altair-viz-e877c009f68848e79bf6805e4e7edde2.vega-embed details,\n",
       "  #altair-viz-e877c009f68848e79bf6805e4e7edde2.vega-embed details summary {\n",
       "    position: relative;\n",
       "  }\n",
       "</style>\n",
       "<div id=\"altair-viz-e877c009f68848e79bf6805e4e7edde2\"></div>\n",
       "<script type=\"text/javascript\">\n",
       "  var VEGA_DEBUG = (typeof VEGA_DEBUG == \"undefined\") ? {} : VEGA_DEBUG;\n",
       "  (function(spec, embedOpt){\n",
       "    let outputDiv = document.currentScript.previousElementSibling;\n",
       "    if (outputDiv.id !== \"altair-viz-e877c009f68848e79bf6805e4e7edde2\") {\n",
       "      outputDiv = document.getElementById(\"altair-viz-e877c009f68848e79bf6805e4e7edde2\");\n",
       "    }\n",
       "\n",
       "    const paths = {\n",
       "      \"vega\": \"https://cdn.jsdelivr.net/npm/vega@5?noext\",\n",
       "      \"vega-lib\": \"https://cdn.jsdelivr.net/npm/vega-lib?noext\",\n",
       "      \"vega-lite\": \"https://cdn.jsdelivr.net/npm/vega-lite@5.20.1?noext\",\n",
       "      \"vega-embed\": \"https://cdn.jsdelivr.net/npm/vega-embed@6?noext\",\n",
       "    };\n",
       "\n",
       "    function maybeLoadScript(lib, version) {\n",
       "      var key = `${lib.replace(\"-\", \"\")}_version`;\n",
       "      return (VEGA_DEBUG[key] == version) ?\n",
       "        Promise.resolve(paths[lib]) :\n",
       "        new Promise(function(resolve, reject) {\n",
       "          var s = document.createElement('script');\n",
       "          document.getElementsByTagName(\"head\")[0].appendChild(s);\n",
       "          s.async = true;\n",
       "          s.onload = () => {\n",
       "            VEGA_DEBUG[key] = version;\n",
       "            return resolve(paths[lib]);\n",
       "          };\n",
       "          s.onerror = () => reject(`Error loading script: ${paths[lib]}`);\n",
       "          s.src = paths[lib];\n",
       "        });\n",
       "    }\n",
       "\n",
       "    function showError(err) {\n",
       "      outputDiv.innerHTML = `<div class=\"error\" style=\"color:red;\">${err}</div>`;\n",
       "      throw err;\n",
       "    }\n",
       "\n",
       "    function displayChart(vegaEmbed) {\n",
       "      vegaEmbed(outputDiv, spec, embedOpt)\n",
       "        .catch(err => showError(`Javascript Error: ${err.message}<br>This usually means there's a typo in your chart specification. See the javascript console for the full traceback.`));\n",
       "    }\n",
       "\n",
       "    if(typeof define === \"function\" && define.amd) {\n",
       "      requirejs.config({paths});\n",
       "      let deps = [\"vega-embed\"];\n",
       "      require(deps, displayChart, err => showError(`Error loading script: ${err.message}`));\n",
       "    } else {\n",
       "      maybeLoadScript(\"vega\", \"5\")\n",
       "        .then(() => maybeLoadScript(\"vega-lite\", \"5.20.1\"))\n",
       "        .then(() => maybeLoadScript(\"vega-embed\", \"6\"))\n",
       "        .catch(showError)\n",
       "        .then(() => displayChart(vegaEmbed));\n",
       "    }\n",
       "  })({\"config\": {\"view\": {\"continuousWidth\": 300, \"continuousHeight\": 300}}, \"data\": {\"name\": \"data-9aeeb1cd3c5e74f4158f0ddfc6e278b9\"}, \"mark\": {\"type\": \"circle\", \"tooltip\": true}, \"encoding\": {\"color\": {\"field\": \"region\", \"type\": \"nominal\"}, \"size\": {\"field\": \"population\", \"scale\": {\"range\": [10, 4000]}, \"type\": \"quantitative\"}, \"tooltip\": [{\"field\": \"Country\", \"type\": \"nominal\"}, {\"field\": \"region\", \"type\": \"nominal\"}, {\"field\": \"population\", \"type\": \"quantitative\"}], \"x\": {\"field\": \"fertility\", \"scale\": {\"zero\": false}, \"type\": \"quantitative\"}, \"y\": {\"field\": \"life\", \"scale\": {\"zero\": false}, \"type\": \"quantitative\"}}, \"height\": 400, \"width\": 400, \"$schema\": \"https://vega.github.io/schema/vega-lite/v5.20.1.json\", \"datasets\": {\"data-9aeeb1cd3c5e74f4158f0ddfc6e278b9\": [{\"Country\": \"China\", \"Year\": 2013, \"fertility\": 1.668, \"life\": 75.331, \"population\": 1359368470.0, \"child_mortality\": 12.3, \"gdp\": 11805.0, \"region\": \"East Asia & Pacific\"}, {\"Country\": \"India\", \"Year\": 2013, \"fertility\": 2.479, \"life\": 66.414, \"population\": 1275137828.0, \"child_mortality\": 52.1, \"gdp\": 5244.0, \"region\": \"South Asia\"}, {\"Country\": \"United States\", \"Year\": 2013, \"fertility\": 1.976, \"life\": 78.941, \"population\": 318497630.0, \"child_mortality\": 6.9, \"gdp\": 51282.0, \"region\": \"America\"}, {\"Country\": \"Indonesia\", \"Year\": 2013, \"fertility\": 2.338, \"life\": 70.833, \"population\": 247188189.0, \"child_mortality\": 29.3, \"gdp\": 9729.0, \"region\": \"East Asia & Pacific\"}, {\"Country\": \"Brazil\", \"Year\": 2013, \"fertility\": 1.801, \"life\": 73.937, \"population\": 200050487.0, \"child_mortality\": 14.4, \"gdp\": 15518.0, \"region\": \"America\"}, {\"Country\": \"Pakistan\", \"Year\": 2013, \"fertility\": 3.185, \"life\": 66.57, \"population\": 183188847.0, \"child_mortality\": 85.6, \"gdp\": 4454.0, \"region\": \"South Asia\"}, {\"Country\": \"Nigeria\", \"Year\": 2013, \"fertility\": 5.976, \"life\": 52.506, \"population\": 170901148.0, \"child_mortality\": 116.6, \"gdp\": 5423.0, \"region\": \"Sub-Saharan Africa\"}, {\"Country\": \"Bangladesh\", \"Year\": 2013, \"fertility\": 2.177, \"life\": 70.657, \"population\": 154393847.0, \"child_mortality\": 41.6, \"gdp\": 2853.0, \"region\": \"South Asia\"}, {\"Country\": \"Russia\", \"Year\": 2013, \"fertility\": 1.595, \"life\": 67.979, \"population\": 142557892.0, \"child_mortality\": 10.4, \"gdp\": 23561.0, \"region\": \"Europe & Central Asia\"}, {\"Country\": \"Japan\", \"Year\": 2013, \"fertility\": 1.419, \"life\": 83.58, \"population\": 126345235.0, \"child_mortality\": 2.9, \"gdp\": 35614.0, \"region\": \"East Asia & Pacific\"}, {\"Country\": \"Mexico\", \"Year\": 2013, \"fertility\": 2.185, \"life\": 77.501, \"population\": 117478371.0, \"child_mortality\": 14.5, \"gdp\": 16346.0, \"region\": \"America\"}, {\"Country\": \"Philippines\", \"Year\": 2013, \"fertility\": 3.043, \"life\": 68.703, \"population\": 98112780.0, \"child_mortality\": 29.6, \"gdp\": 6326.0, \"region\": \"East Asia & Pacific\"}, {\"Country\": \"Vietnam\", \"Year\": 2013, \"fertility\": 1.743, \"life\": 75.945, \"population\": 90656550.0, \"child_mortality\": 22.9, \"gdp\": 5125.0, \"region\": \"East Asia & Pacific\"}, {\"Country\": \"Ethiopia\", \"Year\": 2013, \"fertility\": 4.519, \"life\": 63.635, \"population\": 88356373.0, \"child_mortality\": 64.6, \"gdp\": 1336.0, \"region\": \"Sub-Saharan Africa\"}, {\"Country\": \"Egypt\", \"Year\": 2013, \"fertility\": 2.77, \"life\": 71.157, \"population\": 85378440.0, \"child_mortality\": 25.8, \"gdp\": 10731.0, \"region\": \"Middle East & North Africa\"}, {\"Country\": \"Germany\", \"Year\": 2013, \"fertility\": 1.419, \"life\": 80.743, \"population\": 81804228.0, \"child_mortality\": 3.9, \"gdp\": 42887.0, \"region\": \"Europe & Central Asia\"}, {\"Country\": \"Iran\", \"Year\": 2013, \"fertility\": 1.92, \"life\": 74.048, \"population\": 76407013.0, \"child_mortality\": 16.8, \"gdp\": 15552.0, \"region\": \"Middle East & North Africa\"}, {\"Country\": \"Turkey\", \"Year\": 2013, \"fertility\": 2.041, \"life\": 75.259, \"population\": 75359032.0, \"child_mortality\": 15.4, \"gdp\": 18579.0, \"region\": \"Europe & Central Asia\"}, {\"Country\": \"Congo, Dem. Rep.\", \"Year\": 2013, \"fertility\": 5.933, \"life\": 49.963, \"population\": 71419669.0, \"child_mortality\": 104.8, \"gdp\": 724.0, \"region\": \"Sub-Saharan Africa\"}, {\"Country\": \"Thailand\", \"Year\": 2013, \"fertility\": 1.399, \"life\": 74.40100000000001, \"population\": 70243267.0, \"child_mortality\": 13.1, \"gdp\": 13932.0, \"region\": \"East Asia & Pacific\"}, {\"Country\": \"France\", \"Year\": 2013, \"fertility\": 1.98, \"life\": 81.81, \"population\": 63782963.0, \"child_mortality\": 4.4, \"gdp\": 37309.0, \"region\": \"Europe & Central Asia\"}, {\"Country\": \"United Kingdom\", \"Year\": 2013, \"fertility\": 1.892, \"life\": 80.547, \"population\": 63177406.0, \"child_mortality\": 4.6, \"gdp\": 36908.0, \"region\": \"Europe & Central Asia\"}, {\"Country\": \"Italy\", \"Year\": 2013, \"fertility\": 1.487, \"life\": 82.385, \"population\": 61087395.0, \"child_mortality\": 3.6, \"gdp\": 33827.0, \"region\": \"Europe & Central Asia\"}, {\"Country\": \"South Africa\", \"Year\": 2013, \"fertility\": 2.387, \"life\": 56.916, \"population\": 50981076.0, \"child_mortality\": 45.1, \"gdp\": 12454.0, \"region\": \"Sub-Saharan Africa\"}, {\"Country\": \"Tanzania\", \"Year\": 2013, \"fertility\": 5.214, \"life\": 61.53, \"population\": 49153002.0, \"child_mortality\": 52.6, \"gdp\": 2382.0, \"region\": \"Sub-Saharan Africa\"}, {\"Country\": \"Myanmar\", \"Year\": 2013, \"fertility\": 1.938, \"life\": 65.176, \"population\": 49119646.0, \"child_mortality\": 53.5, \"gdp\": 3526.0, \"region\": \"East Asia & Pacific\"}, {\"Country\": \"Korea, Rep.\", \"Year\": 2013, \"fertility\": 1.321, \"life\": 81.535, \"population\": 48774767.0, \"child_mortality\": null, \"gdp\": null, \"region\": \"East Asia & Pacific\"}, {\"Country\": \"Colombia\", \"Year\": 2013, \"fertility\": 2.286, \"life\": 74.038, \"population\": 48165221.0, \"child_mortality\": 16.9, \"gdp\": 12054.0, \"region\": \"America\"}, {\"Country\": \"Spain\", \"Year\": 2013, \"fertility\": 1.505, \"life\": 82.1, \"population\": 47042602.0, \"child_mortality\": 4.3, \"gdp\": 31681.0, \"region\": \"Europe & Central Asia\"}, {\"Country\": \"Ukraine\", \"Year\": 2013, \"fertility\": 1.47, \"life\": 68.525, \"population\": 44696741.0, \"child_mortality\": 10.0, \"gdp\": 8338.0, \"region\": \"Europe & Central Asia\"}, {\"Country\": \"Kenya\", \"Year\": 2013, \"fertility\": 4.382, \"life\": 61.716, \"population\": 43923719.0, \"child_mortality\": 54.5, \"gdp\": 2706.0, \"region\": \"Sub-Saharan Africa\"}, {\"Country\": \"Argentina\", \"Year\": 2013, \"fertility\": 2.175, \"life\": 76.305, \"population\": 41473982.0, \"child_mortality\": 13.3, \"gdp\": 17629.0, \"region\": \"America\"}, {\"Country\": \"Poland\", \"Year\": 2013, \"fertility\": 1.4169999999999998, \"life\": 76.408, \"population\": 38331803.0, \"child_mortality\": 5.2, \"gdp\": 23144.0, \"region\": \"Europe & Central Asia\"}, {\"Country\": \"Algeria\", \"Year\": 2013, \"fertility\": 2.795, \"life\": 71.0, \"population\": 36983924.0, \"child_mortality\": 25.2, \"gdp\": 12893.0, \"region\": \"Middle East & North Africa\"}, {\"Country\": \"Uganda\", \"Year\": 2013, \"fertility\": 5.867000000000001, \"life\": 59.209, \"population\": 36759274.0, \"child_mortality\": 65.1, \"gdp\": 1621.0, \"region\": \"Sub-Saharan Africa\"}, {\"Country\": \"Sudan\", \"Year\": 2013, \"fertility\": 4.42, \"life\": 62.055, \"population\": 35940905.0, \"child_mortality\": 74.2, \"gdp\": 3903.0, \"region\": \"Sub-Saharan Africa\"}, {\"Country\": \"Canada\", \"Year\": 2013, \"fertility\": 1.67, \"life\": 81.482, \"population\": 34993747.0, \"child_mortality\": 5.2, \"gdp\": 42213.0, \"region\": \"America\"}, {\"Country\": \"Iraq\", \"Year\": 2013, \"fertility\": 4.026, \"life\": 69.419, \"population\": 34776205.0, \"child_mortality\": 33.9, \"gdp\": 15368.0, \"region\": \"Middle East & North Africa\"}, {\"Country\": \"Afghanistan\", \"Year\": 2013, \"fertility\": 4.9, \"life\": 60.947, \"population\": 34499915.0, \"child_mortality\": 96.7, \"gdp\": 1884.0, \"region\": \"South Asia\"}, {\"Country\": \"Morocco\", \"Year\": 2013, \"fertility\": 2.735, \"life\": 70.941, \"population\": 32925553.0, \"child_mortality\": 29.7, \"gdp\": 6967.0, \"region\": \"Middle East & North Africa\"}, {\"Country\": \"Nepal\", \"Year\": 2013, \"fertility\": 2.3, \"life\": 68.41, \"population\": 31535507.0, \"child_mortality\": 39.0, \"gdp\": 2173.0, \"region\": \"South Asia\"}, {\"Country\": \"Venezuela\", \"Year\": 2013, \"fertility\": 2.39, \"life\": 74.633, \"population\": 30340637.0, \"child_mortality\": 15.7, \"gdp\": 17614.0, \"region\": \"America\"}, {\"Country\": \"Peru\", \"Year\": 2013, \"fertility\": 2.417, \"life\": 74.82600000000001, \"population\": 30075185.0, \"child_mortality\": 18.3, \"gdp\": 11395.0, \"region\": \"America\"}, {\"Country\": \"Malaysia\", \"Year\": 2013, \"fertility\": 1.964, \"life\": 75.017, \"population\": 29787203.0, \"child_mortality\": 8.4, \"gdp\": 22589.0, \"region\": \"East Asia & Pacific\"}, {\"Country\": \"Saudi Arabia\", \"Year\": 2013, \"fertility\": 2.644, \"life\": 75.479, \"population\": 29319402.0, \"child_mortality\": 15.5, \"gdp\": 51294.0, \"region\": \"Middle East & North Africa\"}, {\"Country\": \"Uzbekistan\", \"Year\": 2013, \"fertility\": 2.309, \"life\": 68.241, \"population\": 28398155.0, \"child_mortality\": 41.8, \"gdp\": 5002.0, \"region\": \"Europe & Central Asia\"}, {\"Country\": \"Yemen, Rep.\", \"Year\": 2013, \"fertility\": 4.075, \"life\": 63.112, \"population\": 26358020.0, \"child_mortality\": null, \"gdp\": null, \"region\": \"Middle East & North Africa\"}, {\"Country\": \"Ghana\", \"Year\": 2013, \"fertility\": 3.857, \"life\": 61.132, \"population\": 26131336.0, \"child_mortality\": 66.5, \"gdp\": 3873.0, \"region\": \"Sub-Saharan Africa\"}, {\"Country\": \"Mozambique\", \"Year\": 2013, \"fertility\": 5.188, \"life\": 50.25, \"population\": 25028313.0, \"child_mortality\": 87.2, \"gdp\": 1064.0, \"region\": \"Sub-Saharan Africa\"}, {\"Country\": \"Korea, Dem. Rep.\", \"Year\": 2013, \"fertility\": 1.988, \"life\": 69.999, \"population\": 24654358.0, \"child_mortality\": null, \"gdp\": null, \"region\": \"East Asia & Pacific\"}, {\"Country\": \"Australia\", \"Year\": 2013, \"fertility\": 1.882, \"life\": 82.49600000000001, \"population\": 23213944.0, \"child_mortality\": 4.0, \"gdp\": 42840.0, \"region\": \"East Asia & Pacific\"}, {\"Country\": \"Taiwan\", \"Year\": 2013, \"fertility\": 1.065, \"life\": 79.75, \"population\": 23151000.0, \"child_mortality\": null, \"gdp\": 40214.0, \"region\": \"East Asia & Pacific\"}, {\"Country\": \"Madagascar\", \"Year\": 2013, \"fertility\": 4.468, \"life\": 64.723, \"population\": 22555046.0, \"child_mortality\": 53.4, \"gdp\": 1369.0, \"region\": \"Sub-Saharan Africa\"}, {\"Country\": \"Syria\", \"Year\": 2013, \"fertility\": 2.964, \"life\": 71.0, \"population\": 21468962.0, \"child_mortality\": 15.3, \"gdp\": 5464.0, \"region\": \"Middle East & North Africa\"}, {\"Country\": \"Sri Lanka\", \"Year\": 2013, \"fertility\": 2.339, \"life\": 74.293, \"population\": 21393876.0, \"child_mortality\": 9.4, \"gdp\": 9426.0, \"region\": \"South Asia\"}, {\"Country\": \"Romania\", \"Year\": 2013, \"fertility\": 1.4169999999999998, \"life\": 73.831, \"population\": 21338815.0, \"child_mortality\": 12.0, \"gdp\": 18182.0, \"region\": \"Europe & Central Asia\"}, {\"Country\": \"Cote d'Ivoire\", \"Year\": 2013, \"fertility\": 4.8660000000000005, \"life\": 50.722, \"population\": 21057316.0, \"child_mortality\": 100.7, \"gdp\": 3123.0, \"region\": \"Sub-Saharan Africa\"}, {\"Country\": \"Cameroon\", \"Year\": 2013, \"fertility\": 4.78, \"life\": 55.065, \"population\": 20913595.0, \"child_mortality\": 95.2, \"gdp\": 2739.0, \"region\": \"Sub-Saharan Africa\"}, {\"Country\": \"Angola\", \"Year\": 2013, \"fertility\": 5.863, \"life\": 51.899, \"population\": 20714494.0, \"child_mortality\": 167.1, \"gdp\": 7488.0, \"region\": \"Sub-Saharan Africa\"}, {\"Country\": \"Burkina Faso\", \"Year\": 2013, \"fertility\": 5.605, \"life\": 56.344, \"population\": 18011507.0, \"child_mortality\": 96.6, \"gdp\": 1588.0, \"region\": \"Sub-Saharan Africa\"}, {\"Country\": \"Chile\", \"Year\": 2013, \"fertility\": 1.82, \"life\": 79.955, \"population\": 17574464.0, \"child_mortality\": 8.4, \"gdp\": 21746.0, \"region\": \"America\"}, {\"Country\": \"Niger\", \"Year\": 2013, \"fertility\": 7.561, \"life\": 58.409, \"population\": 17239826.0, \"child_mortality\": 104.1, \"gdp\": 897.0, \"region\": \"Sub-Saharan Africa\"}, {\"Country\": \"Mali\", \"Year\": 2013, \"fertility\": 6.847, \"life\": 55.032, \"population\": 16808242.0, \"child_mortality\": 122.7, \"gdp\": 1589.0, \"region\": \"Sub-Saharan Africa\"}, {\"Country\": \"Netherlands\", \"Year\": 2013, \"fertility\": 1.774, \"life\": 81.038, \"population\": 16761552.0, \"child_mortality\": 4.0, \"gdp\": 45021.0, \"region\": \"Europe & Central Asia\"}, {\"Country\": \"Kazakhstan\", \"Year\": 2013, \"fertility\": 2.455, \"life\": 66.536, \"population\": 16550975.0, \"child_mortality\": 16.4, \"gdp\": 22470.0, \"region\": \"Europe & Central Asia\"}, {\"Country\": \"Malawi\", \"Year\": 2013, \"fertility\": 5.388999999999999, \"life\": 55.31100000000001, \"population\": 16406945.0, \"child_mortality\": 72.6, \"gdp\": 757.0, \"region\": \"Sub-Saharan Africa\"}, {\"Country\": \"Guatemala\", \"Year\": 2013, \"fertility\": 3.783, \"life\": 72.09899999999999, \"population\": 15527502.0, \"child_mortality\": 31.1, \"gdp\": 7063.0, \"region\": \"America\"}, {\"Country\": \"Ecuador\", \"Year\": 2013, \"fertility\": 2.559, \"life\": 76.471, \"population\": 15061398.0, \"child_mortality\": 23.0, \"gdp\": 10541.0, \"region\": \"America\"}, {\"Country\": \"Cambodia\", \"Year\": 2013, \"fertility\": 2.861, \"life\": 71.916, \"population\": 14656016.0, \"child_mortality\": 32.9, \"gdp\": 2942.0, \"region\": \"East Asia & Pacific\"}, {\"Country\": \"Zambia\", \"Year\": 2013, \"fertility\": 5.687, \"life\": 58.105, \"population\": 14314515.0, \"child_mortality\": 72.8, \"gdp\": 3800.0, \"region\": \"Sub-Saharan Africa\"}, {\"Country\": \"Senegal\", \"Year\": 2013, \"fertility\": 4.934, \"life\": 63.451, \"population\": 13454191.0, \"child_mortality\": 52.5, \"gdp\": 2185.0, \"region\": \"Sub-Saharan Africa\"}, {\"Country\": \"Zimbabwe\", \"Year\": 2013, \"fertility\": 3.486, \"life\": 59.871, \"population\": 13327925.0, \"child_mortality\": 83.3, \"gdp\": 1773.0, \"region\": \"Sub-Saharan Africa\"}, {\"Country\": \"Chad\", \"Year\": 2013, \"fertility\": 6.263, \"life\": 51.182, \"population\": 12141876.0, \"child_mortality\": 147.1, \"gdp\": 2055.0, \"region\": \"Sub-Saharan Africa\"}, {\"Country\": \"Rwanda\", \"Year\": 2013, \"fertility\": 4.508, \"life\": 64.066, \"population\": 11608439.0, \"child_mortality\": 48.2, \"gdp\": 1426.0, \"region\": \"Sub-Saharan Africa\"}, {\"Country\": \"Greece\", \"Year\": 2013, \"fertility\": 1.529, \"life\": 80.77, \"population\": 11445691.0, \"child_mortality\": 4.3, \"gdp\": 24159.0, \"region\": \"Europe & Central Asia\"}, {\"Country\": \"Cuba\", \"Year\": 2013, \"fertility\": 1.449, \"life\": 79.262, \"population\": 11244424.0, \"child_mortality\": 6.1, \"gdp\": 20122.0, \"region\": \"America\"}, {\"Country\": \"South Sudan\", \"Year\": 2013, \"fertility\": 4.92, \"life\": 55.264, \"population\": 10881979.0, \"child_mortality\": 99.2, \"gdp\": 1965.0, \"region\": \"Sub-Saharan Africa\"}, {\"Country\": \"Belgium\", \"Year\": 2013, \"fertility\": 1.854, \"life\": 80.548, \"population\": 10815599.0, \"child_mortality\": 4.3, \"gdp\": 40607.0, \"region\": \"Europe & Central Asia\"}, {\"Country\": \"Tunisia\", \"Year\": 2013, \"fertility\": 2.008, \"life\": 75.873, \"population\": 10813680.0, \"child_mortality\": 15.2, \"gdp\": 10768.0, \"region\": \"Middle East & North Africa\"}, {\"Country\": \"Guinea\", \"Year\": 2013, \"fertility\": 4.915, \"life\": 56.112, \"population\": 10753680.0, \"child_mortality\": 100.4, \"gdp\": 1213.0, \"region\": \"Sub-Saharan Africa\"}, {\"Country\": \"Portugal\", \"Year\": 2013, \"fertility\": 1.315, \"life\": 79.945, \"population\": 10704534.0, \"child_mortality\": 3.8, \"gdp\": 25677.0, \"region\": \"Europe & Central Asia\"}, {\"Country\": \"Czech Rep.\", \"Year\": 2013, \"fertility\": 1.5659999999999998, \"life\": 77.69, \"population\": 10589806.0, \"child_mortality\": null, \"gdp\": null, \"region\": \"Europe & Central Asia\"}, {\"Country\": \"Bolivia\", \"Year\": 2013, \"fertility\": 3.221, \"life\": 67.26, \"population\": 10409761.0, \"child_mortality\": 41.3, \"gdp\": 5934.0, \"region\": \"America\"}, {\"Country\": \"Haiti\", \"Year\": 2013, \"fertility\": 3.148, \"life\": 63.102, \"population\": 10388424.0, \"child_mortality\": 73.1, \"gdp\": 1648.0, \"region\": \"America\"}, {\"Country\": \"Dominican Rep.\", \"Year\": 2013, \"fertility\": 2.484, \"life\": 73.402, \"population\": 10308609.0, \"child_mortality\": null, \"gdp\": null, \"region\": \"America\"}, {\"Country\": \"Somalia\", \"Year\": 2013, \"fertility\": 6.563, \"life\": 55.05, \"population\": 10052842.0, \"child_mortality\": 146.1, \"gdp\": 619.0, \"region\": \"Sub-Saharan Africa\"}, {\"Country\": \"Hungary\", \"Year\": 2013, \"fertility\": 1.411, \"life\": 74.62, \"population\": 9933795.0, \"child_mortality\": 6.3, \"gdp\": 22708.0, \"region\": \"Europe & Central Asia\"}, {\"Country\": \"Serbia\", \"Year\": 2013, \"fertility\": 1.365, \"life\": 74.059, \"population\": 9835010.0, \"child_mortality\": 6.9, \"gdp\": 12889.0, \"region\": \"Europe & Central Asia\"}, {\"Country\": \"Benin\", \"Year\": 2013, \"fertility\": 4.845, \"life\": 59.33, \"population\": 9606534.0, \"child_mortality\": 104.8, \"gdp\": 1733.0, \"region\": \"Sub-Saharan Africa\"}, {\"Country\": \"Sweden\", \"Year\": 2013, \"fertility\": 1.928, \"life\": 81.818, \"population\": 9545823.0, \"child_mortality\": 3.0, \"gdp\": 43448.0, \"region\": \"Europe & Central Asia\"}, {\"Country\": \"Azerbaijan\", \"Year\": 2013, \"fertility\": 1.924, \"life\": 70.753, \"population\": 9533445.0, \"child_mortality\": 34.2, \"gdp\": 16593.0, \"region\": \"Europe & Central Asia\"}, {\"Country\": \"Belarus\", \"Year\": 2013, \"fertility\": 1.494, \"life\": 69.928, \"population\": 9498290.0, \"child_mortality\": 4.9, \"gdp\": 17085.0, \"region\": \"Europe & Central Asia\"}, {\"Country\": \"Burundi\", \"Year\": 2013, \"fertility\": 6.033, \"life\": 54.104, \"population\": 8911183.0, \"child_mortality\": 87.8, \"gdp\": 747.0, \"region\": \"Sub-Saharan Africa\"}, {\"Country\": \"Austria\", \"Year\": 2013, \"fertility\": 1.471, \"life\": 81.137, \"population\": 8441263.0, \"child_mortality\": 3.9, \"gdp\": 44059.0, \"region\": \"Europe & Central Asia\"}, {\"Country\": \"United Arab Emirates\", \"Year\": 2013, \"fertility\": 1.801, \"life\": 76.84100000000001, \"population\": 8207940.0, \"child_mortality\": 7.4, \"gdp\": 59092.0, \"region\": \"Middle East & North Africa\"}, {\"Country\": \"Honduras\", \"Year\": 2013, \"fertility\": 3.0010000000000003, \"life\": 73.817, \"population\": 8071522.0, \"child_mortality\": 21.8, \"gdp\": 4154.0, \"region\": \"America\"}, {\"Country\": \"Israel\", \"Year\": 2013, \"fertility\": 2.898, \"life\": 81.801, \"population\": 7818860.0, \"child_mortality\": 4.2, \"gdp\": 30927.0, \"region\": \"Middle East & North Africa\"}, {\"Country\": \"Switzerland\", \"Year\": 2013, \"fertility\": 1.533, \"life\": 82.604, \"population\": 7761820.0, \"child_mortality\": 4.2, \"gdp\": 54983.0, \"region\": \"Europe & Central Asia\"}, {\"Country\": \"Bulgaria\", \"Year\": 2013, \"fertility\": 1.541, \"life\": 73.54899999999999, \"population\": 7349462.0, \"child_mortality\": 11.6, \"gdp\": 15695.0, \"region\": \"Europe & Central Asia\"}, {\"Country\": \"Papua New Guinea\", \"Year\": 2013, \"fertility\": 3.781, \"life\": 62.42100000000001, \"population\": 7327281.0, \"child_mortality\": 60.9, \"gdp\": 2558.0, \"region\": \"East Asia & Pacific\"}, {\"Country\": \"Hong Kong, China\", \"Year\": 2013, \"fertility\": 1.135, \"life\": 83.37799999999999, \"population\": 7274125.0, \"child_mortality\": 2.58, \"gdp\": 51656.0, \"region\": \"East Asia & Pacific\"}, {\"Country\": \"Tajikistan\", \"Year\": 2013, \"fertility\": 3.815, \"life\": 67.248, \"population\": 7183529.0, \"child_mortality\": 47.8, \"gdp\": 2432.0, \"region\": \"Europe & Central Asia\"}, {\"Country\": \"Paraguay\", \"Year\": 2013, \"fertility\": 2.864, \"life\": 72.259, \"population\": 6798236.0, \"child_mortality\": 21.9, \"gdp\": 7833.0, \"region\": \"America\"}, {\"Country\": \"Jordan\", \"Year\": 2013, \"fertility\": 3.244, \"life\": 73.854, \"population\": 6572903.0, \"child_mortality\": 19.0, \"gdp\": 11405.0, \"region\": \"Middle East & North Africa\"}, {\"Country\": \"Libya\", \"Year\": 2013, \"fertility\": 2.356, \"life\": 75.325, \"population\": 6506095.0, \"child_mortality\": 14.5, \"gdp\": 19760.0, \"region\": \"Middle East & North Africa\"}, {\"Country\": \"Laos\", \"Year\": 2013, \"fertility\": 3.02, \"life\": 68.309, \"population\": 6458911.0, \"child_mortality\": null, \"gdp\": null, \"region\": \"East Asia & Pacific\"}, {\"Country\": \"Togo\", \"Year\": 2013, \"fertility\": 4.638999999999999, \"life\": 56.537, \"population\": 6412560.0, \"child_mortality\": 83.3, \"gdp\": 1346.0, \"region\": \"Sub-Saharan Africa\"}, {\"Country\": \"El Salvador\", \"Year\": 2013, \"fertility\": 2.184, \"life\": 72.59899999999999, \"population\": 6302723.0, \"child_mortality\": 18.0, \"gdp\": 7515.0, \"region\": \"America\"}, {\"Country\": \"Sierra Leone\", \"Year\": 2013, \"fertility\": 4.705, \"life\": 45.56100000000001, \"population\": 6255163.0, \"child_mortality\": 133.4, \"gdp\": 1865.0, \"region\": \"Sub-Saharan Africa\"}, {\"Country\": \"Nicaragua\", \"Year\": 2013, \"fertility\": 2.498, \"life\": 74.839, \"population\": 6041763.0, \"child_mortality\": 23.5, \"gdp\": 4432.0, \"region\": \"America\"}, {\"Country\": \"Eritrea\", \"Year\": 2013, \"fertility\": 4.696000000000001, \"life\": 62.852, \"population\": 5748304.0, \"child_mortality\": 49.7, \"gdp\": 1157.0, \"region\": \"Sub-Saharan Africa\"}, {\"Country\": \"Denmark\", \"Year\": 2013, \"fertility\": 1.88, \"life\": 79.388, \"population\": 5611187.0, \"child_mortality\": 3.7, \"gdp\": 42483.0, \"region\": \"Europe & Central Asia\"}, {\"Country\": \"Kyrgyzstan\", \"Year\": 2013, \"fertility\": 3.075, \"life\": 67.533, \"population\": 5503253.0, \"child_mortality\": null, \"gdp\": null, \"region\": \"Europe & Central Asia\"}, {\"Country\": \"Slovak Republic\", \"Year\": 2013, \"fertility\": 1.396, \"life\": 75.39699999999999, \"population\": 5488775.0, \"child_mortality\": 7.2, \"gdp\": 25759.0, \"region\": \"Europe & Central Asia\"}, {\"Country\": \"Finland\", \"Year\": 2013, \"fertility\": 1.853, \"life\": 80.535, \"population\": 5418763.0, \"child_mortality\": 2.6, \"gdp\": 38788.0, \"region\": \"Europe & Central Asia\"}, {\"Country\": \"Singapore\", \"Year\": 2013, \"fertility\": 1.2819999999999998, \"life\": 82.322, \"population\": 5300914.0, \"child_mortality\": 2.8, \"gdp\": 77721.0, \"region\": \"East Asia & Pacific\"}, {\"Country\": \"Turkmenistan\", \"Year\": 2013, \"fertility\": 2.326, \"life\": 65.452, \"population\": 5234640.0, \"child_mortality\": 54.7, \"gdp\": 13555.0, \"region\": \"Europe & Central Asia\"}, {\"Country\": \"Norway\", \"Year\": 2013, \"fertility\": 1.931, \"life\": 81.503, \"population\": 4991997.0, \"child_mortality\": 2.8, \"gdp\": 63322.0, \"region\": \"Europe & Central Asia\"}, {\"Country\": \"Costa Rica\", \"Year\": 2013, \"fertility\": 1.795, \"life\": 79.93, \"population\": 4859957.0, \"child_mortality\": 10.0, \"gdp\": 13427.0, \"region\": \"America\"}, {\"Country\": \"Central African Rep.\", \"Year\": 2013, \"fertility\": 4.365, \"life\": 50.179, \"population\": 4666833.0, \"child_mortality\": null, \"gdp\": null, \"region\": \"Sub-Saharan Africa\"}, {\"Country\": \"Ireland\", \"Year\": 2013, \"fertility\": 1.997, \"life\": 80.707, \"population\": 4631391.0, \"child_mortality\": 3.8, \"gdp\": 44640.0, \"region\": \"Europe & Central Asia\"}, {\"Country\": \"New Zealand\", \"Year\": 2013, \"fertility\": 2.052, \"life\": 81.132, \"population\": 4508166.0, \"child_mortality\": 5.9, \"gdp\": 33360.0, \"region\": \"East Asia & Pacific\"}, {\"Country\": \"West Bank and Gaza\", \"Year\": 2013, \"fertility\": 4.01, \"life\": 73.203, \"population\": 4393572.0, \"child_mortality\": 22.3, \"gdp\": 4498.0, \"region\": \"Middle East & North Africa\"}, {\"Country\": \"Croatia\", \"Year\": 2013, \"fertility\": 1.501, \"life\": 77.048, \"population\": 4378806.0, \"child_mortality\": 4.7, \"gdp\": 20049.0, \"region\": \"Europe & Central Asia\"}, {\"Country\": \"Liberia\", \"Year\": 2013, \"fertility\": 4.792, \"life\": 60.556, \"population\": 4348740.0, \"child_mortality\": 76.3, \"gdp\": 875.0, \"region\": \"Sub-Saharan Africa\"}, {\"Country\": \"Congo, Rep.\", \"Year\": 2013, \"fertility\": 4.968999999999999, \"life\": 58.793, \"population\": 4324199.0, \"child_mortality\": 49.6, \"gdp\": 5680.0, \"region\": \"Sub-Saharan Africa\"}, {\"Country\": \"Lebanon\", \"Year\": 2013, \"fertility\": 1.495, \"life\": 80.007, \"population\": 4324060.0, \"child_mortality\": 8.9, \"gdp\": 16623.0, \"region\": \"Middle East & North Africa\"}, {\"Country\": \"Georgia\", \"Year\": 2013, \"fertility\": 1.817, \"life\": 74.301, \"population\": 4278410.0, \"child_mortality\": 13.4, \"gdp\": 6930.0, \"region\": \"Europe & Central Asia\"}, {\"Country\": \"Puerto Rico\", \"Year\": 2013, \"fertility\": 1.636, \"life\": 78.86399999999999, \"population\": 3742334.0, \"child_mortality\": 7.16, \"gdp\": 33818.0, \"region\": \"America\"}, {\"Country\": \"Bosnia and Herzegovina\", \"Year\": 2013, \"fertility\": 1.283, \"life\": 76.37, \"population\": 3735880.0, \"child_mortality\": 6.6, \"gdp\": 9387.0, \"region\": \"Europe & Central Asia\"}, {\"Country\": \"Mauritania\", \"Year\": 2013, \"fertility\": 4.67, \"life\": 61.55, \"population\": 3704414.0, \"child_mortality\": 90.2, \"gdp\": 3579.0, \"region\": \"Sub-Saharan Africa\"}, {\"Country\": \"Panama\", \"Year\": 2013, \"fertility\": 2.466, \"life\": 77.556, \"population\": 3678264.0, \"child_mortality\": 18.1, \"gdp\": 18793.0, \"region\": \"America\"}, {\"Country\": \"Moldova\", \"Year\": 2013, \"fertility\": 1.456, \"life\": 68.899, \"population\": 3495657.0, \"child_mortality\": 16.4, \"gdp\": 4542.0, \"region\": \"Europe & Central Asia\"}, {\"Country\": \"Uruguay\", \"Year\": 2013, \"fertility\": 2.046, \"life\": 77.23, \"population\": 3403117.0, \"child_mortality\": 11.1, \"gdp\": 19321.0, \"region\": \"America\"}, {\"Country\": \"Lithuania\", \"Year\": 2013, \"fertility\": 1.519, \"life\": 72.11, \"population\": 3278337.0, \"child_mortality\": 4.9, \"gdp\": 24732.0, \"region\": \"Europe & Central Asia\"}, {\"Country\": \"Albania\", \"Year\": 2013, \"fertility\": 1.771, \"life\": 77.392, \"population\": 3238316.0, \"child_mortality\": 14.9, \"gdp\": 9961.0, \"region\": \"Europe & Central Asia\"}, {\"Country\": \"Armenia\", \"Year\": 2013, \"fertility\": 1.74, \"life\": 74.561, \"population\": 3117722.0, \"child_mortality\": 15.5, \"gdp\": 7527.0, \"region\": \"Europe & Central Asia\"}, {\"Country\": \"Kuwait\", \"Year\": 2013, \"fertility\": 2.6, \"life\": 74.288, \"population\": 2959015.0, \"child_mortality\": 9.4, \"gdp\": 79395.0, \"region\": \"Middle East & North Africa\"}, {\"Country\": \"Oman\", \"Year\": 2013, \"fertility\": 2.853, \"life\": 76.55199999999999, \"population\": 2957333.0, \"child_mortality\": 11.7, \"gdp\": 41770.0, \"region\": \"Middle East & North Africa\"}, {\"Country\": \"Mongolia\", \"Year\": 2013, \"fertility\": 2.436, \"life\": 67.503, \"population\": 2887863.0, \"child_mortality\": 24.7, \"gdp\": 10833.0, \"region\": \"East Asia & Pacific\"}, {\"Country\": \"Jamaica\", \"Year\": 2013, \"fertility\": 2.26, \"life\": 73.525, \"population\": 2771179.0, \"child_mortality\": 16.7, \"gdp\": 8607.0, \"region\": \"America\"}, {\"Country\": \"Namibia\", \"Year\": 2013, \"fertility\": 3.051, \"life\": 64.483, \"population\": 2404477.0, \"child_mortality\": 49.5, \"gdp\": 9275.0, \"region\": \"Sub-Saharan Africa\"}, {\"Country\": \"Lesotho\", \"Year\": 2013, \"fertility\": 3.0380000000000003, \"life\": 49.446000000000005, \"population\": 2240126.0, \"child_mortality\": 98.9, \"gdp\": 2473.0, \"region\": \"Sub-Saharan Africa\"}, {\"Country\": \"Latvia\", \"Year\": 2013, \"fertility\": 1.607, \"life\": 72.15, \"population\": 2226260.0, \"child_mortality\": 8.4, \"gdp\": 21699.0, \"region\": \"Europe & Central Asia\"}, {\"Country\": \"Botswana\", \"Year\": 2013, \"fertility\": 2.619, \"life\": 47.572, \"population\": 2074616.0, \"child_mortality\": 55.5, \"gdp\": 16155.0, \"region\": \"Sub-Saharan Africa\"}, {\"Country\": \"Macedonia, FYR\", \"Year\": 2013, \"fertility\": 1.431, \"life\": 75.19800000000001, \"population\": 2069219.0, \"child_mortality\": 6.6, \"gdp\": 11664.0, \"region\": \"Europe & Central Asia\"}, {\"Country\": \"Slovenia\", \"Year\": 2013, \"fertility\": 1.509, \"life\": 79.59100000000001, \"population\": 2044766.0, \"child_mortality\": 2.9, \"gdp\": 27368.0, \"region\": \"Europe & Central Asia\"}, {\"Country\": \"Qatar\", \"Year\": 2013, \"fertility\": 2.019, \"life\": 78.369, \"population\": 1976840.0, \"child_mortality\": 8.2, \"gdp\": 131579.0, \"region\": \"Middle East & North Africa\"}, {\"Country\": \"Gambia\", \"Year\": 2013, \"fertility\": 5.751, \"life\": 58.818000000000005, \"population\": 1874360.0, \"child_mortality\": 73.6, \"gdp\": 1608.0, \"region\": \"Sub-Saharan Africa\"}, {\"Country\": \"Guinea-Bissau\", \"Year\": 2013, \"fertility\": 4.927, \"life\": 54.291, \"population\": 1612913.0, \"child_mortality\": 100.5, \"gdp\": 1362.0, \"region\": \"Sub-Saharan Africa\"}, {\"Country\": \"Gabon\", \"Year\": 2013, \"fertility\": 4.087, \"life\": 63.48, \"population\": 1594205.0, \"child_mortality\": 56.1, \"gdp\": 17580.0, \"region\": \"Sub-Saharan Africa\"}, {\"Country\": \"Bahrain\", \"Year\": 2013, \"fertility\": 2.075, \"life\": 76.608, \"population\": 1377273.0, \"child_mortality\": 6.9, \"gdp\": 42444.0, \"region\": \"Middle East & North Africa\"}, {\"Country\": \"Trinidad and Tobago\", \"Year\": 2013, \"fertility\": 1.797, \"life\": 69.865, \"population\": 1355342.0, \"child_mortality\": 21.5, \"gdp\": 29469.0, \"region\": \"America\"}, {\"Country\": \"Estonia\", \"Year\": 2013, \"fertility\": 1.604, \"life\": 74.441, \"population\": 1338832.0, \"child_mortality\": 3.4, \"gdp\": 25254.0, \"region\": \"Europe & Central Asia\"}, {\"Country\": \"Mauritius\", \"Year\": 2013, \"fertility\": 1.501, \"life\": 73.613, \"population\": 1320785.0, \"child_mortality\": 14.3, \"gdp\": 17146.0, \"region\": \"Sub-Saharan Africa\"}, {\"Country\": \"Swaziland\", \"Year\": 2013, \"fertility\": 3.334, \"life\": 49.0, \"population\": 1237166.0, \"child_mortality\": 74.9, \"gdp\": 5998.0, \"region\": \"Sub-Saharan Africa\"}, {\"Country\": \"Timor-Leste\", \"Year\": 2013, \"fertility\": 5.855, \"life\": 67.538, \"population\": 1223665.0, \"child_mortality\": 56.5, \"gdp\": 2093.0, \"region\": \"East Asia & Pacific\"}, {\"Country\": \"Cyprus\", \"Year\": 2013, \"fertility\": 1.461, \"life\": 79.84100000000001, \"population\": 1141453.0, \"child_mortality\": 3.6, \"gdp\": 30081.0, \"region\": \"Europe & Central Asia\"}, {\"Country\": \"Djibouti\", \"Year\": 2013, \"fertility\": 3.387, \"life\": 61.801, \"population\": 940090.0, \"child_mortality\": 69.5, \"gdp\": 2903.0, \"region\": \"Middle East & North Africa\"}, {\"Country\": \"Fiji\", \"Year\": 2013, \"fertility\": 2.588, \"life\": 69.81, \"population\": 882863.0, \"child_mortality\": 23.2, \"gdp\": 7502.0, \"region\": \"East Asia & Pacific\"}, {\"Country\": \"Reunion\", \"Year\": 2013, \"fertility\": 2.232, \"life\": 79.646, \"population\": 874944.0, \"child_mortality\": 4.69, \"gdp\": null, \"region\": \"Sub-Saharan Africa\"}, {\"Country\": \"Comoros\", \"Year\": 2013, \"fertility\": 4.714, \"life\": 60.874, \"population\": 792913.0, \"child_mortality\": 78.3, \"gdp\": 1450.0, \"region\": \"Sub-Saharan Africa\"}, {\"Country\": \"Bhutan\", \"Year\": 2013, \"fertility\": 2.232, \"life\": 68.294, \"population\": 762313.0, \"child_mortality\": 36.0, \"gdp\": 7167.0, \"region\": \"South Asia\"}, {\"Country\": \"Equatorial Guinea\", \"Year\": 2013, \"fertility\": 4.845, \"life\": 53.062, \"population\": 761050.0, \"child_mortality\": 100.3, \"gdp\": 32654.0, \"region\": \"Sub-Saharan Africa\"}, {\"Country\": \"Guyana\", \"Year\": 2013, \"fertility\": 2.546, \"life\": 66.295, \"population\": 759262.0, \"child_mortality\": 40.8, \"gdp\": 6336.0, \"region\": \"America\"}, {\"Country\": \"Montenegro\", \"Year\": 2013, \"fertility\": 1.666, \"life\": 74.821, \"population\": 633167.0, \"child_mortality\": 5.3, \"gdp\": 14156.0, \"region\": \"Europe & Central Asia\"}, {\"Country\": \"Western Sahara\", \"Year\": 2013, \"fertility\": 2.363, \"life\": 67.764, \"population\": 585270.0, \"child_mortality\": 45.03, \"gdp\": null, \"region\": \"Middle East & North Africa\"}, {\"Country\": \"Solomon Islands\", \"Year\": 2013, \"fertility\": 4.031000000000001, \"life\": 67.675, \"population\": 580791.0, \"child_mortality\": 29.9, \"gdp\": 2041.0, \"region\": \"East Asia & Pacific\"}, {\"Country\": \"Macao, China\", \"Year\": 2013, \"fertility\": 1.083, \"life\": 80.4, \"population\": 578844.0, \"child_mortality\": 5.33, \"gdp\": 136540.0, \"region\": \"East Asia & Pacific\"}, {\"Country\": \"Suriname\", \"Year\": 2013, \"fertility\": 2.268, \"life\": 71.01899999999999, \"population\": 538882.0, \"child_mortality\": 22.6, \"gdp\": 15556.0, \"region\": \"America\"}, {\"Country\": \"Luxembourg\", \"Year\": 2013, \"fertility\": 1.671, \"life\": 80.547, \"population\": 530018.0, \"child_mortality\": 2.0, \"gdp\": 88850.0, \"region\": \"Europe & Central Asia\"}, {\"Country\": \"Cape Verde\", \"Year\": 2013, \"fertility\": 2.292, \"life\": 75.093, \"population\": 510213.0, \"child_mortality\": 25.9, \"gdp\": 6232.0, \"region\": \"Sub-Saharan Africa\"}, {\"Country\": \"Guadeloupe\", \"Year\": 2013, \"fertility\": 2.08, \"life\": 80.947, \"population\": 467335.0, \"child_mortality\": 6.27, \"gdp\": null, \"region\": \"America\"}, {\"Country\": \"Malta\", \"Year\": 2013, \"fertility\": 1.356, \"life\": 79.75, \"population\": 420557.0, \"child_mortality\": 6.1, \"gdp\": 28822.0, \"region\": \"Europe & Central Asia\"}, {\"Country\": \"Brunei\", \"Year\": 2013, \"fertility\": 1.994, \"life\": 78.547, \"population\": 419772.0, \"child_mortality\": 10.0, \"gdp\": 69474.0, \"region\": \"East Asia & Pacific\"}, {\"Country\": \"Martinique\", \"Year\": 2013, \"fertility\": 1.827, \"life\": 81.41, \"population\": 409366.0, \"child_mortality\": 7.22, \"gdp\": null, \"region\": \"America\"}, {\"Country\": \"Bahamas\", \"Year\": 2013, \"fertility\": 1.888, \"life\": 75.237, \"population\": 355233.0, \"child_mortality\": 12.8, \"gdp\": 22518.0, \"region\": \"America\"}, {\"Country\": \"Iceland\", \"Year\": 2013, \"fertility\": 2.083, \"life\": 82.086, \"population\": 331996.0, \"child_mortality\": 2.1, \"gdp\": 40958.0, \"region\": \"Europe & Central Asia\"}, {\"Country\": \"Belize\", \"Year\": 2013, \"fertility\": 2.676, \"life\": 73.882, \"population\": 330721.0, \"child_mortality\": 17.5, \"gdp\": 8215.0, \"region\": \"America\"}, {\"Country\": \"Maldives\", \"Year\": 2013, \"fertility\": 2.256, \"life\": 77.919, \"population\": 328551.0, \"child_mortality\": 9.9, \"gdp\": 13353.0, \"region\": \"South Asia\"}, {\"Country\": \"French Polynesia\", \"Year\": 2013, \"fertility\": 2.0580000000000003, \"life\": 76.257, \"population\": 279632.0, \"child_mortality\": 7.46, \"gdp\": null, \"region\": \"East Asia & Pacific\"}, {\"Country\": \"Barbados\", \"Year\": 2013, \"fertility\": 1.849, \"life\": 75.37, \"population\": 275141.0, \"child_mortality\": 13.7, \"gdp\": 12867.0, \"region\": \"America\"}, {\"Country\": \"New Caledonia\", \"Year\": 2013, \"fertility\": 2.127, \"life\": 76.306, \"population\": 262605.0, \"child_mortality\": 15.0, \"gdp\": null, \"region\": \"East Asia & Pacific\"}, {\"Country\": \"Vanuatu\", \"Year\": 2013, \"fertility\": 3.382, \"life\": 71.626, \"population\": 257812.0, \"child_mortality\": 28.4, \"gdp\": 2895.0, \"region\": \"East Asia & Pacific\"}, {\"Country\": \"French Guiana\", \"Year\": 2013, \"fertility\": 3.0580000000000003, \"life\": 77.12100000000001, \"population\": 249408.0, \"child_mortality\": 10.95, \"gdp\": null, \"region\": \"America\"}, {\"Country\": \"Mayotte\", \"Year\": 2013, \"fertility\": 3.802, \"life\": 79.19, \"population\": 223907.0, \"child_mortality\": 4.69, \"gdp\": null, \"region\": \"Sub-Saharan Africa\"}, {\"Country\": \"Netherlands Antilles\", \"Year\": 2013, \"fertility\": 1.89, \"life\": 76.89399999999999, \"population\": 205860.0, \"child_mortality\": null, \"gdp\": null, \"region\": \"America\"}, {\"Country\": \"Guam\", \"Year\": 2013, \"fertility\": 2.405, \"life\": 78.854, \"population\": 186562.0, \"child_mortality\": 11.03, \"gdp\": null, \"region\": \"East Asia & Pacific\"}, {\"Country\": \"Samoa\", \"Year\": 2013, \"fertility\": 4.147, \"life\": 73.156, \"population\": 185727.0, \"child_mortality\": 18.2, \"gdp\": 5502.0, \"region\": \"East Asia & Pacific\"}, {\"Country\": \"Saint Lucia\", \"Year\": 2013, \"fertility\": 1.912, \"life\": 74.804, \"population\": 179515.0, \"child_mortality\": null, \"gdp\": null, \"region\": \"America\"}, {\"Country\": \"Sao Tome and Principe\", \"Year\": 2013, \"fertility\": 4.075, \"life\": 66.337, \"population\": 175383.0, \"child_mortality\": 50.8, \"gdp\": 2876.0, \"region\": \"Sub-Saharan Africa\"}, {\"Country\": \"Channel Islands\", \"Year\": 2013, \"fertility\": 1.459, \"life\": 80.324, \"population\": 154432.0, \"child_mortality\": 9.13, \"gdp\": null, \"region\": \"Europe & Central Asia\"}, {\"Country\": \"Micronesia, Fed. Sts.\", \"Year\": 2013, \"fertility\": 3.294, \"life\": 68.993, \"population\": 112726.0, \"child_mortality\": 37.0, \"gdp\": 3286.0, \"region\": \"East Asia & Pacific\"}, {\"Country\": \"Saint Vincent and the Grenadines\", \"Year\": 2013, \"fertility\": 1.997, \"life\": 72.488, \"population\": 109354.0, \"child_mortality\": null, \"gdp\": null, \"region\": \"America\"}, {\"Country\": \"Aruba\", \"Year\": 2013, \"fertility\": 1.673, \"life\": 75.455, \"population\": 108883.0, \"child_mortality\": 17.03, \"gdp\": 36083.0, \"region\": \"America\"}, {\"Country\": \"Virgin Islands (U.S.)\", \"Year\": 2013, \"fertility\": 2.487, \"life\": 80.152, \"population\": 108300.0, \"child_mortality\": 10.82, \"gdp\": null, \"region\": \"America\"}, {\"Country\": \"Grenada\", \"Year\": 2013, \"fertility\": 2.17, \"life\": 72.768, \"population\": 105719.0, \"child_mortality\": 12.5, \"gdp\": 11273.0, \"region\": \"America\"}, {\"Country\": \"Tonga\", \"Year\": 2013, \"fertility\": 3.767, \"life\": 72.673, \"population\": 105265.0, \"child_mortality\": 17.3, \"gdp\": 4879.0, \"region\": \"East Asia & Pacific\"}, {\"Country\": \"Kiribati\", \"Year\": 2013, \"fertility\": 2.952, \"life\": 68.905, \"population\": 104251.0, \"child_mortality\": 58.9, \"gdp\": 1796.0, \"region\": \"East Asia & Pacific\"}, {\"Country\": \"Antigua and Barbuda\", \"Year\": 2013, \"fertility\": 2.089, \"life\": 75.954, \"population\": 91404.0, \"child_mortality\": 8.7, \"gdp\": 20353.0, \"region\": \"America\"}, {\"Country\": \"Seychelles\", \"Year\": 2013, \"fertility\": 2.18, \"life\": 73.187, \"population\": 87417.0, \"child_mortality\": 14.0, \"gdp\": 24805.0, \"region\": \"Sub-Saharan Africa\"}, {\"Country\": \"Greenland\", \"Year\": 2013, \"fertility\": 2.077, \"life\": 71.5, \"population\": 57300.0, \"child_mortality\": null, \"gdp\": 26688.0, \"region\": \"Europe & Central Asia\"}]}}, {\"mode\": \"vega-lite\"});\n",
       "</script>"
      ],
      "text/plain": [
       "alt.Chart(...)"
      ]
     },
     "execution_count": 10,
     "metadata": {},
     "output_type": "execute_result"
    }
   ],
   "source": [
    "alt.Chart(data_2013.sort_values(by=['population'], ascending=False)).mark_circle(tooltip=True).encode(\n",
    "    x=alt.X('fertility:Q',scale=alt.Scale(zero=False)),\n",
    "    y= alt.Y('life:Q', scale=alt.Scale(zero=False)),\n",
    "    size=alt.Size(\n",
    "        'population:Q',\n",
    "        scale=alt.Scale(range=[10,4000]) #la dimensione è relativa all'area (come è giusto che sia)\n",
    "        ),\n",
    "    color='region:N',\n",
    "    tooltip= ['Country','region','population'],\n",
    ").properties(\n",
    "    width=400,\n",
    "    height=400\n",
    ")"
   ]
  },
  {
   "cell_type": "markdown",
   "metadata": {},
   "source": [
    "##  increase in GDP from 1980 to 2000 "
   ]
  },
  {
   "cell_type": "markdown",
   "metadata": {},
   "source": [
    "Let's calculate the increase in GDP from 1980 to 2000 by creating a new column that we will call `'delta_perc'`"
   ]
  },
  {
   "cell_type": "code",
   "execution_count": 11,
   "metadata": {
    "ExecuteTime": {
     "end_time": "2025-04-28T10:18:49.168601Z",
     "start_time": "2025-04-28T10:18:49.155613Z"
    }
   },
   "outputs": [
    {
     "data": {
      "text/html": [
       "<div>\n",
       "<style scoped>\n",
       "    .dataframe tbody tr th:only-of-type {\n",
       "        vertical-align: middle;\n",
       "    }\n",
       "\n",
       "    .dataframe tbody tr th {\n",
       "        vertical-align: top;\n",
       "    }\n",
       "\n",
       "    .dataframe thead th {\n",
       "        text-align: right;\n",
       "    }\n",
       "</style>\n",
       "<table border=\"1\" class=\"dataframe\">\n",
       "  <thead>\n",
       "    <tr style=\"text-align: right;\">\n",
       "      <th>Year</th>\n",
       "      <th>Country</th>\n",
       "      <th>region</th>\n",
       "      <th>1980</th>\n",
       "      <th>2000</th>\n",
       "      <th>delta_perc</th>\n",
       "    </tr>\n",
       "  </thead>\n",
       "  <tbody>\n",
       "    <tr>\n",
       "      <th>0</th>\n",
       "      <td>Afghanistan</td>\n",
       "      <td>South Asia</td>\n",
       "      <td>1158.0</td>\n",
       "      <td>962.0</td>\n",
       "      <td>-16.925734</td>\n",
       "    </tr>\n",
       "    <tr>\n",
       "      <th>1</th>\n",
       "      <td>Albania</td>\n",
       "      <td>Europe &amp; Central Asia</td>\n",
       "      <td>4218.0</td>\n",
       "      <td>5305.0</td>\n",
       "      <td>25.770507</td>\n",
       "    </tr>\n",
       "    <tr>\n",
       "      <th>2</th>\n",
       "      <td>Algeria</td>\n",
       "      <td>Middle East &amp; North Africa</td>\n",
       "      <td>10166.0</td>\n",
       "      <td>9885.0</td>\n",
       "      <td>-2.764116</td>\n",
       "    </tr>\n",
       "    <tr>\n",
       "      <th>3</th>\n",
       "      <td>Angola</td>\n",
       "      <td>Sub-Saharan Africa</td>\n",
       "      <td>4443.0</td>\n",
       "      <td>3387.0</td>\n",
       "      <td>-23.767725</td>\n",
       "    </tr>\n",
       "    <tr>\n",
       "      <th>4</th>\n",
       "      <td>Antigua and Barbuda</td>\n",
       "      <td>America</td>\n",
       "      <td>8169.0</td>\n",
       "      <td>19319.0</td>\n",
       "      <td>136.491615</td>\n",
       "    </tr>\n",
       "  </tbody>\n",
       "</table>\n",
       "</div>"
      ],
      "text/plain": [
       "Year              Country                      region     1980     2000  \\\n",
       "0             Afghanistan                  South Asia   1158.0    962.0   \n",
       "1                 Albania       Europe & Central Asia   4218.0   5305.0   \n",
       "2                 Algeria  Middle East & North Africa  10166.0   9885.0   \n",
       "3                  Angola          Sub-Saharan Africa   4443.0   3387.0   \n",
       "4     Antigua and Barbuda                     America   8169.0  19319.0   \n",
       "\n",
       "Year  delta_perc  \n",
       "0     -16.925734  \n",
       "1      25.770507  \n",
       "2      -2.764116  \n",
       "3     -23.767725  \n",
       "4     136.491615  "
      ]
     },
     "execution_count": 11,
     "metadata": {},
     "output_type": "execute_result"
    }
   ],
   "source": [
    "fdata=data[data.Year.isin([1980,2000])]\n",
    "gdpData=fdata[['Country','Year','gdp','region']]\\\n",
    ".pivot(index=['Country','region'],columns='Year',values='gdp').reset_index()\n",
    "gdpData.columns=gdpData.columns.astype(str)\n",
    "gdpData['delta_perc']=((gdpData['2000']/gdpData['1980'])*100-100)\n",
    "gdpData.head()"
   ]
  },
  {
   "cell_type": "markdown",
   "metadata": {},
   "source": [
    "Here's the step-by-step explanation:\n",
    "\n",
    "gdpData['2000']/gdpData['1980'] \n",
    "1. Divides the GDP value for the year 2000 by the GDP value for the year 1980, giving the ratio between the two values. This ratio represents how many times the GDP has grown (or decreased) from 1980 to 2000.\n",
    "\n",
    "2. `*100` Multiplies the ratio by 100 to express it in percentage terms. If the GDP has doubled, this value will be 200%.\n",
    "3. `-100` Subtracts 100 to get the net percentage change. If the GDP has doubled (200%), the percentage change will be 100%.\n",
    "\n",
    "The final result delta_perc represents the percentage change in GDP between 1980 and 2000"
   ]
  },
  {
   "cell_type": "markdown",
   "metadata": {},
   "source": [
    "Simple **linear scale**"
   ]
  },
  {
   "cell_type": "code",
   "execution_count": 12,
   "metadata": {
    "ExecuteTime": {
     "end_time": "2025-04-28T10:18:49.192666Z",
     "start_time": "2025-04-28T10:18:49.187487Z"
    }
   },
   "outputs": [
    {
     "data": {
      "text/html": [
       "\n",
       "<style>\n",
       "  #altair-viz-316851eb297b418897fc0a82bfd4de52.vega-embed {\n",
       "    width: 100%;\n",
       "    display: flex;\n",
       "  }\n",
       "\n",
       "  #altair-viz-316851eb297b418897fc0a82bfd4de52.vega-embed details,\n",
       "  #altair-viz-316851eb297b418897fc0a82bfd4de52.vega-embed details summary {\n",
       "    position: relative;\n",
       "  }\n",
       "</style>\n",
       "<div id=\"altair-viz-316851eb297b418897fc0a82bfd4de52\"></div>\n",
       "<script type=\"text/javascript\">\n",
       "  var VEGA_DEBUG = (typeof VEGA_DEBUG == \"undefined\") ? {} : VEGA_DEBUG;\n",
       "  (function(spec, embedOpt){\n",
       "    let outputDiv = document.currentScript.previousElementSibling;\n",
       "    if (outputDiv.id !== \"altair-viz-316851eb297b418897fc0a82bfd4de52\") {\n",
       "      outputDiv = document.getElementById(\"altair-viz-316851eb297b418897fc0a82bfd4de52\");\n",
       "    }\n",
       "\n",
       "    const paths = {\n",
       "      \"vega\": \"https://cdn.jsdelivr.net/npm/vega@5?noext\",\n",
       "      \"vega-lib\": \"https://cdn.jsdelivr.net/npm/vega-lib?noext\",\n",
       "      \"vega-lite\": \"https://cdn.jsdelivr.net/npm/vega-lite@5.20.1?noext\",\n",
       "      \"vega-embed\": \"https://cdn.jsdelivr.net/npm/vega-embed@6?noext\",\n",
       "    };\n",
       "\n",
       "    function maybeLoadScript(lib, version) {\n",
       "      var key = `${lib.replace(\"-\", \"\")}_version`;\n",
       "      return (VEGA_DEBUG[key] == version) ?\n",
       "        Promise.resolve(paths[lib]) :\n",
       "        new Promise(function(resolve, reject) {\n",
       "          var s = document.createElement('script');\n",
       "          document.getElementsByTagName(\"head\")[0].appendChild(s);\n",
       "          s.async = true;\n",
       "          s.onload = () => {\n",
       "            VEGA_DEBUG[key] = version;\n",
       "            return resolve(paths[lib]);\n",
       "          };\n",
       "          s.onerror = () => reject(`Error loading script: ${paths[lib]}`);\n",
       "          s.src = paths[lib];\n",
       "        });\n",
       "    }\n",
       "\n",
       "    function showError(err) {\n",
       "      outputDiv.innerHTML = `<div class=\"error\" style=\"color:red;\">${err}</div>`;\n",
       "      throw err;\n",
       "    }\n",
       "\n",
       "    function displayChart(vegaEmbed) {\n",
       "      vegaEmbed(outputDiv, spec, embedOpt)\n",
       "        .catch(err => showError(`Javascript Error: ${err.message}<br>This usually means there's a typo in your chart specification. See the javascript console for the full traceback.`));\n",
       "    }\n",
       "\n",
       "    if(typeof define === \"function\" && define.amd) {\n",
       "      requirejs.config({paths});\n",
       "      let deps = [\"vega-embed\"];\n",
       "      require(deps, displayChart, err => showError(`Error loading script: ${err.message}`));\n",
       "    } else {\n",
       "      maybeLoadScript(\"vega\", \"5\")\n",
       "        .then(() => maybeLoadScript(\"vega-lite\", \"5.20.1\"))\n",
       "        .then(() => maybeLoadScript(\"vega-embed\", \"6\"))\n",
       "        .catch(showError)\n",
       "        .then(() => displayChart(vegaEmbed));\n",
       "    }\n",
       "  })({\"config\": {\"view\": {\"continuousWidth\": 300, \"continuousHeight\": 300}}, \"data\": {\"name\": \"data-521464210a750343fef5c6ffff0261e0\"}, \"mark\": {\"type\": \"rect\"}, \"encoding\": {\"color\": {\"field\": \"delta_perc\", \"scale\": {\"reverse\": true, \"scheme\": \"viridis\"}, \"type\": \"quantitative\"}, \"x\": {\"field\": \"Country\", \"sort\": {\"field\": \"delta_perc\", \"order\": \"descending\"}, \"type\": \"nominal\"}}, \"$schema\": \"https://vega.github.io/schema/vega-lite/v5.20.1.json\", \"datasets\": {\"data-521464210a750343fef5c6ffff0261e0\": [{\"Country\": \"Algeria\", \"region\": \"Middle East & North Africa\", \"1980\": 10166.0, \"2000\": 9885.0, \"delta_perc\": -2.76411567971671}, {\"Country\": \"Bahrain\", \"region\": \"Middle East & North Africa\", \"1980\": 44996.0, \"2000\": 45063.0, \"delta_perc\": 0.14890212463329533}, {\"Country\": \"Djibouti\", \"region\": \"Middle East & North Africa\", \"1980\": 3500.0, \"2000\": 2079.0, \"delta_perc\": -40.6}, {\"Country\": \"Egypt\", \"region\": \"Middle East & North Africa\", \"1980\": 4580.0, \"2000\": 7807.0, \"delta_perc\": 70.45851528384279}, {\"Country\": \"Iran\", \"region\": \"Middle East & North Africa\", \"1980\": 10366.0, \"2000\": 11719.0, \"delta_perc\": 13.052286320663711}, {\"Country\": \"Iraq\", \"region\": \"Middle East & North Africa\", \"1980\": 16614.0, \"2000\": 11764.0, \"delta_perc\": -29.192247502106667}, {\"Country\": \"Israel\", \"region\": \"Middle East & North Africa\", \"1980\": 14768.0, \"2000\": 25739.0, \"delta_perc\": 74.28900325027087}, {\"Country\": \"Jordan\", \"region\": \"Middle East & North Africa\", \"1980\": 8357.0, \"2000\": 7695.0, \"delta_perc\": -7.921502931674041}, {\"Country\": \"Kuwait\", \"region\": \"Middle East & North Africa\", \"1980\": 108146.0, \"2000\": 75219.0, \"delta_perc\": -30.4468033954099}, {\"Country\": \"Lebanon\", \"region\": \"Middle East & North Africa\", \"1980\": 9098.0, \"2000\": 12335.0, \"delta_perc\": 35.57924818641459}, {\"Country\": \"Libya\", \"region\": \"Middle East & North Africa\", \"1980\": 59420.0, \"2000\": 22682.0, \"delta_perc\": -61.82766745203635}, {\"Country\": \"Morocco\", \"region\": \"Middle East & North Africa\", \"1980\": 3402.0, \"2000\": 4430.0, \"delta_perc\": 30.21751910640799}, {\"Country\": \"Oman\", \"region\": \"Middle East & North Africa\", \"1980\": 21463.0, \"2000\": 45472.0, \"delta_perc\": 111.86227461212317}, {\"Country\": \"Qatar\", \"region\": \"Middle East & North Africa\", \"1980\": 134862.0, \"2000\": 112238.0, \"delta_perc\": -16.775666978096126}, {\"Country\": \"Saudi Arabia\", \"region\": \"Middle East & North Africa\", \"1980\": 72465.0, \"2000\": 37531.0, \"delta_perc\": -48.20810046229214}, {\"Country\": \"Syria\", \"region\": \"Middle East & North Africa\", \"1980\": 4777.0, \"2000\": 5188.0, \"delta_perc\": 8.60372618798408}, {\"Country\": \"Tunisia\", \"region\": \"Middle East & North Africa\", \"1980\": 4837.0, \"2000\": 7464.0, \"delta_perc\": 54.310523051478185}, {\"Country\": \"United Arab Emirates\", \"region\": \"Middle East & North Africa\", \"1980\": 182668.0, \"2000\": 108048.0, \"delta_perc\": -40.85006678783366}, {\"Country\": \"West Bank and Gaza\", \"region\": \"Middle East & North Africa\", \"1980\": 2414.0, \"2000\": 4206.0, \"delta_perc\": 74.23363711681856}, {\"Country\": \"Western Sahara\", \"region\": \"Middle East & North Africa\", \"1980\": null, \"2000\": null, \"delta_perc\": null}, {\"Country\": \"Yemen, Rep.\", \"region\": \"Middle East & North Africa\", \"1980\": null, \"2000\": null, \"delta_perc\": null}]}}, {\"mode\": \"vega-lite\"});\n",
       "</script>"
      ],
      "text/plain": [
       "alt.Chart(...)"
      ]
     },
     "execution_count": 12,
     "metadata": {},
     "output_type": "execute_result"
    }
   ],
   "source": [
    "alt.Chart(gdpData[gdpData['region']=='Middle East & North Africa']).mark_rect().encode(\n",
    "    x=alt.X('Country:N' , sort=alt.EncodingSortField(field=\"delta_perc\", order='descending')),\n",
    "    color=alt.Color('delta_perc:Q',scale=alt.Scale(\n",
    "            scheme='viridis',\n",
    "            reverse=True\n",
    "            )\n",
    "    )\n",
    "\n",
    ")"
   ]
  },
  {
   "cell_type": "markdown",
   "metadata": {},
   "source": [
    "**Quantize scale**: it is similar to the linear scale, but the values ​​are discretized (with bins of homogeneous size), the `nice` attribute rounds the value of the thresholds."
   ]
  },
  {
   "cell_type": "code",
   "execution_count": 13,
   "metadata": {
    "ExecuteTime": {
     "end_time": "2025-04-28T10:18:49.232267Z",
     "start_time": "2025-04-28T10:18:49.227080Z"
    }
   },
   "outputs": [
    {
     "data": {
      "text/html": [
       "\n",
       "<style>\n",
       "  #altair-viz-3fd53b3adaf64272a6a3a35c88a73169.vega-embed {\n",
       "    width: 100%;\n",
       "    display: flex;\n",
       "  }\n",
       "\n",
       "  #altair-viz-3fd53b3adaf64272a6a3a35c88a73169.vega-embed details,\n",
       "  #altair-viz-3fd53b3adaf64272a6a3a35c88a73169.vega-embed details summary {\n",
       "    position: relative;\n",
       "  }\n",
       "</style>\n",
       "<div id=\"altair-viz-3fd53b3adaf64272a6a3a35c88a73169\"></div>\n",
       "<script type=\"text/javascript\">\n",
       "  var VEGA_DEBUG = (typeof VEGA_DEBUG == \"undefined\") ? {} : VEGA_DEBUG;\n",
       "  (function(spec, embedOpt){\n",
       "    let outputDiv = document.currentScript.previousElementSibling;\n",
       "    if (outputDiv.id !== \"altair-viz-3fd53b3adaf64272a6a3a35c88a73169\") {\n",
       "      outputDiv = document.getElementById(\"altair-viz-3fd53b3adaf64272a6a3a35c88a73169\");\n",
       "    }\n",
       "\n",
       "    const paths = {\n",
       "      \"vega\": \"https://cdn.jsdelivr.net/npm/vega@5?noext\",\n",
       "      \"vega-lib\": \"https://cdn.jsdelivr.net/npm/vega-lib?noext\",\n",
       "      \"vega-lite\": \"https://cdn.jsdelivr.net/npm/vega-lite@5.20.1?noext\",\n",
       "      \"vega-embed\": \"https://cdn.jsdelivr.net/npm/vega-embed@6?noext\",\n",
       "    };\n",
       "\n",
       "    function maybeLoadScript(lib, version) {\n",
       "      var key = `${lib.replace(\"-\", \"\")}_version`;\n",
       "      return (VEGA_DEBUG[key] == version) ?\n",
       "        Promise.resolve(paths[lib]) :\n",
       "        new Promise(function(resolve, reject) {\n",
       "          var s = document.createElement('script');\n",
       "          document.getElementsByTagName(\"head\")[0].appendChild(s);\n",
       "          s.async = true;\n",
       "          s.onload = () => {\n",
       "            VEGA_DEBUG[key] = version;\n",
       "            return resolve(paths[lib]);\n",
       "          };\n",
       "          s.onerror = () => reject(`Error loading script: ${paths[lib]}`);\n",
       "          s.src = paths[lib];\n",
       "        });\n",
       "    }\n",
       "\n",
       "    function showError(err) {\n",
       "      outputDiv.innerHTML = `<div class=\"error\" style=\"color:red;\">${err}</div>`;\n",
       "      throw err;\n",
       "    }\n",
       "\n",
       "    function displayChart(vegaEmbed) {\n",
       "      vegaEmbed(outputDiv, spec, embedOpt)\n",
       "        .catch(err => showError(`Javascript Error: ${err.message}<br>This usually means there's a typo in your chart specification. See the javascript console for the full traceback.`));\n",
       "    }\n",
       "\n",
       "    if(typeof define === \"function\" && define.amd) {\n",
       "      requirejs.config({paths});\n",
       "      let deps = [\"vega-embed\"];\n",
       "      require(deps, displayChart, err => showError(`Error loading script: ${err.message}`));\n",
       "    } else {\n",
       "      maybeLoadScript(\"vega\", \"5\")\n",
       "        .then(() => maybeLoadScript(\"vega-lite\", \"5.20.1\"))\n",
       "        .then(() => maybeLoadScript(\"vega-embed\", \"6\"))\n",
       "        .catch(showError)\n",
       "        .then(() => displayChart(vegaEmbed));\n",
       "    }\n",
       "  })({\"config\": {\"view\": {\"continuousWidth\": 300, \"continuousHeight\": 300}}, \"data\": {\"name\": \"data-521464210a750343fef5c6ffff0261e0\"}, \"mark\": {\"type\": \"rect\"}, \"encoding\": {\"color\": {\"field\": \"delta_perc\", \"scale\": {\"nice\": true, \"reverse\": true, \"scheme\": \"viridis\", \"type\": \"quantize\"}, \"type\": \"quantitative\"}, \"x\": {\"field\": \"Country\", \"sort\": {\"field\": \"delta_perc\", \"order\": \"descending\"}, \"type\": \"nominal\"}}, \"$schema\": \"https://vega.github.io/schema/vega-lite/v5.20.1.json\", \"datasets\": {\"data-521464210a750343fef5c6ffff0261e0\": [{\"Country\": \"Algeria\", \"region\": \"Middle East & North Africa\", \"1980\": 10166.0, \"2000\": 9885.0, \"delta_perc\": -2.76411567971671}, {\"Country\": \"Bahrain\", \"region\": \"Middle East & North Africa\", \"1980\": 44996.0, \"2000\": 45063.0, \"delta_perc\": 0.14890212463329533}, {\"Country\": \"Djibouti\", \"region\": \"Middle East & North Africa\", \"1980\": 3500.0, \"2000\": 2079.0, \"delta_perc\": -40.6}, {\"Country\": \"Egypt\", \"region\": \"Middle East & North Africa\", \"1980\": 4580.0, \"2000\": 7807.0, \"delta_perc\": 70.45851528384279}, {\"Country\": \"Iran\", \"region\": \"Middle East & North Africa\", \"1980\": 10366.0, \"2000\": 11719.0, \"delta_perc\": 13.052286320663711}, {\"Country\": \"Iraq\", \"region\": \"Middle East & North Africa\", \"1980\": 16614.0, \"2000\": 11764.0, \"delta_perc\": -29.192247502106667}, {\"Country\": \"Israel\", \"region\": \"Middle East & North Africa\", \"1980\": 14768.0, \"2000\": 25739.0, \"delta_perc\": 74.28900325027087}, {\"Country\": \"Jordan\", \"region\": \"Middle East & North Africa\", \"1980\": 8357.0, \"2000\": 7695.0, \"delta_perc\": -7.921502931674041}, {\"Country\": \"Kuwait\", \"region\": \"Middle East & North Africa\", \"1980\": 108146.0, \"2000\": 75219.0, \"delta_perc\": -30.4468033954099}, {\"Country\": \"Lebanon\", \"region\": \"Middle East & North Africa\", \"1980\": 9098.0, \"2000\": 12335.0, \"delta_perc\": 35.57924818641459}, {\"Country\": \"Libya\", \"region\": \"Middle East & North Africa\", \"1980\": 59420.0, \"2000\": 22682.0, \"delta_perc\": -61.82766745203635}, {\"Country\": \"Morocco\", \"region\": \"Middle East & North Africa\", \"1980\": 3402.0, \"2000\": 4430.0, \"delta_perc\": 30.21751910640799}, {\"Country\": \"Oman\", \"region\": \"Middle East & North Africa\", \"1980\": 21463.0, \"2000\": 45472.0, \"delta_perc\": 111.86227461212317}, {\"Country\": \"Qatar\", \"region\": \"Middle East & North Africa\", \"1980\": 134862.0, \"2000\": 112238.0, \"delta_perc\": -16.775666978096126}, {\"Country\": \"Saudi Arabia\", \"region\": \"Middle East & North Africa\", \"1980\": 72465.0, \"2000\": 37531.0, \"delta_perc\": -48.20810046229214}, {\"Country\": \"Syria\", \"region\": \"Middle East & North Africa\", \"1980\": 4777.0, \"2000\": 5188.0, \"delta_perc\": 8.60372618798408}, {\"Country\": \"Tunisia\", \"region\": \"Middle East & North Africa\", \"1980\": 4837.0, \"2000\": 7464.0, \"delta_perc\": 54.310523051478185}, {\"Country\": \"United Arab Emirates\", \"region\": \"Middle East & North Africa\", \"1980\": 182668.0, \"2000\": 108048.0, \"delta_perc\": -40.85006678783366}, {\"Country\": \"West Bank and Gaza\", \"region\": \"Middle East & North Africa\", \"1980\": 2414.0, \"2000\": 4206.0, \"delta_perc\": 74.23363711681856}, {\"Country\": \"Western Sahara\", \"region\": \"Middle East & North Africa\", \"1980\": null, \"2000\": null, \"delta_perc\": null}, {\"Country\": \"Yemen, Rep.\", \"region\": \"Middle East & North Africa\", \"1980\": null, \"2000\": null, \"delta_perc\": null}]}}, {\"mode\": \"vega-lite\"});\n",
       "</script>"
      ],
      "text/plain": [
       "alt.Chart(...)"
      ]
     },
     "execution_count": 13,
     "metadata": {},
     "output_type": "execute_result"
    }
   ],
   "source": [
    "alt.Chart(gdpData[gdpData['region']=='Middle East & North Africa']).mark_rect().encode(\n",
    "    x=alt.X('Country:N' , sort=alt.EncodingSortField(field=\"delta_perc\", order='descending')),\n",
    "    color=alt.Color('delta_perc:Q',scale=alt.Scale(\n",
    "            scheme='viridis',\n",
    "            reverse=True,\n",
    "            type='quantize',\n",
    "            nice=True\n",
    "            )\n",
    "    )\n",
    "\n",
    ")"
   ]
  },
  {
   "cell_type": "markdown",
   "metadata": {},
   "source": [
    "**Scale: Quantile**. `Quantile` scales map a sample of values ​​from the input domain to a discrete interval based on the bounds of the computed quantiles. If the interval is not specified, the domain will be segmented into 4 quantiles (quartiles) by default."
   ]
  },
  {
   "cell_type": "code",
   "execution_count": 14,
   "metadata": {
    "ExecuteTime": {
     "end_time": "2025-04-28T10:18:49.281170Z",
     "start_time": "2025-04-28T10:18:49.275988Z"
    }
   },
   "outputs": [
    {
     "data": {
      "text/html": [
       "\n",
       "<style>\n",
       "  #altair-viz-12d375e0b08b473dab753aebb9f80221.vega-embed {\n",
       "    width: 100%;\n",
       "    display: flex;\n",
       "  }\n",
       "\n",
       "  #altair-viz-12d375e0b08b473dab753aebb9f80221.vega-embed details,\n",
       "  #altair-viz-12d375e0b08b473dab753aebb9f80221.vega-embed details summary {\n",
       "    position: relative;\n",
       "  }\n",
       "</style>\n",
       "<div id=\"altair-viz-12d375e0b08b473dab753aebb9f80221\"></div>\n",
       "<script type=\"text/javascript\">\n",
       "  var VEGA_DEBUG = (typeof VEGA_DEBUG == \"undefined\") ? {} : VEGA_DEBUG;\n",
       "  (function(spec, embedOpt){\n",
       "    let outputDiv = document.currentScript.previousElementSibling;\n",
       "    if (outputDiv.id !== \"altair-viz-12d375e0b08b473dab753aebb9f80221\") {\n",
       "      outputDiv = document.getElementById(\"altair-viz-12d375e0b08b473dab753aebb9f80221\");\n",
       "    }\n",
       "\n",
       "    const paths = {\n",
       "      \"vega\": \"https://cdn.jsdelivr.net/npm/vega@5?noext\",\n",
       "      \"vega-lib\": \"https://cdn.jsdelivr.net/npm/vega-lib?noext\",\n",
       "      \"vega-lite\": \"https://cdn.jsdelivr.net/npm/vega-lite@5.20.1?noext\",\n",
       "      \"vega-embed\": \"https://cdn.jsdelivr.net/npm/vega-embed@6?noext\",\n",
       "    };\n",
       "\n",
       "    function maybeLoadScript(lib, version) {\n",
       "      var key = `${lib.replace(\"-\", \"\")}_version`;\n",
       "      return (VEGA_DEBUG[key] == version) ?\n",
       "        Promise.resolve(paths[lib]) :\n",
       "        new Promise(function(resolve, reject) {\n",
       "          var s = document.createElement('script');\n",
       "          document.getElementsByTagName(\"head\")[0].appendChild(s);\n",
       "          s.async = true;\n",
       "          s.onload = () => {\n",
       "            VEGA_DEBUG[key] = version;\n",
       "            return resolve(paths[lib]);\n",
       "          };\n",
       "          s.onerror = () => reject(`Error loading script: ${paths[lib]}`);\n",
       "          s.src = paths[lib];\n",
       "        });\n",
       "    }\n",
       "\n",
       "    function showError(err) {\n",
       "      outputDiv.innerHTML = `<div class=\"error\" style=\"color:red;\">${err}</div>`;\n",
       "      throw err;\n",
       "    }\n",
       "\n",
       "    function displayChart(vegaEmbed) {\n",
       "      vegaEmbed(outputDiv, spec, embedOpt)\n",
       "        .catch(err => showError(`Javascript Error: ${err.message}<br>This usually means there's a typo in your chart specification. See the javascript console for the full traceback.`));\n",
       "    }\n",
       "\n",
       "    if(typeof define === \"function\" && define.amd) {\n",
       "      requirejs.config({paths});\n",
       "      let deps = [\"vega-embed\"];\n",
       "      require(deps, displayChart, err => showError(`Error loading script: ${err.message}`));\n",
       "    } else {\n",
       "      maybeLoadScript(\"vega\", \"5\")\n",
       "        .then(() => maybeLoadScript(\"vega-lite\", \"5.20.1\"))\n",
       "        .then(() => maybeLoadScript(\"vega-embed\", \"6\"))\n",
       "        .catch(showError)\n",
       "        .then(() => displayChart(vegaEmbed));\n",
       "    }\n",
       "  })({\"config\": {\"view\": {\"continuousWidth\": 300, \"continuousHeight\": 300}}, \"data\": {\"name\": \"data-521464210a750343fef5c6ffff0261e0\"}, \"mark\": {\"type\": \"rect\"}, \"encoding\": {\"color\": {\"field\": \"delta_perc\", \"scale\": {\"reverse\": true, \"scheme\": \"viridis\", \"type\": \"quantile\"}, \"type\": \"quantitative\"}, \"x\": {\"field\": \"Country\", \"sort\": {\"field\": \"delta_perc\", \"order\": \"descending\"}, \"type\": \"nominal\"}}, \"$schema\": \"https://vega.github.io/schema/vega-lite/v5.20.1.json\", \"datasets\": {\"data-521464210a750343fef5c6ffff0261e0\": [{\"Country\": \"Algeria\", \"region\": \"Middle East & North Africa\", \"1980\": 10166.0, \"2000\": 9885.0, \"delta_perc\": -2.76411567971671}, {\"Country\": \"Bahrain\", \"region\": \"Middle East & North Africa\", \"1980\": 44996.0, \"2000\": 45063.0, \"delta_perc\": 0.14890212463329533}, {\"Country\": \"Djibouti\", \"region\": \"Middle East & North Africa\", \"1980\": 3500.0, \"2000\": 2079.0, \"delta_perc\": -40.6}, {\"Country\": \"Egypt\", \"region\": \"Middle East & North Africa\", \"1980\": 4580.0, \"2000\": 7807.0, \"delta_perc\": 70.45851528384279}, {\"Country\": \"Iran\", \"region\": \"Middle East & North Africa\", \"1980\": 10366.0, \"2000\": 11719.0, \"delta_perc\": 13.052286320663711}, {\"Country\": \"Iraq\", \"region\": \"Middle East & North Africa\", \"1980\": 16614.0, \"2000\": 11764.0, \"delta_perc\": -29.192247502106667}, {\"Country\": \"Israel\", \"region\": \"Middle East & North Africa\", \"1980\": 14768.0, \"2000\": 25739.0, \"delta_perc\": 74.28900325027087}, {\"Country\": \"Jordan\", \"region\": \"Middle East & North Africa\", \"1980\": 8357.0, \"2000\": 7695.0, \"delta_perc\": -7.921502931674041}, {\"Country\": \"Kuwait\", \"region\": \"Middle East & North Africa\", \"1980\": 108146.0, \"2000\": 75219.0, \"delta_perc\": -30.4468033954099}, {\"Country\": \"Lebanon\", \"region\": \"Middle East & North Africa\", \"1980\": 9098.0, \"2000\": 12335.0, \"delta_perc\": 35.57924818641459}, {\"Country\": \"Libya\", \"region\": \"Middle East & North Africa\", \"1980\": 59420.0, \"2000\": 22682.0, \"delta_perc\": -61.82766745203635}, {\"Country\": \"Morocco\", \"region\": \"Middle East & North Africa\", \"1980\": 3402.0, \"2000\": 4430.0, \"delta_perc\": 30.21751910640799}, {\"Country\": \"Oman\", \"region\": \"Middle East & North Africa\", \"1980\": 21463.0, \"2000\": 45472.0, \"delta_perc\": 111.86227461212317}, {\"Country\": \"Qatar\", \"region\": \"Middle East & North Africa\", \"1980\": 134862.0, \"2000\": 112238.0, \"delta_perc\": -16.775666978096126}, {\"Country\": \"Saudi Arabia\", \"region\": \"Middle East & North Africa\", \"1980\": 72465.0, \"2000\": 37531.0, \"delta_perc\": -48.20810046229214}, {\"Country\": \"Syria\", \"region\": \"Middle East & North Africa\", \"1980\": 4777.0, \"2000\": 5188.0, \"delta_perc\": 8.60372618798408}, {\"Country\": \"Tunisia\", \"region\": \"Middle East & North Africa\", \"1980\": 4837.0, \"2000\": 7464.0, \"delta_perc\": 54.310523051478185}, {\"Country\": \"United Arab Emirates\", \"region\": \"Middle East & North Africa\", \"1980\": 182668.0, \"2000\": 108048.0, \"delta_perc\": -40.85006678783366}, {\"Country\": \"West Bank and Gaza\", \"region\": \"Middle East & North Africa\", \"1980\": 2414.0, \"2000\": 4206.0, \"delta_perc\": 74.23363711681856}, {\"Country\": \"Western Sahara\", \"region\": \"Middle East & North Africa\", \"1980\": null, \"2000\": null, \"delta_perc\": null}, {\"Country\": \"Yemen, Rep.\", \"region\": \"Middle East & North Africa\", \"1980\": null, \"2000\": null, \"delta_perc\": null}]}}, {\"mode\": \"vega-lite\"});\n",
       "</script>"
      ],
      "text/plain": [
       "alt.Chart(...)"
      ]
     },
     "execution_count": 14,
     "metadata": {},
     "output_type": "execute_result"
    }
   ],
   "source": [
    "alt.Chart(gdpData[gdpData['region']=='Middle East & North Africa']).mark_rect().encode(\n",
    "    x=alt.X('Country:N' , sort=alt.EncodingSortField(field=\"delta_perc\", order='descending')),\n",
    "    color=alt.Color('delta_perc:Q',scale=alt.Scale(\n",
    "            scheme='viridis',\n",
    "            reverse=True,\n",
    "            type='quantile'\n",
    "            )\n",
    "    )\n",
    "\n",
    ")"
   ]
  },
  {
   "cell_type": "code",
   "execution_count": 15,
   "metadata": {
    "ExecuteTime": {
     "end_time": "2025-04-28T10:18:49.303358Z",
     "start_time": "2025-04-28T10:18:49.297327Z"
    }
   },
   "outputs": [
    {
     "data": {
      "text/html": [
       "\n",
       "<style>\n",
       "  #altair-viz-c7f5340854a04ddc9ce47936dcc4a6b5.vega-embed {\n",
       "    width: 100%;\n",
       "    display: flex;\n",
       "  }\n",
       "\n",
       "  #altair-viz-c7f5340854a04ddc9ce47936dcc4a6b5.vega-embed details,\n",
       "  #altair-viz-c7f5340854a04ddc9ce47936dcc4a6b5.vega-embed details summary {\n",
       "    position: relative;\n",
       "  }\n",
       "</style>\n",
       "<div id=\"altair-viz-c7f5340854a04ddc9ce47936dcc4a6b5\"></div>\n",
       "<script type=\"text/javascript\">\n",
       "  var VEGA_DEBUG = (typeof VEGA_DEBUG == \"undefined\") ? {} : VEGA_DEBUG;\n",
       "  (function(spec, embedOpt){\n",
       "    let outputDiv = document.currentScript.previousElementSibling;\n",
       "    if (outputDiv.id !== \"altair-viz-c7f5340854a04ddc9ce47936dcc4a6b5\") {\n",
       "      outputDiv = document.getElementById(\"altair-viz-c7f5340854a04ddc9ce47936dcc4a6b5\");\n",
       "    }\n",
       "\n",
       "    const paths = {\n",
       "      \"vega\": \"https://cdn.jsdelivr.net/npm/vega@5?noext\",\n",
       "      \"vega-lib\": \"https://cdn.jsdelivr.net/npm/vega-lib?noext\",\n",
       "      \"vega-lite\": \"https://cdn.jsdelivr.net/npm/vega-lite@5.20.1?noext\",\n",
       "      \"vega-embed\": \"https://cdn.jsdelivr.net/npm/vega-embed@6?noext\",\n",
       "    };\n",
       "\n",
       "    function maybeLoadScript(lib, version) {\n",
       "      var key = `${lib.replace(\"-\", \"\")}_version`;\n",
       "      return (VEGA_DEBUG[key] == version) ?\n",
       "        Promise.resolve(paths[lib]) :\n",
       "        new Promise(function(resolve, reject) {\n",
       "          var s = document.createElement('script');\n",
       "          document.getElementsByTagName(\"head\")[0].appendChild(s);\n",
       "          s.async = true;\n",
       "          s.onload = () => {\n",
       "            VEGA_DEBUG[key] = version;\n",
       "            return resolve(paths[lib]);\n",
       "          };\n",
       "          s.onerror = () => reject(`Error loading script: ${paths[lib]}`);\n",
       "          s.src = paths[lib];\n",
       "        });\n",
       "    }\n",
       "\n",
       "    function showError(err) {\n",
       "      outputDiv.innerHTML = `<div class=\"error\" style=\"color:red;\">${err}</div>`;\n",
       "      throw err;\n",
       "    }\n",
       "\n",
       "    function displayChart(vegaEmbed) {\n",
       "      vegaEmbed(outputDiv, spec, embedOpt)\n",
       "        .catch(err => showError(`Javascript Error: ${err.message}<br>This usually means there's a typo in your chart specification. See the javascript console for the full traceback.`));\n",
       "    }\n",
       "\n",
       "    if(typeof define === \"function\" && define.amd) {\n",
       "      requirejs.config({paths});\n",
       "      let deps = [\"vega-embed\"];\n",
       "      require(deps, displayChart, err => showError(`Error loading script: ${err.message}`));\n",
       "    } else {\n",
       "      maybeLoadScript(\"vega\", \"5\")\n",
       "        .then(() => maybeLoadScript(\"vega-lite\", \"5.20.1\"))\n",
       "        .then(() => maybeLoadScript(\"vega-embed\", \"6\"))\n",
       "        .catch(showError)\n",
       "        .then(() => displayChart(vegaEmbed));\n",
       "    }\n",
       "  })({\"config\": {\"view\": {\"continuousWidth\": 300, \"continuousHeight\": 300}}, \"data\": {\"name\": \"data-521464210a750343fef5c6ffff0261e0\"}, \"mark\": {\"type\": \"rect\"}, \"encoding\": {\"color\": {\"field\": \"delta_perc\", \"scale\": {\"domain\": [-20, 0, 20, 50, 80], \"reverse\": true, \"scheme\": \"viridis\", \"type\": \"threshold\"}, \"type\": \"quantitative\"}, \"x\": {\"field\": \"Country\", \"sort\": {\"field\": \"delta_perc\", \"order\": \"descending\"}, \"type\": \"nominal\"}}, \"$schema\": \"https://vega.github.io/schema/vega-lite/v5.20.1.json\", \"datasets\": {\"data-521464210a750343fef5c6ffff0261e0\": [{\"Country\": \"Algeria\", \"region\": \"Middle East & North Africa\", \"1980\": 10166.0, \"2000\": 9885.0, \"delta_perc\": -2.76411567971671}, {\"Country\": \"Bahrain\", \"region\": \"Middle East & North Africa\", \"1980\": 44996.0, \"2000\": 45063.0, \"delta_perc\": 0.14890212463329533}, {\"Country\": \"Djibouti\", \"region\": \"Middle East & North Africa\", \"1980\": 3500.0, \"2000\": 2079.0, \"delta_perc\": -40.6}, {\"Country\": \"Egypt\", \"region\": \"Middle East & North Africa\", \"1980\": 4580.0, \"2000\": 7807.0, \"delta_perc\": 70.45851528384279}, {\"Country\": \"Iran\", \"region\": \"Middle East & North Africa\", \"1980\": 10366.0, \"2000\": 11719.0, \"delta_perc\": 13.052286320663711}, {\"Country\": \"Iraq\", \"region\": \"Middle East & North Africa\", \"1980\": 16614.0, \"2000\": 11764.0, \"delta_perc\": -29.192247502106667}, {\"Country\": \"Israel\", \"region\": \"Middle East & North Africa\", \"1980\": 14768.0, \"2000\": 25739.0, \"delta_perc\": 74.28900325027087}, {\"Country\": \"Jordan\", \"region\": \"Middle East & North Africa\", \"1980\": 8357.0, \"2000\": 7695.0, \"delta_perc\": -7.921502931674041}, {\"Country\": \"Kuwait\", \"region\": \"Middle East & North Africa\", \"1980\": 108146.0, \"2000\": 75219.0, \"delta_perc\": -30.4468033954099}, {\"Country\": \"Lebanon\", \"region\": \"Middle East & North Africa\", \"1980\": 9098.0, \"2000\": 12335.0, \"delta_perc\": 35.57924818641459}, {\"Country\": \"Libya\", \"region\": \"Middle East & North Africa\", \"1980\": 59420.0, \"2000\": 22682.0, \"delta_perc\": -61.82766745203635}, {\"Country\": \"Morocco\", \"region\": \"Middle East & North Africa\", \"1980\": 3402.0, \"2000\": 4430.0, \"delta_perc\": 30.21751910640799}, {\"Country\": \"Oman\", \"region\": \"Middle East & North Africa\", \"1980\": 21463.0, \"2000\": 45472.0, \"delta_perc\": 111.86227461212317}, {\"Country\": \"Qatar\", \"region\": \"Middle East & North Africa\", \"1980\": 134862.0, \"2000\": 112238.0, \"delta_perc\": -16.775666978096126}, {\"Country\": \"Saudi Arabia\", \"region\": \"Middle East & North Africa\", \"1980\": 72465.0, \"2000\": 37531.0, \"delta_perc\": -48.20810046229214}, {\"Country\": \"Syria\", \"region\": \"Middle East & North Africa\", \"1980\": 4777.0, \"2000\": 5188.0, \"delta_perc\": 8.60372618798408}, {\"Country\": \"Tunisia\", \"region\": \"Middle East & North Africa\", \"1980\": 4837.0, \"2000\": 7464.0, \"delta_perc\": 54.310523051478185}, {\"Country\": \"United Arab Emirates\", \"region\": \"Middle East & North Africa\", \"1980\": 182668.0, \"2000\": 108048.0, \"delta_perc\": -40.85006678783366}, {\"Country\": \"West Bank and Gaza\", \"region\": \"Middle East & North Africa\", \"1980\": 2414.0, \"2000\": 4206.0, \"delta_perc\": 74.23363711681856}, {\"Country\": \"Western Sahara\", \"region\": \"Middle East & North Africa\", \"1980\": null, \"2000\": null, \"delta_perc\": null}, {\"Country\": \"Yemen, Rep.\", \"region\": \"Middle East & North Africa\", \"1980\": null, \"2000\": null, \"delta_perc\": null}]}}, {\"mode\": \"vega-lite\"});\n",
       "</script>"
      ],
      "text/plain": [
       "alt.Chart(...)"
      ]
     },
     "execution_count": 15,
     "metadata": {},
     "output_type": "execute_result"
    }
   ],
   "source": [
    "\n",
    "alt.Chart(gdpData[gdpData['region']=='Middle East & North Africa']).mark_rect().encode(\n",
    "    x=alt.X('Country:N' , sort=alt.EncodingSortField(field=\"delta_perc\", order='descending')),\n",
    "    color=alt.Color('delta_perc:Q',scale=alt.Scale(\n",
    "            scheme='viridis',\n",
    "            reverse=True,\n",
    "            type='threshold',\n",
    "            domain= [-20,0,20,50,80]\n",
    "            )\n",
    "    )\n",
    "\n",
    ")"
   ]
  },
  {
   "cell_type": "markdown",
   "metadata": {},
   "source": [
    "### Divergent Quantitative Scales"
   ]
  },
  {
   "cell_type": "code",
   "execution_count": 16,
   "metadata": {
    "ExecuteTime": {
     "end_time": "2025-04-28T10:18:49.316743Z",
     "start_time": "2025-04-28T10:18:49.311061Z"
    }
   },
   "outputs": [
    {
     "data": {
      "text/html": [
       "<div>\n",
       "<style scoped>\n",
       "    .dataframe tbody tr th:only-of-type {\n",
       "        vertical-align: middle;\n",
       "    }\n",
       "\n",
       "    .dataframe tbody tr th {\n",
       "        vertical-align: top;\n",
       "    }\n",
       "\n",
       "    .dataframe thead th {\n",
       "        text-align: right;\n",
       "    }\n",
       "</style>\n",
       "<table border=\"1\" class=\"dataframe\">\n",
       "  <thead>\n",
       "    <tr style=\"text-align: right;\">\n",
       "      <th>Year</th>\n",
       "      <th>Country</th>\n",
       "      <th>region</th>\n",
       "      <th>1980</th>\n",
       "      <th>2000</th>\n",
       "      <th>delta_perc</th>\n",
       "    </tr>\n",
       "  </thead>\n",
       "  <tbody>\n",
       "    <tr>\n",
       "      <th>0</th>\n",
       "      <td>Afghanistan</td>\n",
       "      <td>South Asia</td>\n",
       "      <td>1158.0</td>\n",
       "      <td>962.0</td>\n",
       "      <td>-16.925734</td>\n",
       "    </tr>\n",
       "    <tr>\n",
       "      <th>1</th>\n",
       "      <td>Albania</td>\n",
       "      <td>Europe &amp; Central Asia</td>\n",
       "      <td>4218.0</td>\n",
       "      <td>5305.0</td>\n",
       "      <td>25.770507</td>\n",
       "    </tr>\n",
       "    <tr>\n",
       "      <th>2</th>\n",
       "      <td>Algeria</td>\n",
       "      <td>Middle East &amp; North Africa</td>\n",
       "      <td>10166.0</td>\n",
       "      <td>9885.0</td>\n",
       "      <td>-2.764116</td>\n",
       "    </tr>\n",
       "    <tr>\n",
       "      <th>3</th>\n",
       "      <td>Angola</td>\n",
       "      <td>Sub-Saharan Africa</td>\n",
       "      <td>4443.0</td>\n",
       "      <td>3387.0</td>\n",
       "      <td>-23.767725</td>\n",
       "    </tr>\n",
       "    <tr>\n",
       "      <th>4</th>\n",
       "      <td>Antigua and Barbuda</td>\n",
       "      <td>America</td>\n",
       "      <td>8169.0</td>\n",
       "      <td>19319.0</td>\n",
       "      <td>136.491615</td>\n",
       "    </tr>\n",
       "  </tbody>\n",
       "</table>\n",
       "</div>"
      ],
      "text/plain": [
       "Year              Country                      region     1980     2000  \\\n",
       "0             Afghanistan                  South Asia   1158.0    962.0   \n",
       "1                 Albania       Europe & Central Asia   4218.0   5305.0   \n",
       "2                 Algeria  Middle East & North Africa  10166.0   9885.0   \n",
       "3                  Angola          Sub-Saharan Africa   4443.0   3387.0   \n",
       "4     Antigua and Barbuda                     America   8169.0  19319.0   \n",
       "\n",
       "Year  delta_perc  \n",
       "0     -16.925734  \n",
       "1      25.770507  \n",
       "2      -2.764116  \n",
       "3     -23.767725  \n",
       "4     136.491615  "
      ]
     },
     "execution_count": 16,
     "metadata": {},
     "output_type": "execute_result"
    }
   ],
   "source": [
    "fdata=data[data.Year.isin([1980,2000])]\n",
    "gdpData=fdata[['Country','Year','gdp','region']]\\\n",
    ".pivot(index=['Country','region'],columns='Year',values='gdp').reset_index()\n",
    "gdpData.columns=gdpData.columns.astype(str)\n",
    "gdpData['delta_perc']=((gdpData['2000']/gdpData['1980'])*100-100)\n",
    "gdpData.head()"
   ]
  },
  {
   "cell_type": "code",
   "execution_count": 17,
   "metadata": {
    "ExecuteTime": {
     "end_time": "2025-04-28T10:18:49.341810Z",
     "start_time": "2025-04-28T10:18:49.335170Z"
    },
    "colab": {
     "base_uri": "https://localhost:8080/",
     "height": 454
    },
    "id": "3hdpTxQWntey",
    "outputId": "02a864b4-b607-4e07-8336-7accb2a8899e"
   },
   "outputs": [
    {
     "data": {
      "text/html": [
       "\n",
       "<style>\n",
       "  #altair-viz-ea29cebb89424d8888a13a4cfd0edb51.vega-embed {\n",
       "    width: 100%;\n",
       "    display: flex;\n",
       "  }\n",
       "\n",
       "  #altair-viz-ea29cebb89424d8888a13a4cfd0edb51.vega-embed details,\n",
       "  #altair-viz-ea29cebb89424d8888a13a4cfd0edb51.vega-embed details summary {\n",
       "    position: relative;\n",
       "  }\n",
       "</style>\n",
       "<div id=\"altair-viz-ea29cebb89424d8888a13a4cfd0edb51\"></div>\n",
       "<script type=\"text/javascript\">\n",
       "  var VEGA_DEBUG = (typeof VEGA_DEBUG == \"undefined\") ? {} : VEGA_DEBUG;\n",
       "  (function(spec, embedOpt){\n",
       "    let outputDiv = document.currentScript.previousElementSibling;\n",
       "    if (outputDiv.id !== \"altair-viz-ea29cebb89424d8888a13a4cfd0edb51\") {\n",
       "      outputDiv = document.getElementById(\"altair-viz-ea29cebb89424d8888a13a4cfd0edb51\");\n",
       "    }\n",
       "\n",
       "    const paths = {\n",
       "      \"vega\": \"https://cdn.jsdelivr.net/npm/vega@5?noext\",\n",
       "      \"vega-lib\": \"https://cdn.jsdelivr.net/npm/vega-lib?noext\",\n",
       "      \"vega-lite\": \"https://cdn.jsdelivr.net/npm/vega-lite@5.20.1?noext\",\n",
       "      \"vega-embed\": \"https://cdn.jsdelivr.net/npm/vega-embed@6?noext\",\n",
       "    };\n",
       "\n",
       "    function maybeLoadScript(lib, version) {\n",
       "      var key = `${lib.replace(\"-\", \"\")}_version`;\n",
       "      return (VEGA_DEBUG[key] == version) ?\n",
       "        Promise.resolve(paths[lib]) :\n",
       "        new Promise(function(resolve, reject) {\n",
       "          var s = document.createElement('script');\n",
       "          document.getElementsByTagName(\"head\")[0].appendChild(s);\n",
       "          s.async = true;\n",
       "          s.onload = () => {\n",
       "            VEGA_DEBUG[key] = version;\n",
       "            return resolve(paths[lib]);\n",
       "          };\n",
       "          s.onerror = () => reject(`Error loading script: ${paths[lib]}`);\n",
       "          s.src = paths[lib];\n",
       "        });\n",
       "    }\n",
       "\n",
       "    function showError(err) {\n",
       "      outputDiv.innerHTML = `<div class=\"error\" style=\"color:red;\">${err}</div>`;\n",
       "      throw err;\n",
       "    }\n",
       "\n",
       "    function displayChart(vegaEmbed) {\n",
       "      vegaEmbed(outputDiv, spec, embedOpt)\n",
       "        .catch(err => showError(`Javascript Error: ${err.message}<br>This usually means there's a typo in your chart specification. See the javascript console for the full traceback.`));\n",
       "    }\n",
       "\n",
       "    if(typeof define === \"function\" && define.amd) {\n",
       "      requirejs.config({paths});\n",
       "      let deps = [\"vega-embed\"];\n",
       "      require(deps, displayChart, err => showError(`Error loading script: ${err.message}`));\n",
       "    } else {\n",
       "      maybeLoadScript(\"vega\", \"5\")\n",
       "        .then(() => maybeLoadScript(\"vega-lite\", \"5.20.1\"))\n",
       "        .then(() => maybeLoadScript(\"vega-embed\", \"6\"))\n",
       "        .catch(showError)\n",
       "        .then(() => displayChart(vegaEmbed));\n",
       "    }\n",
       "  })({\"config\": {\"view\": {\"continuousWidth\": 300, \"continuousHeight\": 300}}, \"data\": {\"name\": \"data-521464210a750343fef5c6ffff0261e0\"}, \"mark\": {\"type\": \"bar\"}, \"encoding\": {\"x\": {\"field\": \"Country\", \"type\": \"nominal\"}, \"y\": {\"field\": \"delta_perc\", \"type\": \"quantitative\"}}, \"$schema\": \"https://vega.github.io/schema/vega-lite/v5.20.1.json\", \"datasets\": {\"data-521464210a750343fef5c6ffff0261e0\": [{\"Country\": \"Algeria\", \"region\": \"Middle East & North Africa\", \"1980\": 10166.0, \"2000\": 9885.0, \"delta_perc\": -2.76411567971671}, {\"Country\": \"Bahrain\", \"region\": \"Middle East & North Africa\", \"1980\": 44996.0, \"2000\": 45063.0, \"delta_perc\": 0.14890212463329533}, {\"Country\": \"Djibouti\", \"region\": \"Middle East & North Africa\", \"1980\": 3500.0, \"2000\": 2079.0, \"delta_perc\": -40.6}, {\"Country\": \"Egypt\", \"region\": \"Middle East & North Africa\", \"1980\": 4580.0, \"2000\": 7807.0, \"delta_perc\": 70.45851528384279}, {\"Country\": \"Iran\", \"region\": \"Middle East & North Africa\", \"1980\": 10366.0, \"2000\": 11719.0, \"delta_perc\": 13.052286320663711}, {\"Country\": \"Iraq\", \"region\": \"Middle East & North Africa\", \"1980\": 16614.0, \"2000\": 11764.0, \"delta_perc\": -29.192247502106667}, {\"Country\": \"Israel\", \"region\": \"Middle East & North Africa\", \"1980\": 14768.0, \"2000\": 25739.0, \"delta_perc\": 74.28900325027087}, {\"Country\": \"Jordan\", \"region\": \"Middle East & North Africa\", \"1980\": 8357.0, \"2000\": 7695.0, \"delta_perc\": -7.921502931674041}, {\"Country\": \"Kuwait\", \"region\": \"Middle East & North Africa\", \"1980\": 108146.0, \"2000\": 75219.0, \"delta_perc\": -30.4468033954099}, {\"Country\": \"Lebanon\", \"region\": \"Middle East & North Africa\", \"1980\": 9098.0, \"2000\": 12335.0, \"delta_perc\": 35.57924818641459}, {\"Country\": \"Libya\", \"region\": \"Middle East & North Africa\", \"1980\": 59420.0, \"2000\": 22682.0, \"delta_perc\": -61.82766745203635}, {\"Country\": \"Morocco\", \"region\": \"Middle East & North Africa\", \"1980\": 3402.0, \"2000\": 4430.0, \"delta_perc\": 30.21751910640799}, {\"Country\": \"Oman\", \"region\": \"Middle East & North Africa\", \"1980\": 21463.0, \"2000\": 45472.0, \"delta_perc\": 111.86227461212317}, {\"Country\": \"Qatar\", \"region\": \"Middle East & North Africa\", \"1980\": 134862.0, \"2000\": 112238.0, \"delta_perc\": -16.775666978096126}, {\"Country\": \"Saudi Arabia\", \"region\": \"Middle East & North Africa\", \"1980\": 72465.0, \"2000\": 37531.0, \"delta_perc\": -48.20810046229214}, {\"Country\": \"Syria\", \"region\": \"Middle East & North Africa\", \"1980\": 4777.0, \"2000\": 5188.0, \"delta_perc\": 8.60372618798408}, {\"Country\": \"Tunisia\", \"region\": \"Middle East & North Africa\", \"1980\": 4837.0, \"2000\": 7464.0, \"delta_perc\": 54.310523051478185}, {\"Country\": \"United Arab Emirates\", \"region\": \"Middle East & North Africa\", \"1980\": 182668.0, \"2000\": 108048.0, \"delta_perc\": -40.85006678783366}, {\"Country\": \"West Bank and Gaza\", \"region\": \"Middle East & North Africa\", \"1980\": 2414.0, \"2000\": 4206.0, \"delta_perc\": 74.23363711681856}, {\"Country\": \"Western Sahara\", \"region\": \"Middle East & North Africa\", \"1980\": null, \"2000\": null, \"delta_perc\": null}, {\"Country\": \"Yemen, Rep.\", \"region\": \"Middle East & North Africa\", \"1980\": null, \"2000\": null, \"delta_perc\": null}]}}, {\"mode\": \"vega-lite\"});\n",
       "</script>"
      ],
      "text/plain": [
       "alt.Chart(...)"
      ]
     },
     "execution_count": 17,
     "metadata": {},
     "output_type": "execute_result"
    }
   ],
   "source": [
    "alt.Chart(gdpData[gdpData['region']=='Middle East & North Africa']).mark_bar().encode(\n",
    "    x='Country:N',\n",
    "    y='delta_perc:Q'\n",
    ")"
   ]
  },
  {
   "cell_type": "markdown",
   "metadata": {},
   "source": [
    "How can we improve it?"
   ]
  },
  {
   "cell_type": "code",
   "execution_count": 18,
   "metadata": {
    "ExecuteTime": {
     "end_time": "2025-04-28T10:18:49.384005Z",
     "start_time": "2025-04-28T10:18:49.377461Z"
    }
   },
   "outputs": [
    {
     "data": {
      "text/html": [
       "\n",
       "<style>\n",
       "  #altair-viz-3f374d229ce143ee9caf1d5608d6afb1.vega-embed {\n",
       "    width: 100%;\n",
       "    display: flex;\n",
       "  }\n",
       "\n",
       "  #altair-viz-3f374d229ce143ee9caf1d5608d6afb1.vega-embed details,\n",
       "  #altair-viz-3f374d229ce143ee9caf1d5608d6afb1.vega-embed details summary {\n",
       "    position: relative;\n",
       "  }\n",
       "</style>\n",
       "<div id=\"altair-viz-3f374d229ce143ee9caf1d5608d6afb1\"></div>\n",
       "<script type=\"text/javascript\">\n",
       "  var VEGA_DEBUG = (typeof VEGA_DEBUG == \"undefined\") ? {} : VEGA_DEBUG;\n",
       "  (function(spec, embedOpt){\n",
       "    let outputDiv = document.currentScript.previousElementSibling;\n",
       "    if (outputDiv.id !== \"altair-viz-3f374d229ce143ee9caf1d5608d6afb1\") {\n",
       "      outputDiv = document.getElementById(\"altair-viz-3f374d229ce143ee9caf1d5608d6afb1\");\n",
       "    }\n",
       "\n",
       "    const paths = {\n",
       "      \"vega\": \"https://cdn.jsdelivr.net/npm/vega@5?noext\",\n",
       "      \"vega-lib\": \"https://cdn.jsdelivr.net/npm/vega-lib?noext\",\n",
       "      \"vega-lite\": \"https://cdn.jsdelivr.net/npm/vega-lite@5.20.1?noext\",\n",
       "      \"vega-embed\": \"https://cdn.jsdelivr.net/npm/vega-embed@6?noext\",\n",
       "    };\n",
       "\n",
       "    function maybeLoadScript(lib, version) {\n",
       "      var key = `${lib.replace(\"-\", \"\")}_version`;\n",
       "      return (VEGA_DEBUG[key] == version) ?\n",
       "        Promise.resolve(paths[lib]) :\n",
       "        new Promise(function(resolve, reject) {\n",
       "          var s = document.createElement('script');\n",
       "          document.getElementsByTagName(\"head\")[0].appendChild(s);\n",
       "          s.async = true;\n",
       "          s.onload = () => {\n",
       "            VEGA_DEBUG[key] = version;\n",
       "            return resolve(paths[lib]);\n",
       "          };\n",
       "          s.onerror = () => reject(`Error loading script: ${paths[lib]}`);\n",
       "          s.src = paths[lib];\n",
       "        });\n",
       "    }\n",
       "\n",
       "    function showError(err) {\n",
       "      outputDiv.innerHTML = `<div class=\"error\" style=\"color:red;\">${err}</div>`;\n",
       "      throw err;\n",
       "    }\n",
       "\n",
       "    function displayChart(vegaEmbed) {\n",
       "      vegaEmbed(outputDiv, spec, embedOpt)\n",
       "        .catch(err => showError(`Javascript Error: ${err.message}<br>This usually means there's a typo in your chart specification. See the javascript console for the full traceback.`));\n",
       "    }\n",
       "\n",
       "    if(typeof define === \"function\" && define.amd) {\n",
       "      requirejs.config({paths});\n",
       "      let deps = [\"vega-embed\"];\n",
       "      require(deps, displayChart, err => showError(`Error loading script: ${err.message}`));\n",
       "    } else {\n",
       "      maybeLoadScript(\"vega\", \"5\")\n",
       "        .then(() => maybeLoadScript(\"vega-lite\", \"5.20.1\"))\n",
       "        .then(() => maybeLoadScript(\"vega-embed\", \"6\"))\n",
       "        .catch(showError)\n",
       "        .then(() => displayChart(vegaEmbed));\n",
       "    }\n",
       "  })({\"config\": {\"view\": {\"continuousWidth\": 300, \"continuousHeight\": 300}}, \"data\": {\"name\": \"data-521464210a750343fef5c6ffff0261e0\"}, \"mark\": {\"type\": \"bar\"}, \"encoding\": {\"color\": {\"field\": \"delta_perc\", \"legend\": {\"title\": \"\\u0394 GPI (%)\"}, \"scale\": {\"domain\": [-100, 100], \"scheme\": \"blueorange\"}, \"type\": \"quantitative\"}, \"x\": {\"axis\": {\"title\": \"\\u0394 GPI (%)\"}, \"field\": \"delta_perc\", \"type\": \"quantitative\"}, \"y\": {\"field\": \"Country\", \"sort\": {\"field\": \"delta_perc\", \"order\": \"descending\"}, \"type\": \"nominal\"}}, \"$schema\": \"https://vega.github.io/schema/vega-lite/v5.20.1.json\", \"datasets\": {\"data-521464210a750343fef5c6ffff0261e0\": [{\"Country\": \"Algeria\", \"region\": \"Middle East & North Africa\", \"1980\": 10166.0, \"2000\": 9885.0, \"delta_perc\": -2.76411567971671}, {\"Country\": \"Bahrain\", \"region\": \"Middle East & North Africa\", \"1980\": 44996.0, \"2000\": 45063.0, \"delta_perc\": 0.14890212463329533}, {\"Country\": \"Djibouti\", \"region\": \"Middle East & North Africa\", \"1980\": 3500.0, \"2000\": 2079.0, \"delta_perc\": -40.6}, {\"Country\": \"Egypt\", \"region\": \"Middle East & North Africa\", \"1980\": 4580.0, \"2000\": 7807.0, \"delta_perc\": 70.45851528384279}, {\"Country\": \"Iran\", \"region\": \"Middle East & North Africa\", \"1980\": 10366.0, \"2000\": 11719.0, \"delta_perc\": 13.052286320663711}, {\"Country\": \"Iraq\", \"region\": \"Middle East & North Africa\", \"1980\": 16614.0, \"2000\": 11764.0, \"delta_perc\": -29.192247502106667}, {\"Country\": \"Israel\", \"region\": \"Middle East & North Africa\", \"1980\": 14768.0, \"2000\": 25739.0, \"delta_perc\": 74.28900325027087}, {\"Country\": \"Jordan\", \"region\": \"Middle East & North Africa\", \"1980\": 8357.0, \"2000\": 7695.0, \"delta_perc\": -7.921502931674041}, {\"Country\": \"Kuwait\", \"region\": \"Middle East & North Africa\", \"1980\": 108146.0, \"2000\": 75219.0, \"delta_perc\": -30.4468033954099}, {\"Country\": \"Lebanon\", \"region\": \"Middle East & North Africa\", \"1980\": 9098.0, \"2000\": 12335.0, \"delta_perc\": 35.57924818641459}, {\"Country\": \"Libya\", \"region\": \"Middle East & North Africa\", \"1980\": 59420.0, \"2000\": 22682.0, \"delta_perc\": -61.82766745203635}, {\"Country\": \"Morocco\", \"region\": \"Middle East & North Africa\", \"1980\": 3402.0, \"2000\": 4430.0, \"delta_perc\": 30.21751910640799}, {\"Country\": \"Oman\", \"region\": \"Middle East & North Africa\", \"1980\": 21463.0, \"2000\": 45472.0, \"delta_perc\": 111.86227461212317}, {\"Country\": \"Qatar\", \"region\": \"Middle East & North Africa\", \"1980\": 134862.0, \"2000\": 112238.0, \"delta_perc\": -16.775666978096126}, {\"Country\": \"Saudi Arabia\", \"region\": \"Middle East & North Africa\", \"1980\": 72465.0, \"2000\": 37531.0, \"delta_perc\": -48.20810046229214}, {\"Country\": \"Syria\", \"region\": \"Middle East & North Africa\", \"1980\": 4777.0, \"2000\": 5188.0, \"delta_perc\": 8.60372618798408}, {\"Country\": \"Tunisia\", \"region\": \"Middle East & North Africa\", \"1980\": 4837.0, \"2000\": 7464.0, \"delta_perc\": 54.310523051478185}, {\"Country\": \"United Arab Emirates\", \"region\": \"Middle East & North Africa\", \"1980\": 182668.0, \"2000\": 108048.0, \"delta_perc\": -40.85006678783366}, {\"Country\": \"West Bank and Gaza\", \"region\": \"Middle East & North Africa\", \"1980\": 2414.0, \"2000\": 4206.0, \"delta_perc\": 74.23363711681856}, {\"Country\": \"Western Sahara\", \"region\": \"Middle East & North Africa\", \"1980\": null, \"2000\": null, \"delta_perc\": null}, {\"Country\": \"Yemen, Rep.\", \"region\": \"Middle East & North Africa\", \"1980\": null, \"2000\": null, \"delta_perc\": null}]}}, {\"mode\": \"vega-lite\"});\n",
       "</script>"
      ],
      "text/plain": [
       "alt.Chart(...)"
      ]
     },
     "execution_count": 18,
     "metadata": {},
     "output_type": "execute_result"
    }
   ],
   "source": [
    "alt.Chart(gdpData[gdpData['region']=='Middle East & North Africa']).mark_bar().encode(\n",
    "    y=alt.Y('Country:N',sort=alt.EncodingSortField(field=\"delta_perc\", order='descending')),\n",
    "    x=alt.X('delta_perc:Q',axis=alt.Axis(title='Δ GPI (%)')),\n",
    "    color=alt.Color(\n",
    "        'delta_perc:Q',\n",
    "        # bin=True,\n",
    "        # bin= alt.BinParams(maxbins=10),\n",
    "        scale=alt.Scale(\n",
    "            scheme='blueorange',\n",
    "            # domainMid=0,\n",
    "            domain=[-100,100]\n",
    "            ),\n",
    "        legend=alt.Legend(title='Δ GPI (%)')\n",
    "        ),\n",
    ")"
   ]
  },
  {
   "cell_type": "markdown",
   "metadata": {},
   "source": [
    "\n",
    "\n",
    "---\n",
    "\n",
    "## References:\n",
    "\n",
    "To see the level of customization related to axes and legends in Altair, we recommend you to consult the following [link](https://observablehq.com/@vega/a-guide-to-guides-axes-legends-in-vega) (the code is vega-lite, but the functionality is very similar)\n"
   ]
  },
  {
   "cell_type": "code",
   "execution_count": null,
   "metadata": {},
   "outputs": [],
   "source": []
  }
 ],
 "metadata": {
  "colab": {
   "provenance": []
  },
  "kernelspec": {
   "display_name": "Python 3 (ipykernel)",
   "language": "python",
   "name": "python3"
  },
  "language_info": {
   "codemirror_mode": {
    "name": "ipython",
    "version": 3
   },
   "file_extension": ".py",
   "mimetype": "text/x-python",
   "name": "python",
   "nbconvert_exporter": "python",
   "pygments_lexer": "ipython3",
   "version": "3.12.6"
  }
 },
 "nbformat": 4,
 "nbformat_minor": 4
}
